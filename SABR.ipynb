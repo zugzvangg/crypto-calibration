{
 "cells": [
  {
   "cell_type": "code",
   "execution_count": 56,
   "id": "d74c6a6c",
   "metadata": {},
   "outputs": [],
   "source": [
    "import numpy as np\n",
    "from scipy.optimize import minimize\n",
    "\n",
    "import pandas as pd\n",
    "import matplotlib.pyplot as plt\n",
    "from loguru import logger\n",
    "from datetime import date\n",
    "import datetime\n"
   ]
  },
  {
   "cell_type": "code",
   "execution_count": 77,
   "id": "71f4f3af",
   "metadata": {},
   "outputs": [],
   "source": [
    "data = pd.read_pickle(\"data/BTC-25NOV22.pkl\")"
   ]
  },
  {
   "cell_type": "code",
   "execution_count": 87,
   "id": "769844c4",
   "metadata": {},
   "outputs": [],
   "source": [
    "def get_normal_date(s):\n",
    "    \"\"\"Function to convert date to find years to maturity\"\"\"\n",
    "    monthToNum = {\n",
    "        'JAN': 1,\n",
    "        'FEB': 2,\n",
    "        'MAR': 3,\n",
    "        'APR': 4,\n",
    "        'MAY': 5,\n",
    "        'JUN': 6,\n",
    "        'JUL': 7,\n",
    "        'AUG': 8,\n",
    "        'SEP': 9, \n",
    "        'OCT': 10,\n",
    "        'NOV': 11,\n",
    "        'DEC': 12\n",
    "    }\n",
    "    \n",
    "    full_date = s.split(\"-\")[1]\n",
    "    day = int(full_date[:2])\n",
    "    month = monthToNum[full_date[2:5]]\n",
    "    year = int(\"20\" + full_date[-2:])\n",
    "    exp_date = date(year, month, day)\n",
    "    res = abs(exp_date - datetime.datetime.today().date()).days/365\n",
    "    return res\n",
    "    "
   ]
  },
  {
   "cell_type": "code",
   "execution_count": 85,
   "id": "c230771d",
   "metadata": {},
   "outputs": [],
   "source": [
    "class SABR:\n",
    "    def __init__(self, data: pd.DataFrame)->None:\n",
    "        \"\"\"Class to model the volatility smile\"\"\"\n",
    "        self.data = data\n",
    "        \n",
    "        # let it be fixed as in the artice\n",
    "        self.beta = 0.5\n",
    "        \n",
    "        #count in years as expiration date minus current date\n",
    "        self.T = get_normal_date(self.data.iloc[0].instrument_name)\n",
    "        print(self.T)\n",
    "        \n",
    "        # start params for optimization\n",
    "        self.x0 = np.array([0.01, 0.00, 0.10])\n",
    "        self.bounds = [(0.0001, None), (-0.9999, 0.9999), (0.0001, None)]\n",
    "        \n",
    "    def get_normal_date(self):\n",
    "        \"\"\"Function to convert date to find years to maturity\"\"\"\n",
    "        s = self.data.iloc[0].instrument_name\n",
    "        monthToNum = {\n",
    "            'JAN': 1,\n",
    "            'FEB': 2,\n",
    "            'MAR': 3,\n",
    "            'APR': 4,\n",
    "            'MAY': 5,\n",
    "            'JUN': 6,\n",
    "            'JUL': 7,\n",
    "            'AUG': 8,\n",
    "            'SEP': 9, \n",
    "            'OCT': 10,\n",
    "            'NOV': 11,\n",
    "            'DEC': 12\n",
    "        }\n",
    "\n",
    "        full_date = s.split(\"-\")[1]\n",
    "        day = int(full_date[:2])\n",
    "        month = monthToNum[full_date[2:5]]\n",
    "        year = int(\"20\" + full_date[-2:])\n",
    "        exp_date = date(year, month, day)\n",
    "        res = abs(exp_date - datetime.datetime.today().date()).days/365\n",
    "        return res    \n",
    "    \n",
    "    def _sigmaB(self, f: float, K: float, T: float, alpha: float, rho: float, v: float)->float:\n",
    "        \"\"\"Function to count modeled volatility\"\"\"\n",
    "        first_part_of_numerator = (1 - self.beta)**2/24 * alpha**2/(f*K)**(1-self.beta)\n",
    "        second_part_of_numerator = (rho*self.beta*v*alpha)/4*(f*K)**((1-self.beta)/2)\n",
    "        third_part_of_numerator = (2 - 3*rho**2)*v**2/24\n",
    "        numerator = alpha*(1 + self.T*(first_part_of_numerator + \n",
    "                                  second_part_of_numerator+ third_part_of_numerator))\n",
    "\n",
    "        first_part_of_denominator = (1-self.beta)**2/24 * np.log(f/K)**2\n",
    "        second_part_of_denominator = (1-self.beta)**4/1920 * np.log(f/K)**4\n",
    "        denominator = (f*K)**((1-self.beta)/2)*(1 + first_part_of_denominator + second_part_of_denominator)\n",
    "\n",
    "        z = v/alpha*(f*K)**((1-self.beta)/2)*np.log(f/K)\n",
    "\n",
    "        xi = np.log((np.sqrt(1 - 2*rho*z + z**2)+z-rho)/(1-rho))\n",
    "\n",
    "        return numerator/denominator * z/xi\n",
    "    \n",
    "    def _plot_results(self)->None:\n",
    "        \"\"\"Function to plot results\"\"\"\n",
    "        def get_sigmas_for_set_of_params(alpha: float, rho: float, v: float)->None:\n",
    "            \"\"\"Inner function to plot results for single optimization method\"\"\"\n",
    "            sigmas = []\n",
    "            strikes = []            \n",
    "            for index, row in self.data.iterrows():\n",
    "                sigma_modeled = self._sigmaB(\n",
    "                    row.underlying_price, \n",
    "                    row.strike,\n",
    "                    self.T, \n",
    "                    alpha,\n",
    "                    rho, \n",
    "                    v\n",
    "                )\n",
    "                sigmas.append(sigma_modeled)\n",
    "                strikes.append(row.strike)\n",
    "            plt.plot(strikes, sigmas)\n",
    "            \n",
    "        for params in [(self.alpha_scipy, self.rho_scipy, self.v_scipy)]:\n",
    "            get_sigmas_for_set_of_params(params[0], params[1], params[2])\n",
    "            \n",
    "        # build market volatilities\n",
    "        plt.scatter(data[\"strike\"], data[\"mark_iv\"])\n",
    "        plt.show()\n",
    "        \n",
    "    def _vol_square_error(self, x: np.ndarray)->np.float64:\n",
    "        \"\"\"Function to get the argmin function we want to optimize\"\"\"\n",
    "        # init market volatiliteis\n",
    "        smile = self.data.mark_iv.to_numpy()\n",
    "        vols = []\n",
    "        for index, row in self.data.iterrows():\n",
    "            vols.append(self._sigmaB(row[\"underlying_price\"], row[\"strike\"], self.T, x[0], x[1], x[2]))\n",
    "#             print(type(sum((vols - smile)**2)))\n",
    "        return sum((vols - smile)**2)\n",
    "    \n",
    "    def _own_minimiazer(self):\n",
    "        \"\"\"My own optimizer\"\"\"\n",
    "        pass\n",
    "    \n",
    "    def _minimize_scipy(self)->np.float64:\n",
    "        \"\"\"Optimization with scipy optimizer\"\"\"\n",
    "        return minimize(self._vol_square_error, x0 = self.x0, method='L-BFGS-B', bounds = self.bounds)\n",
    "    \n",
    "    def run_pipeline(self)->None:\n",
    "        \"\"\"Run optimization and plot results\"\"\"\n",
    "        # optimization via scipy\n",
    "        optimum_scipy  = self._minimize_scipy()\n",
    "        self.alpha_scipy, self.rho_scipy, self.v_scipy = optimum_scipy.x\n",
    "        logger.info(f\"Optimal params with scipy: alpha = {self.alpha_scipy}, rho = {self.rho_scipy}, v = {self.v_scipy}\")\n",
    "        \n",
    "        #optimization via my own optimizer\n",
    "        \n",
    "        \n",
    "        #plot market values and modeled function\n",
    "        self._plot_results()\n",
    "    \n",
    "\n",
    "        \n",
    "    "
   ]
  },
  {
   "cell_type": "code",
   "execution_count": 86,
   "id": "ec434e5e",
   "metadata": {},
   "outputs": [
    {
     "name": "stdout",
     "output_type": "stream",
     "text": [
      "0.0136986301369863\n"
     ]
    },
    {
     "name": "stderr",
     "output_type": "stream",
     "text": [
      "2022-10-23 14:58:35.718 | INFO     | __main__:run_pipeline:84 - Optimal params with scipy: alpha = 1104.7402796996234, rho = -0.0005586154953252422, v = 166.08009568001714\n"
     ]
    },
    {
     "data": {
      "image/png": "[encoded data removed]",
      "text/plain": [
       "<Figure size 640x480 with 1 Axes>"
      ]
     },
     "metadata": {},
     "output_type": "display_data"
    }
   ],
   "source": [
    "sabr = SABR(data)\n",
    "sabr.run_pipeline()"
   ]
  },
  {
   "cell_type": "code",
   "execution_count": null,
   "id": "234b7680",
   "metadata": {},
   "outputs": [],
   "source": []
  },
  {
   "cell_type": "code",
   "execution_count": null,
   "id": "8fddcc76",
   "metadata": {},
   "outputs": [],
   "source": []
  },
  {
   "cell_type": "code",
   "execution_count": null,
   "id": "56ef09e0",
   "metadata": {},
   "outputs": [],
   "source": []
  },
  {
   "cell_type": "code",
   "execution_count": null,
   "id": "a9b6ae31",
   "metadata": {},
   "outputs": [],
   "source": []
  },
  {
   "cell_type": "code",
   "execution_count": null,
   "id": "e7a277b6",
   "metadata": {},
   "outputs": [],
   "source": []
  },
  {
   "cell_type": "code",
   "execution_count": null,
   "id": "abbb0a33",
   "metadata": {},
   "outputs": [],
   "source": []
  },
  {
   "cell_type": "code",
   "execution_count": null,
   "id": "c6d448eb",
   "metadata": {},
   "outputs": [],
   "source": []
  },
  {
   "cell_type": "code",
   "execution_count": null,
   "id": "223a8ee7",
   "metadata": {},
   "outputs": [],
   "source": []
  },
  {
   "cell_type": "code",
   "execution_count": null,
   "id": "a436f02a",
   "metadata": {},
   "outputs": [],
   "source": []
  },
  {
   "cell_type": "code",
   "execution_count": null,
   "id": "2e9122a9",
   "metadata": {},
   "outputs": [],
   "source": []
  },
  {
   "cell_type": "code",
   "execution_count": null,
   "id": "c1612bb2",
   "metadata": {},
   "outputs": [],
   "source": []
  },
  {
   "cell_type": "code",
   "execution_count": 8,
   "id": "915ab9c3",
   "metadata": {},
   "outputs": [],
   "source": [
    "# global beta\n",
    "# global T\n",
    "# # it is said we can plug it\n",
    "# beta = 0.5\n",
    "# # years\n",
    "# T = 0.0821917808219178"
   ]
  },
  {
   "cell_type": "code",
   "execution_count": 9,
   "id": "bd3cea1a",
   "metadata": {},
   "outputs": [],
   "source": [
    "# def get_parab(x):\n",
    "#     return x*x/1000000\n",
    "# data[\"mark_iv\"] = (data[\"strike\"]- data[\"strike\"].mean()).apply(get_parab)\n",
    "# plt.scatter(data[\"strike\"], data[\"mark_iv_art\"])"
   ]
  },
  {
   "cell_type": "code",
   "execution_count": null,
   "id": "a2e3db34",
   "metadata": {},
   "outputs": [],
   "source": []
  },
  {
   "cell_type": "code",
   "execution_count": null,
   "id": "c92df630",
   "metadata": {},
   "outputs": [],
   "source": []
  },
  {
   "cell_type": "code",
   "execution_count": null,
   "id": "20fd2fa7",
   "metadata": {},
   "outputs": [],
   "source": [
    "data.head()"
   ]
  },
  {
   "cell_type": "code",
   "execution_count": null,
   "id": "b4b841d0",
   "metadata": {},
   "outputs": [],
   "source": [
    "def sigmaB(f, K, T, alpha, rho, v, beta = 0.5):\n",
    "    first_part_of_numerator = (1-beta)**2/24 * alpha**2/(f*K)**(1-beta)\n",
    "    second_part_of_numerator = (rho*beta*v*alpha)/4*(f*K)**((1-beta)/2)\n",
    "    third_part_of_numerator = (2 - 3*rho**2)*v**2/24\n",
    "    numerator = alpha*(1 + T*(first_part_of_numerator + \n",
    "                              second_part_of_numerator+ third_part_of_numerator))\n",
    "    \n",
    "    first_part_of_denominator = (1-beta)**2/24 * np.log(f/K)**2\n",
    "    second_part_of_denominator = (1-beta)**4/1920 * np.log(f/K)**4\n",
    "    denominator = (f*K)**((1-beta)/2)*(1 + first_part_of_denominator + second_part_of_denominator)\n",
    "    \n",
    "    z = v/alpha*(f*K)**((1-beta)/2)*np.log(f/K)\n",
    "    \n",
    "    xi = np.log((np.sqrt(1 - 2*rho*z + z**2)+z-rho)/(1-rho))\n",
    "    \n",
    "    return numerator/denominator * z/xi\n",
    "\n",
    "    "
   ]
  },
  {
   "cell_type": "code",
   "execution_count": null,
   "id": "327045ce",
   "metadata": {},
   "outputs": [],
   "source": [
    "smile = data.mark_iv.to_numpy()"
   ]
  },
  {
   "cell_type": "code",
   "execution_count": null,
   "id": "27cf88f2",
   "metadata": {},
   "outputs": [],
   "source": [
    "def vol_square_error(x):\n",
    "    vols = []\n",
    "    for index, row in data.iterrows():\n",
    "        vols.append(sigmaB(row[\"underlying_price\"], row[\"strike\"], T, x[0], x[1], x[2]))\n",
    "    return sum((vols - smile)**2)"
   ]
  },
  {
   "cell_type": "markdown",
   "id": "f237f6aa",
   "metadata": {},
   "source": [
    "## Ищем параметры"
   ]
  },
  {
   "cell_type": "code",
   "execution_count": null,
   "id": "4a3658aa",
   "metadata": {},
   "outputs": [],
   "source": [
    "initial_guess = [0.01, 0.00, 0.10]\n",
    "x0 = np.array(initial_guess)\n",
    "bounds = [(0.0001, None), (-0.9999, 0.9999), (0.0001, None)]\n",
    "res = minimize(vol_square_error, x0, method='L-BFGS-B', bounds=bounds)\n",
    "alpha, rho, v = res.x\n"
   ]
  },
  {
   "cell_type": "code",
   "execution_count": null,
   "id": "d7fe5350",
   "metadata": {},
   "outputs": [],
   "source": [
    "alpha"
   ]
  },
  {
   "cell_type": "code",
   "execution_count": null,
   "id": "c5d906d9",
   "metadata": {},
   "outputs": [],
   "source": [
    "rho"
   ]
  },
  {
   "cell_type": "code",
   "execution_count": null,
   "id": "b957933a",
   "metadata": {},
   "outputs": [],
   "source": [
    "v"
   ]
  },
  {
   "cell_type": "markdown",
   "id": "aa61a966",
   "metadata": {},
   "source": [
    "## Теперь эти параметры в формулу для подсчета волатильности"
   ]
  },
  {
   "cell_type": "code",
   "execution_count": null,
   "id": "39e6246c",
   "metadata": {},
   "outputs": [],
   "source": [
    "sample = data.sample(1)\n",
    "sample_dict = sample.iloc[0]\n",
    "sample"
   ]
  },
  {
   "cell_type": "code",
   "execution_count": null,
   "id": "c0fc44a2",
   "metadata": {},
   "outputs": [],
   "source": [
    "sigmas = []\n",
    "strikes = []\n",
    "for index, row in data.iterrows():\n",
    "    sigma_modeled = sigmaB(\n",
    "        row.underlying_price, \n",
    "        row.strike,\n",
    "        T, \n",
    "        alpha,\n",
    "        rho, \n",
    "        v\n",
    "    )\n",
    "    sigmas.append(sigma_modeled)\n",
    "    strikes.append(row.strike)"
   ]
  },
  {
   "cell_type": "code",
   "execution_count": null,
   "id": "4f3c2314",
   "metadata": {},
   "outputs": [],
   "source": [
    "plt.plot(strikes, sigmas)\n",
    "plt.scatter(data[\"strike\"], data[\"mark_iv\"])"
   ]
  },
  {
   "cell_type": "code",
   "execution_count": null,
   "id": "154c3538",
   "metadata": {},
   "outputs": [],
   "source": [
    "def calculate_put_price():\n",
    "    pass\n",
    "    "
   ]
  }
 ],
 "metadata": {
  "kernelspec": {
   "display_name": "Python 3 (ipykernel)",
   "language": "python",
   "name": "python3"
  },
  "language_info": {
   "codemirror_mode": {
    "name": "ipython",
    "version": 3
   },
   "file_extension": ".py",
   "mimetype": "text/x-python",
   "name": "python",
   "nbconvert_exporter": "python",
   "pygments_lexer": "ipython3",
   "version": "3.8.13"
  }
 },
 "nbformat": 4,
 "nbformat_minor": 5
}
