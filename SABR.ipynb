{
 "cells": [
  {
   "cell_type": "code",
   "execution_count": 29,
   "id": "d74c6a6c",
   "metadata": {},
   "outputs": [],
   "source": [
    "import numpy as np\n",
    "from scipy.optimize import minimize\n",
    "\n",
    "import warnings\n",
    "warnings.filterwarnings(\"ignore\")\n",
    "import pandas as pd\n",
    "import matplotlib.pyplot as plt\n",
    "from loguru import logger\n",
    "from datetime import date\n",
    "import datetime\n"
   ]
  },
  {
   "cell_type": "code",
   "execution_count": 2,
   "id": "71f4f3af",
   "metadata": {},
   "outputs": [],
   "source": [
    "data1 = pd.read_pickle(\"data/BTC-29SEP23.pkl\")\n",
    "data2 = pd.read_pickle(\"data/BTC-28OCT22.pkl\")\n",
    "data3 = pd.read_pickle(\"data/BTC-25NOV22.pkl\")\n",
    "data4 = pd.read_pickle(\"data/BTC-30DEC22.pkl\")"
   ]
  },
  {
   "cell_type": "code",
   "execution_count": 33,
   "id": "6212ec57",
   "metadata": {},
   "outputs": [],
   "source": [
    "class SABR:\n",
    "    def __init__(self, data: pd.DataFrame)->None:\n",
    "        \"\"\"Class to model the volatility smile\"\"\"\n",
    "        self.data = data\n",
    "        \n",
    "        # let it be fixed as in the artice\n",
    "        self.beta = 0.5\n",
    "        \n",
    "        #count in years as expiration date minus current date\n",
    "        self.T = self.get_normal_date()\n",
    "        \n",
    "        # start params for optimization\n",
    "        self.x0 = np.array([0.01, 0.00, 0.10])\n",
    "        self.bounds = [(0.0001, 1.0), (-0.9999, 0.9999), (0.0001, 100)]\n",
    "#         self.bounds = [(None, None), (None, None), (None, None)]\n",
    "        \n",
    "    def get_normal_date(self):\n",
    "        \"\"\"Function to convert date to find years to maturity\"\"\"\n",
    "        s = self.data.iloc[0].instrument_name\n",
    "        monthToNum = {\n",
    "            'JAN': 1,\n",
    "            'FEB': 2,\n",
    "            'MAR': 3,\n",
    "            'APR': 4,\n",
    "            'MAY': 5,\n",
    "            'JUN': 6,\n",
    "            'JUL': 7,\n",
    "            'AUG': 8,\n",
    "            'SEP': 9, \n",
    "            'OCT': 10,\n",
    "            'NOV': 11,\n",
    "            'DEC': 12\n",
    "        }\n",
    "\n",
    "        full_date = s.split(\"-\")[1]\n",
    "        day = int(full_date[:2])\n",
    "        month = monthToNum[full_date[2:5]]\n",
    "        year = int(\"20\" + full_date[-2:])\n",
    "        exp_date = date(year, month, day)\n",
    "        res = abs(exp_date - datetime.datetime.today().date()).days/365\n",
    "        logger.info(f\"Year to maturity: {res}\")\n",
    "        return res    \n",
    "    \n",
    "    def _sigmaB(self, f: float, K: float, T: float, alpha: float, rho: float, v: float)->float:\n",
    "        \"\"\"Function to count modeled volatility\"\"\"\n",
    "        first_part_of_numerator = (1 - self.beta)**2/24 * alpha**2/(f*K)**(1-self.beta)\n",
    "        second_part_of_numerator = (rho*self.beta*v*alpha)/4*(f*K)**((1-self.beta)/2)\n",
    "        third_part_of_numerator = (2 - 3*rho**2)*v**2/24\n",
    "        numerator = alpha*(1 + self.T*(first_part_of_numerator + \n",
    "                                  second_part_of_numerator+ third_part_of_numerator))\n",
    "\n",
    "        first_part_of_denominator = (1-self.beta)**2/24 * np.log(f/K)**2\n",
    "        second_part_of_denominator = (1-self.beta)**4/1920 * np.log(f/K)**4\n",
    "        denominator = (f*K)**((1-self.beta)/2)*(1 + first_part_of_denominator + second_part_of_denominator)\n",
    "\n",
    "        z = v/alpha*(f*K)**((1-self.beta)/2)*np.log(f/K)\n",
    "\n",
    "        xi = np.log((np.sqrt(1 - 2*rho*z + z**2)+z-rho)/(1-rho))\n",
    "\n",
    "        return numerator/denominator * z/xi\n",
    "    \n",
    "    def _plot_results(self)->None:\n",
    "        \"\"\"Function to plot results\"\"\"\n",
    "        def get_sigmas_for_set_of_params(alpha: float, rho: float, v: float)->None:\n",
    "            \"\"\"Inner function to plot results for single optimization method\"\"\"\n",
    "            sigmas = []\n",
    "            strikes = []            \n",
    "            for index, row in self.data.iterrows():\n",
    "                sigma_modeled = self._sigmaB(\n",
    "                    row.underlying_price, \n",
    "                    row.strike,\n",
    "                    self.T, \n",
    "                    alpha,\n",
    "                    rho, \n",
    "                    v\n",
    "                )\n",
    "                sigmas.append(sigma_modeled)\n",
    "                strikes.append(row.strike)\n",
    "            plt.plot(strikes, sigmas)\n",
    "            \n",
    "        for params in [(self.alpha_scipy, self.rho_scipy, self.v_scipy),\n",
    "                       (self.alpha_own, self.rho_own, self.v_own)]:\n",
    "            get_sigmas_for_set_of_params(params[0], params[1], params[2])\n",
    "            \n",
    "        # build market volatilities\n",
    "        plt.scatter(self.data[\"strike\"], self.data[\"mark_iv\"])\n",
    "        plt.show()\n",
    "        \n",
    "    def _vol_square_error(self, x: np.ndarray)->np.float64:\n",
    "        \"\"\"Function to get the argmin function we want to optimize\"\"\"\n",
    "        # init market volatiliteis\n",
    "        smile = self.data.mark_iv.to_numpy()\n",
    "        vols = []\n",
    "        for index, row in self.data.iterrows():\n",
    "            vols.append(self._sigmaB(row[\"underlying_price\"], row[\"strike\"], self.T, x[0], x[1], x[2]))\n",
    "#             print(type(sum((vols - smile)**2)))\n",
    "        return sum((vols - smile)**2)\n",
    "    \n",
    "    def _own_minimizer(self):\n",
    "        \"\"\"The author completely understands the suboptimality, \n",
    "        but the author does not know how to count gradients for such giant function ): \"\"\"\n",
    "#         array = np.linspace(0.0, 1.0, 1000)\n",
    "        min_values = (0, 0, 0)\n",
    "        minimal = np.inf\n",
    "        alpha_array = np.linspace(self.bounds[0][0], self.bounds[0][1], 100)\n",
    "        rho_array = np.linspace(self.bounds[1][0], self.bounds[1][1], 100)\n",
    "        v_array = np.linspace(self.bounds[2][0], self.bounds[2][1], 100)\n",
    "        for alpha in alpha_array:\n",
    "            for rho in rho_array:\n",
    "                for v in v_array:\n",
    "                    f_value = self._vol_square_error((alpha, rho, v))\n",
    "                    if  f_value < minimal:\n",
    "                        minimal = f_value\n",
    "                        min_values = (alpha, rho, v)\n",
    "        print(minimal, min_values)\n",
    "        return min_values\n",
    "    \n",
    "    def _minimize_scipy(self)->np.float64:\n",
    "        \"\"\"Optimization with scipy optimizer\"\"\"\n",
    "        \n",
    "        return minimize(self._vol_square_error, x0 = self.x0,  bounds = self.bounds)\n",
    "    \n",
    "    def run_pipeline(self)->None:\n",
    "        \"\"\"Run optimization and plot results\"\"\"\n",
    "        # optimization via scipy\n",
    "        optimum_scipy  = self._minimize_scipy()\n",
    "        self.alpha_scipy, self.rho_scipy, self.v_scipy = optimum_scipy.x\n",
    "        logger.info(f\"Optimal params with SCIPY: alpha = {self.alpha_scipy}, rho = {self.rho_scipy}, v = {self.v_scipy}\")\n",
    "        \n",
    "        self.alpha_own, self.rho_own, self.v_own = self._own_minimizer()\n",
    "        logger.info(f\"Optimal params with OWN: alpha = {self.alpha_own}, rho = {self.rho_own}, v = {self.v_own}\")\n",
    "#         print(optimum_own_optimizer)\n",
    "        #optimization via my own optimizer\n",
    "        \n",
    "        \n",
    "        #plot market values and modeled function\n",
    "        self._plot_results()\n",
    "    \n",
    "\n",
    "        \n",
    "    "
   ]
  },
  {
   "cell_type": "code",
   "execution_count": null,
   "id": "4fff0b96",
   "metadata": {},
   "outputs": [
    {
     "name": "stderr",
     "output_type": "stream",
     "text": [
      "2022-10-23 18:49:50.656 | INFO     | __main__:get_normal_date:41 - Year to maturity: 0.9342465753424658\n",
      "2022-10-23 18:49:50.818 | INFO     | __main__:run_pipeline:128 - Optimal params with SCIPY: alpha = 0.2626389929975883, rho = 0.08615357985793785, v = 25.59357111157482\n"
     ]
    }
   ],
   "source": [
    "sabr = SABR(data1)\n",
    "sabr.run_pipeline()"
   ]
  },
  {
   "cell_type": "code",
   "execution_count": null,
   "id": "bbea5166",
   "metadata": {},
   "outputs": [],
   "source": [
    "sabr = SABR(data2)\n",
    "sabr.run_pipeline()"
   ]
  },
  {
   "cell_type": "code",
   "execution_count": null,
   "id": "39c509bd",
   "metadata": {},
   "outputs": [],
   "source": [
    "sabr = SABR(data3)\n",
    "sabr.run_pipeline()"
   ]
  },
  {
   "cell_type": "code",
   "execution_count": 21,
   "id": "92ec1fbc",
   "metadata": {},
   "outputs": [
    {
     "name": "stderr",
     "output_type": "stream",
     "text": [
      "2022-10-23 18:30:43.279 | INFO     | __main__:get_normal_date:41 - Year to maturity: 0.1863013698630137\n",
      "2022-10-23 18:30:43.478 | INFO     | __main__:run_pipeline:111 - Optimal params with scipy: alpha = 0.38619855882977877, rho = 0.015127160058932306, v = 35.00262380358543\n"
     ]
    },
    {
     "data": {
      "image/png": "[encoded data removed]",
      "text/plain": [
       "<Figure size 640x480 with 1 Axes>"
      ]
     },
     "metadata": {},
     "output_type": "display_data"
    }
   ],
   "source": [
    "sabr = SABR(data4)\n",
    "sabr.run_pipeline()"
   ]
  },
  {
   "cell_type": "code",
   "execution_count": null,
   "id": "e24dbf51",
   "metadata": {},
   "outputs": [],
   "source": []
  },
  {
   "cell_type": "code",
   "execution_count": 8,
   "id": "9bc28965",
   "metadata": {},
   "outputs": [],
   "source": [
    "# def parab(x):\n",
    "#     return x**2\n",
    "# data3[\"mark_iv\"] = (data3[\"strike\"] - data3[\"underlying_price\"])**2/1000000\n",
    "# plt.plot(data3[\"strike\"], data3[\"mark_iv\"])"
   ]
  },
  {
   "cell_type": "code",
   "execution_count": null,
   "id": "aa0dda12",
   "metadata": {},
   "outputs": [],
   "source": []
  }
 ],
 "metadata": {
  "kernelspec": {
   "display_name": "Python 3 (ipykernel)",
   "language": "python",
   "name": "python3"
  },
  "language_info": {
   "codemirror_mode": {
    "name": "ipython",
    "version": 3
   },
   "file_extension": ".py",
   "mimetype": "text/x-python",
   "name": "python",
   "nbconvert_exporter": "python",
   "pygments_lexer": "ipython3",
   "version": "3.8.13"
  }
 },
 "nbformat": 4,
 "nbformat_minor": 5
}
