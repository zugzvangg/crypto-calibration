{
 "cells": [
  {
   "cell_type": "code",
   "execution_count": 1,
   "id": "d74c6a6c",
   "metadata": {},
   "outputs": [],
   "source": [
    "import numpy as np\n",
    "from scipy.optimize import minimize\n",
    "\n",
    "import pandas as pd\n",
    "import matplotlib.pyplot as plt"
   ]
  },
  {
   "cell_type": "code",
   "execution_count": 2,
   "id": "0138c911",
   "metadata": {},
   "outputs": [],
   "source": [
    "global beta\n",
    "global T\n",
    "# it is said we can plug it\n",
    "beta = 0.5\n",
    "# years\n",
    "T = 0.2"
   ]
  },
  {
   "cell_type": "code",
   "execution_count": 3,
   "id": "71f4f3af",
   "metadata": {},
   "outputs": [],
   "source": [
    "data = pd.read_pickle(\"data/colmiled_options.pkl\")"
   ]
  },
  {
   "cell_type": "code",
   "execution_count": 4,
   "id": "20fd2fa7",
   "metadata": {},
   "outputs": [
    {
     "data": {
      "text/html": [
       "<div>\n",
       "<style scoped>\n",
       "    .dataframe tbody tr th:only-of-type {\n",
       "        vertical-align: middle;\n",
       "    }\n",
       "\n",
       "    .dataframe tbody tr th {\n",
       "        vertical-align: top;\n",
       "    }\n",
       "\n",
       "    .dataframe thead th {\n",
       "        text-align: right;\n",
       "    }\n",
       "</style>\n",
       "<table border=\"1\" class=\"dataframe\">\n",
       "  <thead>\n",
       "    <tr style=\"text-align: right;\">\n",
       "      <th></th>\n",
       "      <th>instrument_name</th>\n",
       "      <th>timestamp</th>\n",
       "      <th>underlying_price</th>\n",
       "      <th>mark_iv</th>\n",
       "      <th>mark_price</th>\n",
       "      <th>best_bid_price</th>\n",
       "      <th>best_ask_price</th>\n",
       "      <th>human_timestamp</th>\n",
       "      <th>strike</th>\n",
       "    </tr>\n",
       "  </thead>\n",
       "  <tbody>\n",
       "    <tr>\n",
       "      <th>0</th>\n",
       "      <td>BTC-29SEP23-10000-C</td>\n",
       "      <td>1666479718647</td>\n",
       "      <td>19308.49</td>\n",
       "      <td>210.0</td>\n",
       "      <td>0.7831</td>\n",
       "      <td>0.0000</td>\n",
       "      <td>0.0</td>\n",
       "      <td>2022-10-23 02:01:58.647000</td>\n",
       "      <td>10000</td>\n",
       "    </tr>\n",
       "    <tr>\n",
       "      <th>0</th>\n",
       "      <td>BTC-29SEP23-10000-P</td>\n",
       "      <td>1666479718645</td>\n",
       "      <td>19308.49</td>\n",
       "      <td>210.0</td>\n",
       "      <td>0.3010</td>\n",
       "      <td>0.0265</td>\n",
       "      <td>0.0</td>\n",
       "      <td>2022-10-23 02:01:58.645000</td>\n",
       "      <td>10000</td>\n",
       "    </tr>\n",
       "    <tr>\n",
       "      <th>0</th>\n",
       "      <td>BTC-29SEP23-14000-C</td>\n",
       "      <td>1666479718642</td>\n",
       "      <td>19308.49</td>\n",
       "      <td>210.0</td>\n",
       "      <td>0.7379</td>\n",
       "      <td>0.0000</td>\n",
       "      <td>0.0</td>\n",
       "      <td>2022-10-23 02:01:58.642000</td>\n",
       "      <td>14000</td>\n",
       "    </tr>\n",
       "    <tr>\n",
       "      <th>0</th>\n",
       "      <td>BTC-29SEP23-14000-P</td>\n",
       "      <td>1666479718640</td>\n",
       "      <td>19308.49</td>\n",
       "      <td>210.0</td>\n",
       "      <td>0.4629</td>\n",
       "      <td>0.0855</td>\n",
       "      <td>0.0</td>\n",
       "      <td>2022-10-23 02:01:58.640000</td>\n",
       "      <td>14000</td>\n",
       "    </tr>\n",
       "    <tr>\n",
       "      <th>0</th>\n",
       "      <td>BTC-29SEP23-16000-C</td>\n",
       "      <td>1666479718641</td>\n",
       "      <td>19308.49</td>\n",
       "      <td>210.0</td>\n",
       "      <td>0.7185</td>\n",
       "      <td>0.4000</td>\n",
       "      <td>0.0</td>\n",
       "      <td>2022-10-23 02:01:58.641000</td>\n",
       "      <td>16000</td>\n",
       "    </tr>\n",
       "  </tbody>\n",
       "</table>\n",
       "</div>"
      ],
      "text/plain": [
       "       instrument_name      timestamp  underlying_price  mark_iv  mark_price  \\\n",
       "0  BTC-29SEP23-10000-C  1666479718647          19308.49    210.0      0.7831   \n",
       "0  BTC-29SEP23-10000-P  1666479718645          19308.49    210.0      0.3010   \n",
       "0  BTC-29SEP23-14000-C  1666479718642          19308.49    210.0      0.7379   \n",
       "0  BTC-29SEP23-14000-P  1666479718640          19308.49    210.0      0.4629   \n",
       "0  BTC-29SEP23-16000-C  1666479718641          19308.49    210.0      0.7185   \n",
       "\n",
       "   best_bid_price  best_ask_price             human_timestamp strike  \n",
       "0          0.0000             0.0  2022-10-23 02:01:58.647000  10000  \n",
       "0          0.0265             0.0  2022-10-23 02:01:58.645000  10000  \n",
       "0          0.0000             0.0  2022-10-23 02:01:58.642000  14000  \n",
       "0          0.0855             0.0  2022-10-23 02:01:58.640000  14000  \n",
       "0          0.4000             0.0  2022-10-23 02:01:58.641000  16000  "
      ]
     },
     "execution_count": 4,
     "metadata": {},
     "output_type": "execute_result"
    }
   ],
   "source": [
    "data.head()"
   ]
  },
  {
   "cell_type": "code",
   "execution_count": 5,
   "id": "b4b841d0",
   "metadata": {},
   "outputs": [],
   "source": [
    "def sigmaB(f, K, T, alpha, rho, v, beta = 0.5):\n",
    "    first_part_of_numerator = (1-beta)**2/24 * alpha**2/(f*K)**(1-beta)\n",
    "    second_part_of_numerator = (rho*beta*v*alpha)/4*(f*K)**((1-beta)/2)\n",
    "    third_part_of_numerator = (2 - 3*rho**2)*v**2/24\n",
    "    numerator = alpha*(1 + T*(first_part_of_numerator + \n",
    "                              second_part_of_numerator+ third_part_of_numerator))\n",
    "    \n",
    "    first_part_of_denominator = (1-beta)**2/24 * np.log(f/K)**2\n",
    "    second_part_of_denominator = (1-beta)**4/1920 * np.log(f/K)**4\n",
    "    denominator = (f*K)**((1-beta)/2)*(1 + first_part_of_denominator + second_part_of_denominator)\n",
    "    \n",
    "    z = v/alpha*(f*K)**((1-beta)/2)*np.log(f/K)\n",
    "    \n",
    "    xi = np.log((np.sqrt(1 - 2*rho*z + z**2)+z-rho)/(1-rho))\n",
    "    \n",
    "    return numerator/denominator * z/xi\n",
    "\n",
    "    "
   ]
  },
  {
   "cell_type": "code",
   "execution_count": 6,
   "id": "327045ce",
   "metadata": {},
   "outputs": [],
   "source": [
    "smile = data.mark_iv.to_numpy()"
   ]
  },
  {
   "cell_type": "code",
   "execution_count": 7,
   "id": "27cf88f2",
   "metadata": {},
   "outputs": [],
   "source": [
    "def vol_square_error(x):\n",
    "    vols = []\n",
    "    for index, row in data.iterrows():\n",
    "        vols.append(sigmaB(row[\"underlying_price\"], row[\"strike\"], T, x[0], x[1], x[2]))\n",
    "    return sum((vols - smile)**2)"
   ]
  },
  {
   "cell_type": "markdown",
   "id": "f237f6aa",
   "metadata": {},
   "source": [
    "## Ищем параметры"
   ]
  },
  {
   "cell_type": "code",
   "execution_count": 8,
   "id": "4a3658aa",
   "metadata": {},
   "outputs": [],
   "source": [
    "initial_guess = [0.01, 0.00, 0.10]\n",
    "x0 = np.array(initial_guess)\n",
    "bounds = [(0.0001, None), (-0.9999, 0.9999), (0.0001, None)]\n",
    "res = minimize(vol_square_error, x0, method='L-BFGS-B', bounds=bounds)\n",
    "alpha, rho, v = res.x\n"
   ]
  },
  {
   "cell_type": "code",
   "execution_count": 9,
   "id": "d7fe5350",
   "metadata": {},
   "outputs": [
    {
     "data": {
      "text/plain": [
       "5695.111753140356"
      ]
     },
     "execution_count": 9,
     "metadata": {},
     "output_type": "execute_result"
    }
   ],
   "source": [
    "alpha"
   ]
  },
  {
   "cell_type": "code",
   "execution_count": 10,
   "id": "c5d906d9",
   "metadata": {},
   "outputs": [
    {
     "data": {
      "text/plain": [
       "-0.002133375854218188"
      ]
     },
     "execution_count": 10,
     "metadata": {},
     "output_type": "execute_result"
    }
   ],
   "source": [
    "rho"
   ]
  },
  {
   "cell_type": "code",
   "execution_count": 11,
   "id": "b957933a",
   "metadata": {},
   "outputs": [
    {
     "data": {
      "text/plain": [
       "0.016833937876755484"
      ]
     },
     "execution_count": 11,
     "metadata": {},
     "output_type": "execute_result"
    }
   ],
   "source": [
    "v"
   ]
  },
  {
   "cell_type": "markdown",
   "id": "aa61a966",
   "metadata": {},
   "source": [
    "## Теперь эти параметры в формулу для подсчета волатильности"
   ]
  },
  {
   "cell_type": "code",
   "execution_count": 12,
   "id": "39e6246c",
   "metadata": {},
   "outputs": [
    {
     "data": {
      "text/html": [
       "<div>\n",
       "<style scoped>\n",
       "    .dataframe tbody tr th:only-of-type {\n",
       "        vertical-align: middle;\n",
       "    }\n",
       "\n",
       "    .dataframe tbody tr th {\n",
       "        vertical-align: top;\n",
       "    }\n",
       "\n",
       "    .dataframe thead th {\n",
       "        text-align: right;\n",
       "    }\n",
       "</style>\n",
       "<table border=\"1\" class=\"dataframe\">\n",
       "  <thead>\n",
       "    <tr style=\"text-align: right;\">\n",
       "      <th></th>\n",
       "      <th>instrument_name</th>\n",
       "      <th>timestamp</th>\n",
       "      <th>underlying_price</th>\n",
       "      <th>mark_iv</th>\n",
       "      <th>mark_price</th>\n",
       "      <th>best_bid_price</th>\n",
       "      <th>best_ask_price</th>\n",
       "      <th>human_timestamp</th>\n",
       "      <th>strike</th>\n",
       "    </tr>\n",
       "  </thead>\n",
       "  <tbody>\n",
       "    <tr>\n",
       "      <th>0</th>\n",
       "      <td>BTC-29SEP23-14000-C</td>\n",
       "      <td>1666479718642</td>\n",
       "      <td>19308.49</td>\n",
       "      <td>210.0</td>\n",
       "      <td>0.7379</td>\n",
       "      <td>0.0</td>\n",
       "      <td>0.0</td>\n",
       "      <td>2022-10-23 02:01:58.642000</td>\n",
       "      <td>14000</td>\n",
       "    </tr>\n",
       "  </tbody>\n",
       "</table>\n",
       "</div>"
      ],
      "text/plain": [
       "       instrument_name      timestamp  underlying_price  mark_iv  mark_price  \\\n",
       "0  BTC-29SEP23-14000-C  1666479718642          19308.49    210.0      0.7379   \n",
       "\n",
       "   best_bid_price  best_ask_price             human_timestamp strike  \n",
       "0             0.0             0.0  2022-10-23 02:01:58.642000  14000  "
      ]
     },
     "execution_count": 12,
     "metadata": {},
     "output_type": "execute_result"
    }
   ],
   "source": [
    "sample = data.sample(1)\n",
    "sample_dict = sample.iloc[0]\n",
    "sample"
   ]
  },
  {
   "cell_type": "code",
   "execution_count": 18,
   "id": "c0fc44a2",
   "metadata": {},
   "outputs": [],
   "source": [
    "sigmas = []\n",
    "strikes = []\n",
    "for index, row in data.iterrows():\n",
    "    sigma_modeled = sigmaB(\n",
    "        row.underlying_price, \n",
    "        row.strike,\n",
    "        T, \n",
    "        alpha,\n",
    "        rho, \n",
    "        v\n",
    "    )\n",
    "    sigmas.append(sigma_modeled)\n",
    "    strikes.append(row.strike)"
   ]
  },
  {
   "cell_type": "code",
   "execution_count": 19,
   "id": "4f3c2314",
   "metadata": {},
   "outputs": [
    {
     "data": {
      "text/plain": [
       "<matplotlib.collections.PathCollection at 0x15768e800>"
      ]
     },
     "execution_count": 19,
     "metadata": {},
     "output_type": "execute_result"
    },
    {
     "data": {
      "image/png": "[encoded data removed]",
      "text/plain": [
       "<Figure size 640x480 with 1 Axes>"
      ]
     },
     "metadata": {},
     "output_type": "display_data"
    }
   ],
   "source": [
    "plt.plot(strikes, sigmas)\n",
    "plt.scatter(data[\"strike\"], data[\"mark_iv\"])"
   ]
  },
  {
   "cell_type": "code",
   "execution_count": 15,
   "id": "154c3538",
   "metadata": {},
   "outputs": [],
   "source": [
    "def calculate_put_price():\n",
    "    pass\n",
    "    "
   ]
  }
 ],
 "metadata": {
  "kernelspec": {
   "display_name": "Python 3 (ipykernel)",
   "language": "python",
   "name": "python3"
  },
  "language_info": {
   "codemirror_mode": {
    "name": "ipython",
    "version": 3
   },
   "file_extension": ".py",
   "mimetype": "text/x-python",
   "name": "python",
   "nbconvert_exporter": "python",
   "pygments_lexer": "ipython3",
   "version": "3.10.6"
  }
 },
 "nbformat": 4,
 "nbformat_minor": 5
}
