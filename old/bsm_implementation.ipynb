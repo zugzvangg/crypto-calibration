{
 "cells": [
  {
   "cell_type": "code",
   "execution_count": 110,
   "id": "b470db85",
   "metadata": {},
   "outputs": [],
   "source": [
    "from __future__ import division\n",
    "from scipy.stats import norm\n",
    "from scipy.optimize import fsolve\n",
    "from numpy import inf\n",
    "from math import log, sqrt, exp\n",
    "import pandas as pd\n",
    "import matplotlib.pyplot as plt\n",
    "import datetime\n",
    "from math import *\n",
    "\n",
    "\n",
    "def black(cp=None, f=None, k=None, t=None, r=None, v=None, price=None, full=False, comp=inf):\n",
    "    \"\"\" General Purpose BSM machine. Leave one parameter blank and that is the parameter that will\n",
    "        be solved for.\n",
    "            cp   = \"c\" for a call, anything else assumes a put\n",
    "            f    = Forward Price of the underlying asset\n",
    "            k    = Strike Price\n",
    "            t    = Time until maturity (in years)\n",
    "            r    = Interest rate\n",
    "            v    = Implied volatility\n",
    "            comp = How many times interest is compounded a year (default = inf, i.e. continous rates)\n",
    "            full = If True, function returns a dictionary with price and all sensitivities\n",
    "                   Otherwise only the calculated/calibrated parameter will be returned\n",
    "    \"\"\"\n",
    "\n",
    "    D1 = lambda f, k, sigma, t: (log(f/k)+(sigma**2/2)*t)/(sigma*sqrt(t))\n",
    "    D2 = lambda f, k, sigma, t: D1(f, k, sigma, t)-sigma*sqrt(t)\n",
    "\n",
    "    if comp != inf:\n",
    "        r = log((1+r/comp)**comp)   # convert rates\n",
    "    optionType = 1 if cp.upper()[0] == \"C\" else -1   # If the first letter is not \"c\" or \"C\" it must be a put option\n",
    "    parameters = locals().copy()\n",
    "\n",
    "    def _black(cp, f, k, t, r, v, price, full, calibration=False, **kwargs):\n",
    "        d1, d2 = D1(f, k, v, t), D2(f, k, v, t)\n",
    "#         print(d1, d2)\n",
    "        price = optionType * exp(-r*t)*(f*norm.cdf(optionType*d1)-k*norm.cdf(optionType*d2))\n",
    "\n",
    "        if not calibration and full:\n",
    "            return {\n",
    "                \"price\": price,\n",
    "                \"delta\": optionType * norm.cdf(optionType*d1),\n",
    "                \"gamma\": norm.pdf(d1)/(f*v*sqrt(t)),\n",
    "                \"vega\": f*norm.pdf(d1)*sqrt(t)\n",
    "            }\n",
    "        else:\n",
    "            return price\n",
    "\n",
    "    def _calibrate(value, field, parameters):\n",
    "        print({field: value[0]})\n",
    "        parameters.update({field: value[0]})\n",
    "        return abs(_black(calibration=True, **parameters) - price, )\n",
    "\n",
    "    missing = [a for a in [\"f\", \"k\", \"t\", \"r\", \"v\", \"price\"] if parameters[a] is None]\n",
    "\n",
    "    if len(missing) > 1:\n",
    "        raise Exception(\"Too many missing variables from: %s \" % missing)\n",
    "    if len(missing) == 0:\n",
    "        raise Exception(\"All variables assigned - nothing to solve\")\n",
    "\n",
    "    if missing[0] != \"price\":\n",
    "        # if we are missing any parameter different from price we need to calibrate\n",
    "        result = fsolve(_calibrate, 0.5, args=(missing[0], parameters))\n",
    "\n",
    "        if full is False:\n",
    "            return result   # If full=False we simply return the calibrated parameter\n",
    "\n",
    "    return _black(**parameters)\n",
    "\n"
   ]
  },
  {
   "cell_type": "code",
   "execution_count": 111,
   "id": "54e9d2f5",
   "metadata": {},
   "outputs": [
    {
     "name": "stdout",
     "output_type": "stream",
     "text": [
      "{'v': 0.5}\n",
      "{'v': 0.5}\n",
      "{'v': 0.5}\n",
      "{'v': 0.5000000074505806}\n",
      "{'v': 0.08622769663722585}\n",
      "{'v': 0.0818661463596045}\n",
      "{'v': 0.09067417239058372}\n",
      "{'v': 0.0907007140705786}\n",
      "{'v': 0.09064801467091108}\n",
      "{'v': 0.0906480138787366}\n",
      "{'v': 0.09064801387872502}\n"
     ]
    },
    {
     "data": {
      "text/plain": [
       "array([0.09064801])"
      ]
     },
     "execution_count": 111,
     "metadata": {},
     "output_type": "execute_result"
    }
   ],
   "source": [
    "black(\"c\", k=100, f=103, t=1, r=0.07, price=5)\n"
   ]
  },
  {
   "cell_type": "code",
   "execution_count": 89,
   "id": "98cd72ba",
   "metadata": {},
   "outputs": [],
   "source": [
    "data = pd.read_pickle(\"data/BTC-29SEP23-40000-P.pkl\")"
   ]
  },
  {
   "cell_type": "code",
   "execution_count": 90,
   "id": "c17617b3",
   "metadata": {},
   "outputs": [],
   "source": [
    "years_to_maturity = (datetime.datetime(2023, 9, 29) - datetime.datetime.today()).days/365"
   ]
  },
  {
   "cell_type": "code",
   "execution_count": 91,
   "id": "8675e2df",
   "metadata": {
    "scrolled": true
   },
   "outputs": [
    {
     "data": {
      "text/html": [
       "<div>\n",
       "<style scoped>\n",
       "    .dataframe tbody tr th:only-of-type {\n",
       "        vertical-align: middle;\n",
       "    }\n",
       "\n",
       "    .dataframe tbody tr th {\n",
       "        vertical-align: top;\n",
       "    }\n",
       "\n",
       "    .dataframe thead th {\n",
       "        text-align: right;\n",
       "    }\n",
       "</style>\n",
       "<table border=\"1\" class=\"dataframe\">\n",
       "  <thead>\n",
       "    <tr style=\"text-align: right;\">\n",
       "      <th></th>\n",
       "      <th>instrument_name</th>\n",
       "      <th>timestamp</th>\n",
       "      <th>underlying_price</th>\n",
       "      <th>mark_iv</th>\n",
       "      <th>mark_price</th>\n",
       "      <th>best_bid_price</th>\n",
       "      <th>best_ask_price</th>\n",
       "      <th>human_timestamp</th>\n",
       "    </tr>\n",
       "  </thead>\n",
       "  <tbody>\n",
       "    <tr>\n",
       "      <th>0</th>\n",
       "      <td>BTC-29SEP23-40000-P</td>\n",
       "      <td>1666437778531</td>\n",
       "      <td>19301.13</td>\n",
       "      <td>61.49</td>\n",
       "      <td>1.1168</td>\n",
       "      <td>0.0</td>\n",
       "      <td>0.0</td>\n",
       "      <td>2022-10-22 14:22:58.531000</td>\n",
       "    </tr>\n",
       "    <tr>\n",
       "      <th>8</th>\n",
       "      <td>BTC-29SEP23-40000-P</td>\n",
       "      <td>1666437779537</td>\n",
       "      <td>19301.10</td>\n",
       "      <td>61.49</td>\n",
       "      <td>1.1168</td>\n",
       "      <td>0.0</td>\n",
       "      <td>0.0</td>\n",
       "      <td>2022-10-22 14:22:59.537000</td>\n",
       "    </tr>\n",
       "    <tr>\n",
       "      <th>23</th>\n",
       "      <td>BTC-29SEP23-40000-P</td>\n",
       "      <td>1666437780542</td>\n",
       "      <td>19301.10</td>\n",
       "      <td>61.49</td>\n",
       "      <td>1.1168</td>\n",
       "      <td>0.0</td>\n",
       "      <td>0.0</td>\n",
       "      <td>2022-10-22 14:23:00.542000</td>\n",
       "    </tr>\n",
       "    <tr>\n",
       "      <th>38</th>\n",
       "      <td>BTC-29SEP23-40000-P</td>\n",
       "      <td>1666437781549</td>\n",
       "      <td>19300.85</td>\n",
       "      <td>61.49</td>\n",
       "      <td>1.1168</td>\n",
       "      <td>0.0</td>\n",
       "      <td>0.0</td>\n",
       "      <td>2022-10-22 14:23:01.549000</td>\n",
       "    </tr>\n",
       "    <tr>\n",
       "      <th>54</th>\n",
       "      <td>BTC-29SEP23-40000-P</td>\n",
       "      <td>1666437782556</td>\n",
       "      <td>19300.53</td>\n",
       "      <td>61.49</td>\n",
       "      <td>1.1168</td>\n",
       "      <td>0.0</td>\n",
       "      <td>0.0</td>\n",
       "      <td>2022-10-22 14:23:02.556000</td>\n",
       "    </tr>\n",
       "  </tbody>\n",
       "</table>\n",
       "</div>"
      ],
      "text/plain": [
       "        instrument_name      timestamp  underlying_price  mark_iv  mark_price  \\\n",
       "0   BTC-29SEP23-40000-P  1666437778531          19301.13    61.49      1.1168   \n",
       "8   BTC-29SEP23-40000-P  1666437779537          19301.10    61.49      1.1168   \n",
       "23  BTC-29SEP23-40000-P  1666437780542          19301.10    61.49      1.1168   \n",
       "38  BTC-29SEP23-40000-P  1666437781549          19300.85    61.49      1.1168   \n",
       "54  BTC-29SEP23-40000-P  1666437782556          19300.53    61.49      1.1168   \n",
       "\n",
       "    best_bid_price  best_ask_price             human_timestamp  \n",
       "0              0.0             0.0  2022-10-22 14:22:58.531000  \n",
       "8              0.0             0.0  2022-10-22 14:22:59.537000  \n",
       "23             0.0             0.0  2022-10-22 14:23:00.542000  \n",
       "38             0.0             0.0  2022-10-22 14:23:01.549000  \n",
       "54             0.0             0.0  2022-10-22 14:23:02.556000  "
      ]
     },
     "execution_count": 91,
     "metadata": {},
     "output_type": "execute_result"
    }
   ],
   "source": [
    "data.head(5)"
   ]
  },
  {
   "cell_type": "code",
   "execution_count": 92,
   "id": "f3531112",
   "metadata": {},
   "outputs": [],
   "source": [
    "instrument_name = data.iloc[0][\"instrument_name\"]\n",
    "option_type = instrument_name[-1]\n",
    "strike = int(instrument_name[12:17])"
   ]
  },
  {
   "cell_type": "code",
   "execution_count": 97,
   "id": "0dd4d3d5",
   "metadata": {
    "scrolled": true
   },
   "outputs": [
    {
     "name": "stderr",
     "output_type": "stream",
     "text": [
      "/Users/zugzvangg/Desktop/Projects/crypto-calibration/.venv/lib/python3.10/site-packages/scipy/optimize/_minpack_py.py:175: RuntimeWarning: The iteration is not making good progress, as measured by the \n",
      "  improvement from the last ten iterations.\n",
      "  warnings.warn(msg, RuntimeWarning)\n"
     ]
    },
    {
     "data": {
      "text/plain": [
       "[array([-0.06741215]),\n",
       " array([-0.0674138]),\n",
       " array([-0.0674138]),\n",
       " array([-0.06742791]),\n",
       " array([-0.06744631]),\n",
       " array([-0.06743325]),\n",
       " array([-0.06743962]),\n",
       " array([-0.06744405]),\n",
       " array([-0.06743325]),\n",
       " array([-0.06743541]),\n",
       " array([-0.06743438]),\n",
       " array([-0.06744631]),\n",
       " array([-0.06746112])]"
      ]
     },
     "execution_count": 97,
     "metadata": {},
     "output_type": "execute_result"
    }
   ],
   "source": [
    "ivs = []\n",
    "for index, row in data.iterrows():\n",
    "    iv = black(option_type, k = strike, f = row[\"underlying_price\"],\n",
    "               t = years_to_maturity, r=0.0, price = row[\"mark_price\"])\n",
    "    ivs.append(iv)\n",
    "ivs\n",
    "# почему такой маленький mark_price?"
   ]
  },
  {
   "cell_type": "code",
   "execution_count": null,
   "id": "c02eeaf5",
   "metadata": {},
   "outputs": [],
   "source": []
  },
  {
   "cell_type": "code",
   "execution_count": 78,
   "id": "cddcb671",
   "metadata": {},
   "outputs": [
    {
     "data": {
      "text/plain": [
       "array([0.11828237])"
      ]
     },
     "execution_count": 78,
     "metadata": {},
     "output_type": "execute_result"
    }
   ],
   "source": [
    "black(\"c\",k=100,f=101,t=1,r=0.05,price=5)\n"
   ]
  },
  {
   "cell_type": "code",
   "execution_count": 77,
   "id": "1f578e74",
   "metadata": {},
   "outputs": [
    {
     "data": {
      "text/plain": [
       "[<matplotlib.lines.Line2D at 0x152a1ce80>]"
      ]
     },
     "execution_count": 77,
     "metadata": {},
     "output_type": "execute_result"
    },
    {
     "data": {
      "image/png": "[encoded data removed]",
      "text/plain": [
       "<Figure size 640x480 with 1 Axes>"
      ]
     },
     "metadata": {},
     "output_type": "display_data"
    }
   ],
   "source": [
    "plt.plot(data[\"human_timestamp\"], ivs)"
   ]
  }
 ],
 "metadata": {
  "kernelspec": {
   "display_name": "Python 3 (ipykernel)",
   "language": "python",
   "name": "python3"
  },
  "language_info": {
   "codemirror_mode": {
    "name": "ipython",
    "version": 3
   },
   "file_extension": ".py",
   "mimetype": "text/x-python",
   "name": "python",
   "nbconvert_exporter": "python",
   "pygments_lexer": "ipython3",
   "version": "3.10.6"
  }
 },
 "nbformat": 4,
 "nbformat_minor": 5
}
