{
 "cells": [
  {
   "cell_type": "code",
   "execution_count": 4,
   "id": "59ad6480",
   "metadata": {},
   "outputs": [],
   "source": [
    "import pandas as pd\n",
    "import numpy as np\n",
    "from matplotlib import pyplot as plt\n",
    "pd.set_option('display.max_columns', 500)\n",
    "import os.path\n",
    "from loguru import logger\n",
    "import seaborn as sns\n",
    "import statsmodels.formula.api as sm\n",
    "\n",
    "import plotly.graph_objects as go\n",
    "import datetime\n",
    "import vaex\n",
    "from utils import get_human_timestamp\n",
    "import warnings\n",
    "warnings.filterwarnings(\"ignore\")\n",
    "from scipy.optimize import minimize\n",
    "from scipy.optimize import least_squares\n",
    "from sklearn.linear_model import LinearRegression\n",
    "import h5py\n",
    "\n"
   ]
  },
  {
   "cell_type": "code",
   "execution_count": 5,
   "id": "fd8da814",
   "metadata": {},
   "outputs": [],
   "source": [
    "def find_beta_for_expiration(data: pd.DataFrame):\n",
    "    single_expiration = data.copy()\n",
    "    def get_closest(given_strikes, underlying_price):\n",
    "    # given_strikes sorted\n",
    "        for index in range(0, len(given_strikes)-1):\n",
    "            if given_strikes[index] <= underlying_price and given_strikes[index+1]>=underlying_price:\n",
    "                return given_strikes[index], given_strikes[index+1]\n",
    "\n",
    "    def get_mid_mark_iv(forward: float):\n",
    "        closest_strikes = get_closest(all_covered_strikes, forward)\n",
    "        return closest_strikes\n",
    "    \n",
    "    available_strikes = sorted(single_expiration.strike_price.unique())\n",
    "    max_value_of_underlying = single_expiration.underlying_price.max()\n",
    "    min_value_of_underlying = single_expiration.underlying_price.min()\n",
    "    crossed_strikes = []\n",
    "    for strike in available_strikes:\n",
    "        if strike>=min_value_of_underlying and strike<=max_value_of_underlying:\n",
    "            crossed_strikes.append(strike)\n",
    "\n",
    "    right_border = get_closest(available_strikes, max_value_of_underlying)[1]\n",
    "    left_border = get_closest(available_strikes, min_value_of_underlying)[0]\n",
    "\n",
    "    all_covered_strikes = []\n",
    "    for strike in available_strikes:\n",
    "        if strike>=left_border and strike<=right_border:\n",
    "            all_covered_strikes.append(strike)\n",
    "\n",
    "    single_expiration[\"closest_strikes\"] = single_expiration[\"underlying_price\"].apply(get_mid_mark_iv)\n",
    "    single_expiration[\"left_border\"] = single_expiration[\"closest_strikes\"].apply(lambda x: x[0])\n",
    "    single_expiration[\"right_border\"] = single_expiration[\"closest_strikes\"].apply(lambda x: x[1])\n",
    "\n",
    "    df_of_only_needed_strikes = single_expiration[single_expiration[\"strike_price\"].isin(all_covered_strikes)]\n",
    "    df_of_only_needed_strikes = df_of_only_needed_strikes[[\"timestamp\", \"strike_price\", \"mark_iv\"]].drop_duplicates().copy()\n",
    "    \n",
    "    df_of_only_needed_strikes_left = df_of_only_needed_strikes.copy()\n",
    "    df_of_only_needed_strikes_left = df_of_only_needed_strikes_left.rename(columns = {\"mark_iv\": \"mark_iv_left\"})\n",
    "    single_expiration = single_expiration.merge(df_of_only_needed_strikes_left, how = \"left\", \n",
    "                                                left_on = [\"timestamp\", \"left_border\"], right_on = [\"timestamp\", \"strike_price\"])\n",
    "\n",
    "    df_of_only_needed_strikes_right = df_of_only_needed_strikes.copy()\n",
    "    df_of_only_needed_strikes_right = df_of_only_needed_strikes_right.rename(columns = {\"mark_iv\": \"mark_iv_right\"})\n",
    "    single_expiration = single_expiration.merge(df_of_only_needed_strikes_right, how = \"left\", \n",
    "                                                left_on = [\"timestamp\", \"right_border\"], right_on = [\"timestamp\", \"strike_price\"])\n",
    "\n",
    "    single_expiration = single_expiration.drop(columns = [\"strike_price_y\", \"strike_price\"])\n",
    "    single_expiration = single_expiration.rename(columns = {\"strike_price_x\": \"strike_price\"})\n",
    "    \n",
    "    single_expiration[\"mark_iv_left\"] = single_expiration[\"mark_iv_left\"].fillna(method='ffill')\n",
    "    single_expiration[\"mark_iv_right\"] = single_expiration[\"mark_iv_right\"].fillna(method='ffill')\n",
    "    \n",
    "    only_needed = single_expiration[[\"timestamp\", \"underlying_price\", \"right_border\", \"left_border\",\n",
    "                                  \"mark_iv_left\", \"mark_iv_right\", \"strike_price\", \"mark_iv\"]].copy()\n",
    "    only_needed = only_needed.dropna()\n",
    "    only_needed = only_needed[only_needed[\"strike_price\"].isin(all_covered_strikes)]\n",
    "\n",
    "\n",
    "    only_needed[\"ATM_iv\"] = only_needed[\"mark_iv_left\"] * (only_needed[\"right_border\"]-only_needed[\"underlying_price\"])/(\n",
    "            only_needed[\"right_border\"] - only_needed[\"left_border\"]) + only_needed[\"mark_iv_right\"] * (only_needed[\"underlying_price\"] - only_needed[\"left_border\"])/(\n",
    "    only_needed[\"right_border\"] - only_needed[\"left_border\"])\n",
    "\n",
    "    only_needed[\"ln_underlying_price\"] = np.log(only_needed[\"underlying_price\"])\n",
    "    only_needed[\"ln_ATM_iv\"] = np.log(only_needed[\"ATM_iv\"])\n",
    "    to_fit = only_needed[[\"ln_underlying_price\", \"ln_ATM_iv\"]].drop_duplicates().copy()\n",
    "    \n",
    "    lr = LinearRegression()\n",
    "    lr.fit(to_fit[\"ln_underlying_price\"].values.reshape(-1, 1), to_fit[\"ln_ATM_iv\"])\n",
    "    k = lr.coef_[0]\n",
    "    alpha = lr.intercept_\n",
    "    beta = k+1\n",
    "#     xx = np.linspace(to_fit[\"ln_underlying_price\"].max(), to_fit[\"ln_underlying_price\"].min(), 100)\n",
    "#     yy = k*xx + alpha\n",
    "#     plt.scatter(to_fit[\"ln_underlying_price\"], to_fit[\"ln_ATM_iv\"])\n",
    "#     plt.plot(xx, yy, color = \"orange\")\n",
    "    \n",
    "#     results = sm.ols(formula='ln_ATM_iv~ln_underlying_price', data = to_fit).fit()\n",
    "#     results.summary()\n",
    "    \n",
    "    return beta\n",
    "    "
   ]
  },
  {
   "cell_type": "code",
   "execution_count": 6,
   "id": "5291da14",
   "metadata": {},
   "outputs": [],
   "source": [
    "def select_data(df: pd.DataFrame, currency: str  = \"BTC\"):\n",
    "    # take single currency\n",
    "    ind = [symbol.startswith(currency) for symbol in df.symbol]\n",
    "    data = df[ind].reset_index(drop=True)\n",
    "    #tau is time before expiration in years\n",
    "    data['tau'] = (data.expiration - data.timestamp) / 1e6 / 3600 / 24 / 365\n",
    "    #days before exp\n",
    "    data['days'] = (data['tau'] * 365).astype(int)\n",
    "    # find beta for each expiration\n",
    "    \n",
    "    data[\"human_expiration\"] = data[\"expiration\"]\\\n",
    "    .apply(lambda x : datetime.datetime.fromtimestamp(x/1000000.0).strftime('%Y-%m-%d %H:%M:%S.%f'))\n",
    "\n",
    "    K = data.strike_price.values\n",
    "    F = data.underlying_price.values\n",
    "\n",
    "    payoff = np.maximum(F - K, 0.0)\n",
    "    payoff[data.type == 'put'] = np.maximum( K - F, 0.0)[data.type == 'put']\n",
    "    data[\"payoff\"] = payoff\n",
    "    \n",
    "    #inverse \n",
    "    data[\"inverse_payoff\"] =  data[\"payoff\"]/data[\"underlying_price\"]\n",
    "    \n",
    "    data['mid_price'] = 0.5 * (data.ask_price + data.bid_price)\n",
    "    \n",
    "    data_grouped = data.groupby(['type', 'expiration', 'strike_price'])\\\n",
    "    .agg(lambda x: x.iloc[-1]).reset_index().drop([\"timestamp\"], axis=1)\n",
    "\n",
    "    # отбираем тольеко не истекшие\n",
    "    put = data_grouped[data_grouped.type == 'put'].drop(['type'], axis=1).reset_index(drop=True)\n",
    "    put = put[put[\"days\"] > 0] \n",
    "    \n",
    "    call = data_grouped[data_grouped.type == 'call'].drop(['type'], axis=1).reset_index(drop=True)\n",
    "    call = call[call[\"days\"] > 0] \n",
    "    \n",
    "    return put, call"
   ]
  },
  {
   "cell_type": "markdown",
   "id": "2c56a3f4",
   "metadata": {},
   "source": [
    "# Калибровка"
   ]
  },
  {
   "cell_type": "code",
   "execution_count": 7,
   "id": "88888ee7",
   "metadata": {},
   "outputs": [],
   "source": [
    "class SABR:\n",
    "    def __init__(self, data: pd.DataFrame, beta: float = 0.5) -> None:\n",
    "        \"\"\"Class to model the volatility smile\"\"\"\n",
    "        self.data = data\n",
    "        # let it be fixed as in the artice\n",
    "        self.beta = beta\n",
    "        self.T = data.iloc[0].tau\n",
    "        #Change by milliseconds, but we need similar\n",
    "        self.underlying_price = data.iloc[0].underlying_price\n",
    "        # start params for optimization\n",
    "        self.x0 = np.array([0.99, 0.00, 0.99])\n",
    "        self.bounds = [(0.0001, 1000.0), (-0.9999, 0.9999), (0.0001, 1000.0)]\n",
    "\n",
    "\n",
    "    def _sigmaB(\n",
    "        self, f: float, K: float, T: float, alpha: float, rho: float, v: float\n",
    "    ) -> float:\n",
    "        \"\"\"Function to count modeled volatility\"\"\"\n",
    "        first_part_of_numerator = (\n",
    "            (1 - self.beta) ** 2 / 24 * alpha**2 / (f * K) ** (1 - self.beta)\n",
    "        )\n",
    "        second_part_of_numerator = (\n",
    "            (rho * self.beta * v * alpha) / 4 * (f * K) ** ((1 - self.beta) / 2)\n",
    "        )\n",
    "        third_part_of_numerator = (2 - 3 * rho**2) * v**2 / 24\n",
    "        numerator = alpha * (\n",
    "            1\n",
    "            + self.T\n",
    "            * (\n",
    "                first_part_of_numerator\n",
    "                + second_part_of_numerator\n",
    "                + third_part_of_numerator\n",
    "            )\n",
    "        )\n",
    "\n",
    "        first_part_of_denominator = (1 - self.beta) ** 2 / 24 * (np.log(f / K)) ** 2\n",
    "        second_part_of_denominator = (1 - self.beta) ** 4 / 1920 * (np.log(f / K)) ** 4\n",
    "        denominator = (f * K) ** ((1 - self.beta) / 2) * (\n",
    "            1 + first_part_of_denominator + second_part_of_denominator\n",
    "        )\n",
    "\n",
    "        z = v / alpha * (f * K) ** ((1 - self.beta) / 2) * np.log(f / K)\n",
    "\n",
    "        xi = np.log((np.sqrt(1 - 2 * rho * z + z**2) + z - rho) / (1 - rho))\n",
    "\n",
    "        return numerator / denominator * z / xi\n",
    "\n",
    "    def _plot_results(self) -> None:\n",
    "        \"\"\"Function to plot results\"\"\"\n",
    "\n",
    "        def get_sigmas_for_set_of_params(alpha: float, rho: float, v: float) -> None:\n",
    "            \"\"\"Inner function to count sigmas for current optimization method\"\"\"\n",
    "            self.volatilities = []\n",
    "            self.test_strikes = np.linspace(500, 5000, 100)\n",
    "            for strike in self.test_strikes:\n",
    "                sigma_modeled = self._sigmaB(\n",
    "                    self.underlying_price, strike, self.T, alpha, rho, v\n",
    "                )\n",
    "                self.volatilities.append(sigma_modeled)\n",
    "\n",
    "        get_sigmas_for_set_of_params(\n",
    "            self.alpha_scipy, self.rho_scipy, self.v_scipy\n",
    "        )\n",
    "\n",
    "        fig, ax = plt.subplots(figsize=(20, 7))\n",
    "        ax = sns.scatterplot(x = \"strike_price\", y = \"mark_iv\", data=self.data, \n",
    "                             color = \"black\",\n",
    "                             label=\"scipy optimizer\")\n",
    "\n",
    "        ax1 = sns.lineplot(\n",
    "            x=self.test_strikes,\n",
    "            y=self.volatilities,\n",
    "            label=\"market volatilities\",\n",
    "            color=\"blue\",\n",
    "        ).set_title(f\"T = {int(self.T * 365)} days\")\n",
    "\n",
    "    def _vol_square_error(self, x: np.ndarray) -> np.float64:\n",
    "        \"\"\"Function to get the argmin function we want to optimize\"\"\"\n",
    "        # init market volatiliteis\n",
    "        smile = self.data.mark_iv.to_numpy()\n",
    "        vols = []\n",
    "        for index, row in self.data.iterrows():\n",
    "            vols.append(\n",
    "                self._sigmaB(\n",
    "                    self.underlying_price, row[\"strike_price\"], self.T, x[0], x[1], x[2]\n",
    "                )\n",
    "            )\n",
    "        return sum((vols - smile) ** 2)\n",
    "\n",
    "\n",
    "    def _minimize_scipy(self) -> np.float64:\n",
    "        \"\"\"Optimization with scipy optimizer\"\"\"\n",
    "        return minimize(self._vol_square_error, x0=self.x0,  bounds = self.bounds)\n",
    "\n",
    "    def run(self) -> None:\n",
    "        \"\"\"Run optimization and plot results\"\"\"\n",
    "        # optimization via scipy\n",
    "        optimum_scipy = self._minimize_scipy()\n",
    "        self.alpha_scipy, self.rho_scipy, self.v_scipy = optimum_scipy.x\n",
    "        logger.info(\n",
    "            f\"\"\"Optimal params for T = {int(self.T*365)} days: alpha = {self.alpha_scipy}, rho = {self.rho_scipy}, v = {self.v_scipy}\n",
    "            beta = {self.beta}\"\"\"\n",
    "        )\n",
    "        # plot market values and modeled function\n",
    "        self._plot_results()\n",
    "        return self.volatilities, self.alpha_scipy, self.beta, self.rho_scipy, self.v_scipy, self.T\n"
   ]
  },
  {
   "cell_type": "code",
   "execution_count": 8,
   "id": "b6e3556c",
   "metadata": {},
   "outputs": [
    {
     "name": "stdout",
     "output_type": "stream",
     "text": [
      "Expiration dates: [1, 7, 14, 21, 28, 56, 84, 119, 210, 301]\n"
     ]
    }
   ],
   "source": [
    "#days before exp\n",
    "# симуляци по чистым данным\n",
    "df = pd.read_csv(f\"./datasets/deribit_options_chain_2022-12-01_OPTIONS.csv\")\n",
    "currency = \"ETH\"\n",
    "put, call = select_data(df, currency=currency)\n",
    "days = sorted(list(set(call.days.values)))\n",
    "print(f\"Expiration dates: {days}\") \n",
    "\n",
    "df = df[df[\"symbol\"].str.startswith(currency)]\n",
    "columns = [\"symbol\", \"timestamp\", \"type\", \"strike_price\", \"expiration\", \"bid_price\", \n",
    "                   \"ask_price\", \"mark_price\", \"mark_iv\", \"underlying_price\"]\n",
    "df = df[columns]\n",
    "df['days'] = ((df.expiration - df.timestamp) / 1e6 / 3600 / 24).astype(int)\n",
    "df = df[df[\"days\"].isin(days)]"
   ]
  },
  {
   "cell_type": "code",
   "execution_count": 9,
   "id": "c02d853e",
   "metadata": {
    "scrolled": true
   },
   "outputs": [
    {
     "name": "stderr",
     "output_type": "stream",
     "text": [
      "2023-02-04 20:19:53.149 | INFO     | __main__:run:100 - Optimal params for T = 28 days: alpha = 796.209099354945, rho = -1.6829038800783883e-05, v = 35.68931156830166\n",
      "            beta = 0.3590875978589466\n"
     ]
    },
    {
     "data": {
      "image/png": "[encoded data removed]",
      "text/plain": [
       "<Figure size 2000x700 with 1 Axes>"
      ]
     },
     "metadata": {},
     "output_type": "display_data"
    }
   ],
   "source": [
    "# выкидываем из выборки опционы, которые deep ITM\n",
    "list_of_vols = []\n",
    "alphas = []\n",
    "betas = []\n",
    "rhos = []\n",
    "vs = []\n",
    "Ts = []\n",
    "for day in days:\n",
    "    # с близкими к экспирации пока не очень\n",
    "    if day not in [28]:\n",
    "        continue\n",
    "    # считаем beta для каждой даты экспирации отдельно\n",
    "    beta = find_beta_for_expiration(df[df[\"days\"] == day])\n",
    "    call_ = call[call.days == day]\n",
    "    put_ = put[put.days == day]\n",
    "    \n",
    "    cc = call_[call_[\"strike_price\"]>=call_[\"underlying_price\"]]\n",
    "    pp = put_[put_[\"strike_price\"]<=put_[\"underlying_price\"]]\n",
    "    dff = pd.concat([cc, pp])\n",
    "    \n",
    "    dff.to_pickle(\"28.pkl\")\n",
    "    \n",
    "    dff = dff[dff[\"strike_price\"]<=5000]\n",
    "    # подставляем найденное beta\n",
    "    sabr = SABR(dff, beta=beta)\n",
    "#     sabr = SABR(cc)\n",
    "    vols, alpha, beta, rho, v, T = sabr.run()\n",
    "    list_of_vols.append(vols)\n",
    "    alphas.append(alpha)\n",
    "    betas.append(beta)\n",
    "    rhos.append(rho)\n",
    "    vs.append(v)\n",
    "    Ts.append(T)"
   ]
  },
  {
   "cell_type": "code",
   "execution_count": 27,
   "id": "65febc4d",
   "metadata": {},
   "outputs": [
    {
     "data": {
      "image/png": "[encoded data removed]",
      "text/plain": [
       "<Figure size 1000x600 with 4 Axes>"
      ]
     },
     "metadata": {},
     "output_type": "display_data"
    }
   ],
   "source": [
    "Ts_days = np.array(Ts)*365\n",
    "fig, axs = plt.subplots(2, 2, figsize=(10, 6), constrained_layout=True)\n",
    "x_axis_name = 'Time, days'\n",
    "axs[0, 0].plot(Ts_days, alphas, 'o', ls='-')\n",
    "axs[0, 0].set_xlabel(x_axis_name)\n",
    "axs[0, 0].set_title(\"alphas\")\n",
    "axs[0, 0].grid()\n",
    "\n",
    "axs[0, 1].plot(Ts_days, betas, 'o', ls='-')\n",
    "axs[0, 1].set_xlabel(x_axis_name)\n",
    "axs[0, 1].set_title(\"betas\")\n",
    "axs[0, 1].grid()\n",
    "\n",
    "axs[1, 0].plot(Ts_days, rhos, 'o', ls='-')\n",
    "axs[1, 0].set_xlabel(x_axis_name)\n",
    "axs[1, 0].set_title(\"rhos\")\n",
    "axs[1, 0].grid()\n",
    "\n",
    "axs[1, 1].plot(Ts_days, vs, 'o', ls='-')\n",
    "axs[1, 1].set_xlabel(x_axis_name)\n",
    "axs[1, 1].set_title(\"volvols\")\n",
    "axs[1, 1].grid()\n"
   ]
  },
  {
   "cell_type": "code",
   "execution_count": 29,
   "id": "403da31d",
   "metadata": {},
   "outputs": [
    {
     "data": {
      "application/vnd.plotly.v1+json": {
       "config": {
        "plotlyServerURL": "https://plot.ly"
       },
       "data": [
        {
         "contours": {
          "z": {
           "highlightcolor": "limegreen",
           "project": {
            "z": true
           },
           "show": true,
           "usecolormap": true
          }
         },
         "type": "surface",
         "x": [
          500,
          545.4545454545455,
          590.9090909090909,
          636.3636363636364,
          681.8181818181818,
          727.2727272727273,
          772.7272727272727,
          818.1818181818182,
          863.6363636363636,
          909.090909090909,
          954.5454545454545,
          1000,
          1045.4545454545455,
          1090.909090909091,
          1136.3636363636365,
          1181.8181818181818,
          1227.2727272727273,
          1272.7272727272727,
          1318.181818181818,
          1363.6363636363635,
          1409.090909090909,
          1454.5454545454545,
          1500,
          1545.4545454545455,
          1590.909090909091,
          1636.3636363636363,
          1681.8181818181818,
          1727.2727272727273,
          1772.7272727272727,
          1818.1818181818182,
          1863.6363636363635,
          1909.090909090909,
          1954.5454545454545,
          2000,
          2045.4545454545455,
          2090.909090909091,
          2136.363636363636,
          2181.818181818182,
          2227.272727272727,
          2272.727272727273,
          2318.181818181818,
          2363.6363636363635,
          2409.090909090909,
          2454.5454545454545,
          2500,
          2545.4545454545455,
          2590.909090909091,
          2636.3636363636365,
          2681.818181818182,
          2727.272727272727,
          2772.7272727272725,
          2818.181818181818,
          2863.6363636363635,
          2909.090909090909,
          2954.5454545454545,
          3000,
          3045.4545454545455,
          3090.909090909091,
          3136.3636363636365,
          3181.8181818181815,
          3227.272727272727,
          3272.7272727272725,
          3318.181818181818,
          3363.6363636363635,
          3409.090909090909,
          3454.5454545454545,
          3500,
          3545.4545454545455,
          3590.909090909091,
          3636.3636363636365,
          3681.8181818181815,
          3727.272727272727,
          3772.7272727272725,
          3818.181818181818,
          3863.6363636363635,
          3909.090909090909,
          3954.5454545454545,
          4000,
          4045.4545454545455,
          4090.909090909091,
          4136.363636363636,
          4181.818181818182,
          4227.272727272727,
          4272.727272727272,
          4318.181818181818,
          4363.636363636364,
          4409.090909090909,
          4454.545454545454,
          4500,
          4545.454545454546,
          4590.909090909091,
          4636.363636363636,
          4681.818181818182,
          4727.272727272727,
          4772.727272727273,
          4818.181818181818,
          4863.636363636364,
          4909.090909090909,
          4954.545454545454,
          5000
         ],
         "y": [
          1,
          7,
          14,
          21,
          28,
          56,
          84,
          119,
          210,
          301
         ],
         "z": [
          [
           173.05222586942824,
           172.0699786545862,
           169.47843084476878,
           165.43211480587308,
           160.06476905606536,
           153.49223539437452,
           145.81474158240772,
           137.11865178045844,
           127.47772534053,
           116.95387369146087,
           105.59732929106131,
           93.44600466367908,
           80.5235342947403,
           66.83480090989715,
           52.355775274677505,
           37.00745592911103,
           20.56713808921895,
           1.9088826825512977,
           17.748680375344744,
           35.01343212179479,
           51.881851331353545,
           68.59718240665131,
           85.2517743153752,
           101.88886114183403,
           118.5297385052892,
           135.18510035726763,
           151.85964960378783,
           168.55399292542086,
           185.2671575579579,
           201.99637286032137,
           218.74019390590513,
           235.49276825837242,
           252.2521553184869,
           269.0136957075406,
           285.7748064606856,
           302.5300960090644,
           319.2764917796542,
           336.0129021655421,
           352.7333413072432,
           369.43616359213155,
           386.1161194242828,
           402.7760987845,
           419.4110660315573,
           436.00471413130816,
           452.58219500713506,
           469.1236485275721,
           485.6199214900252,
           502.0983526809004,
           518.5291639428735,
           534.9185867670976,
           551.2741039601553,
           567.578574185898,
           583.8372209418201,
           600.0562221058588,
           616.2427026542357,
           632.3397387255307,
           648.4142356825608,
           664.439755750929,
           680.4212795161113,
           696.3644260080146,
           712.2754383071488,
           728.0734903708156,
           743.8914855807012,
           759.599535126796,
           775.2434895020215,
           790.9304495363972,
           806.4581075431682,
           821.986692975749,
           837.5265031076525,
           852.8421102355951,
           868.171958365779,
           883.5277050173771,
           898.7833511078626,
           913.9362425216744,
           929.1322332957928,
           944.2308681202005,
           959.2298664635553,
           974.2915927132789,
           989.2603187127517,
           1004.1341652980233,
           1018.9112060774811,
           1033.7768503537784,
           1048.3605550107263,
           1063.0412099718242,
           1077.6298789697953,
           1092.3366400334555,
           1106.743095884207,
           1121.2772712101337,
           1135.7263606718022,
           1150.0891988206768,
           1164.3645913548996,
           1178.5513111412417,
           1192.648094045657,
           1206.9181161131942,
           1221.1097451995554,
           1234.9441836023368,
           1248.9696053901073,
           1263.2062264240626,
           1277.0761381623568,
           1290.8634782244367
          ],
          [
           207.2324344485244,
           197.35970668226452,
           187.72744628657082,
           178.3135343060086,
           169.09582601536087,
           160.05258167776972,
           151.16266303974004,
           142.40564234471745,
           133.76194340631378,
           125.21316022065099,
           116.74279915143883,
           108.33793955645822,
           99.9929009431527,
           91.71746260453358,
           83.55591100153354,
           75.63283186134129,
           68.26342708951196,
           62.17839394418156,
           58.65616147483733,
           58.60942299746841,
           61.35477403315411,
           65.58941475343366,
           70.46490591743205,
           75.56830334859579,
           80.70825272992559,
           85.79488494557657,
           90.7856723470034,
           95.66115912985008,
           100.41360259518034,
           105.04138213204259,
           109.54611802194323,
           113.9311290785642,
           118.20058235632511,
           122.35901479961282,
           126.41106141090518,
           130.36130117384621,
           134.21417152219564,
           137.97392330181728,
           141.64459985209592,
           145.23003046193372,
           148.7338323099594,
           152.15941728737877,
           155.5100014856094,
           158.78861598017252,
           161.99811807002828,
           165.14120246257187,
           168.2204121034624,
           171.2381484827137,
           174.19668133208552,
           177.0981576812759,
           179.94461027283873,
           182.73796535526193,
           185.48004988480196,
           188.17259817241478,
           190.81725801455815,
           193.41559634676128,
           195.96910445784914,
           198.47920280078125,
           200.9472454338435,
           203.3745241234726,
           205.76227213753063,
           208.11166775545036,
           210.42383751939047,
           212.69985924836956,
           214.94076483541346,
           217.1475428458879,
           219.32114093354247,
           221.46246808927808,
           223.57239673627453,
           225.65176468386593,
           227.7013769514325,
           229.7220074725739,
           231.71440068886818,
           233.67927304174995,
           235.61731437025537,
           237.52918922170426,
           239.41553808179765,
           241.2769785300503,
           243.1141063259582,
           244.92749643089377,
           246.71770397023053,
           248.48526513993778,
           250.23069806143198,
           251.95450358825775,
           253.65716606781734,
           255.33915406118714,
           257.0009210237397,
           258.6429059491718,
           260.2655339792618,
           261.86921698157613,
           263.45435409709484,
           265.02133225970016,
           266.57052668919795,
           268.1023013595296,
           269.61700944364543,
           271.11499373646245,
           272.59658705716004,
           274.0621126320783,
           275.5118844592693,
           276.9462076558352
          ],
          [
           162.0238061758258,
           154.69247394754026,
           147.74893822942383,
           141.14102818153512,
           134.82705946456704,
           128.77359369307223,
           122.95396640430486,
           117.34738871438047,
           111.938526579567,
           106.71753476811979,
           101.68058653809692,
           96.83100263008112,
           92.18114123128981,
           87.7552343818524,
           83.59325152749952,
           79.75540663181847,
           76.32567565918505,
           73.41029307387576,
           71.1246904619704,
           69.56449632147768,
           68.7689025781854,
           68.7000060795591,
           69.2553920870469,
           70.30323667403191,
           71.71509577798332,
           73.383312579057,
           75.22500026193882,
           77.17923486796087,
           79.20228676169923,
           81.26311360526736,
           83.33978107382403,
           85.41682350054685,
           87.48336129793643,
           89.5317758325021,
           91.55677918297042,
           93.55475913486245,
           95.52331518536907,
           97.46092738331771,
           99.36671806713385,
           101.24027905940216,
           103.08154537143352,
           104.89070224439308,
           106.66811629248012,
           108.41428421829143,
           110.12979444200697,
           111.81529829198463,
           113.47148832363757,
           115.09908198623506,
           116.69880932479698,
           118.27140374192199,
           119.81759509023331,
           121.33810454650225,
           122.83364085183258,
           124.3048976015043,
           125.75255134241728,
           127.1772602921082,
           128.5796635357989,
           129.96038059033174,
           131.3200112486559,
           132.6591356376501,
           133.9783144368273,
           135.27808921694933,
           136.55898286650813,
           137.8215000810256,
           139.0661278955961,
           140.29333624540791,
           141.50357854236836,
           142.69729225864484,
           143.8748995100363,
           145.03680763378566,
           146.18340975674664,
           147.31508535088665,
           148.43220077392485,
           149.53510979357193,
           150.62415409433717,
           151.69966376629722,
           152.76195777551283,
           153.81134441604885,
           154.84812174373022,
           155.87257799190516,
           156.884991969623,
           157.8856334426745,
           158.87476349803077,
           159.85263489224798,
           160.81949238441598,
           161.77557305426032,
           162.72110660600006,
           163.65631565856617,
           164.58141602276828,
           165.49661696600273,
           166.40212146506116,
           167.2981264475911,
           168.18482302274202,
           169.06239670150512,
           169.9310276072443,
           170.79089067687474,
           171.64215585315992,
           172.48498826853745,
           173.3195484208925,
           174.14599234167494
          ],
          [
           143.24385595344904,
           135.99607398057373,
           129.36528280775318,
           123.26380288926559,
           117.62410951768474,
           112.39393692131445,
           107.53296627700307,
           103.01055826271362,
           98.80419015457841,
           94.89836701127831,
           91.28383155158599,
           87.95691600430928,
           84.91887297224622,
           82.17500431335868,
           79.73339984668783,
           77.60313830938723,
           75.79193477808467,
           74.30345840409527,
           73.13482933148101,
           72.27497200527141,
           71.70437738342426,
           71.39639038998692,
           71.31961223504409,
           71.44069558828956,
           71.72685034157034,
           72.14765952687858,
           72.67612002136161,
           73.28903147275012,
           73.96693504784815,
           74.6937932261531,
           75.45655406597571,
           76.24469175218321,
           77.0497742869276,
           77.86508161675891,
           78.68528101461712,
           79.50615775346752,
           80.32439509828416,
           81.13739633992382,
           81.94314169054913,
           82.74007358960986,
           83.52700491315782,
           84.30304552578826,
           85.06754346890403,
           85.82003780863137,
           86.56022076987297,
           87.28790727169148,
           88.00301037025656,
           88.70552142605868,
           89.39549405748207,
           90.07303113632877,
           90.73827423335405,
           91.39139504205282,
           92.03258840378233,
           92.66206663227774,
           93.28005489501892,
           93.88678745607999,
           94.48250462265132,
           95.06745026742375,
           95.64186982303187,
           96.20600866404452,
           96.76011080752117,
           97.30441787569177,
           97.83916827448176,
           98.36459654984596,
           98.88093289059924,
           99.38840275190756,
           99.887226578095,
           100.37761960710033,
           100.8597917419439,
           101.33394747705749,
           101.80028586939217,
           102.25900054591634,
           102.71027974053501,
           103.15430635462646,
           103.59125803637261,
           104.02130727486795,
           104.44462150567094,
           104.86136322502311,
           105.27169011044033,
           105.67575514576924,
           106.0737067491365,
           106.4656889024959,
           106.85184128170836,
           107.23229938628846,
           107.60719466811109,
           107.97665465851118,
           108.34080309332214,
           108.69976003549863,
           109.05364199504466,
           109.40256204603884,
           109.74662994060412,
           110.0859522197155,
           110.4206323207768,
           110.75077068193181,
           111.07646484310024,
           111.39780954375297,
           111.71489681744906,
           112.02781608319171,
           112.33665423364288,
           112.64149572027553
          ],
          [
           124.33214657049534,
           118.55131644075158,
           113.3448838023422,
           108.63527285740068,
           104.36284687133833,
           100.48129137204214,
           96.95436847242136,
           93.75354191321777,
           90.85615921791819,
           88.24398984892866,
           85.90199183403432,
           83.81723287417101,
           81.9779348018155,
           80.37264521516501,
           78.98956514658501,
           77.81607224622933,
           76.83847170304256,
           76.04198317076364,
           75.41093873894799,
           74.92913601579522,
           74.58027225584739,
           74.34838501850533,
           74.2182397502155,
           74.17562779604005,
           74.2075617804879,
           74.30237356657784,
           74.44973102167623,
           74.64059418402518,
           74.86713105427185,
           75.12261023130944,
           75.40128363022656,
           75.69826861120798,
           76.00943553519542,
           76.33130421079866,
           76.66095087266042,
           76.99592611148414,
           77.33418341646814,
           77.67401756064866,
           78.01401185237296,
           78.35299321207019,
           78.68999405602936,
           79.02422003955223,
           79.35502280554174,
           79.68187698567878,
           80.00436080057992,
           80.32213969768577,
           80.63495254872801,
           80.94260000171988,
           81.2449346457087,
           81.54185270072757,
           81.83328699141701,
           82.11920100166819,
           82.39958384033659,
           82.67444597550436,
           82.9438156177266,
           83.20773565190028,
           83.46626103343797,
           83.71945657784296,
           83.96739508399335,
           84.21015574081868,
           84.44782277490872,
           84.68048430316671,
           84.90823136014355,
           85.13115707432316,
           85.34935597152621,
           85.56292338688601,
           85.77195496961652,
           85.97654626713322,
           86.1767923770614,
           86.37278765734762,
           86.5646254861037,
           86.75239806402561,
           86.93619625325127,
           87.11610944739854,
           87.29222546826766,
           87.46463048533211,
           87.63340895468268,
           87.798643574558,
           87.96041525499463,
           88.1188030994683,
           88.27388439669964,
           88.42573462104271,
           88.5744274401001,
           88.72003472838865,
           88.86262658605033,
           89.00227136173325,
           89.13903567889723,
           89.27298446489426,
           89.40418098227403,
           89.53268686183209,
           89.65856213699429,
           89.78186527918633,
           89.90265323388655,
           90.0209814571077,
           90.13690395208735,
           90.25047330600482,
           90.3617407265639,
           90.47075607831293,
           90.57756791859211,
           90.68222353301208
          ],
          [
           112.79516297112463,
           108.7567335623179,
           105.07427201038196,
           101.70226688823037,
           98.6055565577302,
           95.75670356950334,
           93.13415030047545,
           90.72087818996569,
           88.50339687523916,
           86.47095125447167,
           84.61487313996176,
           82.92802997610457,
           81.40434171023561,
           80.03835127105293,
           78.82484546726275,
           77.75853155829378,
           76.83377970790217,
           76.04444236548902,
           75.38375819409552,
           74.8443412771421,
           74.41824774098262,
           74.09710390072439,
           73.87227460686101,
           73.7350487880444,
           73.67682121403377,
           73.68925423731835,
           73.76440924747972,
           73.89484340821905,
           74.07367199667584,
           74.29459991257843,
           74.55192769155278,
           74.84053792370898,
           75.15586771983895,
           75.4938721362537,
           75.85098254086616,
           76.22406296238209,
           76.61036661715892,
           77.00749410178109,
           77.41335418332869,
           77.82612770215103,
           78.24423480255805,
           78.66630550159297,
           79.0911534727609,
           79.51775284128519,
           79.94521774483106,
           80.37278439687215,
           80.79979539016645,
           81.22568598877218,
           81.64997217417331,
           82.07224023131562,
           82.4921376816225,
           82.90936539106244,
           83.3236707012775,
           83.73484145022324,
           84.14270076551337,
           84.54710252865455,
           84.947927421658,
           85.34507947921453,
           85.73848307986593,
           86.12808031852369,
           86.51382871044294,
           86.89569918347125,
           87.27367432120212,
           87.64774682467988,
           88.0179181646365,
           88.38419739997467,
           88.7466001414409,
           89.10514764220996,
           89.45986599950753,
           89.81078545346803,
           90.15793977121876,
           90.50136570572872,
           90.84110252030096,
           91.17719157074929,
           91.50967593830345,
           91.83860010716172,
           92.16400968136769,
           92.48595113634485,
           92.80447160099861,
           93.11961866679233,
           93.4314402206412,
           93.73998429884648,
           94.0452989596267,
           94.34743217208887,
           94.64643171974394,
           94.9423451168858,
           95.23521953635495,
           95.5251017473765,
           95.81203806231387,
           96.09607429131415,
           96.37725570393403,
           96.65562699694286,
           96.93123226758946,
           97.20411499169522,
           97.47431800601424,
           97.74188349436004,
           98.0068529770506,
           98.26926730328388,
           98.5291666460851,
           98.78659049951793
          ],
          [
           103.10691369037691,
           100.33814917428745,
           97.82096972803848,
           95.52360844287116,
           93.42108421859596,
           91.4934321742537,
           89.72445936389408,
           88.10084521815077,
           86.61147486440747,
           85.24693413201409,
           83.99911994180005,
           82.86093547184122,
           81.82604960620762,
           80.88870677507933,
           80.04357759930915,
           79.28564350642324,
           78.61011017280123,
           78.01234560710436,
           77.48783917751985,
           77.03217809987777,
           76.6410380020931,
           76.31018427603489,
           76.0354810944144,
           75.81290523867503,
           75.638562253046,
           75.50870288371843,
           75.41973824179293,
           75.36825260324616,
           75.35101319349026,
           75.36497667347535,
           75.40729233582286,
           75.47530223101991,
           75.56653858118901,
           75.6787189134375,
           75.80973936961833,
           75.95766663798314,
           76.12072891683954,
           76.29730627103865,
           76.48592068669585,
           76.68522607358643,
           76.89399841184093,
           77.11112619207698,
           77.33560125698138,
           77.56651011785723,
           77.80302579150259,
           78.04440018042523,
           78.2899570021018,
           78.5390852600006,
           78.79123323966138,
           79.0459030065909,
           79.30264537848889,
           79.56105534185683,
           79.82076788193835,
           80.08145419484137,
           80.34281825132521,
           80.60459368287668,
           80.86654096217316,
           81.12844485171327,
           81.39011209618022,
           81.65136933592228,
           81.91206122073311,
           82.17204870485705,
           82.43120750580401,
           82.68942671112643,
           82.94660751876698,
           83.20266209794251,
           83.45751255877207,
           83.71109001999714,
           83.96333376518652,
           84.21419047875985,
           84.46361355402416,
           84.71156246619609,
           84.95800220407861,
           85.20290275470053,
           85.44623863578789,
           85.68798847145926,
           85.92813460698694,
           86.16666275889106,
           86.40356169699646,
           86.63882295542315,
           86.87244056977738,
           87.10441083808257,
           87.33473210322848,
           87.56340455493833,
           87.79043004944377,
           88.01581194523891,
           88.23955495343732,
           88.46166500139948,
           88.68214910842829,
           88.90101527243964,
           89.11827236662296,
           89.33393004519841,
           89.54799865745892,
           89.76048916936453,
           89.97141309202233,
           90.18078241644666,
           90.38860955405049,
           90.59490728237024,
           90.79968869556775,
           91.00296715929979
          ],
          [
           101.48491823385221,
           99.20649666843883,
           97.08346645727468,
           95.09836178899418,
           93.23729425785591,
           91.48909590290063,
           89.84470672178632,
           88.29672540165119,
           86.83907161072635,
           85.46672603821497,
           84.1755254981122,
           82.96199757821887,
           81.82322407713797,
           80.75672573867068,
           79.76036310706752,
           78.83225001516455,
           77.97067747695063,
           77.17404670135484,
           76.44081063860779,
           75.76942394806699,
           75.15830155394389,
           74.60578604958114,
           74.11012413957874,
           73.66945210439481,
           73.28178997459699,
           72.94504376205519,
           72.65701476513328,
           72.41541469135905,
           72.21788515911135,
           72.06202006809755,
           71.94538936782708,
           71.86556288964019,
           71.8201331162448,
           71.8067360133136,
           71.8230693111282,
           71.86690787563661,
           71.93611602954243,
           72.02865686450599,
           72.14259872129186,
           72.27611910709561,
           72.42750637324782,
           72.59515949885683,
           72.77758632414073,
           72.97340055831063,
           73.18131785707251,
           73.40015122914393,
           73.62880599343892,
           73.86627447147698,
           74.11163056489346,
           74.36402433670422,
           74.62267668769007,
           74.8868741960038,
           75.15596416870375,
           75.42934993805655,
           75.70648642273005,
           75.98687596399647,
           76.27006443935169,
           76.55563765016393,
           76.84321797571926,
           77.1324612830503,
           77.42305407994454,
           77.71471089731641,
           78.00717188651456,
           78.30020061697297,
           78.59358205978316,
           78.88712074317756,
           79.18063906648565,
           79.47397575980904,
           79.76698447740976,
           80.05953251358177,
           80.35149963056236,
           80.64277698881087,
           80.93326617073183,
           81.22287828963461,
           81.51153317639789,
           81.79915863694539,
           82.0856897742279,
           82.37106836896191,
           82.65524231387852,
           82.93816509670708,
           83.21979532754538,
           83.5000963066619,
           83.77903562913447,
           84.05658482305627,
           84.33271901833926,
           84.60741664341546,
           84.88065914738314,
           85.15243074536914,
           85.42271818508178,
           85.69151053271133,
           85.95879897650671,
           86.22457664650192,
           86.48883844901073,
           86.75158091462663,
           87.012802058581,
           87.27250125241585,
           87.53067910601705,
           87.78733735914234,
           88.04247878165158,
           88.29610708171789
          ]
         ]
        }
       ],
       "layout": {
        "autosize": false,
        "height": 500,
        "margin": {
         "b": 65,
         "l": 65,
         "r": 50,
         "t": 90
        },
        "scene": {
         "xaxis": {
          "title": {
           "text": "Strike, $"
          }
         },
         "yaxis": {
          "title": {
           "text": "Maturite, days"
          }
         },
         "zaxis": {
          "title": {
           "text": "Volatility"
          }
         }
        },
        "template": {
         "data": {
          "bar": [
           {
            "error_x": {
             "color": "#2a3f5f"
            },
            "error_y": {
             "color": "#2a3f5f"
            },
            "marker": {
             "line": {
              "color": "#E5ECF6",
              "width": 0.5
             },
             "pattern": {
              "fillmode": "overlay",
              "size": 10,
              "solidity": 0.2
             }
            },
            "type": "bar"
           }
          ],
          "barpolar": [
           {
            "marker": {
             "line": {
              "color": "#E5ECF6",
              "width": 0.5
             },
             "pattern": {
              "fillmode": "overlay",
              "size": 10,
              "solidity": 0.2
             }
            },
            "type": "barpolar"
           }
          ],
          "carpet": [
           {
            "aaxis": {
             "endlinecolor": "#2a3f5f",
             "gridcolor": "white",
             "linecolor": "white",
             "minorgridcolor": "white",
             "startlinecolor": "#2a3f5f"
            },
            "baxis": {
             "endlinecolor": "#2a3f5f",
             "gridcolor": "white",
             "linecolor": "white",
             "minorgridcolor": "white",
             "startlinecolor": "#2a3f5f"
            },
            "type": "carpet"
           }
          ],
          "choropleth": [
           {
            "colorbar": {
             "outlinewidth": 0,
             "ticks": ""
            },
            "type": "choropleth"
           }
          ],
          "contour": [
           {
            "colorbar": {
             "outlinewidth": 0,
             "ticks": ""
            },
            "colorscale": [
             [
              0,
              "#0d0887"
             ],
             [
              0.1111111111111111,
              "#46039f"
             ],
             [
              0.2222222222222222,
              "#7201a8"
             ],
             [
              0.3333333333333333,
              "#9c179e"
             ],
             [
              0.4444444444444444,
              "#bd3786"
             ],
             [
              0.5555555555555556,
              "#d8576b"
             ],
             [
              0.6666666666666666,
              "#ed7953"
             ],
             [
              0.7777777777777778,
              "#fb9f3a"
             ],
             [
              0.8888888888888888,
              "#fdca26"
             ],
             [
              1,
              "#f0f921"
             ]
            ],
            "type": "contour"
           }
          ],
          "contourcarpet": [
           {
            "colorbar": {
             "outlinewidth": 0,
             "ticks": ""
            },
            "type": "contourcarpet"
           }
          ],
          "heatmap": [
           {
            "colorbar": {
             "outlinewidth": 0,
             "ticks": ""
            },
            "colorscale": [
             [
              0,
              "#0d0887"
             ],
             [
              0.1111111111111111,
              "#46039f"
             ],
             [
              0.2222222222222222,
              "#7201a8"
             ],
             [
              0.3333333333333333,
              "#9c179e"
             ],
             [
              0.4444444444444444,
              "#bd3786"
             ],
             [
              0.5555555555555556,
              "#d8576b"
             ],
             [
              0.6666666666666666,
              "#ed7953"
             ],
             [
              0.7777777777777778,
              "#fb9f3a"
             ],
             [
              0.8888888888888888,
              "#fdca26"
             ],
             [
              1,
              "#f0f921"
             ]
            ],
            "type": "heatmap"
           }
          ],
          "heatmapgl": [
           {
            "colorbar": {
             "outlinewidth": 0,
             "ticks": ""
            },
            "colorscale": [
             [
              0,
              "#0d0887"
             ],
             [
              0.1111111111111111,
              "#46039f"
             ],
             [
              0.2222222222222222,
              "#7201a8"
             ],
             [
              0.3333333333333333,
              "#9c179e"
             ],
             [
              0.4444444444444444,
              "#bd3786"
             ],
             [
              0.5555555555555556,
              "#d8576b"
             ],
             [
              0.6666666666666666,
              "#ed7953"
             ],
             [
              0.7777777777777778,
              "#fb9f3a"
             ],
             [
              0.8888888888888888,
              "#fdca26"
             ],
             [
              1,
              "#f0f921"
             ]
            ],
            "type": "heatmapgl"
           }
          ],
          "histogram": [
           {
            "marker": {
             "pattern": {
              "fillmode": "overlay",
              "size": 10,
              "solidity": 0.2
             }
            },
            "type": "histogram"
           }
          ],
          "histogram2d": [
           {
            "colorbar": {
             "outlinewidth": 0,
             "ticks": ""
            },
            "colorscale": [
             [
              0,
              "#0d0887"
             ],
             [
              0.1111111111111111,
              "#46039f"
             ],
             [
              0.2222222222222222,
              "#7201a8"
             ],
             [
              0.3333333333333333,
              "#9c179e"
             ],
             [
              0.4444444444444444,
              "#bd3786"
             ],
             [
              0.5555555555555556,
              "#d8576b"
             ],
             [
              0.6666666666666666,
              "#ed7953"
             ],
             [
              0.7777777777777778,
              "#fb9f3a"
             ],
             [
              0.8888888888888888,
              "#fdca26"
             ],
             [
              1,
              "#f0f921"
             ]
            ],
            "type": "histogram2d"
           }
          ],
          "histogram2dcontour": [
           {
            "colorbar": {
             "outlinewidth": 0,
             "ticks": ""
            },
            "colorscale": [
             [
              0,
              "#0d0887"
             ],
             [
              0.1111111111111111,
              "#46039f"
             ],
             [
              0.2222222222222222,
              "#7201a8"
             ],
             [
              0.3333333333333333,
              "#9c179e"
             ],
             [
              0.4444444444444444,
              "#bd3786"
             ],
             [
              0.5555555555555556,
              "#d8576b"
             ],
             [
              0.6666666666666666,
              "#ed7953"
             ],
             [
              0.7777777777777778,
              "#fb9f3a"
             ],
             [
              0.8888888888888888,
              "#fdca26"
             ],
             [
              1,
              "#f0f921"
             ]
            ],
            "type": "histogram2dcontour"
           }
          ],
          "mesh3d": [
           {
            "colorbar": {
             "outlinewidth": 0,
             "ticks": ""
            },
            "type": "mesh3d"
           }
          ],
          "parcoords": [
           {
            "line": {
             "colorbar": {
              "outlinewidth": 0,
              "ticks": ""
             }
            },
            "type": "parcoords"
           }
          ],
          "pie": [
           {
            "automargin": true,
            "type": "pie"
           }
          ],
          "scatter": [
           {
            "fillpattern": {
             "fillmode": "overlay",
             "size": 10,
             "solidity": 0.2
            },
            "type": "scatter"
           }
          ],
          "scatter3d": [
           {
            "line": {
             "colorbar": {
              "outlinewidth": 0,
              "ticks": ""
             }
            },
            "marker": {
             "colorbar": {
              "outlinewidth": 0,
              "ticks": ""
             }
            },
            "type": "scatter3d"
           }
          ],
          "scattercarpet": [
           {
            "marker": {
             "colorbar": {
              "outlinewidth": 0,
              "ticks": ""
             }
            },
            "type": "scattercarpet"
           }
          ],
          "scattergeo": [
           {
            "marker": {
             "colorbar": {
              "outlinewidth": 0,
              "ticks": ""
             }
            },
            "type": "scattergeo"
           }
          ],
          "scattergl": [
           {
            "marker": {
             "colorbar": {
              "outlinewidth": 0,
              "ticks": ""
             }
            },
            "type": "scattergl"
           }
          ],
          "scattermapbox": [
           {
            "marker": {
             "colorbar": {
              "outlinewidth": 0,
              "ticks": ""
             }
            },
            "type": "scattermapbox"
           }
          ],
          "scatterpolar": [
           {
            "marker": {
             "colorbar": {
              "outlinewidth": 0,
              "ticks": ""
             }
            },
            "type": "scatterpolar"
           }
          ],
          "scatterpolargl": [
           {
            "marker": {
             "colorbar": {
              "outlinewidth": 0,
              "ticks": ""
             }
            },
            "type": "scatterpolargl"
           }
          ],
          "scatterternary": [
           {
            "marker": {
             "colorbar": {
              "outlinewidth": 0,
              "ticks": ""
             }
            },
            "type": "scatterternary"
           }
          ],
          "surface": [
           {
            "colorbar": {
             "outlinewidth": 0,
             "ticks": ""
            },
            "colorscale": [
             [
              0,
              "#0d0887"
             ],
             [
              0.1111111111111111,
              "#46039f"
             ],
             [
              0.2222222222222222,
              "#7201a8"
             ],
             [
              0.3333333333333333,
              "#9c179e"
             ],
             [
              0.4444444444444444,
              "#bd3786"
             ],
             [
              0.5555555555555556,
              "#d8576b"
             ],
             [
              0.6666666666666666,
              "#ed7953"
             ],
             [
              0.7777777777777778,
              "#fb9f3a"
             ],
             [
              0.8888888888888888,
              "#fdca26"
             ],
             [
              1,
              "#f0f921"
             ]
            ],
            "type": "surface"
           }
          ],
          "table": [
           {
            "cells": {
             "fill": {
              "color": "#EBF0F8"
             },
             "line": {
              "color": "white"
             }
            },
            "header": {
             "fill": {
              "color": "#C8D4E3"
             },
             "line": {
              "color": "white"
             }
            },
            "type": "table"
           }
          ]
         },
         "layout": {
          "annotationdefaults": {
           "arrowcolor": "#2a3f5f",
           "arrowhead": 0,
           "arrowwidth": 1
          },
          "autotypenumbers": "strict",
          "coloraxis": {
           "colorbar": {
            "outlinewidth": 0,
            "ticks": ""
           }
          },
          "colorscale": {
           "diverging": [
            [
             0,
             "#8e0152"
            ],
            [
             0.1,
             "#c51b7d"
            ],
            [
             0.2,
             "#de77ae"
            ],
            [
             0.3,
             "#f1b6da"
            ],
            [
             0.4,
             "#fde0ef"
            ],
            [
             0.5,
             "#f7f7f7"
            ],
            [
             0.6,
             "#e6f5d0"
            ],
            [
             0.7,
             "#b8e186"
            ],
            [
             0.8,
             "#7fbc41"
            ],
            [
             0.9,
             "#4d9221"
            ],
            [
             1,
             "#276419"
            ]
           ],
           "sequential": [
            [
             0,
             "#0d0887"
            ],
            [
             0.1111111111111111,
             "#46039f"
            ],
            [
             0.2222222222222222,
             "#7201a8"
            ],
            [
             0.3333333333333333,
             "#9c179e"
            ],
            [
             0.4444444444444444,
             "#bd3786"
            ],
            [
             0.5555555555555556,
             "#d8576b"
            ],
            [
             0.6666666666666666,
             "#ed7953"
            ],
            [
             0.7777777777777778,
             "#fb9f3a"
            ],
            [
             0.8888888888888888,
             "#fdca26"
            ],
            [
             1,
             "#f0f921"
            ]
           ],
           "sequentialminus": [
            [
             0,
             "#0d0887"
            ],
            [
             0.1111111111111111,
             "#46039f"
            ],
            [
             0.2222222222222222,
             "#7201a8"
            ],
            [
             0.3333333333333333,
             "#9c179e"
            ],
            [
             0.4444444444444444,
             "#bd3786"
            ],
            [
             0.5555555555555556,
             "#d8576b"
            ],
            [
             0.6666666666666666,
             "#ed7953"
            ],
            [
             0.7777777777777778,
             "#fb9f3a"
            ],
            [
             0.8888888888888888,
             "#fdca26"
            ],
            [
             1,
             "#f0f921"
            ]
           ]
          },
          "colorway": [
           "#636efa",
           "#EF553B",
           "#00cc96",
           "#ab63fa",
           "#FFA15A",
           "#19d3f3",
           "#FF6692",
           "#B6E880",
           "#FF97FF",
           "#FECB52"
          ],
          "font": {
           "color": "#2a3f5f"
          },
          "geo": {
           "bgcolor": "white",
           "lakecolor": "white",
           "landcolor": "#E5ECF6",
           "showlakes": true,
           "showland": true,
           "subunitcolor": "white"
          },
          "hoverlabel": {
           "align": "left"
          },
          "hovermode": "closest",
          "mapbox": {
           "style": "light"
          },
          "paper_bgcolor": "white",
          "plot_bgcolor": "#E5ECF6",
          "polar": {
           "angularaxis": {
            "gridcolor": "white",
            "linecolor": "white",
            "ticks": ""
           },
           "bgcolor": "#E5ECF6",
           "radialaxis": {
            "gridcolor": "white",
            "linecolor": "white",
            "ticks": ""
           }
          },
          "scene": {
           "xaxis": {
            "backgroundcolor": "#E5ECF6",
            "gridcolor": "white",
            "gridwidth": 2,
            "linecolor": "white",
            "showbackground": true,
            "ticks": "",
            "zerolinecolor": "white"
           },
           "yaxis": {
            "backgroundcolor": "#E5ECF6",
            "gridcolor": "white",
            "gridwidth": 2,
            "linecolor": "white",
            "showbackground": true,
            "ticks": "",
            "zerolinecolor": "white"
           },
           "zaxis": {
            "backgroundcolor": "#E5ECF6",
            "gridcolor": "white",
            "gridwidth": 2,
            "linecolor": "white",
            "showbackground": true,
            "ticks": "",
            "zerolinecolor": "white"
           }
          },
          "shapedefaults": {
           "line": {
            "color": "#2a3f5f"
           }
          },
          "ternary": {
           "aaxis": {
            "gridcolor": "white",
            "linecolor": "white",
            "ticks": ""
           },
           "baxis": {
            "gridcolor": "white",
            "linecolor": "white",
            "ticks": ""
           },
           "bgcolor": "#E5ECF6",
           "caxis": {
            "gridcolor": "white",
            "linecolor": "white",
            "ticks": ""
           }
          },
          "title": {
           "x": 0.05
          },
          "xaxis": {
           "automargin": true,
           "gridcolor": "white",
           "linecolor": "white",
           "ticks": "",
           "title": {
            "standoff": 15
           },
           "zerolinecolor": "white",
           "zerolinewidth": 2
          },
          "yaxis": {
           "automargin": true,
           "gridcolor": "white",
           "linecolor": "white",
           "ticks": "",
           "title": {
            "standoff": 15
           },
           "zerolinecolor": "white",
           "zerolinewidth": 2
          }
         }
        },
        "title": {
         "text": "Volatility surface"
        },
        "width": 1000
       }
      },
      "text/html": [
       "<div>                            <div id=\"72c58390-3476-4003-8ea5-97ecb67f5401\" class=\"plotly-graph-div\" style=\"height:500px; width:1000px;\"></div>            <script type=\"text/javascript\">                require([\"plotly\"], function(Plotly) {                    window.PLOTLYENV=window.PLOTLYENV || {};                                    if (document.getElementById(\"72c58390-3476-4003-8ea5-97ecb67f5401\")) {                    Plotly.newPlot(                        \"72c58390-3476-4003-8ea5-97ecb67f5401\",                        [{\"x\":[500.0,545.4545454545455,590.9090909090909,636.3636363636364,681.8181818181818,727.2727272727273,772.7272727272727,818.1818181818182,863.6363636363636,909.090909090909,954.5454545454545,1000.0,1045.4545454545455,1090.909090909091,1136.3636363636365,1181.8181818181818,1227.2727272727273,1272.7272727272727,1318.181818181818,1363.6363636363635,1409.090909090909,1454.5454545454545,1500.0,1545.4545454545455,1590.909090909091,1636.3636363636363,1681.8181818181818,1727.2727272727273,1772.7272727272727,1818.1818181818182,1863.6363636363635,1909.090909090909,1954.5454545454545,2000.0,2045.4545454545455,2090.909090909091,2136.363636363636,2181.818181818182,2227.272727272727,2272.727272727273,2318.181818181818,2363.6363636363635,2409.090909090909,2454.5454545454545,2500.0,2545.4545454545455,2590.909090909091,2636.3636363636365,2681.818181818182,2727.272727272727,2772.7272727272725,2818.181818181818,2863.6363636363635,2909.090909090909,2954.5454545454545,3000.0,3045.4545454545455,3090.909090909091,3136.3636363636365,3181.8181818181815,3227.272727272727,3272.7272727272725,3318.181818181818,3363.6363636363635,3409.090909090909,3454.5454545454545,3500.0,3545.4545454545455,3590.909090909091,3636.3636363636365,3681.8181818181815,3727.272727272727,3772.7272727272725,3818.181818181818,3863.6363636363635,3909.090909090909,3954.5454545454545,4000.0,4045.4545454545455,4090.909090909091,4136.363636363636,4181.818181818182,4227.272727272727,4272.727272727272,4318.181818181818,4363.636363636364,4409.090909090909,4454.545454545454,4500.0,4545.454545454546,4590.909090909091,4636.363636363636,4681.818181818182,4727.272727272727,4772.727272727273,4818.181818181818,4863.636363636364,4909.090909090909,4954.545454545454,5000.0],\"y\":[1,7,14,21,28,56,84,119,210,301],\"z\":[[173.05222586942824,172.0699786545862,169.47843084476878,165.43211480587308,160.06476905606536,153.49223539437452,145.81474158240772,137.11865178045844,127.47772534053,116.95387369146087,105.59732929106131,93.44600466367908,80.5235342947403,66.83480090989715,52.355775274677505,37.00745592911103,20.56713808921895,1.9088826825512977,17.748680375344744,35.01343212179479,51.881851331353545,68.59718240665131,85.2517743153752,101.88886114183403,118.5297385052892,135.18510035726763,151.85964960378783,168.55399292542086,185.2671575579579,201.99637286032137,218.74019390590513,235.49276825837242,252.2521553184869,269.0136957075406,285.7748064606856,302.5300960090644,319.2764917796542,336.0129021655421,352.7333413072432,369.43616359213155,386.1161194242828,402.7760987845,419.4110660315573,436.00471413130816,452.58219500713506,469.1236485275721,485.6199214900252,502.0983526809004,518.5291639428735,534.9185867670976,551.2741039601553,567.578574185898,583.8372209418201,600.0562221058588,616.2427026542357,632.3397387255307,648.4142356825608,664.439755750929,680.4212795161113,696.3644260080146,712.2754383071488,728.0734903708156,743.8914855807012,759.599535126796,775.2434895020215,790.9304495363972,806.4581075431682,821.986692975749,837.5265031076525,852.8421102355951,868.171958365779,883.5277050173771,898.7833511078626,913.9362425216744,929.1322332957928,944.2308681202005,959.2298664635553,974.2915927132789,989.2603187127517,1004.1341652980233,1018.9112060774811,1033.7768503537784,1048.3605550107263,1063.0412099718242,1077.6298789697953,1092.3366400334555,1106.743095884207,1121.2772712101337,1135.7263606718022,1150.0891988206768,1164.3645913548996,1178.5513111412417,1192.648094045657,1206.9181161131942,1221.1097451995554,1234.9441836023368,1248.9696053901073,1263.2062264240626,1277.0761381623568,1290.8634782244367],[207.2324344485244,197.35970668226452,187.72744628657082,178.3135343060086,169.09582601536087,160.05258167776972,151.16266303974004,142.40564234471745,133.76194340631378,125.21316022065099,116.74279915143883,108.33793955645822,99.9929009431527,91.71746260453358,83.55591100153354,75.63283186134129,68.26342708951196,62.17839394418156,58.65616147483733,58.60942299746841,61.35477403315411,65.58941475343366,70.46490591743205,75.56830334859579,80.70825272992559,85.79488494557657,90.7856723470034,95.66115912985008,100.41360259518034,105.04138213204259,109.54611802194323,113.9311290785642,118.20058235632511,122.35901479961282,126.41106141090518,130.36130117384621,134.21417152219564,137.97392330181728,141.64459985209592,145.23003046193372,148.7338323099594,152.15941728737877,155.5100014856094,158.78861598017252,161.99811807002828,165.14120246257187,168.2204121034624,171.2381484827137,174.19668133208552,177.0981576812759,179.94461027283873,182.73796535526193,185.48004988480196,188.17259817241478,190.81725801455815,193.41559634676128,195.96910445784914,198.47920280078125,200.9472454338435,203.3745241234726,205.76227213753063,208.11166775545036,210.42383751939047,212.69985924836956,214.94076483541346,217.1475428458879,219.32114093354247,221.46246808927808,223.57239673627453,225.65176468386593,227.7013769514325,229.7220074725739,231.71440068886818,233.67927304174995,235.61731437025537,237.52918922170426,239.41553808179765,241.2769785300503,243.1141063259582,244.92749643089377,246.71770397023053,248.48526513993778,250.23069806143198,251.95450358825775,253.65716606781734,255.33915406118714,257.0009210237397,258.6429059491718,260.2655339792618,261.86921698157613,263.45435409709484,265.02133225970016,266.57052668919795,268.1023013595296,269.61700944364543,271.11499373646245,272.59658705716004,274.0621126320783,275.5118844592693,276.9462076558352],[162.0238061758258,154.69247394754026,147.74893822942383,141.14102818153512,134.82705946456704,128.77359369307223,122.95396640430486,117.34738871438047,111.938526579567,106.71753476811979,101.68058653809692,96.83100263008112,92.18114123128981,87.7552343818524,83.59325152749952,79.75540663181847,76.32567565918505,73.41029307387576,71.1246904619704,69.56449632147768,68.7689025781854,68.7000060795591,69.2553920870469,70.30323667403191,71.71509577798332,73.383312579057,75.22500026193882,77.17923486796087,79.20228676169923,81.26311360526736,83.33978107382403,85.41682350054685,87.48336129793643,89.5317758325021,91.55677918297042,93.55475913486245,95.52331518536907,97.46092738331771,99.36671806713385,101.24027905940216,103.08154537143352,104.89070224439308,106.66811629248012,108.41428421829143,110.12979444200697,111.81529829198463,113.47148832363757,115.09908198623506,116.69880932479698,118.27140374192199,119.81759509023331,121.33810454650225,122.83364085183258,124.3048976015043,125.75255134241728,127.1772602921082,128.5796635357989,129.96038059033174,131.3200112486559,132.6591356376501,133.9783144368273,135.27808921694933,136.55898286650813,137.8215000810256,139.0661278955961,140.29333624540791,141.50357854236836,142.69729225864484,143.8748995100363,145.03680763378566,146.18340975674664,147.31508535088665,148.43220077392485,149.53510979357193,150.62415409433717,151.69966376629722,152.76195777551283,153.81134441604885,154.84812174373022,155.87257799190516,156.884991969623,157.8856334426745,158.87476349803077,159.85263489224798,160.81949238441598,161.77557305426032,162.72110660600006,163.65631565856617,164.58141602276828,165.49661696600273,166.40212146506116,167.2981264475911,168.18482302274202,169.06239670150512,169.9310276072443,170.79089067687474,171.64215585315992,172.48498826853745,173.3195484208925,174.14599234167494],[143.24385595344904,135.99607398057373,129.36528280775318,123.26380288926559,117.62410951768474,112.39393692131445,107.53296627700307,103.01055826271362,98.80419015457841,94.89836701127831,91.28383155158599,87.95691600430928,84.91887297224622,82.17500431335868,79.73339984668783,77.60313830938723,75.79193477808467,74.30345840409527,73.13482933148101,72.27497200527141,71.70437738342426,71.39639038998692,71.31961223504409,71.44069558828956,71.72685034157034,72.14765952687858,72.67612002136161,73.28903147275012,73.96693504784815,74.6937932261531,75.45655406597571,76.24469175218321,77.0497742869276,77.86508161675891,78.68528101461712,79.50615775346752,80.32439509828416,81.13739633992382,81.94314169054913,82.74007358960986,83.52700491315782,84.30304552578826,85.06754346890403,85.82003780863137,86.56022076987297,87.28790727169148,88.00301037025656,88.70552142605868,89.39549405748207,90.07303113632877,90.73827423335405,91.39139504205282,92.03258840378233,92.66206663227774,93.28005489501892,93.88678745607999,94.48250462265132,95.06745026742375,95.64186982303187,96.20600866404452,96.76011080752117,97.30441787569177,97.83916827448176,98.36459654984596,98.88093289059924,99.38840275190756,99.887226578095,100.37761960710033,100.8597917419439,101.33394747705749,101.80028586939217,102.25900054591634,102.71027974053501,103.15430635462646,103.59125803637261,104.02130727486795,104.44462150567094,104.86136322502311,105.27169011044033,105.67575514576924,106.0737067491365,106.4656889024959,106.85184128170836,107.23229938628846,107.60719466811109,107.97665465851118,108.34080309332214,108.69976003549863,109.05364199504466,109.40256204603884,109.74662994060412,110.0859522197155,110.4206323207768,110.75077068193181,111.07646484310024,111.39780954375297,111.71489681744906,112.02781608319171,112.33665423364288,112.64149572027553],[124.33214657049534,118.55131644075158,113.3448838023422,108.63527285740068,104.36284687133833,100.48129137204214,96.95436847242136,93.75354191321777,90.85615921791819,88.24398984892866,85.90199183403432,83.81723287417101,81.9779348018155,80.37264521516501,78.98956514658501,77.81607224622933,76.83847170304256,76.04198317076364,75.41093873894799,74.92913601579522,74.58027225584739,74.34838501850533,74.2182397502155,74.17562779604005,74.2075617804879,74.30237356657784,74.44973102167623,74.64059418402518,74.86713105427185,75.12261023130944,75.40128363022656,75.69826861120798,76.00943553519542,76.33130421079866,76.66095087266042,76.99592611148414,77.33418341646814,77.67401756064866,78.01401185237296,78.35299321207019,78.68999405602936,79.02422003955223,79.35502280554174,79.68187698567878,80.00436080057992,80.32213969768577,80.63495254872801,80.94260000171988,81.2449346457087,81.54185270072757,81.83328699141701,82.11920100166819,82.39958384033659,82.67444597550436,82.9438156177266,83.20773565190028,83.46626103343797,83.71945657784296,83.96739508399335,84.21015574081868,84.44782277490872,84.68048430316671,84.90823136014355,85.13115707432316,85.34935597152621,85.56292338688601,85.77195496961652,85.97654626713322,86.1767923770614,86.37278765734762,86.5646254861037,86.75239806402561,86.93619625325127,87.11610944739854,87.29222546826766,87.46463048533211,87.63340895468268,87.798643574558,87.96041525499463,88.1188030994683,88.27388439669964,88.42573462104271,88.5744274401001,88.72003472838865,88.86262658605033,89.00227136173325,89.13903567889723,89.27298446489426,89.40418098227403,89.53268686183209,89.65856213699429,89.78186527918633,89.90265323388655,90.0209814571077,90.13690395208735,90.25047330600482,90.3617407265639,90.47075607831293,90.57756791859211,90.68222353301208],[112.79516297112463,108.7567335623179,105.07427201038196,101.70226688823037,98.6055565577302,95.75670356950334,93.13415030047545,90.72087818996569,88.50339687523916,86.47095125447167,84.61487313996176,82.92802997610457,81.40434171023561,80.03835127105293,78.82484546726275,77.75853155829378,76.83377970790217,76.04444236548902,75.38375819409552,74.8443412771421,74.41824774098262,74.09710390072439,73.87227460686101,73.7350487880444,73.67682121403377,73.68925423731835,73.76440924747972,73.89484340821905,74.07367199667584,74.29459991257843,74.55192769155278,74.84053792370898,75.15586771983895,75.4938721362537,75.85098254086616,76.22406296238209,76.61036661715892,77.00749410178109,77.41335418332869,77.82612770215103,78.24423480255805,78.66630550159297,79.0911534727609,79.51775284128519,79.94521774483106,80.37278439687215,80.79979539016645,81.22568598877218,81.64997217417331,82.07224023131562,82.4921376816225,82.90936539106244,83.3236707012775,83.73484145022324,84.14270076551337,84.54710252865455,84.947927421658,85.34507947921453,85.73848307986593,86.12808031852369,86.51382871044294,86.89569918347125,87.27367432120212,87.64774682467988,88.0179181646365,88.38419739997467,88.7466001414409,89.10514764220996,89.45986599950753,89.81078545346803,90.15793977121876,90.50136570572872,90.84110252030096,91.17719157074929,91.50967593830345,91.83860010716172,92.16400968136769,92.48595113634485,92.80447160099861,93.11961866679233,93.4314402206412,93.73998429884648,94.0452989596267,94.34743217208887,94.64643171974394,94.9423451168858,95.23521953635495,95.5251017473765,95.81203806231387,96.09607429131415,96.37725570393403,96.65562699694286,96.93123226758946,97.20411499169522,97.47431800601424,97.74188349436004,98.0068529770506,98.26926730328388,98.5291666460851,98.78659049951793],[103.10691369037691,100.33814917428745,97.82096972803848,95.52360844287116,93.42108421859596,91.4934321742537,89.72445936389408,88.10084521815077,86.61147486440747,85.24693413201409,83.99911994180005,82.86093547184122,81.82604960620762,80.88870677507933,80.04357759930915,79.28564350642324,78.61011017280123,78.01234560710436,77.48783917751985,77.03217809987777,76.6410380020931,76.31018427603489,76.0354810944144,75.81290523867503,75.638562253046,75.50870288371843,75.41973824179293,75.36825260324616,75.35101319349026,75.36497667347535,75.40729233582286,75.47530223101991,75.56653858118901,75.6787189134375,75.80973936961833,75.95766663798314,76.12072891683954,76.29730627103865,76.48592068669585,76.68522607358643,76.89399841184093,77.11112619207698,77.33560125698138,77.56651011785723,77.80302579150259,78.04440018042523,78.2899570021018,78.5390852600006,78.79123323966138,79.0459030065909,79.30264537848889,79.56105534185683,79.82076788193835,80.08145419484137,80.34281825132521,80.60459368287668,80.86654096217316,81.12844485171327,81.39011209618022,81.65136933592228,81.91206122073311,82.17204870485705,82.43120750580401,82.68942671112643,82.94660751876698,83.20266209794251,83.45751255877207,83.71109001999714,83.96333376518652,84.21419047875985,84.46361355402416,84.71156246619609,84.95800220407861,85.20290275470053,85.44623863578789,85.68798847145926,85.92813460698694,86.16666275889106,86.40356169699646,86.63882295542315,86.87244056977738,87.10441083808257,87.33473210322848,87.56340455493833,87.79043004944377,88.01581194523891,88.23955495343732,88.46166500139948,88.68214910842829,88.90101527243964,89.11827236662296,89.33393004519841,89.54799865745892,89.76048916936453,89.97141309202233,90.18078241644666,90.38860955405049,90.59490728237024,90.79968869556775,91.00296715929979],[101.48491823385221,99.20649666843883,97.08346645727468,95.09836178899418,93.23729425785591,91.48909590290063,89.84470672178632,88.29672540165119,86.83907161072635,85.46672603821497,84.1755254981122,82.96199757821887,81.82322407713797,80.75672573867068,79.76036310706752,78.83225001516455,77.97067747695063,77.17404670135484,76.44081063860779,75.76942394806699,75.15830155394389,74.60578604958114,74.11012413957874,73.66945210439481,73.28178997459699,72.94504376205519,72.65701476513328,72.41541469135905,72.21788515911135,72.06202006809755,71.94538936782708,71.86556288964019,71.8201331162448,71.8067360133136,71.8230693111282,71.86690787563661,71.93611602954243,72.02865686450599,72.14259872129186,72.27611910709561,72.42750637324782,72.59515949885683,72.77758632414073,72.97340055831063,73.18131785707251,73.40015122914393,73.62880599343892,73.86627447147698,74.11163056489346,74.36402433670422,74.62267668769007,74.8868741960038,75.15596416870375,75.42934993805655,75.70648642273005,75.98687596399647,76.27006443935169,76.55563765016393,76.84321797571926,77.1324612830503,77.42305407994454,77.71471089731641,78.00717188651456,78.30020061697297,78.59358205978316,78.88712074317756,79.18063906648565,79.47397575980904,79.76698447740976,80.05953251358177,80.35149963056236,80.64277698881087,80.93326617073183,81.22287828963461,81.51153317639789,81.79915863694539,82.0856897742279,82.37106836896191,82.65524231387852,82.93816509670708,83.21979532754538,83.5000963066619,83.77903562913447,84.05658482305627,84.33271901833926,84.60741664341546,84.88065914738314,85.15243074536914,85.42271818508178,85.69151053271133,85.95879897650671,86.22457664650192,86.48883844901073,86.75158091462663,87.012802058581,87.27250125241585,87.53067910601705,87.78733735914234,88.04247878165158,88.29610708171789]],\"type\":\"surface\",\"contours\":{\"z\":{\"project\":{\"z\":true},\"highlightcolor\":\"limegreen\",\"show\":true,\"usecolormap\":true}}}],                        {\"template\":{\"data\":{\"histogram2dcontour\":[{\"type\":\"histogram2dcontour\",\"colorbar\":{\"outlinewidth\":0,\"ticks\":\"\"},\"colorscale\":[[0.0,\"#0d0887\"],[0.1111111111111111,\"#46039f\"],[0.2222222222222222,\"#7201a8\"],[0.3333333333333333,\"#9c179e\"],[0.4444444444444444,\"#bd3786\"],[0.5555555555555556,\"#d8576b\"],[0.6666666666666666,\"#ed7953\"],[0.7777777777777778,\"#fb9f3a\"],[0.8888888888888888,\"#fdca26\"],[1.0,\"#f0f921\"]]}],\"choropleth\":[{\"type\":\"choropleth\",\"colorbar\":{\"outlinewidth\":0,\"ticks\":\"\"}}],\"histogram2d\":[{\"type\":\"histogram2d\",\"colorbar\":{\"outlinewidth\":0,\"ticks\":\"\"},\"colorscale\":[[0.0,\"#0d0887\"],[0.1111111111111111,\"#46039f\"],[0.2222222222222222,\"#7201a8\"],[0.3333333333333333,\"#9c179e\"],[0.4444444444444444,\"#bd3786\"],[0.5555555555555556,\"#d8576b\"],[0.6666666666666666,\"#ed7953\"],[0.7777777777777778,\"#fb9f3a\"],[0.8888888888888888,\"#fdca26\"],[1.0,\"#f0f921\"]]}],\"heatmap\":[{\"type\":\"heatmap\",\"colorbar\":{\"outlinewidth\":0,\"ticks\":\"\"},\"colorscale\":[[0.0,\"#0d0887\"],[0.1111111111111111,\"#46039f\"],[0.2222222222222222,\"#7201a8\"],[0.3333333333333333,\"#9c179e\"],[0.4444444444444444,\"#bd3786\"],[0.5555555555555556,\"#d8576b\"],[0.6666666666666666,\"#ed7953\"],[0.7777777777777778,\"#fb9f3a\"],[0.8888888888888888,\"#fdca26\"],[1.0,\"#f0f921\"]]}],\"heatmapgl\":[{\"type\":\"heatmapgl\",\"colorbar\":{\"outlinewidth\":0,\"ticks\":\"\"},\"colorscale\":[[0.0,\"#0d0887\"],[0.1111111111111111,\"#46039f\"],[0.2222222222222222,\"#7201a8\"],[0.3333333333333333,\"#9c179e\"],[0.4444444444444444,\"#bd3786\"],[0.5555555555555556,\"#d8576b\"],[0.6666666666666666,\"#ed7953\"],[0.7777777777777778,\"#fb9f3a\"],[0.8888888888888888,\"#fdca26\"],[1.0,\"#f0f921\"]]}],\"contourcarpet\":[{\"type\":\"contourcarpet\",\"colorbar\":{\"outlinewidth\":0,\"ticks\":\"\"}}],\"contour\":[{\"type\":\"contour\",\"colorbar\":{\"outlinewidth\":0,\"ticks\":\"\"},\"colorscale\":[[0.0,\"#0d0887\"],[0.1111111111111111,\"#46039f\"],[0.2222222222222222,\"#7201a8\"],[0.3333333333333333,\"#9c179e\"],[0.4444444444444444,\"#bd3786\"],[0.5555555555555556,\"#d8576b\"],[0.6666666666666666,\"#ed7953\"],[0.7777777777777778,\"#fb9f3a\"],[0.8888888888888888,\"#fdca26\"],[1.0,\"#f0f921\"]]}],\"surface\":[{\"type\":\"surface\",\"colorbar\":{\"outlinewidth\":0,\"ticks\":\"\"},\"colorscale\":[[0.0,\"#0d0887\"],[0.1111111111111111,\"#46039f\"],[0.2222222222222222,\"#7201a8\"],[0.3333333333333333,\"#9c179e\"],[0.4444444444444444,\"#bd3786\"],[0.5555555555555556,\"#d8576b\"],[0.6666666666666666,\"#ed7953\"],[0.7777777777777778,\"#fb9f3a\"],[0.8888888888888888,\"#fdca26\"],[1.0,\"#f0f921\"]]}],\"mesh3d\":[{\"type\":\"mesh3d\",\"colorbar\":{\"outlinewidth\":0,\"ticks\":\"\"}}],\"scatter\":[{\"fillpattern\":{\"fillmode\":\"overlay\",\"size\":10,\"solidity\":0.2},\"type\":\"scatter\"}],\"parcoords\":[{\"type\":\"parcoords\",\"line\":{\"colorbar\":{\"outlinewidth\":0,\"ticks\":\"\"}}}],\"scatterpolargl\":[{\"type\":\"scatterpolargl\",\"marker\":{\"colorbar\":{\"outlinewidth\":0,\"ticks\":\"\"}}}],\"bar\":[{\"error_x\":{\"color\":\"#2a3f5f\"},\"error_y\":{\"color\":\"#2a3f5f\"},\"marker\":{\"line\":{\"color\":\"#E5ECF6\",\"width\":0.5},\"pattern\":{\"fillmode\":\"overlay\",\"size\":10,\"solidity\":0.2}},\"type\":\"bar\"}],\"scattergeo\":[{\"type\":\"scattergeo\",\"marker\":{\"colorbar\":{\"outlinewidth\":0,\"ticks\":\"\"}}}],\"scatterpolar\":[{\"type\":\"scatterpolar\",\"marker\":{\"colorbar\":{\"outlinewidth\":0,\"ticks\":\"\"}}}],\"histogram\":[{\"marker\":{\"pattern\":{\"fillmode\":\"overlay\",\"size\":10,\"solidity\":0.2}},\"type\":\"histogram\"}],\"scattergl\":[{\"type\":\"scattergl\",\"marker\":{\"colorbar\":{\"outlinewidth\":0,\"ticks\":\"\"}}}],\"scatter3d\":[{\"type\":\"scatter3d\",\"line\":{\"colorbar\":{\"outlinewidth\":0,\"ticks\":\"\"}},\"marker\":{\"colorbar\":{\"outlinewidth\":0,\"ticks\":\"\"}}}],\"scattermapbox\":[{\"type\":\"scattermapbox\",\"marker\":{\"colorbar\":{\"outlinewidth\":0,\"ticks\":\"\"}}}],\"scatterternary\":[{\"type\":\"scatterternary\",\"marker\":{\"colorbar\":{\"outlinewidth\":0,\"ticks\":\"\"}}}],\"scattercarpet\":[{\"type\":\"scattercarpet\",\"marker\":{\"colorbar\":{\"outlinewidth\":0,\"ticks\":\"\"}}}],\"carpet\":[{\"aaxis\":{\"endlinecolor\":\"#2a3f5f\",\"gridcolor\":\"white\",\"linecolor\":\"white\",\"minorgridcolor\":\"white\",\"startlinecolor\":\"#2a3f5f\"},\"baxis\":{\"endlinecolor\":\"#2a3f5f\",\"gridcolor\":\"white\",\"linecolor\":\"white\",\"minorgridcolor\":\"white\",\"startlinecolor\":\"#2a3f5f\"},\"type\":\"carpet\"}],\"table\":[{\"cells\":{\"fill\":{\"color\":\"#EBF0F8\"},\"line\":{\"color\":\"white\"}},\"header\":{\"fill\":{\"color\":\"#C8D4E3\"},\"line\":{\"color\":\"white\"}},\"type\":\"table\"}],\"barpolar\":[{\"marker\":{\"line\":{\"color\":\"#E5ECF6\",\"width\":0.5},\"pattern\":{\"fillmode\":\"overlay\",\"size\":10,\"solidity\":0.2}},\"type\":\"barpolar\"}],\"pie\":[{\"automargin\":true,\"type\":\"pie\"}]},\"layout\":{\"autotypenumbers\":\"strict\",\"colorway\":[\"#636efa\",\"#EF553B\",\"#00cc96\",\"#ab63fa\",\"#FFA15A\",\"#19d3f3\",\"#FF6692\",\"#B6E880\",\"#FF97FF\",\"#FECB52\"],\"font\":{\"color\":\"#2a3f5f\"},\"hovermode\":\"closest\",\"hoverlabel\":{\"align\":\"left\"},\"paper_bgcolor\":\"white\",\"plot_bgcolor\":\"#E5ECF6\",\"polar\":{\"bgcolor\":\"#E5ECF6\",\"angularaxis\":{\"gridcolor\":\"white\",\"linecolor\":\"white\",\"ticks\":\"\"},\"radialaxis\":{\"gridcolor\":\"white\",\"linecolor\":\"white\",\"ticks\":\"\"}},\"ternary\":{\"bgcolor\":\"#E5ECF6\",\"aaxis\":{\"gridcolor\":\"white\",\"linecolor\":\"white\",\"ticks\":\"\"},\"baxis\":{\"gridcolor\":\"white\",\"linecolor\":\"white\",\"ticks\":\"\"},\"caxis\":{\"gridcolor\":\"white\",\"linecolor\":\"white\",\"ticks\":\"\"}},\"coloraxis\":{\"colorbar\":{\"outlinewidth\":0,\"ticks\":\"\"}},\"colorscale\":{\"sequential\":[[0.0,\"#0d0887\"],[0.1111111111111111,\"#46039f\"],[0.2222222222222222,\"#7201a8\"],[0.3333333333333333,\"#9c179e\"],[0.4444444444444444,\"#bd3786\"],[0.5555555555555556,\"#d8576b\"],[0.6666666666666666,\"#ed7953\"],[0.7777777777777778,\"#fb9f3a\"],[0.8888888888888888,\"#fdca26\"],[1.0,\"#f0f921\"]],\"sequentialminus\":[[0.0,\"#0d0887\"],[0.1111111111111111,\"#46039f\"],[0.2222222222222222,\"#7201a8\"],[0.3333333333333333,\"#9c179e\"],[0.4444444444444444,\"#bd3786\"],[0.5555555555555556,\"#d8576b\"],[0.6666666666666666,\"#ed7953\"],[0.7777777777777778,\"#fb9f3a\"],[0.8888888888888888,\"#fdca26\"],[1.0,\"#f0f921\"]],\"diverging\":[[0,\"#8e0152\"],[0.1,\"#c51b7d\"],[0.2,\"#de77ae\"],[0.3,\"#f1b6da\"],[0.4,\"#fde0ef\"],[0.5,\"#f7f7f7\"],[0.6,\"#e6f5d0\"],[0.7,\"#b8e186\"],[0.8,\"#7fbc41\"],[0.9,\"#4d9221\"],[1,\"#276419\"]]},\"xaxis\":{\"gridcolor\":\"white\",\"linecolor\":\"white\",\"ticks\":\"\",\"title\":{\"standoff\":15},\"zerolinecolor\":\"white\",\"automargin\":true,\"zerolinewidth\":2},\"yaxis\":{\"gridcolor\":\"white\",\"linecolor\":\"white\",\"ticks\":\"\",\"title\":{\"standoff\":15},\"zerolinecolor\":\"white\",\"automargin\":true,\"zerolinewidth\":2},\"scene\":{\"xaxis\":{\"backgroundcolor\":\"#E5ECF6\",\"gridcolor\":\"white\",\"linecolor\":\"white\",\"showbackground\":true,\"ticks\":\"\",\"zerolinecolor\":\"white\",\"gridwidth\":2},\"yaxis\":{\"backgroundcolor\":\"#E5ECF6\",\"gridcolor\":\"white\",\"linecolor\":\"white\",\"showbackground\":true,\"ticks\":\"\",\"zerolinecolor\":\"white\",\"gridwidth\":2},\"zaxis\":{\"backgroundcolor\":\"#E5ECF6\",\"gridcolor\":\"white\",\"linecolor\":\"white\",\"showbackground\":true,\"ticks\":\"\",\"zerolinecolor\":\"white\",\"gridwidth\":2}},\"shapedefaults\":{\"line\":{\"color\":\"#2a3f5f\"}},\"annotationdefaults\":{\"arrowcolor\":\"#2a3f5f\",\"arrowhead\":0,\"arrowwidth\":1},\"geo\":{\"bgcolor\":\"white\",\"landcolor\":\"#E5ECF6\",\"subunitcolor\":\"white\",\"showland\":true,\"showlakes\":true,\"lakecolor\":\"white\"},\"title\":{\"x\":0.05},\"mapbox\":{\"style\":\"light\"}}},\"margin\":{\"l\":65,\"r\":50,\"b\":65,\"t\":90},\"title\":{\"text\":\"Volatility surface\"},\"autosize\":false,\"width\":1000,\"height\":500,\"scene\":{\"xaxis\":{\"title\":{\"text\":\"Strike, $\"}},\"yaxis\":{\"title\":{\"text\":\"Maturite, days\"}},\"zaxis\":{\"title\":{\"text\":\"Volatility\"}}}},                        {\"responsive\": true}                    ).then(function(){\n",
       "                            \n",
       "var gd = document.getElementById('72c58390-3476-4003-8ea5-97ecb67f5401');\n",
       "var x = new MutationObserver(function (mutations, observer) {{\n",
       "        var display = window.getComputedStyle(gd).display;\n",
       "        if (!display || display === 'none') {{\n",
       "            console.log([gd, 'removed!']);\n",
       "            Plotly.purge(gd);\n",
       "            observer.disconnect();\n",
       "        }}\n",
       "}});\n",
       "\n",
       "// Listen for the removal of the full notebook cells\n",
       "var notebookContainer = gd.closest('#notebook-container');\n",
       "if (notebookContainer) {{\n",
       "    x.observe(notebookContainer, {childList: true});\n",
       "}}\n",
       "\n",
       "// Listen for the clearing of the current output cell\n",
       "var outputEl = gd.closest('.output');\n",
       "if (outputEl) {{\n",
       "    x.observe(outputEl, {childList: true});\n",
       "}}\n",
       "\n",
       "                        })                };                });            </script>        </div>"
      ]
     },
     "metadata": {},
     "output_type": "display_data"
    }
   ],
   "source": [
    "x, y, z = np.linspace(500, 5000, 100), days, np.array(list_of_vols)\n",
    "sh_0, sh_1 = z.shape\n",
    "fig = go.Figure(data=[go.Surface(z=z, x=x, y=y)])\n",
    "\n",
    "fig.update_traces(contours_z=dict(show=True, usecolormap=True,\n",
    "                                  highlightcolor=\"limegreen\", project_z=True), \n",
    "                 )\n",
    "\n",
    "fig.update_layout(title='Volatility surface', autosize=False,\n",
    "                  width=1000, height=500,\n",
    "                  margin=dict(l=65, r=50, b=65, t=90),\n",
    "                 scene=dict(\n",
    "        xaxis_title='Strike, $',\n",
    "        yaxis_title='Maturite, days',\n",
    "        zaxis_title='Volatility',\n",
    "    )\n",
    "                  \n",
    "                 )\n",
    "fig.show()"
   ]
  }
 ],
 "metadata": {
  "kernelspec": {
   "display_name": "Python 3 (ipykernel)",
   "language": "python",
   "name": "python3"
  },
  "language_info": {
   "codemirror_mode": {
    "name": "ipython",
    "version": 3
   },
   "file_extension": ".py",
   "mimetype": "text/x-python",
   "name": "python",
   "nbconvert_exporter": "python",
   "pygments_lexer": "ipython3",
   "version": "3.10.9"
  },
  "vscode": {
   "interpreter": {
    "hash": "ac9509ee90b234574dc77e9356e283122dc105166bd8fba1299d6be8b3dd0f25"
   }
  }
 },
 "nbformat": 4,
 "nbformat_minor": 5
}
