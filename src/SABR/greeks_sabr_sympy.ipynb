{
 "cells": [
  {
   "cell_type": "markdown",
   "id": "0d799a2f",
   "metadata": {},
   "source": [
    "# Greeks"
   ]
  },
  {
   "cell_type": "code",
   "execution_count": 2,
   "id": "fc5521a2",
   "metadata": {},
   "outputs": [],
   "source": [
    "import sympy as sym\n"
   ]
  },
  {
   "cell_type": "code",
   "execution_count": 3,
   "id": "fe42d869",
   "metadata": {},
   "outputs": [
    {
     "data": {
      "text/latex": [
       "$\\displaystyle \\frac{\\alpha^{2} \\left(K f\\right)^{\\beta - 1} \\left(1 - \\beta\\right)^{2}}{24} + \\frac{\\alpha \\beta \\rho v \\left(K f\\right)^{\\frac{\\beta}{2} - \\frac{1}{2}}}{4} + \\frac{v^{2} \\cdot \\left(2 - 3 \\rho^{2}\\right)}{24}$"
      ],
      "text/plain": [
       "alpha**2*(K*f)**(beta - 1)*(1 - beta)**2/24 + alpha*beta*rho*v*(K*f)**(beta/2 - 1/2)/4 + v**2*(2 - 3*rho**2)/24"
      ]
     },
     "execution_count": 3,
     "metadata": {},
     "output_type": "execute_result"
    }
   ],
   "source": [
    "alpha, beta, v, rho, f, K, T = sym.symbols('alpha beta v rho f K T')\n",
    "x = sym.log(f/K)\n",
    "I_H_1 = (((1 - beta)**2)*alpha**2/(24*(f*K)**(1 - beta)) + (rho*v*alpha*beta)/(4*(f*K)**((1-beta)/2)) + \n",
    " ((2 - 3*rho**2)*v**2)/24 )\n",
    "I_H_1"
   ]
  },
  {
   "cell_type": "code",
   "execution_count": 6,
   "id": "387fcdf1",
   "metadata": {},
   "outputs": [
    {
     "data": {
      "text/latex": [
       "$\\displaystyle \\frac{\\alpha^{2} \\left(K f\\right)^{\\beta - 1} \\left(1 - \\beta\\right)^{2} \\left(\\beta - 1\\right)}{24 f} + \\frac{\\alpha \\beta \\rho v \\left(K f\\right)^{\\frac{\\beta}{2} - \\frac{1}{2}} \\left(\\frac{\\beta}{2} - \\frac{1}{2}\\right)}{4 f}$"
      ],
      "text/plain": [
       "alpha**2*(K*f)**(beta - 1)*(1 - beta)**2*(beta - 1)/(24*f) + alpha*beta*rho*v*(K*f)**(beta/2 - 1/2)*(beta/2 - 1/2)/(4*f)"
      ]
     },
     "execution_count": 6,
     "metadata": {},
     "output_type": "execute_result"
    }
   ],
   "source": [
    "# basic\n",
    "I_H_1.diff(f)"
   ]
  },
  {
   "cell_type": "code",
   "execution_count": 7,
   "id": "864b9ee7",
   "metadata": {},
   "outputs": [],
   "source": [
    "# x = 0, dI_0/df = 0\n",
    "# v = 0\n",
    "I_0 = x*alpha*(1 - beta)/(f**(1 - beta) - K**(1 - beta))\n"
   ]
  },
  {
   "cell_type": "code",
   "execution_count": 12,
   "id": "1eeca685",
   "metadata": {},
   "outputs": [
    {
     "name": "stdout",
     "output_type": "stream",
     "text": [
      "\\frac{\\alpha \\left(\\beta - 1\\right) \\left(f \\left(K^{1 - \\beta} - f^{1 - \\beta}\\right) - f^{2 - \\beta} \\left(\\beta - 1\\right) \\log{\\left(\\frac{f}{K} \\right)}\\right)}{f^{2} \\left(K^{1 - \\beta} - f^{1 - \\beta}\\right)^{2}}\n"
     ]
    }
   ],
   "source": [
    "print(sym.latex(sym.simplify(I_0.diff(f))))"
   ]
  },
  {
   "cell_type": "code",
   "execution_count": 42,
   "id": "8346e702",
   "metadata": {},
   "outputs": [],
   "source": [
    "# beta = 1\n",
    "z = v*x/alpha\n",
    "xi = sym.sqrt(1 - 2*rho*z + z**2)\n",
    "I_0 = v*x/(sym.log((xi + z - rho)/(1 - rho)))\n"
   ]
  },
  {
   "cell_type": "code",
   "execution_count": 39,
   "id": "55807095",
   "metadata": {},
   "outputs": [
    {
     "data": {
      "text/latex": [
       "$\\displaystyle \\frac{v \\left(\\alpha \\sqrt{- 2 \\rho z + z^{2} + 1} \\log{\\left(\\frac{\\rho - z - \\sqrt{- 2 \\rho z + z^{2} + 1}}{\\rho - 1} \\right)} - v x\\right)}{\\alpha f \\sqrt{- 2 \\rho z + z^{2} + 1} \\log{\\left(\\frac{\\rho - z - \\sqrt{- 2 \\rho z + z^{2} + 1}}{\\rho - 1} \\right)}^{2}}$"
      ],
      "text/plain": [
       "v*(alpha*sqrt(-2*rho*z + z**2 + 1)*log((rho - z - sqrt(-2*rho*z + z**2 + 1))/(rho - 1)) - v*x)/(alpha*f*sqrt(-2*rho*z + z**2 + 1)*log((rho - z - sqrt(-2*rho*z + z**2 + 1))/(rho - 1))**2)"
      ]
     },
     "execution_count": 39,
     "metadata": {},
     "output_type": "execute_result"
    }
   ],
   "source": [
    "sym.simplify(I_0.diff(f).subs(z, \"z\").subs(x, \"x\"))"
   ]
  },
  {
   "cell_type": "code",
   "execution_count": 37,
   "id": "74e9d937",
   "metadata": {},
   "outputs": [
    {
     "name": "stdout",
     "output_type": "stream",
     "text": [
      "\\frac{v \\left(\\alpha \\sqrt{- 2 \\rho z + z^{2} + 1} \\log{\\left(\\frac{\\rho - z - \\sqrt{- 2 \\rho z + z^{2} + 1}}{\\rho - 1} \\right)} - v x\\right)}{\\alpha f \\sqrt{- 2 \\rho z + z^{2} + 1} \\log{\\left(\\frac{\\rho - z - \\sqrt{- 2 \\rho z + z^{2} + 1}}{\\rho - 1} \\right)}^{2}}\n"
     ]
    }
   ],
   "source": [
    "print(sym.latex(sym.simplify(I_0.diff(f).subs(z, \"z\").subs(x, \"x\"))))"
   ]
  },
  {
   "cell_type": "code",
   "execution_count": 49,
   "id": "78621e5d",
   "metadata": {},
   "outputs": [],
   "source": [
    "# beta < 1\n",
    "z = v*(f**(1 - beta) - K**(1 - beta))/(alpha*(1 - beta))\n",
    "I_0 = v*x/(sym.log((sym.sqrt(1 - 2*rho*z + z**2) + z - rho)/(1 - rho)))\n"
   ]
  },
  {
   "cell_type": "code",
   "execution_count": 51,
   "id": "07e95ed2",
   "metadata": {},
   "outputs": [
    {
     "name": "stdout",
     "output_type": "stream",
     "text": [
      "\\frac{v \\left(\\alpha f \\left(- \\rho + z + \\sqrt{- 2 \\rho z + z^{2} + 1}\\right) \\sqrt{- 2 \\rho z + z^{2} + 1} \\log{\\left(\\frac{\\rho - z - \\sqrt{- 2 \\rho z + z^{2} + 1}}{\\rho - 1} \\right)} + f^{2 - \\beta} v x \\left(\\rho - z - \\sqrt{- 2 \\rho z + z^{2} + 1}\\right)\\right)}{\\alpha f^{2} \\left(- \\rho + z + \\sqrt{- 2 \\rho z + z^{2} + 1}\\right) \\sqrt{- 2 \\rho z + z^{2} + 1} \\log{\\left(\\frac{\\rho - z - \\sqrt{- 2 \\rho z + z^{2} + 1}}{\\rho - 1} \\right)}^{2}}\n"
     ]
    }
   ],
   "source": [
    "print(sym.latex(sym.simplify(I_0.diff(f).subs(z, \"z\").subs(x, \"x\"))))"
   ]
  },
  {
   "cell_type": "code",
   "execution_count": 53,
   "id": "0c577187",
   "metadata": {},
   "outputs": [
    {
     "data": {
      "text/latex": [
       "$\\displaystyle \\frac{v \\left(\\alpha f \\left(- \\rho + z + \\sqrt{- 2 \\rho z + z^{2} + 1}\\right) \\sqrt{- 2 \\rho z + z^{2} + 1} \\log{\\left(\\frac{\\rho - z - \\sqrt{- 2 \\rho z + z^{2} + 1}}{\\rho - 1} \\right)} + f^{2 - \\beta} v x \\left(\\rho - z - \\sqrt{- 2 \\rho z + z^{2} + 1}\\right)\\right)}{\\alpha f^{2} \\left(- \\rho + z + \\sqrt{- 2 \\rho z + z^{2} + 1}\\right) \\sqrt{- 2 \\rho z + z^{2} + 1} \\log{\\left(\\frac{\\rho - z - \\sqrt{- 2 \\rho z + z^{2} + 1}}{\\rho - 1} \\right)}^{2}}$"
      ],
      "text/plain": [
       "v*(alpha*f*(-rho + z + sqrt(-2*rho*z + z**2 + 1))*sqrt(-2*rho*z + z**2 + 1)*log((rho - z - sqrt(-2*rho*z + z**2 + 1))/(rho - 1)) + f**(2 - beta)*v*x*(rho - z - sqrt(-2*rho*z + z**2 + 1)))/(alpha*f**2*(-rho + z + sqrt(-2*rho*z + z**2 + 1))*sqrt(-2*rho*z + z**2 + 1)*log((rho - z - sqrt(-2*rho*z + z**2 + 1))/(rho - 1))**2)"
      ]
     },
     "execution_count": 53,
     "metadata": {},
     "output_type": "execute_result"
    }
   ],
   "source": [
    "sym.simplify(I_0.diff(f).subs(z, \"z\").subs(x, \"x\"))"
   ]
  }
 ],
 "metadata": {
  "kernelspec": {
   "display_name": "Python 3 (ipykernel)",
   "language": "python",
   "name": "python3"
  },
  "language_info": {
   "codemirror_mode": {
    "name": "ipython",
    "version": 3
   },
   "file_extension": ".py",
   "mimetype": "text/x-python",
   "name": "python",
   "nbconvert_exporter": "python",
   "pygments_lexer": "ipython3",
   "version": "3.8.13"
  }
 },
 "nbformat": 4,
 "nbformat_minor": 5
}
