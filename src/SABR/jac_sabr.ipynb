{
 "cells": [
  {
   "cell_type": "markdown",
   "id": "0b3d2745",
   "metadata": {},
   "source": [
    "# Computing derivatives for sabr approxed"
   ]
  },
  {
   "cell_type": "code",
   "execution_count": 4,
   "id": "a6c98d51",
   "metadata": {},
   "outputs": [],
   "source": [
    "import sympy as sym\n"
   ]
  },
  {
   "cell_type": "code",
   "execution_count": 33,
   "id": "3a7b8145",
   "metadata": {},
   "outputs": [
    {
     "data": {
      "text/latex": [
       "$\\displaystyle \\frac{\\alpha^{2} \\left(K f\\right)^{\\beta - 1} \\left(1 - \\beta\\right)^{2}}{24} + \\frac{\\alpha \\beta \\rho v \\left(K f\\right)^{\\frac{\\beta}{2} - \\frac{1}{2}}}{4} + \\frac{v^{2} \\cdot \\left(1 - 3 \\rho^{2}\\right)}{24}$"
      ],
      "text/plain": [
       "alpha**2*(K*f)**(beta - 1)*(1 - beta)**2/24 + alpha*beta*rho*v*(K*f)**(beta/2 - 1/2)/4 + v**2*(1 - 3*rho**2)/24"
      ]
     },
     "execution_count": 33,
     "metadata": {},
     "output_type": "execute_result"
    }
   ],
   "source": [
    "alpha, beta, v, rho, f, K, T = sym.symbols('alpha beta v rho f K T')\n",
    "x = sym.log(f/K)\n",
    "I_H_1 = (((1 - beta)**2)*alpha**2/(24*(f*K)**(1 - beta)) + (rho*v*alpha*beta)/(4*(f*K)**((1-beta)/2)) + \n",
    " ((1 - 3*rho**2)*v**2)/24 )\n",
    "I_H_1"
   ]
  },
  {
   "cell_type": "markdown",
   "id": "f6dd44b2",
   "metadata": {},
   "source": [
    "# Case 1: x = 0"
   ]
  },
  {
   "cell_type": "code",
   "execution_count": 47,
   "id": "1271c038",
   "metadata": {},
   "outputs": [
    {
     "data": {
      "text/latex": [
       "$\\displaystyle \\frac{K^{\\beta} T \\alpha \\beta \\rho v \\left(K f\\right)^{\\frac{\\beta}{2}}}{2 K \\sqrt{K f}} - \\frac{K^{\\beta} T \\rho^{2} v^{2}}{8 K} + \\frac{K^{\\beta} T v^{2}}{24 K} + \\frac{K^{\\beta}}{K} + \\frac{K^{\\beta} T \\alpha^{2} \\left(K f\\right)^{\\beta} \\left(\\beta - 1\\right)^{2}}{8 K^{2} f}$"
      ],
      "text/plain": [
       "K**beta*T*alpha*beta*rho*v*(K*f)**(beta/2)/(2*K*sqrt(K*f)) - K**beta*T*rho**2*v**2/(8*K) + K**beta*T*v**2/(24*K) + K**beta/K + K**beta*T*alpha**2*(K*f)**beta*(beta - 1)**2/(8*K**2*f)"
      ]
     },
     "execution_count": 47,
     "metadata": {},
     "output_type": "execute_result"
    }
   ],
   "source": [
    "I_0 = alpha*K**(beta - 1)\n",
    "sigma = I_0*(1 + I_H_1*T)\n",
    "\n",
    "sym.simplify(sigma.diff(alpha))"
   ]
  },
  {
   "cell_type": "code",
   "execution_count": 48,
   "id": "c9ce7298",
   "metadata": {},
   "outputs": [
    {
     "data": {
      "text/latex": [
       "$\\displaystyle \\frac{K^{\\beta - 1} \\alpha \\left(T \\alpha \\left(\\alpha \\left(K f\\right)^{\\beta - 1} \\left(\\beta - 1\\right)^{2} \\log{\\left(K f \\right)} + 2 \\alpha \\left(K f\\right)^{\\beta - 1} \\left(\\beta - 1\\right) + 3 \\beta \\rho v \\left(K f\\right)^{\\frac{\\beta}{2} - \\frac{1}{2}} \\log{\\left(K f \\right)} + 6 \\rho v \\left(K f\\right)^{\\frac{\\beta}{2} - \\frac{1}{2}}\\right) + \\left(T \\left(\\alpha^{2} \\left(K f\\right)^{\\beta - 1} \\left(\\beta - 1\\right)^{2} + 6 \\alpha \\beta \\rho v \\left(K f\\right)^{\\frac{\\beta}{2} - \\frac{1}{2}} + v^{2} \\cdot \\left(1 - 3 \\rho^{2}\\right)\\right) + 24\\right) \\log{\\left(K \\right)}\\right)}{24}$"
      ],
      "text/plain": [
       "K**(beta - 1)*alpha*(T*alpha*(alpha*(K*f)**(beta - 1)*(beta - 1)**2*log(K*f) + 2*alpha*(K*f)**(beta - 1)*(beta - 1) + 3*beta*rho*v*(K*f)**(beta/2 - 1/2)*log(K*f) + 6*rho*v*(K*f)**(beta/2 - 1/2)) + (T*(alpha**2*(K*f)**(beta - 1)*(beta - 1)**2 + 6*alpha*beta*rho*v*(K*f)**(beta/2 - 1/2) + v**2*(1 - 3*rho**2)) + 24)*log(K))/24"
      ]
     },
     "execution_count": 48,
     "metadata": {},
     "output_type": "execute_result"
    }
   ],
   "source": [
    "sym.simplify(sigma.diff(beta))\n"
   ]
  },
  {
   "cell_type": "code",
   "execution_count": 49,
   "id": "0ee32816",
   "metadata": {},
   "outputs": [
    {
     "data": {
      "text/latex": [
       "$\\displaystyle \\frac{K^{\\beta - 1} T \\alpha \\left(3 \\alpha \\beta \\rho \\left(K f\\right)^{\\frac{\\beta}{2} - \\frac{1}{2}} - v \\left(3 \\rho^{2} - 1\\right)\\right)}{12}$"
      ],
      "text/plain": [
       "K**(beta - 1)*T*alpha*(3*alpha*beta*rho*(K*f)**(beta/2 - 1/2) - v*(3*rho**2 - 1))/12"
      ]
     },
     "execution_count": 49,
     "metadata": {},
     "output_type": "execute_result"
    }
   ],
   "source": [
    "sym.simplify(sigma.diff(v))\n"
   ]
  },
  {
   "cell_type": "code",
   "execution_count": 50,
   "id": "8bed2077",
   "metadata": {},
   "outputs": [
    {
     "data": {
      "text/latex": [
       "$\\displaystyle \\frac{K^{\\beta - 1} T \\alpha v \\left(\\alpha \\beta \\left(K f\\right)^{\\frac{\\beta}{2} - \\frac{1}{2}} - \\rho v\\right)}{4}$"
      ],
      "text/plain": [
       "K**(beta - 1)*T*alpha*v*(alpha*beta*(K*f)**(beta/2 - 1/2) - rho*v)/4"
      ]
     },
     "execution_count": 50,
     "metadata": {},
     "output_type": "execute_result"
    }
   ],
   "source": [
    "sym.simplify(sigma.diff(rho))\n"
   ]
  },
  {
   "cell_type": "markdown",
   "id": "ae80b00b",
   "metadata": {},
   "source": [
    "# Case 2: v = 0"
   ]
  },
  {
   "cell_type": "code",
   "execution_count": 51,
   "id": "ef43e9d8",
   "metadata": {},
   "outputs": [
    {
     "data": {
      "text/latex": [
       "$\\displaystyle \\frac{\\left(\\beta - 1\\right) \\left(2 T \\alpha \\left(\\alpha \\left(K f\\right)^{\\beta - 1} \\left(\\beta - 1\\right)^{2} + 3 \\beta \\rho v \\left(K f\\right)^{\\frac{\\beta}{2} - \\frac{1}{2}}\\right) + T \\left(\\alpha^{2} \\left(K f\\right)^{\\beta - 1} \\left(\\beta - 1\\right)^{2} + 6 \\alpha \\beta \\rho v \\left(K f\\right)^{\\frac{\\beta}{2} - \\frac{1}{2}} + v^{2} \\cdot \\left(1 - 3 \\rho^{2}\\right)\\right) + 24\\right) \\log{\\left(\\frac{f}{K} \\right)}}{24 \\left(K^{1 - \\beta} - f^{1 - \\beta}\\right)}$"
      ],
      "text/plain": [
       "(beta - 1)*(2*T*alpha*(alpha*(K*f)**(beta - 1)*(beta - 1)**2 + 3*beta*rho*v*(K*f)**(beta/2 - 1/2)) + T*(alpha**2*(K*f)**(beta - 1)*(beta - 1)**2 + 6*alpha*beta*rho*v*(K*f)**(beta/2 - 1/2) + v**2*(1 - 3*rho**2)) + 24)*log(f/K)/(24*(K**(1 - beta) - f**(1 - beta)))"
      ]
     },
     "execution_count": 51,
     "metadata": {},
     "output_type": "execute_result"
    }
   ],
   "source": [
    "I_0 = x*alpha*(1 - beta)/(f**(1 - beta) - K**(1 - beta))\n",
    "sigma = I_0*(1 + I_H_1*T)\n",
    "\n",
    "sym.simplify(sigma.diff(alpha))"
   ]
  },
  {
   "cell_type": "code",
   "execution_count": 56,
   "id": "ab7de0ee",
   "metadata": {},
   "outputs": [
    {
     "data": {
      "text/latex": [
       "$\\displaystyle \\frac{\\alpha \\left(\\left(K^{1 - \\beta} - f^{1 - \\beta}\\right) \\left(T \\alpha \\left(\\beta - 1\\right) \\left(\\alpha \\left(K f\\right)^{\\beta - 1} \\left(\\beta - 1\\right)^{2} \\log{\\left(K f \\right)} + 2 \\alpha \\left(K f\\right)^{\\beta - 1} \\left(\\beta - 1\\right) + 3 \\beta \\rho v \\left(K f\\right)^{\\frac{\\beta}{2} - \\frac{1}{2}} \\log{\\left(K f \\right)} + 6 \\rho v \\left(K f\\right)^{\\frac{\\beta}{2} - \\frac{1}{2}}\\right) + T \\left(\\alpha^{2} \\left(K f\\right)^{\\beta - 1} \\left(\\beta - 1\\right)^{2} + 6 \\alpha \\beta \\rho v \\left(K f\\right)^{\\frac{\\beta}{2} - \\frac{1}{2}} + v^{2} \\cdot \\left(1 - 3 \\rho^{2}\\right)\\right) + 24\\right) + \\left(\\beta - 1\\right) \\left(K^{1 - \\beta} \\log{\\left(K \\right)} - f^{1 - \\beta} \\log{\\left(f \\right)}\\right) \\left(T \\left(\\alpha^{2} \\left(K f\\right)^{\\beta - 1} \\left(\\beta - 1\\right)^{2} + 6 \\alpha \\beta \\rho v \\left(K f\\right)^{\\frac{\\beta}{2} - \\frac{1}{2}} + v^{2} \\cdot \\left(1 - 3 \\rho^{2}\\right)\\right) + 24\\right)\\right) \\log{\\left(\\frac{f}{K} \\right)}}{24 \\left(K^{1 - \\beta} - f^{1 - \\beta}\\right)^{2}}$"
      ],
      "text/plain": [
       "alpha*((K**(1 - beta) - f**(1 - beta))*(T*alpha*(beta - 1)*(alpha*(K*f)**(beta - 1)*(beta - 1)**2*log(K*f) + 2*alpha*(K*f)**(beta - 1)*(beta - 1) + 3*beta*rho*v*(K*f)**(beta/2 - 1/2)*log(K*f) + 6*rho*v*(K*f)**(beta/2 - 1/2)) + T*(alpha**2*(K*f)**(beta - 1)*(beta - 1)**2 + 6*alpha*beta*rho*v*(K*f)**(beta/2 - 1/2) + v**2*(1 - 3*rho**2)) + 24) + (beta - 1)*(K**(1 - beta)*log(K) - f**(1 - beta)*log(f))*(T*(alpha**2*(K*f)**(beta - 1)*(beta - 1)**2 + 6*alpha*beta*rho*v*(K*f)**(beta/2 - 1/2) + v**2*(1 - 3*rho**2)) + 24))*log(f/K)/(24*(K**(1 - beta) - f**(1 - beta))**2)"
      ]
     },
     "execution_count": 56,
     "metadata": {},
     "output_type": "execute_result"
    }
   ],
   "source": [
    "sym.simplify(sigma.diff(beta))\n"
   ]
  },
  {
   "cell_type": "code",
   "execution_count": 54,
   "id": "ba7dd9da",
   "metadata": {},
   "outputs": [
    {
     "data": {
      "text/latex": [
       "$\\displaystyle \\frac{T \\alpha \\left(\\beta - 1\\right) \\left(3 \\alpha \\beta \\rho \\left(K f\\right)^{\\frac{\\beta}{2} - \\frac{1}{2}} - v \\left(3 \\rho^{2} - 1\\right)\\right) \\log{\\left(\\frac{f}{K} \\right)}}{12 \\left(K^{1 - \\beta} - f^{1 - \\beta}\\right)}$"
      ],
      "text/plain": [
       "T*alpha*(beta - 1)*(3*alpha*beta*rho*(K*f)**(beta/2 - 1/2) - v*(3*rho**2 - 1))*log(f/K)/(12*(K**(1 - beta) - f**(1 - beta)))"
      ]
     },
     "execution_count": 54,
     "metadata": {},
     "output_type": "execute_result"
    }
   ],
   "source": [
    "sym.simplify(sigma.diff(v))\n"
   ]
  },
  {
   "cell_type": "code",
   "execution_count": 55,
   "id": "794886b1",
   "metadata": {},
   "outputs": [
    {
     "data": {
      "text/latex": [
       "$\\displaystyle \\frac{T \\alpha v \\left(\\beta - 1\\right) \\left(\\alpha \\beta \\left(K f\\right)^{\\frac{\\beta}{2} - \\frac{1}{2}} - \\rho v\\right) \\log{\\left(\\frac{f}{K} \\right)}}{4 \\left(K^{1 - \\beta} - f^{1 - \\beta}\\right)}$"
      ],
      "text/plain": [
       "T*alpha*v*(beta - 1)*(alpha*beta*(K*f)**(beta/2 - 1/2) - rho*v)*log(f/K)/(4*(K**(1 - beta) - f**(1 - beta)))"
      ]
     },
     "execution_count": 55,
     "metadata": {},
     "output_type": "execute_result"
    }
   ],
   "source": [
    "sym.simplify(sigma.diff(rho))\n"
   ]
  },
  {
   "cell_type": "markdown",
   "id": "f449f6f3",
   "metadata": {},
   "source": [
    "# Case 3: beta = 1"
   ]
  },
  {
   "cell_type": "code",
   "execution_count": 59,
   "id": "e21129dc",
   "metadata": {},
   "outputs": [
    {
     "data": {
      "text/latex": [
       "$\\displaystyle \\frac{v \\left(2 T \\alpha^{2} \\sqrt{\\frac{\\alpha^{2} - 2 \\alpha \\rho v \\log{\\left(\\frac{f}{K} \\right)} + v^{2} \\log{\\left(\\frac{f}{K} \\right)}^{2}}{\\alpha^{2}}} \\left(\\alpha \\left(- \\rho + \\sqrt{\\frac{\\alpha^{2} - 2 \\alpha \\rho v \\log{\\left(\\frac{f}{K} \\right)} + v^{2} \\log{\\left(\\frac{f}{K} \\right)}^{2}}{\\alpha^{2}}}\\right) + v \\log{\\left(\\frac{f}{K} \\right)}\\right) \\left(\\alpha \\left(K f\\right)^{\\beta - 1} \\left(\\beta - 1\\right)^{2} + 3 \\beta \\rho v \\left(K f\\right)^{\\frac{\\beta}{2} - \\frac{1}{2}}\\right) \\log{\\left(\\frac{\\alpha \\rho - \\alpha \\sqrt{\\frac{\\alpha^{2} - 2 \\alpha \\rho v \\log{\\left(\\frac{f}{K} \\right)} + v^{2} \\log{\\left(\\frac{f}{K} \\right)}^{2}}{\\alpha^{2}}} - v \\log{\\left(\\frac{f}{K} \\right)}}{\\alpha \\left(\\rho - 1\\right)} \\right)} - v \\left(T \\left(\\alpha^{2} \\left(K f\\right)^{\\beta - 1} \\left(\\beta - 1\\right)^{2} + 6 \\alpha \\beta \\rho v \\left(K f\\right)^{\\frac{\\beta}{2} - \\frac{1}{2}} + v^{2} \\cdot \\left(1 - 3 \\rho^{2}\\right)\\right) + 24\\right) \\left(\\alpha \\rho - \\alpha \\sqrt{\\frac{\\alpha^{2} - 2 \\alpha \\rho v \\log{\\left(\\frac{f}{K} \\right)} + v^{2} \\log{\\left(\\frac{f}{K} \\right)}^{2}}{\\alpha^{2}}} - v \\log{\\left(\\frac{f}{K} \\right)}\\right) \\log{\\left(\\frac{f}{K} \\right)}\\right) \\log{\\left(\\frac{f}{K} \\right)}}{24 \\alpha^{2} \\sqrt{\\frac{\\alpha^{2} - 2 \\alpha \\rho v \\log{\\left(\\frac{f}{K} \\right)} + v^{2} \\log{\\left(\\frac{f}{K} \\right)}^{2}}{\\alpha^{2}}} \\left(\\alpha \\left(- \\rho + \\sqrt{\\frac{\\alpha^{2} - 2 \\alpha \\rho v \\log{\\left(\\frac{f}{K} \\right)} + v^{2} \\log{\\left(\\frac{f}{K} \\right)}^{2}}{\\alpha^{2}}}\\right) + v \\log{\\left(\\frac{f}{K} \\right)}\\right) \\log{\\left(\\frac{\\alpha \\rho - \\alpha \\sqrt{\\frac{\\alpha^{2} - 2 \\alpha \\rho v \\log{\\left(\\frac{f}{K} \\right)} + v^{2} \\log{\\left(\\frac{f}{K} \\right)}^{2}}{\\alpha^{2}}} - v \\log{\\left(\\frac{f}{K} \\right)}}{\\alpha \\left(\\rho - 1\\right)} \\right)}^{2}}$"
      ],
      "text/plain": [
       "v*(2*T*alpha**2*sqrt((alpha**2 - 2*alpha*rho*v*log(f/K) + v**2*log(f/K)**2)/alpha**2)*(alpha*(-rho + sqrt((alpha**2 - 2*alpha*rho*v*log(f/K) + v**2*log(f/K)**2)/alpha**2)) + v*log(f/K))*(alpha*(K*f)**(beta - 1)*(beta - 1)**2 + 3*beta*rho*v*(K*f)**(beta/2 - 1/2))*log((alpha*rho - alpha*sqrt((alpha**2 - 2*alpha*rho*v*log(f/K) + v**2*log(f/K)**2)/alpha**2) - v*log(f/K))/(alpha*(rho - 1))) - v*(T*(alpha**2*(K*f)**(beta - 1)*(beta - 1)**2 + 6*alpha*beta*rho*v*(K*f)**(beta/2 - 1/2) + v**2*(1 - 3*rho**2)) + 24)*(alpha*rho - alpha*sqrt((alpha**2 - 2*alpha*rho*v*log(f/K) + v**2*log(f/K)**2)/alpha**2) - v*log(f/K))*log(f/K))*log(f/K)/(24*alpha**2*sqrt((alpha**2 - 2*alpha*rho*v*log(f/K) + v**2*log(f/K)**2)/alpha**2)*(alpha*(-rho + sqrt((alpha**2 - 2*alpha*rho*v*log(f/K) + v**2*log(f/K)**2)/alpha**2)) + v*log(f/K))*log((alpha*rho - alpha*sqrt((alpha**2 - 2*alpha*rho*v*log(f/K) + v**2*log(f/K)**2)/alpha**2) - v*log(f/K))/(alpha*(rho - 1)))**2)"
      ]
     },
     "execution_count": 59,
     "metadata": {},
     "output_type": "execute_result"
    }
   ],
   "source": [
    "z = v*x/alpha\n",
    "I_0 = v*x/(sym.log((sym.sqrt(1 - 2*rho*z + z**2) + z - rho)/(1 - rho)))\n",
    "sigma = I_0*(1 + I_H_1*T)\n",
    "\n",
    "sym.simplify(sigma.diff(alpha))"
   ]
  },
  {
   "cell_type": "code",
   "execution_count": 61,
   "id": "34c264f4",
   "metadata": {},
   "outputs": [
    {
     "data": {
      "text/latex": [
       "$\\displaystyle \\frac{T \\alpha v \\left(\\alpha \\left(K f\\right)^{\\beta - 1} \\left(\\beta - 1\\right)^{2} \\log{\\left(K f \\right)} + 2 \\alpha \\left(K f\\right)^{\\beta - 1} \\left(\\beta - 1\\right) + 3 \\beta \\rho v \\left(K f\\right)^{\\frac{\\beta}{2} - \\frac{1}{2}} \\log{\\left(K f \\right)} + 6 \\rho v \\left(K f\\right)^{\\frac{\\beta}{2} - \\frac{1}{2}}\\right) \\log{\\left(\\frac{f}{K} \\right)}}{24 \\log{\\left(\\frac{\\alpha \\rho - \\alpha \\sqrt{\\frac{\\alpha^{2} - 2 \\alpha \\rho v \\log{\\left(\\frac{f}{K} \\right)} + v^{2} \\log{\\left(\\frac{f}{K} \\right)}^{2}}{\\alpha^{2}}} - v \\log{\\left(\\frac{f}{K} \\right)}}{\\alpha \\left(\\rho - 1\\right)} \\right)}}$"
      ],
      "text/plain": [
       "T*alpha*v*(alpha*(K*f)**(beta - 1)*(beta - 1)**2*log(K*f) + 2*alpha*(K*f)**(beta - 1)*(beta - 1) + 3*beta*rho*v*(K*f)**(beta/2 - 1/2)*log(K*f) + 6*rho*v*(K*f)**(beta/2 - 1/2))*log(f/K)/(24*log((alpha*rho - alpha*sqrt((alpha**2 - 2*alpha*rho*v*log(f/K) + v**2*log(f/K)**2)/alpha**2) - v*log(f/K))/(alpha*(rho - 1))))"
      ]
     },
     "execution_count": 61,
     "metadata": {},
     "output_type": "execute_result"
    }
   ],
   "source": [
    "sym.simplify(sigma.diff(beta))\n"
   ]
  },
  {
   "cell_type": "code",
   "execution_count": 62,
   "id": "690f17fe",
   "metadata": {},
   "outputs": [
    {
     "data": {
      "text/latex": [
       "$\\displaystyle \\frac{\\left(\\alpha \\sqrt{\\frac{\\alpha^{2} - 2 \\alpha \\rho v \\log{\\left(\\frac{f}{K} \\right)} + v^{2} \\log{\\left(\\frac{f}{K} \\right)}^{2}}{\\alpha^{2}}} \\left(\\alpha \\left(- \\rho + \\sqrt{\\frac{\\alpha^{2} - 2 \\alpha \\rho v \\log{\\left(\\frac{f}{K} \\right)} + v^{2} \\log{\\left(\\frac{f}{K} \\right)}^{2}}{\\alpha^{2}}}\\right) + v \\log{\\left(\\frac{f}{K} \\right)}\\right) \\left(2 T v \\left(3 \\alpha \\beta \\rho \\left(K f\\right)^{\\frac{\\beta}{2} - \\frac{1}{2}} - v \\left(3 \\rho^{2} - 1\\right)\\right) + T \\left(\\alpha^{2} \\left(K f\\right)^{\\beta - 1} \\left(\\beta - 1\\right)^{2} + 6 \\alpha \\beta \\rho v \\left(K f\\right)^{\\frac{\\beta}{2} - \\frac{1}{2}} + v^{2} \\cdot \\left(1 - 3 \\rho^{2}\\right)\\right) + 24\\right) \\log{\\left(\\frac{\\alpha \\rho - \\alpha \\sqrt{\\frac{\\alpha^{2} - 2 \\alpha \\rho v \\log{\\left(\\frac{f}{K} \\right)} + v^{2} \\log{\\left(\\frac{f}{K} \\right)}^{2}}{\\alpha^{2}}} - v \\log{\\left(\\frac{f}{K} \\right)}}{\\alpha \\left(\\rho - 1\\right)} \\right)} + v \\left(T \\left(\\alpha^{2} \\left(K f\\right)^{\\beta - 1} \\left(\\beta - 1\\right)^{2} + 6 \\alpha \\beta \\rho v \\left(K f\\right)^{\\frac{\\beta}{2} - \\frac{1}{2}} + v^{2} \\cdot \\left(1 - 3 \\rho^{2}\\right)\\right) + 24\\right) \\left(\\alpha \\rho - \\alpha \\sqrt{\\frac{\\alpha^{2} - 2 \\alpha \\rho v \\log{\\left(\\frac{f}{K} \\right)} + v^{2} \\log{\\left(\\frac{f}{K} \\right)}^{2}}{\\alpha^{2}}} - v \\log{\\left(\\frac{f}{K} \\right)}\\right) \\log{\\left(\\frac{f}{K} \\right)}\\right) \\log{\\left(\\frac{f}{K} \\right)}}{24 \\alpha \\sqrt{\\frac{\\alpha^{2} - 2 \\alpha \\rho v \\log{\\left(\\frac{f}{K} \\right)} + v^{2} \\log{\\left(\\frac{f}{K} \\right)}^{2}}{\\alpha^{2}}} \\left(\\alpha \\left(- \\rho + \\sqrt{\\frac{\\alpha^{2} - 2 \\alpha \\rho v \\log{\\left(\\frac{f}{K} \\right)} + v^{2} \\log{\\left(\\frac{f}{K} \\right)}^{2}}{\\alpha^{2}}}\\right) + v \\log{\\left(\\frac{f}{K} \\right)}\\right) \\log{\\left(\\frac{\\alpha \\rho - \\alpha \\sqrt{\\frac{\\alpha^{2} - 2 \\alpha \\rho v \\log{\\left(\\frac{f}{K} \\right)} + v^{2} \\log{\\left(\\frac{f}{K} \\right)}^{2}}{\\alpha^{2}}} - v \\log{\\left(\\frac{f}{K} \\right)}}{\\alpha \\left(\\rho - 1\\right)} \\right)}^{2}}$"
      ],
      "text/plain": [
       "(alpha*sqrt((alpha**2 - 2*alpha*rho*v*log(f/K) + v**2*log(f/K)**2)/alpha**2)*(alpha*(-rho + sqrt((alpha**2 - 2*alpha*rho*v*log(f/K) + v**2*log(f/K)**2)/alpha**2)) + v*log(f/K))*(2*T*v*(3*alpha*beta*rho*(K*f)**(beta/2 - 1/2) - v*(3*rho**2 - 1)) + T*(alpha**2*(K*f)**(beta - 1)*(beta - 1)**2 + 6*alpha*beta*rho*v*(K*f)**(beta/2 - 1/2) + v**2*(1 - 3*rho**2)) + 24)*log((alpha*rho - alpha*sqrt((alpha**2 - 2*alpha*rho*v*log(f/K) + v**2*log(f/K)**2)/alpha**2) - v*log(f/K))/(alpha*(rho - 1))) + v*(T*(alpha**2*(K*f)**(beta - 1)*(beta - 1)**2 + 6*alpha*beta*rho*v*(K*f)**(beta/2 - 1/2) + v**2*(1 - 3*rho**2)) + 24)*(alpha*rho - alpha*sqrt((alpha**2 - 2*alpha*rho*v*log(f/K) + v**2*log(f/K)**2)/alpha**2) - v*log(f/K))*log(f/K))*log(f/K)/(24*alpha*sqrt((alpha**2 - 2*alpha*rho*v*log(f/K) + v**2*log(f/K)**2)/alpha**2)*(alpha*(-rho + sqrt((alpha**2 - 2*alpha*rho*v*log(f/K) + v**2*log(f/K)**2)/alpha**2)) + v*log(f/K))*log((alpha*rho - alpha*sqrt((alpha**2 - 2*alpha*rho*v*log(f/K) + v**2*log(f/K)**2)/alpha**2) - v*log(f/K))/(alpha*(rho - 1)))**2)"
      ]
     },
     "execution_count": 62,
     "metadata": {},
     "output_type": "execute_result"
    }
   ],
   "source": [
    "sym.simplify(sigma.diff(v))\n"
   ]
  },
  {
   "cell_type": "code",
   "execution_count": 63,
   "id": "624c1d99",
   "metadata": {},
   "outputs": [
    {
     "data": {
      "text/latex": [
       "$\\displaystyle \\frac{v \\left(6 T v \\sqrt{\\frac{\\alpha^{2} - 2 \\alpha \\rho v \\log{\\left(\\frac{f}{K} \\right)} + v^{2} \\log{\\left(\\frac{f}{K} \\right)}^{2}}{\\alpha^{2}}} \\left(\\rho - 1\\right) \\left(\\alpha \\left(- \\rho + \\sqrt{\\frac{\\alpha^{2} - 2 \\alpha \\rho v \\log{\\left(\\frac{f}{K} \\right)} + v^{2} \\log{\\left(\\frac{f}{K} \\right)}^{2}}{\\alpha^{2}}}\\right) + v \\log{\\left(\\frac{f}{K} \\right)}\\right) \\left(\\alpha \\beta \\left(K f\\right)^{\\frac{\\beta}{2} - \\frac{1}{2}} - \\rho v\\right) \\log{\\left(\\frac{\\alpha \\rho - \\alpha \\sqrt{\\frac{\\alpha^{2} - 2 \\alpha \\rho v \\log{\\left(\\frac{f}{K} \\right)} + v^{2} \\log{\\left(\\frac{f}{K} \\right)}^{2}}{\\alpha^{2}}} - v \\log{\\left(\\frac{f}{K} \\right)}}{\\alpha \\left(\\rho - 1\\right)} \\right)} + \\left(T \\left(\\alpha^{2} \\left(K f\\right)^{\\beta - 1} \\left(\\beta - 1\\right)^{2} + 6 \\alpha \\beta \\rho v \\left(K f\\right)^{\\frac{\\beta}{2} - \\frac{1}{2}} + v^{2} \\cdot \\left(1 - 3 \\rho^{2}\\right)\\right) + 24\\right) \\left(\\sqrt{\\frac{\\alpha^{2} - 2 \\alpha \\rho v \\log{\\left(\\frac{f}{K} \\right)} + v^{2} \\log{\\left(\\frac{f}{K} \\right)}^{2}}{\\alpha^{2}}} \\left(\\alpha \\left(- \\rho + \\sqrt{\\frac{\\alpha^{2} - 2 \\alpha \\rho v \\log{\\left(\\frac{f}{K} \\right)} + v^{2} \\log{\\left(\\frac{f}{K} \\right)}^{2}}{\\alpha^{2}}}\\right) + v \\log{\\left(\\frac{f}{K} \\right)}\\right) + \\left(\\rho - 1\\right) \\left(\\alpha \\sqrt{\\frac{\\alpha^{2} - 2 \\alpha \\rho v \\log{\\left(\\frac{f}{K} \\right)} + v^{2} \\log{\\left(\\frac{f}{K} \\right)}^{2}}{\\alpha^{2}}} + v \\log{\\left(\\frac{f}{K} \\right)}\\right)\\right)\\right) \\log{\\left(\\frac{f}{K} \\right)}}{24 \\sqrt{\\frac{\\alpha^{2} - 2 \\alpha \\rho v \\log{\\left(\\frac{f}{K} \\right)} + v^{2} \\log{\\left(\\frac{f}{K} \\right)}^{2}}{\\alpha^{2}}} \\left(\\rho - 1\\right) \\left(\\alpha \\left(- \\rho + \\sqrt{\\frac{\\alpha^{2} - 2 \\alpha \\rho v \\log{\\left(\\frac{f}{K} \\right)} + v^{2} \\log{\\left(\\frac{f}{K} \\right)}^{2}}{\\alpha^{2}}}\\right) + v \\log{\\left(\\frac{f}{K} \\right)}\\right) \\log{\\left(\\frac{\\alpha \\rho - \\alpha \\sqrt{\\frac{\\alpha^{2} - 2 \\alpha \\rho v \\log{\\left(\\frac{f}{K} \\right)} + v^{2} \\log{\\left(\\frac{f}{K} \\right)}^{2}}{\\alpha^{2}}} - v \\log{\\left(\\frac{f}{K} \\right)}}{\\alpha \\left(\\rho - 1\\right)} \\right)}^{2}}$"
      ],
      "text/plain": [
       "v*(6*T*v*sqrt((alpha**2 - 2*alpha*rho*v*log(f/K) + v**2*log(f/K)**2)/alpha**2)*(rho - 1)*(alpha*(-rho + sqrt((alpha**2 - 2*alpha*rho*v*log(f/K) + v**2*log(f/K)**2)/alpha**2)) + v*log(f/K))*(alpha*beta*(K*f)**(beta/2 - 1/2) - rho*v)*log((alpha*rho - alpha*sqrt((alpha**2 - 2*alpha*rho*v*log(f/K) + v**2*log(f/K)**2)/alpha**2) - v*log(f/K))/(alpha*(rho - 1))) + (T*(alpha**2*(K*f)**(beta - 1)*(beta - 1)**2 + 6*alpha*beta*rho*v*(K*f)**(beta/2 - 1/2) + v**2*(1 - 3*rho**2)) + 24)*(sqrt((alpha**2 - 2*alpha*rho*v*log(f/K) + v**2*log(f/K)**2)/alpha**2)*(alpha*(-rho + sqrt((alpha**2 - 2*alpha*rho*v*log(f/K) + v**2*log(f/K)**2)/alpha**2)) + v*log(f/K)) + (rho - 1)*(alpha*sqrt((alpha**2 - 2*alpha*rho*v*log(f/K) + v**2*log(f/K)**2)/alpha**2) + v*log(f/K))))*log(f/K)/(24*sqrt((alpha**2 - 2*alpha*rho*v*log(f/K) + v**2*log(f/K)**2)/alpha**2)*(rho - 1)*(alpha*(-rho + sqrt((alpha**2 - 2*alpha*rho*v*log(f/K) + v**2*log(f/K)**2)/alpha**2)) + v*log(f/K))*log((alpha*rho - alpha*sqrt((alpha**2 - 2*alpha*rho*v*log(f/K) + v**2*log(f/K)**2)/alpha**2) - v*log(f/K))/(alpha*(rho - 1)))**2)"
      ]
     },
     "execution_count": 63,
     "metadata": {},
     "output_type": "execute_result"
    }
   ],
   "source": [
    "sym.simplify(sigma.diff(rho))\n"
   ]
  },
  {
   "cell_type": "markdown",
   "id": "0589ca0e",
   "metadata": {},
   "source": [
    "# Case 4: beta < 1"
   ]
  },
  {
   "cell_type": "code",
   "execution_count": 65,
   "id": "448f4af4",
   "metadata": {},
   "outputs": [
    {
     "data": {
      "text/latex": [
       "$\\displaystyle \\frac{T v \\left(\\frac{\\alpha \\left(K f\\right)^{\\beta - 1} \\left(1 - \\beta\\right)^{2}}{12} + \\frac{\\beta \\rho v \\left(K f\\right)^{\\frac{\\beta}{2} - \\frac{1}{2}}}{4}\\right) \\log{\\left(\\frac{f}{K} \\right)}}{\\log{\\left(\\frac{- \\rho + \\sqrt{1 - \\frac{2 \\rho v \\left(- K^{1 - \\beta} + f^{1 - \\beta}\\right)}{\\alpha \\left(1 - \\beta\\right)} + \\frac{v^{2} \\left(- K^{1 - \\beta} + f^{1 - \\beta}\\right)^{2}}{\\alpha^{2} \\left(1 - \\beta\\right)^{2}}} + \\frac{v \\left(- K^{1 - \\beta} + f^{1 - \\beta}\\right)}{\\alpha \\left(1 - \\beta\\right)}}{1 - \\rho} \\right)}} - \\frac{v \\left(T \\left(\\frac{\\alpha^{2} \\left(K f\\right)^{\\beta - 1} \\left(1 - \\beta\\right)^{2}}{24} + \\frac{\\alpha \\beta \\rho v \\left(K f\\right)^{\\frac{\\beta}{2} - \\frac{1}{2}}}{4} + \\frac{v^{2} \\cdot \\left(1 - 3 \\rho^{2}\\right)}{24}\\right) + 1\\right) \\left(\\frac{\\frac{\\rho v \\left(- K^{1 - \\beta} + f^{1 - \\beta}\\right)}{\\alpha^{2} \\cdot \\left(1 - \\beta\\right)} - \\frac{v^{2} \\left(- K^{1 - \\beta} + f^{1 - \\beta}\\right)^{2}}{\\alpha^{3} \\left(1 - \\beta\\right)^{2}}}{\\sqrt{1 - \\frac{2 \\rho v \\left(- K^{1 - \\beta} + f^{1 - \\beta}\\right)}{\\alpha \\left(1 - \\beta\\right)} + \\frac{v^{2} \\left(- K^{1 - \\beta} + f^{1 - \\beta}\\right)^{2}}{\\alpha^{2} \\left(1 - \\beta\\right)^{2}}}} - \\frac{v \\left(- K^{1 - \\beta} + f^{1 - \\beta}\\right)}{\\alpha^{2} \\cdot \\left(1 - \\beta\\right)}\\right) \\log{\\left(\\frac{f}{K} \\right)}}{\\left(- \\rho + \\sqrt{1 - \\frac{2 \\rho v \\left(- K^{1 - \\beta} + f^{1 - \\beta}\\right)}{\\alpha \\left(1 - \\beta\\right)} + \\frac{v^{2} \\left(- K^{1 - \\beta} + f^{1 - \\beta}\\right)^{2}}{\\alpha^{2} \\left(1 - \\beta\\right)^{2}}} + \\frac{v \\left(- K^{1 - \\beta} + f^{1 - \\beta}\\right)}{\\alpha \\left(1 - \\beta\\right)}\\right) \\log{\\left(\\frac{- \\rho + \\sqrt{1 - \\frac{2 \\rho v \\left(- K^{1 - \\beta} + f^{1 - \\beta}\\right)}{\\alpha \\left(1 - \\beta\\right)} + \\frac{v^{2} \\left(- K^{1 - \\beta} + f^{1 - \\beta}\\right)^{2}}{\\alpha^{2} \\left(1 - \\beta\\right)^{2}}} + \\frac{v \\left(- K^{1 - \\beta} + f^{1 - \\beta}\\right)}{\\alpha \\left(1 - \\beta\\right)}}{1 - \\rho} \\right)}^{2}}$"
      ],
      "text/plain": [
       "T*v*(alpha*(K*f)**(beta - 1)*(1 - beta)**2/12 + beta*rho*v*(K*f)**(beta/2 - 1/2)/4)*log(f/K)/log((-rho + sqrt(1 - 2*rho*v*(-K**(1 - beta) + f**(1 - beta))/(alpha*(1 - beta)) + v**2*(-K**(1 - beta) + f**(1 - beta))**2/(alpha**2*(1 - beta)**2)) + v*(-K**(1 - beta) + f**(1 - beta))/(alpha*(1 - beta)))/(1 - rho)) - v*(T*(alpha**2*(K*f)**(beta - 1)*(1 - beta)**2/24 + alpha*beta*rho*v*(K*f)**(beta/2 - 1/2)/4 + v**2*(1 - 3*rho**2)/24) + 1)*((rho*v*(-K**(1 - beta) + f**(1 - beta))/(alpha**2*(1 - beta)) - v**2*(-K**(1 - beta) + f**(1 - beta))**2/(alpha**3*(1 - beta)**2))/sqrt(1 - 2*rho*v*(-K**(1 - beta) + f**(1 - beta))/(alpha*(1 - beta)) + v**2*(-K**(1 - beta) + f**(1 - beta))**2/(alpha**2*(1 - beta)**2)) - v*(-K**(1 - beta) + f**(1 - beta))/(alpha**2*(1 - beta)))*log(f/K)/((-rho + sqrt(1 - 2*rho*v*(-K**(1 - beta) + f**(1 - beta))/(alpha*(1 - beta)) + v**2*(-K**(1 - beta) + f**(1 - beta))**2/(alpha**2*(1 - beta)**2)) + v*(-K**(1 - beta) + f**(1 - beta))/(alpha*(1 - beta)))*log((-rho + sqrt(1 - 2*rho*v*(-K**(1 - beta) + f**(1 - beta))/(alpha*(1 - beta)) + v**2*(-K**(1 - beta) + f**(1 - beta))**2/(alpha**2*(1 - beta)**2)) + v*(-K**(1 - beta) + f**(1 - beta))/(alpha*(1 - beta)))/(1 - rho))**2)"
      ]
     },
     "execution_count": 65,
     "metadata": {},
     "output_type": "execute_result"
    }
   ],
   "source": [
    "z = v*(f**(1 - beta) - K**(1 - beta))/(alpha*(1 - beta))\n",
    "I_0 = v*x/(sym.log((sym.sqrt(1 - 2*rho*z + z**2) + z - rho)/(1 - rho)))\n",
    "sigma = I_0*(1 + I_H_1*T)\n",
    "\n",
    "sigma.diff(alpha)"
   ]
  },
  {
   "cell_type": "code",
   "execution_count": 69,
   "id": "fa118c11",
   "metadata": {},
   "outputs": [
    {
     "data": {
      "text/latex": [
       "$\\displaystyle \\frac{T v \\left(\\frac{\\alpha^{2} \\left(K f\\right)^{\\beta - 1} \\left(1 - \\beta\\right)^{2} \\log{\\left(K f \\right)}}{24} + \\frac{\\alpha^{2} \\left(K f\\right)^{\\beta - 1} \\cdot \\left(2 \\beta - 2\\right)}{24} + \\frac{\\alpha \\beta \\rho v \\left(K f\\right)^{\\frac{\\beta}{2} - \\frac{1}{2}} \\log{\\left(K f \\right)}}{8} + \\frac{\\alpha \\rho v \\left(K f\\right)^{\\frac{\\beta}{2} - \\frac{1}{2}}}{4}\\right) \\log{\\left(\\frac{f}{K} \\right)}}{\\log{\\left(\\frac{- \\rho + \\sqrt{1 - \\frac{2 \\rho v \\left(- K^{1 - \\beta} + f^{1 - \\beta}\\right)}{\\alpha \\left(1 - \\beta\\right)} + \\frac{v^{2} \\left(- K^{1 - \\beta} + f^{1 - \\beta}\\right)^{2}}{\\alpha^{2} \\left(1 - \\beta\\right)^{2}}} + \\frac{v \\left(- K^{1 - \\beta} + f^{1 - \\beta}\\right)}{\\alpha \\left(1 - \\beta\\right)}}{1 - \\rho} \\right)}} - \\frac{v \\left(T \\left(\\frac{\\alpha^{2} \\left(K f\\right)^{\\beta - 1} \\left(1 - \\beta\\right)^{2}}{24} + \\frac{\\alpha \\beta \\rho v \\left(K f\\right)^{\\frac{\\beta}{2} - \\frac{1}{2}}}{4} + \\frac{v^{2} \\cdot \\left(1 - 3 \\rho^{2}\\right)}{24}\\right) + 1\\right) \\left(\\frac{- \\frac{\\rho v \\left(K^{1 - \\beta} \\log{\\left(K \\right)} - f^{1 - \\beta} \\log{\\left(f \\right)}\\right)}{\\alpha \\left(1 - \\beta\\right)} - \\frac{\\rho v \\left(- K^{1 - \\beta} + f^{1 - \\beta}\\right)}{\\alpha \\left(1 - \\beta\\right)^{2}} + \\frac{v^{2} \\left(- K^{1 - \\beta} + f^{1 - \\beta}\\right) \\left(2 K^{1 - \\beta} \\log{\\left(K \\right)} - 2 f^{1 - \\beta} \\log{\\left(f \\right)}\\right)}{2 \\alpha^{2} \\left(1 - \\beta\\right)^{2}} + \\frac{v^{2} \\left(- K^{1 - \\beta} + f^{1 - \\beta}\\right)^{2}}{\\alpha^{2} \\left(1 - \\beta\\right)^{3}}}{\\sqrt{1 - \\frac{2 \\rho v \\left(- K^{1 - \\beta} + f^{1 - \\beta}\\right)}{\\alpha \\left(1 - \\beta\\right)} + \\frac{v^{2} \\left(- K^{1 - \\beta} + f^{1 - \\beta}\\right)^{2}}{\\alpha^{2} \\left(1 - \\beta\\right)^{2}}}} + \\frac{v \\left(K^{1 - \\beta} \\log{\\left(K \\right)} - f^{1 - \\beta} \\log{\\left(f \\right)}\\right)}{\\alpha \\left(1 - \\beta\\right)} + \\frac{v \\left(- K^{1 - \\beta} + f^{1 - \\beta}\\right)}{\\alpha \\left(1 - \\beta\\right)^{2}}\\right) \\log{\\left(\\frac{f}{K} \\right)}}{\\left(- \\rho + \\sqrt{1 - \\frac{2 \\rho v \\left(- K^{1 - \\beta} + f^{1 - \\beta}\\right)}{\\alpha \\left(1 - \\beta\\right)} + \\frac{v^{2} \\left(- K^{1 - \\beta} + f^{1 - \\beta}\\right)^{2}}{\\alpha^{2} \\left(1 - \\beta\\right)^{2}}} + \\frac{v \\left(- K^{1 - \\beta} + f^{1 - \\beta}\\right)}{\\alpha \\left(1 - \\beta\\right)}\\right) \\log{\\left(\\frac{- \\rho + \\sqrt{1 - \\frac{2 \\rho v \\left(- K^{1 - \\beta} + f^{1 - \\beta}\\right)}{\\alpha \\left(1 - \\beta\\right)} + \\frac{v^{2} \\left(- K^{1 - \\beta} + f^{1 - \\beta}\\right)^{2}}{\\alpha^{2} \\left(1 - \\beta\\right)^{2}}} + \\frac{v \\left(- K^{1 - \\beta} + f^{1 - \\beta}\\right)}{\\alpha \\left(1 - \\beta\\right)}}{1 - \\rho} \\right)}^{2}}$"
      ],
      "text/plain": [
       "T*v*(alpha**2*(K*f)**(beta - 1)*(1 - beta)**2*log(K*f)/24 + alpha**2*(K*f)**(beta - 1)*(2*beta - 2)/24 + alpha*beta*rho*v*(K*f)**(beta/2 - 1/2)*log(K*f)/8 + alpha*rho*v*(K*f)**(beta/2 - 1/2)/4)*log(f/K)/log((-rho + sqrt(1 - 2*rho*v*(-K**(1 - beta) + f**(1 - beta))/(alpha*(1 - beta)) + v**2*(-K**(1 - beta) + f**(1 - beta))**2/(alpha**2*(1 - beta)**2)) + v*(-K**(1 - beta) + f**(1 - beta))/(alpha*(1 - beta)))/(1 - rho)) - v*(T*(alpha**2*(K*f)**(beta - 1)*(1 - beta)**2/24 + alpha*beta*rho*v*(K*f)**(beta/2 - 1/2)/4 + v**2*(1 - 3*rho**2)/24) + 1)*((-rho*v*(K**(1 - beta)*log(K) - f**(1 - beta)*log(f))/(alpha*(1 - beta)) - rho*v*(-K**(1 - beta) + f**(1 - beta))/(alpha*(1 - beta)**2) + v**2*(-K**(1 - beta) + f**(1 - beta))*(2*K**(1 - beta)*log(K) - 2*f**(1 - beta)*log(f))/(2*alpha**2*(1 - beta)**2) + v**2*(-K**(1 - beta) + f**(1 - beta))**2/(alpha**2*(1 - beta)**3))/sqrt(1 - 2*rho*v*(-K**(1 - beta) + f**(1 - beta))/(alpha*(1 - beta)) + v**2*(-K**(1 - beta) + f**(1 - beta))**2/(alpha**2*(1 - beta)**2)) + v*(K**(1 - beta)*log(K) - f**(1 - beta)*log(f))/(alpha*(1 - beta)) + v*(-K**(1 - beta) + f**(1 - beta))/(alpha*(1 - beta)**2))*log(f/K)/((-rho + sqrt(1 - 2*rho*v*(-K**(1 - beta) + f**(1 - beta))/(alpha*(1 - beta)) + v**2*(-K**(1 - beta) + f**(1 - beta))**2/(alpha**2*(1 - beta)**2)) + v*(-K**(1 - beta) + f**(1 - beta))/(alpha*(1 - beta)))*log((-rho + sqrt(1 - 2*rho*v*(-K**(1 - beta) + f**(1 - beta))/(alpha*(1 - beta)) + v**2*(-K**(1 - beta) + f**(1 - beta))**2/(alpha**2*(1 - beta)**2)) + v*(-K**(1 - beta) + f**(1 - beta))/(alpha*(1 - beta)))/(1 - rho))**2)"
      ]
     },
     "execution_count": 69,
     "metadata": {},
     "output_type": "execute_result"
    }
   ],
   "source": [
    "sigma.diff(beta)\n"
   ]
  },
  {
   "cell_type": "code",
   "execution_count": 71,
   "id": "b2209a00",
   "metadata": {},
   "outputs": [
    {
     "data": {
      "text/latex": [
       "$\\displaystyle \\frac{T v \\left(\\frac{\\alpha \\beta \\rho \\left(K f\\right)^{\\frac{\\beta}{2} - \\frac{1}{2}}}{4} + \\frac{v \\left(1 - 3 \\rho^{2}\\right)}{12}\\right) \\log{\\left(\\frac{f}{K} \\right)}}{\\log{\\left(\\frac{- \\rho + \\sqrt{1 - \\frac{2 \\rho v \\left(- K^{1 - \\beta} + f^{1 - \\beta}\\right)}{\\alpha \\left(1 - \\beta\\right)} + \\frac{v^{2} \\left(- K^{1 - \\beta} + f^{1 - \\beta}\\right)^{2}}{\\alpha^{2} \\left(1 - \\beta\\right)^{2}}} + \\frac{v \\left(- K^{1 - \\beta} + f^{1 - \\beta}\\right)}{\\alpha \\left(1 - \\beta\\right)}}{1 - \\rho} \\right)}} - \\frac{v \\left(T \\left(\\frac{\\alpha^{2} \\left(K f\\right)^{\\beta - 1} \\left(1 - \\beta\\right)^{2}}{24} + \\frac{\\alpha \\beta \\rho v \\left(K f\\right)^{\\frac{\\beta}{2} - \\frac{1}{2}}}{4} + \\frac{v^{2} \\cdot \\left(1 - 3 \\rho^{2}\\right)}{24}\\right) + 1\\right) \\left(\\frac{- \\frac{\\rho \\left(- K^{1 - \\beta} + f^{1 - \\beta}\\right)}{\\alpha \\left(1 - \\beta\\right)} + \\frac{v \\left(- K^{1 - \\beta} + f^{1 - \\beta}\\right)^{2}}{\\alpha^{2} \\left(1 - \\beta\\right)^{2}}}{\\sqrt{1 - \\frac{2 \\rho v \\left(- K^{1 - \\beta} + f^{1 - \\beta}\\right)}{\\alpha \\left(1 - \\beta\\right)} + \\frac{v^{2} \\left(- K^{1 - \\beta} + f^{1 - \\beta}\\right)^{2}}{\\alpha^{2} \\left(1 - \\beta\\right)^{2}}}} + \\frac{- K^{1 - \\beta} + f^{1 - \\beta}}{\\alpha \\left(1 - \\beta\\right)}\\right) \\log{\\left(\\frac{f}{K} \\right)}}{\\left(- \\rho + \\sqrt{1 - \\frac{2 \\rho v \\left(- K^{1 - \\beta} + f^{1 - \\beta}\\right)}{\\alpha \\left(1 - \\beta\\right)} + \\frac{v^{2} \\left(- K^{1 - \\beta} + f^{1 - \\beta}\\right)^{2}}{\\alpha^{2} \\left(1 - \\beta\\right)^{2}}} + \\frac{v \\left(- K^{1 - \\beta} + f^{1 - \\beta}\\right)}{\\alpha \\left(1 - \\beta\\right)}\\right) \\log{\\left(\\frac{- \\rho + \\sqrt{1 - \\frac{2 \\rho v \\left(- K^{1 - \\beta} + f^{1 - \\beta}\\right)}{\\alpha \\left(1 - \\beta\\right)} + \\frac{v^{2} \\left(- K^{1 - \\beta} + f^{1 - \\beta}\\right)^{2}}{\\alpha^{2} \\left(1 - \\beta\\right)^{2}}} + \\frac{v \\left(- K^{1 - \\beta} + f^{1 - \\beta}\\right)}{\\alpha \\left(1 - \\beta\\right)}}{1 - \\rho} \\right)}^{2}} + \\frac{\\left(T \\left(\\frac{\\alpha^{2} \\left(K f\\right)^{\\beta - 1} \\left(1 - \\beta\\right)^{2}}{24} + \\frac{\\alpha \\beta \\rho v \\left(K f\\right)^{\\frac{\\beta}{2} - \\frac{1}{2}}}{4} + \\frac{v^{2} \\cdot \\left(1 - 3 \\rho^{2}\\right)}{24}\\right) + 1\\right) \\log{\\left(\\frac{f}{K} \\right)}}{\\log{\\left(\\frac{- \\rho + \\sqrt{1 - \\frac{2 \\rho v \\left(- K^{1 - \\beta} + f^{1 - \\beta}\\right)}{\\alpha \\left(1 - \\beta\\right)} + \\frac{v^{2} \\left(- K^{1 - \\beta} + f^{1 - \\beta}\\right)^{2}}{\\alpha^{2} \\left(1 - \\beta\\right)^{2}}} + \\frac{v \\left(- K^{1 - \\beta} + f^{1 - \\beta}\\right)}{\\alpha \\left(1 - \\beta\\right)}}{1 - \\rho} \\right)}}$"
      ],
      "text/plain": [
       "T*v*(alpha*beta*rho*(K*f)**(beta/2 - 1/2)/4 + v*(1 - 3*rho**2)/12)*log(f/K)/log((-rho + sqrt(1 - 2*rho*v*(-K**(1 - beta) + f**(1 - beta))/(alpha*(1 - beta)) + v**2*(-K**(1 - beta) + f**(1 - beta))**2/(alpha**2*(1 - beta)**2)) + v*(-K**(1 - beta) + f**(1 - beta))/(alpha*(1 - beta)))/(1 - rho)) - v*(T*(alpha**2*(K*f)**(beta - 1)*(1 - beta)**2/24 + alpha*beta*rho*v*(K*f)**(beta/2 - 1/2)/4 + v**2*(1 - 3*rho**2)/24) + 1)*((-rho*(-K**(1 - beta) + f**(1 - beta))/(alpha*(1 - beta)) + v*(-K**(1 - beta) + f**(1 - beta))**2/(alpha**2*(1 - beta)**2))/sqrt(1 - 2*rho*v*(-K**(1 - beta) + f**(1 - beta))/(alpha*(1 - beta)) + v**2*(-K**(1 - beta) + f**(1 - beta))**2/(alpha**2*(1 - beta)**2)) + (-K**(1 - beta) + f**(1 - beta))/(alpha*(1 - beta)))*log(f/K)/((-rho + sqrt(1 - 2*rho*v*(-K**(1 - beta) + f**(1 - beta))/(alpha*(1 - beta)) + v**2*(-K**(1 - beta) + f**(1 - beta))**2/(alpha**2*(1 - beta)**2)) + v*(-K**(1 - beta) + f**(1 - beta))/(alpha*(1 - beta)))*log((-rho + sqrt(1 - 2*rho*v*(-K**(1 - beta) + f**(1 - beta))/(alpha*(1 - beta)) + v**2*(-K**(1 - beta) + f**(1 - beta))**2/(alpha**2*(1 - beta)**2)) + v*(-K**(1 - beta) + f**(1 - beta))/(alpha*(1 - beta)))/(1 - rho))**2) + (T*(alpha**2*(K*f)**(beta - 1)*(1 - beta)**2/24 + alpha*beta*rho*v*(K*f)**(beta/2 - 1/2)/4 + v**2*(1 - 3*rho**2)/24) + 1)*log(f/K)/log((-rho + sqrt(1 - 2*rho*v*(-K**(1 - beta) + f**(1 - beta))/(alpha*(1 - beta)) + v**2*(-K**(1 - beta) + f**(1 - beta))**2/(alpha**2*(1 - beta)**2)) + v*(-K**(1 - beta) + f**(1 - beta))/(alpha*(1 - beta)))/(1 - rho))"
      ]
     },
     "execution_count": 71,
     "metadata": {},
     "output_type": "execute_result"
    }
   ],
   "source": [
    "sigma.diff(v)\n"
   ]
  },
  {
   "cell_type": "code",
   "execution_count": 72,
   "id": "52a5766c",
   "metadata": {},
   "outputs": [
    {
     "data": {
      "text/latex": [
       "$\\displaystyle \\frac{T v \\left(\\frac{\\alpha \\beta v \\left(K f\\right)^{\\frac{\\beta}{2} - \\frac{1}{2}}}{4} - \\frac{\\rho v^{2}}{4}\\right) \\log{\\left(\\frac{f}{K} \\right)}}{\\log{\\left(\\frac{- \\rho + \\sqrt{1 - \\frac{2 \\rho v \\left(- K^{1 - \\beta} + f^{1 - \\beta}\\right)}{\\alpha \\left(1 - \\beta\\right)} + \\frac{v^{2} \\left(- K^{1 - \\beta} + f^{1 - \\beta}\\right)^{2}}{\\alpha^{2} \\left(1 - \\beta\\right)^{2}}} + \\frac{v \\left(- K^{1 - \\beta} + f^{1 - \\beta}\\right)}{\\alpha \\left(1 - \\beta\\right)}}{1 - \\rho} \\right)}} - \\frac{v \\left(1 - \\rho\\right) \\left(T \\left(\\frac{\\alpha^{2} \\left(K f\\right)^{\\beta - 1} \\left(1 - \\beta\\right)^{2}}{24} + \\frac{\\alpha \\beta \\rho v \\left(K f\\right)^{\\frac{\\beta}{2} - \\frac{1}{2}}}{4} + \\frac{v^{2} \\cdot \\left(1 - 3 \\rho^{2}\\right)}{24}\\right) + 1\\right) \\left(\\frac{-1 - \\frac{v \\left(- K^{1 - \\beta} + f^{1 - \\beta}\\right)}{\\alpha \\left(1 - \\beta\\right) \\sqrt{1 - \\frac{2 \\rho v \\left(- K^{1 - \\beta} + f^{1 - \\beta}\\right)}{\\alpha \\left(1 - \\beta\\right)} + \\frac{v^{2} \\left(- K^{1 - \\beta} + f^{1 - \\beta}\\right)^{2}}{\\alpha^{2} \\left(1 - \\beta\\right)^{2}}}}}{1 - \\rho} + \\frac{- \\rho + \\sqrt{1 - \\frac{2 \\rho v \\left(- K^{1 - \\beta} + f^{1 - \\beta}\\right)}{\\alpha \\left(1 - \\beta\\right)} + \\frac{v^{2} \\left(- K^{1 - \\beta} + f^{1 - \\beta}\\right)^{2}}{\\alpha^{2} \\left(1 - \\beta\\right)^{2}}} + \\frac{v \\left(- K^{1 - \\beta} + f^{1 - \\beta}\\right)}{\\alpha \\left(1 - \\beta\\right)}}{\\left(1 - \\rho\\right)^{2}}\\right) \\log{\\left(\\frac{f}{K} \\right)}}{\\left(- \\rho + \\sqrt{1 - \\frac{2 \\rho v \\left(- K^{1 - \\beta} + f^{1 - \\beta}\\right)}{\\alpha \\left(1 - \\beta\\right)} + \\frac{v^{2} \\left(- K^{1 - \\beta} + f^{1 - \\beta}\\right)^{2}}{\\alpha^{2} \\left(1 - \\beta\\right)^{2}}} + \\frac{v \\left(- K^{1 - \\beta} + f^{1 - \\beta}\\right)}{\\alpha \\left(1 - \\beta\\right)}\\right) \\log{\\left(\\frac{- \\rho + \\sqrt{1 - \\frac{2 \\rho v \\left(- K^{1 - \\beta} + f^{1 - \\beta}\\right)}{\\alpha \\left(1 - \\beta\\right)} + \\frac{v^{2} \\left(- K^{1 - \\beta} + f^{1 - \\beta}\\right)^{2}}{\\alpha^{2} \\left(1 - \\beta\\right)^{2}}} + \\frac{v \\left(- K^{1 - \\beta} + f^{1 - \\beta}\\right)}{\\alpha \\left(1 - \\beta\\right)}}{1 - \\rho} \\right)}^{2}}$"
      ],
      "text/plain": [
       "T*v*(alpha*beta*v*(K*f)**(beta/2 - 1/2)/4 - rho*v**2/4)*log(f/K)/log((-rho + sqrt(1 - 2*rho*v*(-K**(1 - beta) + f**(1 - beta))/(alpha*(1 - beta)) + v**2*(-K**(1 - beta) + f**(1 - beta))**2/(alpha**2*(1 - beta)**2)) + v*(-K**(1 - beta) + f**(1 - beta))/(alpha*(1 - beta)))/(1 - rho)) - v*(1 - rho)*(T*(alpha**2*(K*f)**(beta - 1)*(1 - beta)**2/24 + alpha*beta*rho*v*(K*f)**(beta/2 - 1/2)/4 + v**2*(1 - 3*rho**2)/24) + 1)*((-1 - v*(-K**(1 - beta) + f**(1 - beta))/(alpha*(1 - beta)*sqrt(1 - 2*rho*v*(-K**(1 - beta) + f**(1 - beta))/(alpha*(1 - beta)) + v**2*(-K**(1 - beta) + f**(1 - beta))**2/(alpha**2*(1 - beta)**2))))/(1 - rho) + (-rho + sqrt(1 - 2*rho*v*(-K**(1 - beta) + f**(1 - beta))/(alpha*(1 - beta)) + v**2*(-K**(1 - beta) + f**(1 - beta))**2/(alpha**2*(1 - beta)**2)) + v*(-K**(1 - beta) + f**(1 - beta))/(alpha*(1 - beta)))/(1 - rho)**2)*log(f/K)/((-rho + sqrt(1 - 2*rho*v*(-K**(1 - beta) + f**(1 - beta))/(alpha*(1 - beta)) + v**2*(-K**(1 - beta) + f**(1 - beta))**2/(alpha**2*(1 - beta)**2)) + v*(-K**(1 - beta) + f**(1 - beta))/(alpha*(1 - beta)))*log((-rho + sqrt(1 - 2*rho*v*(-K**(1 - beta) + f**(1 - beta))/(alpha*(1 - beta)) + v**2*(-K**(1 - beta) + f**(1 - beta))**2/(alpha**2*(1 - beta)**2)) + v*(-K**(1 - beta) + f**(1 - beta))/(alpha*(1 - beta)))/(1 - rho))**2)"
      ]
     },
     "execution_count": 72,
     "metadata": {},
     "output_type": "execute_result"
    }
   ],
   "source": [
    "sigma.diff(rho)\n"
   ]
  }
 ],
 "metadata": {
  "kernelspec": {
   "display_name": "Python 3 (ipykernel)",
   "language": "python",
   "name": "python3"
  },
  "language_info": {
   "codemirror_mode": {
    "name": "ipython",
    "version": 3
   },
   "file_extension": ".py",
   "mimetype": "text/x-python",
   "name": "python",
   "nbconvert_exporter": "python",
   "pygments_lexer": "ipython3",
   "version": "3.8.13"
  }
 },
 "nbformat": 4,
 "nbformat_minor": 5
}
