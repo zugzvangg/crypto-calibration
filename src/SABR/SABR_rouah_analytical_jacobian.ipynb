{
 "cells": [
  {
   "cell_type": "markdown",
   "id": "ace31ce3",
   "metadata": {},
   "source": [
    "# <center> SABR by Jan Obloj </center> "
   ]
  },
  {
   "cell_type": "markdown",
   "id": "7e356c12",
   "metadata": {},
   "source": [
    "$$x = \\ln \\frac{f}{K}$$\n",
    "\n",
    "$$ \\sigma_B(x, T) \\approx I_B^0(x) (1 + I_H^1(x)T) = I_B^0(x) + I_B^0(x) \\cdot I_H^1(x)T$$\n",
    "\n",
    "$$I_H^1(x) = \\frac{\\alpha^{2} \\left(K f\\right)^{\\beta - 1} \\left(1 - \\beta\\right)^{2}}{24} + \\frac{\\alpha \\beta \\rho v \\left(K f\\right)^{\\frac{\\beta}{2} - \\frac{1}{2}}}{4} + \\frac{v^{2} \\cdot \\left(2 - 3 \\rho^{2}\\right)}{24}$$\n",
    "\n",
    "\n",
    "Derivatives of $I_H^1(x)$:\n",
    "\n",
    "$$ \\frac{\\partial I_H^1(x)}{\\partial \\alpha} = \\frac{\\alpha \\left(K f\\right)^{\\beta - 1} \\left(1 - \\beta\\right)^{2}}{12} + \\frac{\\beta \\rho v \\left(K f\\right)^{\\frac{\\beta}{2} - \\frac{1}{2}}}{4}$$\n",
    "\n",
    "$$ \\frac{\\partial I_H^1(x)}{\\partial \\beta} = \\frac{\\alpha^{2} \\left(K f\\right)^{\\beta - 1} \\left(1 - \\beta\\right)^{2} \\log{\\left(K f \\right)}}{24} + \\frac{\\alpha^{2} \\left(K f\\right)^{\\beta - 1} \\cdot \\left(2 \\beta - 2\\right)}{24} + \\frac{\\alpha \\beta \\rho v \\left(K f\\right)^{\\frac{\\beta}{2} - \\frac{1}{2}} \\log{\\left(K f \\right)}}{8} + \\frac{\\alpha \\rho v \\left(K f\\right)^{\\frac{\\beta}{2} - \\frac{1}{2}}}{4} $$\n",
    "\n",
    "$$ \\frac{\\partial I_H^1(x)}{\\partial v} = \\frac{\\alpha \\beta \\rho \\left(K f\\right)^{\\frac{\\beta}{2} - \\frac{1}{2}}}{4} + \\frac{v \\left(2 - 3 \\rho^{2}\\right)}{12}$$\n",
    "\n",
    "$$ \\frac{\\partial I_H^1(x)}{\\partial \\rho} = \\frac{\\alpha \\beta v \\left(K f\\right)^{\\frac{\\beta}{2} - \\frac{1}{2}}}{4} - \\frac{\\rho v^{2}}{4}$$\n",
    "\n",
    "$$\\frac{\\partial I_H^1(x)}{\\partial f} = \\frac{\\alpha^2 K^{\\beta - 1} (\\beta - 1)^3}{24} f^{\\beta - 2} + \\frac{\\alpha \\beta \\rho v (\\frac{\\beta}{2} - \\frac{1}{2}) K^{\\frac{\\beta}{2} - \\frac{1}{2}}}{4} f^{\\frac{\\beta}{2}  - \\frac{3}{2}}$$\n"
   ]
  },
  {
   "cell_type": "markdown",
   "id": "05166e3e",
   "metadata": {},
   "source": [
    "$\\textbf{Case 1}: x = 0$ \n",
    "$$I_B^0 = \\alpha K^{\\beta - 1}$$\n",
    "\n",
    "$$\\frac{\\partial I_B^0}{\\partial \\alpha} = K^{\\beta - 1}$$\n",
    "$$\\frac{\\partial I_B^0}{\\partial \\beta} = K^{\\beta - 1} \\alpha \\ln{\\left(K \\right)}$$\n",
    "$$\\frac{\\partial I_B^0}{\\partial v} = 0 $$\n",
    "$$\\frac{\\partial I_B^0}{\\partial \\rho} = 0 $$\n",
    "$$\\frac{\\partial I_B^0}{\\partial f} = 0$$\n"
   ]
  },
  {
   "cell_type": "markdown",
   "id": "6de28a8b",
   "metadata": {},
   "source": [
    "$\\textbf{Case 2}: v = 0$ \n",
    "$$I_B^0 = \\frac{x\\alpha(1 - \\beta)}{f^{1 - \\beta} - K^{1 - \\beta}} $$\n",
    "\n",
    "$$\\frac{\\partial I_B^0}{\\partial \\alpha} = \\frac{x(1 - \\beta)}{f^{1 - \\beta} - K^{1 - \\beta}}$$\n",
    "\n",
    "$$\\frac{\\partial I_B^0}{\\partial \\beta} = \\frac{\\alpha x \\left(K^{1 - \\beta} - f^{1 - \\beta} + \\left(\\beta - 1\\right) \\left(K^{1 - \\beta} \\log{\\left(K \\right)} - f^{1 - \\beta} \\log{\\left(f \\right)}\\right)\\right)}{\\left(K^{1 - \\beta} - f^{1 - \\beta}\\right)^{2}}$$\n",
    "\n",
    "$$\\frac{\\partial I_B^0}{\\partial v} = 0 $$\n",
    "$$\\frac{\\partial I_B^0}{\\partial \\rho} = 0 $$\n",
    "$$\\frac{\\partial I_B^0}{\\partial f} = \\frac{\\alpha \\left(\\beta - 1\\right) \\left(f \\left(K^{1 - \\beta} - f^{1 - \\beta}\\right) - f^{2 - \\beta} x \\left(\\beta - 1\\right)\\right)}{f^{2} \\left(K^{1 - \\beta} - f^{1 - \\beta}\\right)^{2}}$$"
   ]
  },
  {
   "cell_type": "markdown",
   "id": "8fa5c256",
   "metadata": {},
   "source": [
    "$\\textbf{Case 3}: \\beta = 1$ \n",
    "\n",
    "$$z = \\frac{v x}{\\alpha}$$\n",
    "\n",
    "$$\\xi =  \\sqrt{- 2 \\rho z + z^{2} + 1} $$\n",
    "\n",
    "$$I_B^0 = \\frac{vx}{\\ln \\left( \\frac{\\xi + z - \\rho}{1 - \\rho} \\right) } $$\n",
    "\n",
    "$$\\frac{\\partial I_B^0}{\\partial \\alpha} = \\frac{v x z}{\\alpha \\xi \\log{\\left(\\frac{\\rho - z - \\xi}{\\rho - 1} \\right)}^{2}}$$\n",
    "\n",
    "\n",
    "$$\\frac{\\partial I_B^0}{\\partial \\beta} = 0 $$\n",
    "\n",
    "\n",
    "$$\\frac{\\partial I_B^0}{\\partial v} = \\frac{x \\left(\\alpha \\xi \\log{\\left(\\frac{\\rho - z - \\xi}{\\rho - 1} \\right)} - v x\\right)}{\\alpha \\xi \\log{\\left(\\frac{\\rho - z - \\xi}{\\rho - 1} \\right)}^{2}}$$\n",
    "\n",
    "\n",
    "$$\\frac{\\partial I_B^0}{\\partial \\rho} = \\frac{v x \\left(\\left(\\rho - 1\\right) \\left(z + \\xi\\right) + \\left(- \\rho + z + \\xi\\right) \\xi\\right)}{\\left(\\rho - 1\\right) \\left(- \\rho + z + \\xi\\right) \\xi \\log{\\left(\\frac{\\rho - z - \\xi}{\\rho - 1} \\right)}^{2}} $$\n",
    "\n",
    "$$\\frac{\\partial I_B^0}{\\partial f} = \\frac{v \\left(\\alpha \\xi \\log{\\left(\\frac{\\rho - z - \\xi}{\\rho - 1} \\right)} - v x\\right)}{\\alpha f \\xi \\log{\\left(\\frac{\\rho - z - \\xi}{\\rho - 1} \\right)}^{2}}$$"
   ]
  },
  {
   "cell_type": "markdown",
   "id": "7ba7db0d",
   "metadata": {},
   "source": [
    "$\\textbf{Case 4}: \\beta < 1$ \n",
    "\n",
    "$$z = \\frac{v(f^{1 - \\beta} - K^{1 - \\beta})}{\\alpha (1 - \\beta)}$$\n",
    "\n",
    "$$\\xi =  \\sqrt{- 2 \\rho z + z^{2} + 1} $$\n",
    "\n",
    "$$I_B^0 = \\frac{vx}{\\ln \\left( \\frac{\\xi + z - \\rho}{1 - \\rho} \\right) } $$\n",
    "\n",
    "$$\\frac{\\partial I_B^0}{\\partial \\alpha} = \\frac{v x z}{\\alpha \\xi \\log{\\left(\\frac{\\rho - z - \\xi}{\\rho - 1} \\right)}^{2}} $$\n",
    "\n",
    "\n",
    "$$\\frac{\\partial I_B^0}{\\partial \\beta} = \\frac{K^{- \\beta} f^{- \\beta} v x \\left(K f^{\\beta} v \\log{\\left(K \\right)} + K^{\\beta} \\alpha f^{\\beta} z - K^{\\beta} f v \\log{\\left(f \\right)}\\right)}{\\xi \\alpha \\left(\\beta - 1\\right) \\log{\\left(\\frac{- \\xi + \\rho - z}{\\rho - 1} \\right)}^{2}} $$\n",
    "\n",
    "\n",
    "$$\\frac{\\partial I_B^0}{\\partial v} = \\frac{x \\left(\\xi \\alpha \\left(\\beta - 1\\right) \\log{\\left(\\frac{- \\xi + \\rho - z}{\\rho - 1} \\right)} - v \\left(K^{1 - \\beta} - f^{1 - \\beta}\\right)\\right)}{\\xi \\alpha \\left(\\beta - 1\\right) \\log{\\left(\\frac{- \\xi + \\rho - z}{\\rho - 1} \\right)}^{2}}$$\n",
    "\n",
    "\n",
    "$$\\frac{\\partial I_B^0}{\\partial \\rho} = \\frac{v x \\left(\\xi \\left(\\xi - \\rho + z\\right) + \\left(\\xi + z\\right) \\left(\\rho - 1\\right)\\right)}{\\xi \\left(\\rho - 1\\right) \\left(\\xi - \\rho + z\\right) \\log{\\left(\\frac{- \\xi + \\rho - z}{\\rho - 1} \\right)}^{2}}$$\n",
    "\n",
    "$$\\frac{\\partial I_B^0}{\\partial f} = \\frac{f^{- \\beta} v \\left(\\xi \\alpha f^{\\beta} \\log{\\left(\\frac{- \\xi + \\rho - z}{\\rho - 1} \\right)} - f v x\\right)}{\\xi \\alpha f \\log{\\left(\\frac{- \\xi + \\rho - z}{\\rho - 1} \\right)}^{2}}$$"
   ]
  },
  {
   "cell_type": "markdown",
   "id": "87bbbafa",
   "metadata": {},
   "source": [
    "Final formulas for Jacobian:\n",
    "\n",
    "$$ \\frac{\\partial \\sigma_B(x, T)}{\\partial \\alpha} = \\frac{I_B^0(x)}{\\partial \\alpha} (1 + I_H^1(x)T) +\n",
    "\\frac{I_H^1(x)}{\\partial \\alpha} I_B^0(x) T \n",
    "$$\n",
    "\n",
    "$$ \\frac{\\partial \\sigma_B(x, T)}{\\partial \\beta} = \\frac{I_B^0(x)}{\\partial \\beta} (1 + I_H^1(x)T) +\n",
    "\\frac{I_H^1(x)}{\\partial \\beta} I_B^0(x) T \n",
    "$$\n",
    "\n",
    "$$ \\frac{\\partial \\sigma_B(x, T)}{\\partial v} = \\frac{I_B^0(x)}{\\partial v} (1 + I_H^1(x)T) +\n",
    "\\frac{I_H^1(x)}{\\partial v} I_B^0(x) T \n",
    "$$\n",
    "\n",
    "$$ \\frac{\\partial \\sigma_B(x, T)}{\\partial \\rho} = \\frac{I_B^0(x)}{\\partial \\rho} (1 + I_H^1(x)T) +\n",
    "\\frac{I_H^1(x)}{\\partial \\rho} I_B^0(x) T \n",
    "$$"
   ]
  },
  {
   "cell_type": "markdown",
   "id": "bd1297a6",
   "metadata": {},
   "source": [
    "Greeks and derivatives by params"
   ]
  },
  {
   "cell_type": "markdown",
   "id": "2ec0306b",
   "metadata": {},
   "source": [
    "$$\\Delta_{call} =  \\frac{\\partial C}{\\partial f} =  \\frac{\\partial C_B}{\\partial f} + \\frac{\\partial C_B}{\\partial \\sigma_B} \\cdot \\left( \\frac{\\partial \\sigma_B}{\\partial f} + \\frac{\\partial \\sigma_B}{\\partial \\alpha}  \\frac{\\rho v}{f^\\beta} \\right) = $$\n",
    "$$ = \\Delta_{BSM} + Vega_{BSM} \\cdot \\left( \\frac{\\partial \\sigma_B}{\\partial f} + \\frac{\\partial \\sigma_B}{\\partial \\alpha}  \\frac{\\rho v}{f^\\beta} \\right) = $$\n",
    "$$N(d_1) + fN'(d_{1}){\\sqrt {T-t}} \\cdot \\left( \\frac{\\partial \\sigma_B}{\\partial f} + \\frac{\\partial \\sigma_B}{\\partial \\alpha}  \\frac{\\rho v}{f^\\beta} \\right)$$\n",
    "$$\\Delta_{put} = \\Delta_{call} - 1$$\n"
   ]
  },
  {
   "cell_type": "markdown",
   "id": "42339151",
   "metadata": {},
   "source": [
    "$$\\Gamma = \\frac{\\partial \\Delta_{call}}{\\partial f}  = \\frac{\\partial N(d_1)}{\\partial f}  + f \\frac{\\partial N'(d_{1})}{\\partial f}  {\\sqrt {T-t}} \\cdot \\left( \\frac{\\partial \\sigma_B}{\\partial f} + \\frac{\\partial \\sigma_B}{\\partial \\alpha}  \\frac{\\rho v}{f^\\beta} \\right) + $$\n",
    "$$ + N'(d_{1}){\\sqrt {T-t}} \\cdot \\left( \\frac{\\partial \\sigma_B}{\\partial f} + \\frac{\\partial \\sigma_B}{\\partial \\alpha}  \\frac{\\rho v}{f^\\beta} \\right) + fN'(d_{1}){\\sqrt {T-t}} \\cdot \\left( \\frac{\\partial ^2 \\sigma_B}{\\partial f^2} + \\frac{\\partial ^2 \\sigma_B}{\\partial \\alpha \\partial f}  \\frac{\\rho v}{f^\\beta}  - \\frac{\\partial \\sigma_B}{\\partial \\alpha}  \\frac{\\beta \\rho v}{f^{\\beta + 1}} \\right)$$\n",
    "\n",
    "\n",
    "$$\\Gamma_{BSM} = \\frac{\\partial N(d_1)}{\\partial f} = \\frac{N'(d_{1})}{f\\sigma\\sqrt {T-t}}$$\n",
    "\n",
    "$$\\frac{\\partial N'(d_{1})}{\\partial f}  = \\frac{1}{\\sqrt{2 \\pi}} \\frac{\\partial e^{-d_1^2}}{\\partial f}  = - \\frac{2 d_1}{\\sqrt{2 \\pi}} e^{-d_1^2} \\frac{\\partial d_1}{\\partial f} = - \\frac{2 d_1}{\\sqrt{2 \\pi} \\sqrt{T - t} f \\sigma} e^{-d_1^2} = - \\frac{2 d_1 N'(d_1)}{\\sqrt{T - t} f \\sigma} = -2d_1 \\Gamma_{BSM}$$\n",
    "\n"
   ]
  },
  {
   "cell_type": "markdown",
   "id": "cf7f2288",
   "metadata": {},
   "source": [
    "$$\\frac{\\partial ^2 \\sigma_B}{\\partial f^2} = \\frac{\\partial}{\\partial f} \\left(\\frac{\\partial  I_B^0(x)}{\\partial f} + \\frac{\\partial  I_B^0(x)}{\\partial f} I_H^1(x)T + \\frac{\\partial  I_H^1(x)}{\\partial f} I_B^0(x) T \\right) = $$\n",
    "\n",
    "$$ = \\frac{\\partial^2  I_B^0(x)}{\\partial f^2} + \\frac{\\partial^2  I_B^0(x)}{\\partial f^2} I_H^1(x)T + \\frac{\\partial  I_B^0(x)}{\\partial f} \\frac{\\partial  I_H^1(x)}{\\partial f} T + \\frac{\\partial^2  I_H^1(x)}{\\partial f^2} I_B^0(x) T +  \\frac{\\partial  I_B^0(x)}{\\partial f} \\frac{\\partial  I_H^1(x)}{\\partial f} T = $$\n",
    "\n",
    "$$ = \\frac{\\partial^2  I_B^0(x)}{\\partial f^2} + T\\left( \\frac{\\partial^2  I_B^0(x)}{\\partial f^2} I_H^1(x) +  \\frac{\\partial^2  I_H^1(x)}{\\partial f^2} I_B^0(x)  + 2 \\frac{\\partial  I_B^0(x)}{\\partial f} \\frac{\\partial  I_H^1(x)}{\\partial f} \\right)$$"
   ]
  },
  {
   "cell_type": "markdown",
   "id": "fa6fb19a",
   "metadata": {},
   "source": [
    "$$ \\frac{\\partial ^2 \\sigma_B}{\\partial \\alpha \\partial f}  = \\frac{\\partial}{\\partial f}\\left( \\frac{\\partial I_B^0(x)}{\\partial \\alpha} (1 + I_H^1(x)T) +\\frac{\\partial I_H^1(x)}{\\partial \\alpha} I_B^0(x) T \\right) = $$\n",
    "$$ = \\frac{\\partial^2 I_B^0(x)}{\\partial \\alpha \\partial f} (1 + I_H^1(x)T) + \\frac{\\partial I_B^0(x)}{\\partial \\alpha} \\frac{\\partial I_H^1(x)}{\\partial f}T + \\frac{\\partial^2 I_H^1(x)}{\\partial \\alpha \\partial f} I_B^0(x) T +\\frac{\\partial I_H^1(x)}{\\partial \\alpha} \\frac{\\partial I_B^0(x)}{\\partial f}T $$\n",
    "\n"
   ]
  },
  {
   "cell_type": "markdown",
   "id": "8c6f121a",
   "metadata": {},
   "source": [
    "$$\\frac{\\partial ^2 I_H^1(x)}{\\partial f^2} = \\frac{\\alpha^{2} (\\beta - 2) \\left(K f\\right)^{\\beta - 1}  \\left(\\beta - 1\\right)^{3}}{24 f^{2}} + \\frac{\\alpha \\beta \\rho v \\left(K f\\right)^{\\frac{\\beta}{2} - \\frac{1}{2}} \\left(\\frac{\\beta}{2} - \\frac{1}{2}\\right) \\left(\\frac{\\beta}{2} - \\frac{3}{2}\\right)}{8 f^{2}}$$\n",
    "\n",
    "$$\\frac{\\partial ^2 I_H^1(x)}{\\partial f \\partial \\alpha} = \\frac{\\alpha \\left(K f\\right)^{\\beta - 1} \\left(1 - \\beta\\right)^{2} \\left(\\beta - 1\\right)}{12 f} + \\frac{\\beta \\rho v \\left(K f\\right)^{\\frac{\\beta}{2} - \\frac{1}{2}} \\left(\\frac{\\beta}{2} - \\frac{1}{2}\\right)}{4 f}$$"
   ]
  },
  {
   "cell_type": "code",
   "execution_count": null,
   "id": "2c8f23b7",
   "metadata": {},
   "outputs": [],
   "source": []
  },
  {
   "cell_type": "code",
   "execution_count": null,
   "id": "67427750",
   "metadata": {},
   "outputs": [],
   "source": []
  },
  {
   "cell_type": "markdown",
   "id": "7b34ba48",
   "metadata": {},
   "source": [
    "$$Vega_{call} = \\frac{\\partial C}{\\partial \\sigma_B} = \\frac{\\partial C_B}{\\partial \\sigma_B} \\cdot \\left( \n",
    " \\frac{\\partial \\sigma_B}{\\partial \\alpha} + \\frac{\\partial \\sigma_B}{\\partial f} \\cdot \\frac{\\rho f^\\beta}{v}\\right) = $$\n",
    " $$ = Vega_{BSM} \\cdot \\left( \n",
    " \\frac{\\partial \\sigma_B}{\\partial \\alpha} + \\frac{\\partial \\sigma_B}{\\partial f} \\cdot \\frac{\\rho f^\\beta}{v}\\right) = $$\n",
    " $$ = fN'(d_{1}){\\sqrt {T-t}} \\cdot \\left( \n",
    " \\frac{\\partial \\sigma_B}{\\partial \\alpha} + \\frac{\\partial \\sigma_B}{\\partial f} \\cdot \\frac{\\rho f^\\beta}{v}\\right)$$\n",
    " \n",
    " $$ \\frac{ \\partial C}{\\partial  \\rho} = \\frac{\\partial C}{\\partial \\sigma_B} \\frac{\\partial \\sigma_B}{\\partial \\rho} = Vega_{BSM} \\frac{\\partial \\sigma_B}{\\partial \\rho}$$\n",
    "\n",
    "$$ \\frac{ \\partial C}{\\partial  v} = \\frac{\\partial C}{\\partial \\sigma_B} \\frac{\\partial \\sigma_B}{\\partial v} = Vega_{BSM} \\frac{\\partial \\sigma_B}{\\partial v}$$"
   ]
  }
 ],
 "metadata": {
  "kernelspec": {
   "display_name": "Python 3 (ipykernel)",
   "language": "python",
   "name": "python3"
  },
  "language_info": {
   "codemirror_mode": {
    "name": "ipython",
    "version": 3
   },
   "file_extension": ".py",
   "mimetype": "text/x-python",
   "name": "python",
   "nbconvert_exporter": "python",
   "pygments_lexer": "ipython3",
   "version": "3.8.13"
  }
 },
 "nbformat": 4,
 "nbformat_minor": 5
}
