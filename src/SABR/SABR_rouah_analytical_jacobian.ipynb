{
 "cells": [
  {
   "cell_type": "markdown",
   "id": "ace31ce3",
   "metadata": {},
   "source": [
    "# <center> SABR by Jan Obloj </center> "
   ]
  },
  {
   "cell_type": "markdown",
   "id": "7e356c12",
   "metadata": {},
   "source": [
    "$$x = \\ln \\frac{f}{K}$$\n",
    "\n",
    "$$ \\sigma_B(x, T) \\approx I_B^0(x) (1 + I_H^1(x)T) = I_B^0(x) + I_B^0(x) \\cdot I_H^1(x)T$$\n",
    "\n",
    "$$I_H^1(x) = \\frac{\\alpha^{2} \\left(K f\\right)^{\\beta - 1} \\left(1 - \\beta\\right)^{2}}{24} + \\frac{\\alpha \\beta \\rho v \\left(K f\\right)^{\\frac{\\beta}{2} - \\frac{1}{2}}}{4} + \\frac{v^{2} \\cdot \\left(2 - 3 \\rho^{2}\\right)}{24}$$\n",
    "\n",
    "\n",
    "Derivatives of $I_H^1(x)$:\n",
    "\n",
    "$$ \\frac{\\partial I_H^1(x)}{\\partial \\alpha} = \\frac{\\alpha \\left(K f\\right)^{\\beta - 1} \\left(1 - \\beta\\right)^{2}}{12} + \\frac{\\beta \\rho v \\left(K f\\right)^{\\frac{\\beta}{2} - \\frac{1}{2}}}{4}$$\n",
    "\n",
    "$$ \\frac{\\partial I_H^1(x)}{\\partial \\beta} = \\frac{\\alpha^{2} \\left(K f\\right)^{\\beta - 1} \\left(1 - \\beta\\right)^{2} \\log{\\left(K f \\right)}}{24} + \\frac{\\alpha^{2} \\left(K f\\right)^{\\beta - 1} \\cdot \\left(2 \\beta - 2\\right)}{24} + \\frac{\\alpha \\beta \\rho v \\left(K f\\right)^{\\frac{\\beta}{2} - \\frac{1}{2}} \\log{\\left(K f \\right)}}{8} + \\frac{\\alpha \\rho v \\left(K f\\right)^{\\frac{\\beta}{2} - \\frac{1}{2}}}{4} $$\n",
    "\n",
    "$$ \\frac{\\partial I_H^1(x)}{\\partial v} = \\frac{\\alpha \\beta \\rho \\left(K f\\right)^{\\frac{\\beta}{2} - \\frac{1}{2}}}{4} + \\frac{v \\left(2 - 3 \\rho^{2}\\right)}{12}$$\n",
    "\n",
    "$$ \\frac{\\partial I_H^1(x)}{\\partial \\rho} = \\frac{\\alpha \\beta v \\left(K f\\right)^{\\frac{\\beta}{2} - \\frac{1}{2}}}{4} - \\frac{\\rho v^{2}}{4}$$\n",
    "\n"
   ]
  },
  {
   "cell_type": "markdown",
   "id": "05166e3e",
   "metadata": {},
   "source": [
    "$\\textbf{Case 1}: x = 0$ \n",
    "$$I_B^0 = \\alpha K^{\\beta - 1}$$\n",
    "\n",
    "$$\\frac{\\partial I_B^0}{\\partial \\alpha} = K^{\\beta - 1}$$\n",
    "$$\\frac{\\partial I_B^0}{\\partial \\beta} = K^{\\beta - 1} \\alpha \\ln{\\left(K \\right)}$$\n",
    "$$\\frac{\\partial I_B^0}{\\partial v} = 0 $$\n",
    "$$\\frac{\\partial I_B^0}{\\partial \\rho} = 0 $$"
   ]
  },
  {
   "cell_type": "markdown",
   "id": "6de28a8b",
   "metadata": {},
   "source": [
    "$\\textbf{Case 2}: v = 0$ \n",
    "$$I_B^0 = \\frac{x\\alpha(1 - \\beta)}{f^{1 - \\beta} - K^{1 - \\beta}} $$\n",
    "\n",
    "$$\\frac{\\partial I_B^0}{\\partial \\alpha} = \\frac{x(1 - \\beta)}{f^{1 - \\beta} - K^{1 - \\beta}}\n",
    "$$\n",
    "$$\\frac{\\partial I_B^0}{\\partial \\beta} = K^{\\beta - 1} \\alpha \\ln{\\left(K \\right)}$$\n",
    "$$\\frac{\\partial I_B^0}{\\partial v} = 0 $$\n",
    "$$\\frac{\\partial I_B^0}{\\partial \\rho} = 0 $$"
   ]
  },
  {
   "cell_type": "markdown",
   "id": "8fa5c256",
   "metadata": {},
   "source": [
    "$\\textbf{Case 3}: \\beta = 1$ \n",
    "\n",
    "$$z = \\frac{v x}{\\alpha}$$\n",
    "\n",
    "$$\\xi =  \\sqrt{- 2 \\rho z + z^{2} + 1} $$\n",
    "\n",
    "$$I_B^0 = \\frac{vx}{\\ln \\left( \\frac{\\xi + z - \\rho}{1 - \\rho} \\right) } $$\n",
    "\n",
    "$$\\frac{\\partial I_B^0}{\\partial \\alpha} = \\frac{v x z}{\\alpha \\xi \\log{\\left(\\frac{\\rho - z - \\xi}{\\rho - 1} \\right)}^{2}}$$\n",
    "\n",
    "\n",
    "$$\\frac{\\partial I_B^0}{\\partial \\beta} = 0 $$\n",
    "\n",
    "\n",
    "$$\\frac{\\partial I_B^0}{\\partial v} = \\frac{x \\left(\\alpha \\xi \\log{\\left(\\frac{\\rho - z - \\xi}{\\rho - 1} \\right)} - v x\\right)}{\\alpha \\xi \\log{\\left(\\frac{\\rho - z - \\xi}{\\rho - 1} \\right)}^{2}}$$\n",
    "\n",
    "\n",
    "$$\\frac{\\partial I_B^0}{\\partial \\rho} = \\frac{v x \\left(\\left(\\rho - 1\\right) \\left(z + \\xi\\right) + \\left(- \\rho + z + \\xi\\right) \\xi\\right)}{\\left(\\rho - 1\\right) \\left(- \\rho + z + \\xi\\right) \\xi \\log{\\left(\\frac{\\rho - z - \\xi}{\\rho - 1} \\right)}^{2}} $$"
   ]
  },
  {
   "cell_type": "markdown",
   "id": "7ba7db0d",
   "metadata": {},
   "source": [
    "$\\textbf{Case 4}: \\beta < 1$ \n",
    "\n",
    "$$z = \\frac{v(f^{1 - \\beta} - K^{1 - \\beta})}{\\alpha (1 - \\beta)}$$\n",
    "\n",
    "$$\\xi =  \\sqrt{- 2 \\rho z + z^{2} + 1} $$\n",
    "\n",
    "$$I_B^0 = \\frac{vx}{\\ln \\left( \\frac{\\xi + z - \\rho}{1 - \\rho} \\right) } $$\n",
    "\n",
    "$$\\frac{\\partial I_B^0}{\\partial \\alpha} = \\frac{v x z}{\\alpha \\xi \\log{\\left(\\frac{\\rho - z - \\xi}{\\rho - 1} \\right)}^{2}} $$\n",
    "\n",
    "\n",
    "$$\\frac{\\partial I_B^0}{\\partial \\beta} = \\frac{v x \\left( \n",
    "  \\alpha (z^2 - \\rho z + z \\xi) - ( v z +  \\rho v +  \\xi v) \\left(K^{1 - \\beta} \\log{\\left(K \\right)} - f^{1 - \\beta} \\log{\\left(f \\right)}\\right))\\right)}{\\alpha \\left(1 - \\beta\\right) \\xi \\left(- \\rho + z + \\xi\\right) \\log{\\left(\\frac{- \\rho + z + \\xi}{1 - \\rho} \\right)}^{2}} $$\n",
    "\n",
    "\n",
    "$$\\frac{\\partial I_B^0}{\\partial v} = - \\frac{v x \\left(\\frac{- \\frac{\\rho z}{v} + \\frac{z^{2}}{v}}{\\xi} + \\frac{z}{v}\\right)}{\\left(- \\rho + z + \\xi\\right) \\log{\\left(\\frac{- \\rho + z + \\xi}{1 - \\rho} \\right)}^{2}} + \\frac{x}{\\log{\\left(\\frac{- \\rho + z + \\xi}{1 - \\rho} \\right)}}$$\n",
    "\n",
    "\n",
    "$$\\frac{\\partial I_B^0}{\\partial \\rho} = - \\frac{v x \\left(1 - \\rho\\right) \\left(\\frac{- \\frac{z}{\\xi} - 1}{1 - \\rho} + \\frac{- \\rho + z + \\xi}{\\left(1 - \\rho\\right)^{2}}\\right)}{\\left(- \\rho + z + \\xi\\right) \\log{\\left(\\frac{- \\rho + z + \\xi}{1 - \\rho} \\right)}^{2}} $$"
   ]
  },
  {
   "cell_type": "markdown",
   "id": "87bbbafa",
   "metadata": {},
   "source": [
    "Final formulas for Jacobian:\n",
    "\n",
    "$$ \\frac{\\partial \\sigma_B(x, T)}{\\partial \\alpha} = \\frac{I_B^0(x)}{\\partial \\alpha} (1 + I_H^1(x)T) +\n",
    "\\frac{I_H^1(x)}{\\partial \\alpha} I_B^0(x) T \n",
    "$$\n",
    "\n",
    "$$ \\frac{\\partial \\sigma_B(x, T)}{\\partial \\beta} = \\frac{I_B^0(x)}{\\partial \\beta} (1 + I_H^1(x)T) +\n",
    "\\frac{I_H^1(x)}{\\partial \\beta} I_B^0(x) T \n",
    "$$\n",
    "\n",
    "$$ \\frac{\\partial \\sigma_B(x, T)}{\\partial v} = \\frac{I_B^0(x)}{\\partial v} (1 + I_H^1(x)T) +\n",
    "\\frac{I_H^1(x)}{\\partial v} I_B^0(x) T \n",
    "$$\n",
    "\n",
    "$$ \\frac{\\partial \\sigma_B(x, T)}{\\partial \\rho} = \\frac{I_B^0(x)}{\\partial \\rho} (1 + I_H^1(x)T) +\n",
    "\\frac{I_H^1(x)}{\\partial \\rho} I_B^0(x) T \n",
    "$$"
   ]
  }
 ],
 "metadata": {
  "kernelspec": {
   "display_name": "Python 3 (ipykernel)",
   "language": "python",
   "name": "python3"
  },
  "language_info": {
   "codemirror_mode": {
    "name": "ipython",
    "version": 3
   },
   "file_extension": ".py",
   "mimetype": "text/x-python",
   "name": "python",
   "nbconvert_exporter": "python",
   "pygments_lexer": "ipython3",
   "version": "3.8.13"
  }
 },
 "nbformat": 4,
 "nbformat_minor": 5
}
