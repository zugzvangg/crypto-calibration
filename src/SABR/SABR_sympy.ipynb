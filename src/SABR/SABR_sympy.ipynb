{
 "cells": [
  {
   "cell_type": "markdown",
   "id": "49ab2a65",
   "metadata": {},
   "source": [
    "# <center> SABR calibration </center> "
   ]
  },
  {
   "cell_type": "code",
   "execution_count": 1,
   "id": "fc5521a2",
   "metadata": {},
   "outputs": [],
   "source": [
    "import sympy as sym"
   ]
  },
  {
   "cell_type": "markdown",
   "id": "18d3fe50",
   "metadata": {},
   "source": [
    "$$x = \\ln \\frac{f}{K}$$\n",
    "\n",
    "$$ \\sigma_B(x, T) \\approx I_B^0(x) (1 + I_H^1(x)T) = I_B^0(x) + I_B^0(x) \\cdot I_H^1(x)T$$\n",
    "\n",
    "$$I_H^1(x) = \\frac{\\alpha^{2} \\left(K f\\right)^{\\beta - 1} \\left(1 - \\beta\\right)^{2}}{24} + \\frac{\\alpha \\beta \\rho v \\left(K f\\right)^{\\frac{\\beta}{2} - \\frac{1}{2}}}{4} + \\frac{v^{2} \\cdot \\left(2 - 3 \\rho^{2}\\right)}{24}$$\n"
   ]
  },
  {
   "cell_type": "code",
   "execution_count": 2,
   "id": "fe42d869",
   "metadata": {},
   "outputs": [
    {
     "data": {
      "text/latex": [
       "$\\displaystyle \\frac{\\alpha^{2} \\left(K f\\right)^{\\beta - 1} \\left(1 - \\beta\\right)^{2}}{24} + \\frac{\\alpha \\beta \\rho v \\left(K f\\right)^{\\frac{\\beta}{2} - \\frac{1}{2}}}{4} + \\frac{v^{2} \\cdot \\left(2 - 3 \\rho^{2}\\right)}{24}$"
      ],
      "text/plain": [
       "alpha**2*(K*f)**(beta - 1)*(1 - beta)**2/24 + alpha*beta*rho*v*(K*f)**(beta/2 - 1/2)/4 + v**2*(2 - 3*rho**2)/24"
      ]
     },
     "execution_count": 2,
     "metadata": {},
     "output_type": "execute_result"
    }
   ],
   "source": [
    "# set I_H^1(x) in sympy\n",
    "alpha, beta, v, rho, f, K, T = sym.symbols('alpha beta v rho f K T')\n",
    "x = sym.log(f/K)\n",
    "I_H_1 = (((1 - beta)**2)*alpha**2/(24*(f*K)**(1 - beta)) + (rho*v*alpha*beta)/(4*(f*K)**((1-beta)/2)) + \n",
    " ((2 - 3*rho**2)*v**2)/24 )\n",
    "I_H_1"
   ]
  },
  {
   "cell_type": "markdown",
   "id": "8bb45035",
   "metadata": {},
   "source": [
    "## $I_H^1(x)$ derivatives"
   ]
  },
  {
   "cell_type": "code",
   "execution_count": 3,
   "id": "a14be922",
   "metadata": {
    "scrolled": true
   },
   "outputs": [
    {
     "data": {
      "text/latex": [
       "$\\displaystyle \\frac{\\alpha \\left(K f\\right)^{\\beta - 1} \\left(1 - \\beta\\right)^{2}}{12} + \\frac{\\beta \\rho v \\left(K f\\right)^{\\frac{\\beta}{2} - \\frac{1}{2}}}{4}$"
      ],
      "text/plain": [
       "alpha*(K*f)**(beta - 1)*(1 - beta)**2/12 + beta*rho*v*(K*f)**(beta/2 - 1/2)/4"
      ]
     },
     "execution_count": 3,
     "metadata": {},
     "output_type": "execute_result"
    }
   ],
   "source": [
    "I_H_1.diff(alpha)"
   ]
  },
  {
   "cell_type": "code",
   "execution_count": 4,
   "id": "8e4ba081",
   "metadata": {},
   "outputs": [
    {
     "data": {
      "text/latex": [
       "$\\displaystyle \\frac{\\alpha^{2} \\left(K f\\right)^{\\beta - 1} \\left(1 - \\beta\\right)^{2} \\log{\\left(K f \\right)}}{24} + \\frac{\\alpha^{2} \\left(K f\\right)^{\\beta - 1} \\cdot \\left(2 \\beta - 2\\right)}{24} + \\frac{\\alpha \\beta \\rho v \\left(K f\\right)^{\\frac{\\beta}{2} - \\frac{1}{2}} \\log{\\left(K f \\right)}}{8} + \\frac{\\alpha \\rho v \\left(K f\\right)^{\\frac{\\beta}{2} - \\frac{1}{2}}}{4}$"
      ],
      "text/plain": [
       "alpha**2*(K*f)**(beta - 1)*(1 - beta)**2*log(K*f)/24 + alpha**2*(K*f)**(beta - 1)*(2*beta - 2)/24 + alpha*beta*rho*v*(K*f)**(beta/2 - 1/2)*log(K*f)/8 + alpha*rho*v*(K*f)**(beta/2 - 1/2)/4"
      ]
     },
     "execution_count": 4,
     "metadata": {},
     "output_type": "execute_result"
    }
   ],
   "source": [
    "I_H_1.diff(beta)"
   ]
  },
  {
   "cell_type": "code",
   "execution_count": 5,
   "id": "541681b8",
   "metadata": {},
   "outputs": [
    {
     "data": {
      "text/latex": [
       "$\\displaystyle \\frac{\\alpha \\beta v \\left(K f\\right)^{\\frac{\\beta}{2} - \\frac{1}{2}}}{4} - \\frac{\\rho v^{2}}{4}$"
      ],
      "text/plain": [
       "alpha*beta*v*(K*f)**(beta/2 - 1/2)/4 - rho*v**2/4"
      ]
     },
     "execution_count": 5,
     "metadata": {},
     "output_type": "execute_result"
    }
   ],
   "source": [
    "I_H_1.diff(rho)"
   ]
  },
  {
   "cell_type": "code",
   "execution_count": 6,
   "id": "6d6da37b",
   "metadata": {},
   "outputs": [
    {
     "data": {
      "text/latex": [
       "$\\displaystyle \\frac{\\alpha \\beta \\rho \\left(K f\\right)^{\\frac{\\beta}{2} - \\frac{1}{2}}}{4} + \\frac{v \\left(2 - 3 \\rho^{2}\\right)}{12}$"
      ],
      "text/plain": [
       "alpha*beta*rho*(K*f)**(beta/2 - 1/2)/4 + v*(2 - 3*rho**2)/12"
      ]
     },
     "execution_count": 6,
     "metadata": {},
     "output_type": "execute_result"
    }
   ],
   "source": [
    "I_H_1.diff(v)"
   ]
  },
  {
   "cell_type": "markdown",
   "id": "8847c1a3",
   "metadata": {},
   "source": [
    "## Case 1: x = 0"
   ]
  },
  {
   "cell_type": "code",
   "execution_count": 7,
   "id": "86197fc4",
   "metadata": {},
   "outputs": [
    {
     "data": {
      "text/latex": [
       "$\\displaystyle K^{\\beta - 1} \\alpha$"
      ],
      "text/plain": [
       "K**(beta - 1)*alpha"
      ]
     },
     "execution_count": 7,
     "metadata": {},
     "output_type": "execute_result"
    }
   ],
   "source": [
    "I_B = alpha*K**(beta-1)\n",
    "I_B"
   ]
  },
  {
   "cell_type": "code",
   "execution_count": 8,
   "id": "746e7ffe",
   "metadata": {},
   "outputs": [
    {
     "data": {
      "text/latex": [
       "$\\displaystyle K^{\\beta - 1}$"
      ],
      "text/plain": [
       "K**(beta - 1)"
      ]
     },
     "execution_count": 8,
     "metadata": {},
     "output_type": "execute_result"
    }
   ],
   "source": [
    "# alpha\n",
    "I_B.diff(alpha)"
   ]
  },
  {
   "cell_type": "code",
   "execution_count": 9,
   "id": "482c6cf1",
   "metadata": {},
   "outputs": [
    {
     "data": {
      "text/latex": [
       "$\\displaystyle K^{\\beta - 1} \\alpha \\log{\\left(K \\right)}$"
      ],
      "text/plain": [
       "K**(beta - 1)*alpha*log(K)"
      ]
     },
     "execution_count": 9,
     "metadata": {},
     "output_type": "execute_result"
    }
   ],
   "source": [
    "# beta\n",
    "I_B.diff(beta)"
   ]
  },
  {
   "cell_type": "code",
   "execution_count": 10,
   "id": "d0ca3d1e",
   "metadata": {},
   "outputs": [
    {
     "data": {
      "text/latex": [
       "$\\displaystyle 0$"
      ],
      "text/plain": [
       "0"
      ]
     },
     "execution_count": 10,
     "metadata": {},
     "output_type": "execute_result"
    }
   ],
   "source": [
    "# rho\n",
    "I_B.diff(rho)"
   ]
  },
  {
   "cell_type": "code",
   "execution_count": 11,
   "id": "e6c6245c",
   "metadata": {},
   "outputs": [
    {
     "data": {
      "text/latex": [
       "$\\displaystyle 0$"
      ],
      "text/plain": [
       "0"
      ]
     },
     "execution_count": 11,
     "metadata": {},
     "output_type": "execute_result"
    }
   ],
   "source": [
    "# v\n",
    "I_B.diff(v)"
   ]
  },
  {
   "cell_type": "code",
   "execution_count": 12,
   "id": "7c3c0da5",
   "metadata": {},
   "outputs": [
    {
     "data": {
      "text/latex": [
       "$\\displaystyle 0$"
      ],
      "text/plain": [
       "0"
      ]
     },
     "execution_count": 12,
     "metadata": {},
     "output_type": "execute_result"
    }
   ],
   "source": [
    "# forward\n",
    "I_B.diff(f)"
   ]
  },
  {
   "cell_type": "markdown",
   "id": "ce5e7964",
   "metadata": {},
   "source": [
    "## Case 2: v = 0"
   ]
  },
  {
   "cell_type": "code",
   "execution_count": 13,
   "id": "9f652903",
   "metadata": {},
   "outputs": [
    {
     "data": {
      "text/latex": [
       "$\\displaystyle \\frac{\\alpha \\left(1 - \\beta\\right) \\log{\\left(\\frac{f}{K} \\right)}}{- K^{1 - \\beta} + f^{1 - \\beta}}$"
      ],
      "text/plain": [
       "alpha*(1 - beta)*log(f/K)/(-K**(1 - beta) + f**(1 - beta))"
      ]
     },
     "execution_count": 13,
     "metadata": {},
     "output_type": "execute_result"
    }
   ],
   "source": [
    "I_B = x*alpha*(1 - beta)/(f**(1 - beta) - K**(1 - beta))\n",
    "I_B"
   ]
  },
  {
   "cell_type": "code",
   "execution_count": 14,
   "id": "54504045",
   "metadata": {},
   "outputs": [
    {
     "data": {
      "text/latex": [
       "$\\displaystyle \\frac{x \\left(1 - \\beta\\right)}{- K^{1 - \\beta} + f^{1 - \\beta}}$"
      ],
      "text/plain": [
       "x*(1 - beta)/(-K**(1 - beta) + f**(1 - beta))"
      ]
     },
     "execution_count": 14,
     "metadata": {},
     "output_type": "execute_result"
    }
   ],
   "source": [
    "# alpha\n",
    "I_B.diff(alpha).subs(x, \"x\")"
   ]
  },
  {
   "cell_type": "code",
   "execution_count": 15,
   "id": "1590681d",
   "metadata": {},
   "outputs": [
    {
     "data": {
      "text/latex": [
       "$\\displaystyle \\frac{\\alpha x \\left(K^{1 - \\beta} - f^{1 - \\beta} + \\left(\\beta - 1\\right) \\left(K^{1 - \\beta} \\log{\\left(K \\right)} - f^{1 - \\beta} \\log{\\left(f \\right)}\\right)\\right)}{\\left(K^{1 - \\beta} - f^{1 - \\beta}\\right)^{2}}$"
      ],
      "text/plain": [
       "alpha*x*(K**(1 - beta) - f**(1 - beta) + (beta - 1)*(K**(1 - beta)*log(K) - f**(1 - beta)*log(f)))/(K**(1 - beta) - f**(1 - beta))**2"
      ]
     },
     "execution_count": 15,
     "metadata": {},
     "output_type": "execute_result"
    }
   ],
   "source": [
    "# beta\n",
    "sym.simplify(I_B.diff(beta)).subs(x, \"x\")"
   ]
  },
  {
   "cell_type": "code",
   "execution_count": 16,
   "id": "f517de23",
   "metadata": {},
   "outputs": [
    {
     "data": {
      "text/latex": [
       "$\\displaystyle 0$"
      ],
      "text/plain": [
       "0"
      ]
     },
     "execution_count": 16,
     "metadata": {},
     "output_type": "execute_result"
    }
   ],
   "source": [
    "# rho\n",
    "I_B.diff(rho)"
   ]
  },
  {
   "cell_type": "code",
   "execution_count": 17,
   "id": "1a3f1975",
   "metadata": {},
   "outputs": [
    {
     "data": {
      "text/latex": [
       "$\\displaystyle 0$"
      ],
      "text/plain": [
       "0"
      ]
     },
     "execution_count": 17,
     "metadata": {},
     "output_type": "execute_result"
    }
   ],
   "source": [
    "# v\n",
    "I_B.diff(v)"
   ]
  },
  {
   "cell_type": "code",
   "execution_count": 18,
   "id": "7af8f576",
   "metadata": {},
   "outputs": [
    {
     "data": {
      "text/latex": [
       "$\\displaystyle \\frac{\\alpha \\left(\\beta - 1\\right) \\left(f \\left(K^{1 - \\beta} - f^{1 - \\beta}\\right) - f^{2 - \\beta} x \\left(\\beta - 1\\right)\\right)}{f^{2} \\left(K^{1 - \\beta} - f^{1 - \\beta}\\right)^{2}}$"
      ],
      "text/plain": [
       "alpha*(beta - 1)*(f*(K**(1 - beta) - f**(1 - beta)) - f**(2 - beta)*x*(beta - 1))/(f**2*(K**(1 - beta) - f**(1 - beta))**2)"
      ]
     },
     "execution_count": 18,
     "metadata": {},
     "output_type": "execute_result"
    }
   ],
   "source": [
    "# forward\n",
    "sym.simplify(I_B.diff(f)).subs(x, \"x\")"
   ]
  },
  {
   "cell_type": "markdown",
   "id": "35c37019",
   "metadata": {},
   "source": [
    "## Case 3: $\\beta = 1$"
   ]
  },
  {
   "cell_type": "code",
   "execution_count": 19,
   "id": "980733a6",
   "metadata": {},
   "outputs": [
    {
     "data": {
      "text/latex": [
       "$\\displaystyle \\frac{v x}{\\log{\\left(\\frac{\\xi - \\rho + z}{1 - \\rho} \\right)}}$"
      ],
      "text/plain": [
       "v*x/log((\\xi - rho + z)/(1 - rho))"
      ]
     },
     "execution_count": 19,
     "metadata": {},
     "output_type": "execute_result"
    }
   ],
   "source": [
    "z = v*x/alpha\n",
    "xi = sym.sqrt(- 2*rho*z+z**2+1 )\n",
    "I_B = v*x/sym.ln((xi + z - rho)/(1 - rho))\n",
    "I_B.subs(xi, sym.Symbol(r\"\\xi\")).subs(z, \"z\").subs(x, \"x\")"
   ]
  },
  {
   "cell_type": "code",
   "execution_count": 20,
   "id": "30df29b3",
   "metadata": {},
   "outputs": [
    {
     "data": {
      "text/latex": [
       "$\\displaystyle \\frac{v x z}{\\xi \\alpha \\log{\\left(\\frac{- \\xi + \\rho - z}{\\rho - 1} \\right)}^{2}}$"
      ],
      "text/plain": [
       "v*x*z/(\\xi*alpha*log((-\\xi + rho - z)/(rho - 1))**2)"
      ]
     },
     "execution_count": 20,
     "metadata": {},
     "output_type": "execute_result"
    }
   ],
   "source": [
    "# alpha\n",
    "sym.simplify(I_B.diff(alpha).subs(xi, sym.Symbol(r\"\\xi\")).subs(z, \"z\").subs(x, \"x\"))"
   ]
  },
  {
   "cell_type": "code",
   "execution_count": 21,
   "id": "05cb8eb1",
   "metadata": {},
   "outputs": [
    {
     "data": {
      "text/latex": [
       "$\\displaystyle 0$"
      ],
      "text/plain": [
       "0"
      ]
     },
     "execution_count": 21,
     "metadata": {},
     "output_type": "execute_result"
    }
   ],
   "source": [
    "# beta\n",
    "sym.simplify(I_B.diff(beta).subs(xi, sym.Symbol(r\"\\xi\")).subs(z, \"z\").subs(x, \"x\"))"
   ]
  },
  {
   "cell_type": "code",
   "execution_count": 22,
   "id": "d73d1c6b",
   "metadata": {},
   "outputs": [
    {
     "data": {
      "text/latex": [
       "$\\displaystyle \\frac{x \\left(\\xi \\alpha \\log{\\left(\\frac{- \\xi + \\rho - z}{\\rho - 1} \\right)} - v x\\right)}{\\xi \\alpha \\log{\\left(\\frac{- \\xi + \\rho - z}{\\rho - 1} \\right)}^{2}}$"
      ],
      "text/plain": [
       "x*(\\xi*alpha*log((-\\xi + rho - z)/(rho - 1)) - v*x)/(\\xi*alpha*log((-\\xi + rho - z)/(rho - 1))**2)"
      ]
     },
     "execution_count": 22,
     "metadata": {},
     "output_type": "execute_result"
    }
   ],
   "source": [
    "# v\n",
    "sym.simplify(I_B.diff(v).subs(xi, sym.Symbol(r\"\\xi\")).subs(z, \"z\").subs(x, \"x\"))"
   ]
  },
  {
   "cell_type": "code",
   "execution_count": 23,
   "id": "6c09e61b",
   "metadata": {},
   "outputs": [
    {
     "data": {
      "text/latex": [
       "$\\displaystyle \\frac{v x \\left(\\xi \\left(\\xi - \\rho + z\\right) + \\left(\\xi + z\\right) \\left(\\rho - 1\\right)\\right)}{\\xi \\left(\\rho - 1\\right) \\left(\\xi - \\rho + z\\right) \\log{\\left(\\frac{- \\xi + \\rho - z}{\\rho - 1} \\right)}^{2}}$"
      ],
      "text/plain": [
       "v*x*(\\xi*(\\xi - rho + z) + (\\xi + z)*(rho - 1))/(\\xi*(rho - 1)*(\\xi - rho + z)*log((-\\xi + rho - z)/(rho - 1))**2)"
      ]
     },
     "execution_count": 23,
     "metadata": {},
     "output_type": "execute_result"
    }
   ],
   "source": [
    "# rho\n",
    "sym.simplify(I_B.diff(rho).subs(xi, sym.Symbol(r\"\\xi\")).subs(z, \"z\").subs(x, \"x\"))"
   ]
  },
  {
   "cell_type": "code",
   "execution_count": 24,
   "id": "f04c0d73",
   "metadata": {},
   "outputs": [
    {
     "data": {
      "text/latex": [
       "$\\displaystyle \\frac{v \\left(\\xi \\alpha \\log{\\left(\\frac{- \\xi + \\rho - z}{\\rho - 1} \\right)} - v x\\right)}{\\xi \\alpha f \\log{\\left(\\frac{- \\xi + \\rho - z}{\\rho - 1} \\right)}^{2}}$"
      ],
      "text/plain": [
       "v*(\\xi*alpha*log((-\\xi + rho - z)/(rho - 1)) - v*x)/(\\xi*alpha*f*log((-\\xi + rho - z)/(rho - 1))**2)"
      ]
     },
     "execution_count": 24,
     "metadata": {},
     "output_type": "execute_result"
    }
   ],
   "source": [
    "# forward\n",
    "sym.simplify(I_B.diff(f).subs(xi, sym.Symbol(r\"\\xi\")).subs(z, \"z\").subs(x, \"x\"))"
   ]
  },
  {
   "cell_type": "markdown",
   "id": "c049855f",
   "metadata": {},
   "source": [
    "## Case 4: $\\beta < 1$"
   ]
  },
  {
   "cell_type": "code",
   "execution_count": 25,
   "id": "5452d1e3",
   "metadata": {},
   "outputs": [
    {
     "data": {
      "text/latex": [
       "$\\displaystyle \\frac{v x}{\\log{\\left(\\frac{\\xi - \\rho + z}{1 - \\rho} \\right)}}$"
      ],
      "text/plain": [
       "v*x/log((\\xi - rho + z)/(1 - rho))"
      ]
     },
     "execution_count": 25,
     "metadata": {},
     "output_type": "execute_result"
    }
   ],
   "source": [
    "z = v*(f**(1 - beta) - K**(1 - beta))/(alpha * (1 - beta))\n",
    "xi = sym.sqrt(- 2*rho*z+z**2+1 )\n",
    "I_B = v*x/sym.ln((xi + z - rho)/(1 - rho))\n",
    "I_B.subs(xi, sym.Symbol(r\"\\xi\")).subs(z, \"z\").subs(x, \"x\")"
   ]
  },
  {
   "cell_type": "code",
   "execution_count": 26,
   "id": "c60456d6",
   "metadata": {},
   "outputs": [
    {
     "data": {
      "text/latex": [
       "$\\displaystyle \\frac{v x z}{\\xi \\alpha \\log{\\left(\\frac{- \\xi + \\rho - z}{\\rho - 1} \\right)}^{2}}$"
      ],
      "text/plain": [
       "v*x*z/(\\xi*alpha*log((-\\xi + rho - z)/(rho - 1))**2)"
      ]
     },
     "execution_count": 26,
     "metadata": {},
     "output_type": "execute_result"
    }
   ],
   "source": [
    "# alpha\n",
    "sym.simplify(I_B.diff(alpha).subs(xi, sym.Symbol(r\"\\xi\")).subs(z, \"z\").subs(x, \"x\"))"
   ]
  },
  {
   "cell_type": "code",
   "execution_count": 27,
   "id": "ab517c46",
   "metadata": {},
   "outputs": [
    {
     "data": {
      "text/latex": [
       "$\\displaystyle \\frac{K^{- \\beta} f^{- \\beta} v x \\left(K f^{\\beta} v \\log{\\left(K \\right)} + K^{\\beta} \\alpha f^{\\beta} z - K^{\\beta} f v \\log{\\left(f \\right)}\\right)}{\\xi \\alpha \\left(\\beta - 1\\right) \\log{\\left(\\frac{- \\xi + \\rho - z}{\\rho - 1} \\right)}^{2}}$"
      ],
      "text/plain": [
       "v*x*(K*f**beta*v*log(K) + K**beta*alpha*f**beta*z - K**beta*f*v*log(f))/(K**beta*\\xi*alpha*f**beta*(beta - 1)*log((-\\xi + rho - z)/(rho - 1))**2)"
      ]
     },
     "execution_count": 27,
     "metadata": {},
     "output_type": "execute_result"
    }
   ],
   "source": [
    "# beta\n",
    "sym.simplify(I_B.diff(beta).subs(xi, sym.Symbol(r\"\\xi\")).subs(z, \"z\").subs(x, \"x\"))"
   ]
  },
  {
   "cell_type": "code",
   "execution_count": 28,
   "id": "23862589",
   "metadata": {},
   "outputs": [
    {
     "data": {
      "text/latex": [
       "$\\displaystyle \\frac{x \\left(\\xi \\alpha \\left(\\beta - 1\\right) \\log{\\left(\\frac{- \\xi + \\rho - z}{\\rho - 1} \\right)} - v \\left(K^{1 - \\beta} - f^{1 - \\beta}\\right)\\right)}{\\xi \\alpha \\left(\\beta - 1\\right) \\log{\\left(\\frac{- \\xi + \\rho - z}{\\rho - 1} \\right)}^{2}}$"
      ],
      "text/plain": [
       "x*(\\xi*alpha*(beta - 1)*log((-\\xi + rho - z)/(rho - 1)) - v*(K**(1 - beta) - f**(1 - beta)))/(\\xi*alpha*(beta - 1)*log((-\\xi + rho - z)/(rho - 1))**2)"
      ]
     },
     "execution_count": 28,
     "metadata": {},
     "output_type": "execute_result"
    }
   ],
   "source": [
    "# v\n",
    "sym.simplify(I_B.diff(v).subs(xi, sym.Symbol(r\"\\xi\")).subs(z, \"z\").subs(x, \"x\"))"
   ]
  },
  {
   "cell_type": "code",
   "execution_count": 29,
   "id": "3033609c",
   "metadata": {},
   "outputs": [
    {
     "data": {
      "text/latex": [
       "$\\displaystyle \\frac{v x \\left(\\xi \\left(\\xi - \\rho + z\\right) + \\left(\\xi + z\\right) \\left(\\rho - 1\\right)\\right)}{\\xi \\left(\\rho - 1\\right) \\left(\\xi - \\rho + z\\right) \\log{\\left(\\frac{- \\xi + \\rho - z}{\\rho - 1} \\right)}^{2}}$"
      ],
      "text/plain": [
       "v*x*(\\xi*(\\xi - rho + z) + (\\xi + z)*(rho - 1))/(\\xi*(rho - 1)*(\\xi - rho + z)*log((-\\xi + rho - z)/(rho - 1))**2)"
      ]
     },
     "execution_count": 29,
     "metadata": {},
     "output_type": "execute_result"
    }
   ],
   "source": [
    "# rho\n",
    "sym.simplify(I_B.diff(rho).subs(xi, sym.Symbol(r\"\\xi\")).subs(z, \"z\").subs(x, \"x\"))"
   ]
  },
  {
   "cell_type": "code",
   "execution_count": 30,
   "id": "7769df4d",
   "metadata": {},
   "outputs": [
    {
     "data": {
      "text/latex": [
       "$\\displaystyle \\frac{f^{- \\beta} v \\left(\\xi \\alpha f^{\\beta} \\log{\\left(\\frac{- \\xi + \\rho - z}{\\rho - 1} \\right)} - f v x\\right)}{\\xi \\alpha f \\log{\\left(\\frac{- \\xi + \\rho - z}{\\rho - 1} \\right)}^{2}}$"
      ],
      "text/plain": [
       "v*(\\xi*alpha*f**beta*log((-\\xi + rho - z)/(rho - 1)) - f*v*x)/(\\xi*alpha*f*f**beta*log((-\\xi + rho - z)/(rho - 1))**2)"
      ]
     },
     "execution_count": 30,
     "metadata": {},
     "output_type": "execute_result"
    }
   ],
   "source": [
    "# forward\n",
    "sym.simplify(I_B.diff(f).subs(xi, sym.Symbol(r\"\\xi\")).subs(z, \"z\").subs(x, \"x\"))"
   ]
  },
  {
   "cell_type": "markdown",
   "id": "2985f3bf",
   "metadata": {},
   "source": [
    "Final formulas for Jacobian:\n",
    "\n",
    "$$ \\frac{\\partial \\sigma_B(x, T)}{\\partial \\alpha} = \\frac{I_B^0(x)}{\\partial \\alpha} (1 + I_H^1(x)T) +\n",
    "\\frac{I_H^1(x)}{\\partial \\alpha} I_B^0(x) T \n",
    "$$\n",
    "\n",
    "$$ \\frac{\\partial \\sigma_B(x, T)}{\\partial \\beta} = \\frac{I_B^0(x)}{\\partial \\beta} (1 + I_H^1(x)T) +\n",
    "\\frac{I_H^1(x)}{\\partial \\beta} I_B^0(x) T \n",
    "$$\n",
    "\n",
    "$$ \\frac{\\partial \\sigma_B(x, T)}{\\partial v} = \\frac{I_B^0(x)}{\\partial v} (1 + I_H^1(x)T) +\n",
    "\\frac{I_H^1(x)}{\\partial v} I_B^0(x) T \n",
    "$$\n",
    "\n",
    "$$ \\frac{\\partial \\sigma_B(x, T)}{\\partial \\rho} = \\frac{I_B^0(x)}{\\partial \\rho} (1 + I_H^1(x)T) +\n",
    "\\frac{I_H^1(x)}{\\partial \\rho} I_B^0(x) T \n",
    "$$"
   ]
  },
  {
   "cell_type": "markdown",
   "id": "0e13c437",
   "metadata": {},
   "source": [
    "$\\Delta$:\n",
    "\n",
    "$$\\Delta_{call} =  \\frac{\\partial C}{\\partial f} =  \\frac{\\partial C_B}{\\partial f} + \\frac{\\partial C_B}{\\partial \\sigma_B} \\cdot \\left( \\frac{\\partial \\sigma_B}{\\partial f} + \\frac{\\partial \\sigma_B}{\\partial \\alpha}  \\frac{\\rho v}{f^\\beta} \\right) = $$\n",
    "$$ = \\Delta_{BSM} + Vega_{BSM} \\cdot \\left( \\frac{\\partial \\sigma_B}{\\partial f} + \\frac{\\partial \\sigma_B}{\\partial \\alpha}  \\frac{\\rho v}{f^\\beta} \\right) = $$\n",
    "$$N(d_1) + fN'(d_{1}){\\sqrt {T-t}} \\cdot \\left( \\frac{\\partial \\sigma_B}{\\partial f} + \\frac{\\partial \\sigma_B}{\\partial \\alpha}  \\frac{\\rho v}{f^\\beta} \\right)$$\n",
    "$$\\Delta_{put} = \\Delta_{call} - 1$$\n",
    "\n"
   ]
  },
  {
   "cell_type": "markdown",
   "id": "30a425f6",
   "metadata": {},
   "source": [
    "Vega\n",
    "\n",
    "$$Vega_{call} = \\frac{\\partial C}{\\partial \\sigma_B} = \\frac{\\partial C_B}{\\partial \\sigma_B} \\cdot \\left( \n",
    " \\frac{\\partial \\sigma_B}{\\partial \\alpha} + \\frac{\\partial \\sigma_B}{\\partial f} \\cdot \\frac{\\rho f^\\beta}{v}\\right) = $$\n",
    " $$ = Vega_{BSM} \\cdot \\left( \n",
    " \\frac{\\partial \\sigma_B}{\\partial \\alpha} + \\frac{\\partial \\sigma_B}{\\partial f} \\cdot \\frac{\\rho f^\\beta}{v}\\right) = $$\n",
    " $$ = fN'(d_{1}){\\sqrt {T-t}} \\cdot \\left( \n",
    " \\frac{\\partial \\sigma_B}{\\partial \\alpha} + \\frac{\\partial \\sigma_B}{\\partial f} \\cdot \\frac{\\rho f^\\beta}{v}\\right)$$\n",
    " \n"
   ]
  },
  {
   "cell_type": "markdown",
   "id": "325b1af9",
   "metadata": {},
   "source": [
    "Derivatives of premium by $\\rho$ and v:\n",
    "$$ \\frac{ \\partial C}{\\partial  \\rho} = \\frac{\\partial C}{\\partial \\sigma_B} \\frac{\\partial \\sigma_B}{\\partial \\rho} = Vega_{BSM} \\frac{\\partial \\sigma_B}{\\partial \\rho}$$\n",
    "\n",
    "$$ \\frac{ \\partial C}{\\partial  v} = \\frac{\\partial C}{\\partial \\sigma_B} \\frac{\\partial \\sigma_B}{\\partial v} = Vega_{BSM} \\frac{\\partial \\sigma_B}{\\partial v}$$\n",
    "\n",
    "$$Vega_{BSM} = fN'(d_{1}){\\sqrt {T-t}} $$"
   ]
  },
  {
   "cell_type": "markdown",
   "id": "f372e7c2",
   "metadata": {},
   "source": [
    "$\\Gamma$: #TODO"
   ]
  }
 ],
 "metadata": {
  "kernelspec": {
   "display_name": "Python 3 (ipykernel)",
   "language": "python",
   "name": "python3"
  },
  "language_info": {
   "codemirror_mode": {
    "name": "ipython",
    "version": 3
   },
   "file_extension": ".py",
   "mimetype": "text/x-python",
   "name": "python",
   "nbconvert_exporter": "python",
   "pygments_lexer": "ipython3",
   "version": "3.8.13"
  }
 },
 "nbformat": 4,
 "nbformat_minor": 5
}
