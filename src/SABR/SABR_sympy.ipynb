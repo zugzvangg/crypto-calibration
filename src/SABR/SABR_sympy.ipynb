{
 "cells": [
  {
   "cell_type": "markdown",
   "id": "49ab2a65",
   "metadata": {},
   "source": [
    "# <center> SABR calibration </center> "
   ]
  },
  {
   "cell_type": "code",
   "execution_count": 59,
   "id": "fc5521a2",
   "metadata": {},
   "outputs": [],
   "source": [
    "import sympy as sym"
   ]
  },
  {
   "cell_type": "markdown",
   "id": "18d3fe50",
   "metadata": {},
   "source": [
    "$$x = \\ln \\frac{f}{K}$$\n",
    "\n",
    "$$ \\sigma_B(x, T) \\approx I_B^0(x) (1 + I_H^1(x)T) = I_B^0(x) + I_B^0(x) \\cdot I_H^1(x)T$$\n",
    "\n",
    "$$I_H^1(x) = \\frac{\\alpha^{2} \\left(K f\\right)^{\\beta - 1} \\left(1 - \\beta\\right)^{2}}{24} + \\frac{\\alpha \\beta \\rho v \\left(K f\\right)^{\\frac{\\beta}{2} - \\frac{1}{2}}}{4} + \\frac{v^{2} \\cdot \\left(2 - 3 \\rho^{2}\\right)}{24}$$\n"
   ]
  },
  {
   "cell_type": "code",
   "execution_count": 119,
   "id": "fe42d869",
   "metadata": {},
   "outputs": [
    {
     "data": {
      "text/latex": [
       "$\\displaystyle \\frac{\\alpha^{2} \\left(K f\\right)^{\\beta - 1} \\left(1 - \\beta\\right)^{2}}{24} + \\frac{\\alpha \\beta \\rho v \\left(K f\\right)^{\\frac{\\beta}{2} - \\frac{1}{2}}}{4} + \\frac{v^{2} \\cdot \\left(2 - 3 \\rho^{2}\\right)}{24}$"
      ],
      "text/plain": [
       "alpha**2*(K*f)**(beta - 1)*(1 - beta)**2/24 + alpha*beta*rho*v*(K*f)**(beta/2 - 1/2)/4 + v**2*(2 - 3*rho**2)/24"
      ]
     },
     "execution_count": 119,
     "metadata": {},
     "output_type": "execute_result"
    }
   ],
   "source": [
    "# set I_H^1(x) in sympy\n",
    "alpha, beta, v, rho, f, K, T = sym.symbols('alpha beta v rho f K T')\n",
    "x = sym.log(f/K)\n",
    "I_H_1 = (((1 - beta)**2)*alpha**2/(24*(f*K)**(1 - beta)) + (rho*v*alpha*beta)/(4*(f*K)**((1-beta)/2)) + \n",
    " ((2 - 3*rho**2)*v**2)/24 )\n",
    "I_H_1"
   ]
  },
  {
   "cell_type": "markdown",
   "id": "8bb45035",
   "metadata": {},
   "source": [
    "## $I_H^1(x)$ derivatives"
   ]
  },
  {
   "cell_type": "code",
   "execution_count": 120,
   "id": "a14be922",
   "metadata": {
    "scrolled": true
   },
   "outputs": [
    {
     "data": {
      "text/latex": [
       "$\\displaystyle \\frac{\\alpha \\left(K f\\right)^{\\beta - 1} \\left(1 - \\beta\\right)^{2}}{12} + \\frac{\\beta \\rho v \\left(K f\\right)^{\\frac{\\beta}{2} - \\frac{1}{2}}}{4}$"
      ],
      "text/plain": [
       "alpha*(K*f)**(beta - 1)*(1 - beta)**2/12 + beta*rho*v*(K*f)**(beta/2 - 1/2)/4"
      ]
     },
     "execution_count": 120,
     "metadata": {},
     "output_type": "execute_result"
    }
   ],
   "source": [
    "# alpha\n",
    "I_H_1.diff(alpha)"
   ]
  },
  {
   "cell_type": "code",
   "execution_count": 121,
   "id": "8e4ba081",
   "metadata": {},
   "outputs": [
    {
     "data": {
      "text/latex": [
       "$\\displaystyle \\frac{\\alpha^{2} \\left(K f\\right)^{\\beta - 1} \\left(1 - \\beta\\right)^{2} \\log{\\left(K f \\right)}}{24} + \\frac{\\alpha^{2} \\left(K f\\right)^{\\beta - 1} \\cdot \\left(2 \\beta - 2\\right)}{24} + \\frac{\\alpha \\beta \\rho v \\left(K f\\right)^{\\frac{\\beta}{2} - \\frac{1}{2}} \\log{\\left(K f \\right)}}{8} + \\frac{\\alpha \\rho v \\left(K f\\right)^{\\frac{\\beta}{2} - \\frac{1}{2}}}{4}$"
      ],
      "text/plain": [
       "alpha**2*(K*f)**(beta - 1)*(1 - beta)**2*log(K*f)/24 + alpha**2*(K*f)**(beta - 1)*(2*beta - 2)/24 + alpha*beta*rho*v*(K*f)**(beta/2 - 1/2)*log(K*f)/8 + alpha*rho*v*(K*f)**(beta/2 - 1/2)/4"
      ]
     },
     "execution_count": 121,
     "metadata": {},
     "output_type": "execute_result"
    }
   ],
   "source": [
    "# beta\n",
    "I_H_1.diff(beta)"
   ]
  },
  {
   "cell_type": "code",
   "execution_count": 122,
   "id": "541681b8",
   "metadata": {},
   "outputs": [
    {
     "data": {
      "text/latex": [
       "$\\displaystyle \\frac{\\alpha \\beta v \\left(K f\\right)^{\\frac{\\beta}{2} - \\frac{1}{2}}}{4} - \\frac{\\rho v^{2}}{4}$"
      ],
      "text/plain": [
       "alpha*beta*v*(K*f)**(beta/2 - 1/2)/4 - rho*v**2/4"
      ]
     },
     "execution_count": 122,
     "metadata": {},
     "output_type": "execute_result"
    }
   ],
   "source": [
    "# rho\n",
    "I_H_1.diff(rho)"
   ]
  },
  {
   "cell_type": "code",
   "execution_count": 123,
   "id": "6d6da37b",
   "metadata": {},
   "outputs": [
    {
     "data": {
      "text/latex": [
       "$\\displaystyle \\frac{\\alpha \\beta \\rho \\left(K f\\right)^{\\frac{\\beta}{2} - \\frac{1}{2}}}{4} + \\frac{v \\left(2 - 3 \\rho^{2}\\right)}{12}$"
      ],
      "text/plain": [
       "alpha*beta*rho*(K*f)**(beta/2 - 1/2)/4 + v*(2 - 3*rho**2)/12"
      ]
     },
     "execution_count": 123,
     "metadata": {},
     "output_type": "execute_result"
    }
   ],
   "source": [
    "# v\n",
    "I_H_1.diff(v)"
   ]
  },
  {
   "cell_type": "code",
   "execution_count": 124,
   "id": "658cb7d3",
   "metadata": {},
   "outputs": [
    {
     "data": {
      "text/latex": [
       "$\\displaystyle \\frac{\\alpha^{2} \\left(K f\\right)^{\\beta - 1} \\left(1 - \\beta\\right)^{2} \\left(\\beta - 1\\right)}{24 f} + \\frac{\\alpha \\beta \\rho v \\left(K f\\right)^{\\frac{\\beta}{2} - \\frac{1}{2}} \\left(\\frac{\\beta}{2} - \\frac{1}{2}\\right)}{4 f}$"
      ],
      "text/plain": [
       "alpha**2*(K*f)**(beta - 1)*(1 - beta)**2*(beta - 1)/(24*f) + alpha*beta*rho*v*(K*f)**(beta/2 - 1/2)*(beta/2 - 1/2)/(4*f)"
      ]
     },
     "execution_count": 124,
     "metadata": {},
     "output_type": "execute_result"
    }
   ],
   "source": [
    "# forward\n",
    "I_H_1.diff(f)"
   ]
  },
  {
   "cell_type": "code",
   "execution_count": 125,
   "id": "b98d4e2a",
   "metadata": {},
   "outputs": [
    {
     "data": {
      "text/latex": [
       "$\\displaystyle \\frac{\\alpha^{2} \\left(K f\\right)^{\\beta - 1} \\left(1 - \\beta\\right)^{2} \\left(\\beta - 1\\right)^{2}}{24 f^{2}} - \\frac{\\alpha^{2} \\left(K f\\right)^{\\beta - 1} \\left(1 - \\beta\\right)^{2} \\left(\\beta - 1\\right)}{24 f^{2}} + \\frac{\\alpha \\beta \\rho v \\left(K f\\right)^{\\frac{\\beta}{2} - \\frac{1}{2}} \\left(\\frac{\\beta}{2} - \\frac{1}{2}\\right)^{2}}{4 f^{2}} - \\frac{\\alpha \\beta \\rho v \\left(K f\\right)^{\\frac{\\beta}{2} - \\frac{1}{2}} \\left(\\frac{\\beta}{2} - \\frac{1}{2}\\right)}{4 f^{2}}$"
      ],
      "text/plain": [
       "alpha**2*(K*f)**(beta - 1)*(1 - beta)**2*(beta - 1)**2/(24*f**2) - alpha**2*(K*f)**(beta - 1)*(1 - beta)**2*(beta - 1)/(24*f**2) + alpha*beta*rho*v*(K*f)**(beta/2 - 1/2)*(beta/2 - 1/2)**2/(4*f**2) - alpha*beta*rho*v*(K*f)**(beta/2 - 1/2)*(beta/2 - 1/2)/(4*f**2)"
      ]
     },
     "execution_count": 125,
     "metadata": {},
     "output_type": "execute_result"
    }
   ],
   "source": [
    "# forward^2\n",
    "(I_H_1.diff(f)).diff(f)"
   ]
  },
  {
   "cell_type": "code",
   "execution_count": 126,
   "id": "b1087097",
   "metadata": {},
   "outputs": [
    {
     "data": {
      "text/latex": [
       "$\\displaystyle \\frac{\\alpha \\left(K f\\right)^{\\beta - 1} \\left(1 - \\beta\\right)^{2} \\left(\\beta - 1\\right)}{12 f} + \\frac{\\beta \\rho v \\left(K f\\right)^{\\frac{\\beta}{2} - \\frac{1}{2}} \\left(\\frac{\\beta}{2} - \\frac{1}{2}\\right)}{4 f}$"
      ],
      "text/plain": [
       "alpha*(K*f)**(beta - 1)*(1 - beta)**2*(beta - 1)/(12*f) + beta*rho*v*(K*f)**(beta/2 - 1/2)*(beta/2 - 1/2)/(4*f)"
      ]
     },
     "execution_count": 126,
     "metadata": {},
     "output_type": "execute_result"
    }
   ],
   "source": [
    "# d_forward, d_alpha\n",
    "(I_H_1.diff(f)).diff(alpha)"
   ]
  },
  {
   "cell_type": "code",
   "execution_count": 127,
   "id": "7fb7a2dd",
   "metadata": {},
   "outputs": [
    {
     "data": {
      "text/latex": [
       "$\\displaystyle \\frac{\\left(K f\\right)^{\\beta - 1} \\left(1 - \\beta\\right)^{2}}{12}$"
      ],
      "text/plain": [
       "(K*f)**(beta - 1)*(1 - beta)**2/12"
      ]
     },
     "execution_count": 127,
     "metadata": {},
     "output_type": "execute_result"
    }
   ],
   "source": [
    "# d_alpha^2\n",
    "(I_H_1.diff(alpha)).diff(alpha)"
   ]
  },
  {
   "cell_type": "code",
   "execution_count": 128,
   "id": "84bb64de",
   "metadata": {},
   "outputs": [
    {
     "data": {
      "text/latex": [
       "$\\displaystyle \\frac{\\alpha^{2} \\left(K f\\right)^{\\beta - 1} \\left(1 - \\beta\\right)^{2} \\left(\\beta - 1\\right)}{24 K} + \\frac{\\alpha \\beta \\rho v \\left(K f\\right)^{\\frac{\\beta}{2} - \\frac{1}{2}} \\left(\\frac{\\beta}{2} - \\frac{1}{2}\\right)}{4 K}$"
      ],
      "text/plain": [
       "alpha**2*(K*f)**(beta - 1)*(1 - beta)**2*(beta - 1)/(24*K) + alpha*beta*rho*v*(K*f)**(beta/2 - 1/2)*(beta/2 - 1/2)/(4*K)"
      ]
     },
     "execution_count": 128,
     "metadata": {},
     "output_type": "execute_result"
    }
   ],
   "source": [
    "# d_K\n",
    "I_H_1.diff(K)"
   ]
  },
  {
   "cell_type": "markdown",
   "id": "8847c1a3",
   "metadata": {},
   "source": [
    "## Case 1: x = 0"
   ]
  },
  {
   "cell_type": "code",
   "execution_count": 129,
   "id": "86197fc4",
   "metadata": {},
   "outputs": [
    {
     "data": {
      "text/latex": [
       "$\\displaystyle K^{\\beta - 1} \\alpha$"
      ],
      "text/plain": [
       "K**(beta - 1)*alpha"
      ]
     },
     "execution_count": 129,
     "metadata": {},
     "output_type": "execute_result"
    }
   ],
   "source": [
    "I_B = alpha*K**(beta-1)\n",
    "I_B"
   ]
  },
  {
   "cell_type": "code",
   "execution_count": 130,
   "id": "746e7ffe",
   "metadata": {},
   "outputs": [
    {
     "data": {
      "text/latex": [
       "$\\displaystyle K^{\\beta - 1}$"
      ],
      "text/plain": [
       "K**(beta - 1)"
      ]
     },
     "execution_count": 130,
     "metadata": {},
     "output_type": "execute_result"
    }
   ],
   "source": [
    "# alpha\n",
    "I_B.diff(alpha)"
   ]
  },
  {
   "cell_type": "code",
   "execution_count": 131,
   "id": "482c6cf1",
   "metadata": {},
   "outputs": [
    {
     "data": {
      "text/latex": [
       "$\\displaystyle K^{\\beta - 1} \\alpha \\log{\\left(K \\right)}$"
      ],
      "text/plain": [
       "K**(beta - 1)*alpha*log(K)"
      ]
     },
     "execution_count": 131,
     "metadata": {},
     "output_type": "execute_result"
    }
   ],
   "source": [
    "# beta\n",
    "I_B.diff(beta)"
   ]
  },
  {
   "cell_type": "code",
   "execution_count": 132,
   "id": "d0ca3d1e",
   "metadata": {},
   "outputs": [
    {
     "data": {
      "text/latex": [
       "$\\displaystyle 0$"
      ],
      "text/plain": [
       "0"
      ]
     },
     "execution_count": 132,
     "metadata": {},
     "output_type": "execute_result"
    }
   ],
   "source": [
    "# rho\n",
    "I_B.diff(rho)"
   ]
  },
  {
   "cell_type": "code",
   "execution_count": 133,
   "id": "e6c6245c",
   "metadata": {},
   "outputs": [
    {
     "data": {
      "text/latex": [
       "$\\displaystyle 0$"
      ],
      "text/plain": [
       "0"
      ]
     },
     "execution_count": 133,
     "metadata": {},
     "output_type": "execute_result"
    }
   ],
   "source": [
    "# v\n",
    "I_B.diff(v)"
   ]
  },
  {
   "cell_type": "code",
   "execution_count": 134,
   "id": "7c3c0da5",
   "metadata": {},
   "outputs": [
    {
     "data": {
      "text/latex": [
       "$\\displaystyle 0$"
      ],
      "text/plain": [
       "0"
      ]
     },
     "execution_count": 134,
     "metadata": {},
     "output_type": "execute_result"
    }
   ],
   "source": [
    "# forward\n",
    "I_B.diff(f)"
   ]
  },
  {
   "cell_type": "code",
   "execution_count": 135,
   "id": "e9047354",
   "metadata": {},
   "outputs": [
    {
     "data": {
      "text/latex": [
       "$\\displaystyle 0$"
      ],
      "text/plain": [
       "0"
      ]
     },
     "execution_count": 135,
     "metadata": {},
     "output_type": "execute_result"
    }
   ],
   "source": [
    "# forward^2\n",
    "I_B.diff(f).diff(f)"
   ]
  },
  {
   "cell_type": "code",
   "execution_count": 136,
   "id": "c1058212",
   "metadata": {},
   "outputs": [
    {
     "data": {
      "text/latex": [
       "$\\displaystyle 0$"
      ],
      "text/plain": [
       "0"
      ]
     },
     "execution_count": 136,
     "metadata": {},
     "output_type": "execute_result"
    }
   ],
   "source": [
    "# d_forward, d_alpha\n",
    "I_B.diff(f).diff(alpha)"
   ]
  },
  {
   "cell_type": "code",
   "execution_count": 137,
   "id": "9f5c1211",
   "metadata": {},
   "outputs": [
    {
     "data": {
      "text/latex": [
       "$\\displaystyle 0$"
      ],
      "text/plain": [
       "0"
      ]
     },
     "execution_count": 137,
     "metadata": {},
     "output_type": "execute_result"
    }
   ],
   "source": [
    "# d_alpha^2\n",
    "I_B.diff(alpha).diff(alpha)"
   ]
  },
  {
   "cell_type": "code",
   "execution_count": 138,
   "id": "6c1624e9",
   "metadata": {},
   "outputs": [
    {
     "data": {
      "text/latex": [
       "$\\displaystyle K^{\\beta - 2} \\alpha \\left(\\beta - 1\\right)$"
      ],
      "text/plain": [
       "K**(beta - 2)*alpha*(beta - 1)"
      ]
     },
     "execution_count": 138,
     "metadata": {},
     "output_type": "execute_result"
    }
   ],
   "source": [
    "# d_K\n",
    "sym.simplify(I_B.diff(K))"
   ]
  },
  {
   "cell_type": "markdown",
   "id": "ce5e7964",
   "metadata": {},
   "source": [
    "## Case 2: v = 0"
   ]
  },
  {
   "cell_type": "code",
   "execution_count": 139,
   "id": "9f652903",
   "metadata": {},
   "outputs": [
    {
     "data": {
      "text/latex": [
       "$\\displaystyle \\frac{\\alpha \\left(1 - \\beta\\right) \\log{\\left(\\frac{f}{K} \\right)}}{- K^{1 - \\beta} + f^{1 - \\beta}}$"
      ],
      "text/plain": [
       "alpha*(1 - beta)*log(f/K)/(-K**(1 - beta) + f**(1 - beta))"
      ]
     },
     "execution_count": 139,
     "metadata": {},
     "output_type": "execute_result"
    }
   ],
   "source": [
    "I_B = x*alpha*(1 - beta)/(f**(1 - beta) - K**(1 - beta))\n",
    "I_B"
   ]
  },
  {
   "cell_type": "code",
   "execution_count": 140,
   "id": "54504045",
   "metadata": {},
   "outputs": [
    {
     "data": {
      "text/latex": [
       "$\\displaystyle \\frac{x \\left(1 - \\beta\\right)}{- K^{1 - \\beta} + f^{1 - \\beta}}$"
      ],
      "text/plain": [
       "x*(1 - beta)/(-K**(1 - beta) + f**(1 - beta))"
      ]
     },
     "execution_count": 140,
     "metadata": {},
     "output_type": "execute_result"
    }
   ],
   "source": [
    "# alpha\n",
    "I_B.diff(alpha).subs(x, \"x\")"
   ]
  },
  {
   "cell_type": "code",
   "execution_count": 141,
   "id": "1590681d",
   "metadata": {},
   "outputs": [
    {
     "data": {
      "text/latex": [
       "$\\displaystyle \\frac{\\alpha x \\left(K^{1 - \\beta} - f^{1 - \\beta} + \\left(\\beta - 1\\right) \\left(K^{1 - \\beta} \\log{\\left(K \\right)} - f^{1 - \\beta} \\log{\\left(f \\right)}\\right)\\right)}{\\left(K^{1 - \\beta} - f^{1 - \\beta}\\right)^{2}}$"
      ],
      "text/plain": [
       "alpha*x*(K**(1 - beta) - f**(1 - beta) + (beta - 1)*(K**(1 - beta)*log(K) - f**(1 - beta)*log(f)))/(K**(1 - beta) - f**(1 - beta))**2"
      ]
     },
     "execution_count": 141,
     "metadata": {},
     "output_type": "execute_result"
    }
   ],
   "source": [
    "# beta\n",
    "sym.simplify(I_B.diff(beta)).subs(x, \"x\")"
   ]
  },
  {
   "cell_type": "code",
   "execution_count": 142,
   "id": "f517de23",
   "metadata": {},
   "outputs": [
    {
     "data": {
      "text/latex": [
       "$\\displaystyle 0$"
      ],
      "text/plain": [
       "0"
      ]
     },
     "execution_count": 142,
     "metadata": {},
     "output_type": "execute_result"
    }
   ],
   "source": [
    "# rho\n",
    "I_B.diff(rho)"
   ]
  },
  {
   "cell_type": "code",
   "execution_count": 143,
   "id": "1a3f1975",
   "metadata": {},
   "outputs": [
    {
     "data": {
      "text/latex": [
       "$\\displaystyle 0$"
      ],
      "text/plain": [
       "0"
      ]
     },
     "execution_count": 143,
     "metadata": {},
     "output_type": "execute_result"
    }
   ],
   "source": [
    "# v\n",
    "I_B.diff(v)"
   ]
  },
  {
   "cell_type": "code",
   "execution_count": 144,
   "id": "7af8f576",
   "metadata": {},
   "outputs": [
    {
     "data": {
      "text/latex": [
       "$\\displaystyle \\frac{\\alpha \\left(\\beta - 1\\right) \\left(f \\left(K^{1 - \\beta} - f^{1 - \\beta}\\right) - f^{2 - \\beta} x \\left(\\beta - 1\\right)\\right)}{f^{2} \\left(K^{1 - \\beta} - f^{1 - \\beta}\\right)^{2}}$"
      ],
      "text/plain": [
       "alpha*(beta - 1)*(f*(K**(1 - beta) - f**(1 - beta)) - f**(2 - beta)*x*(beta - 1))/(f**2*(K**(1 - beta) - f**(1 - beta))**2)"
      ]
     },
     "execution_count": 144,
     "metadata": {},
     "output_type": "execute_result"
    }
   ],
   "source": [
    "# forward\n",
    "sym.simplify(I_B.diff(f)).subs(x, \"x\")"
   ]
  },
  {
   "cell_type": "code",
   "execution_count": 145,
   "id": "78afe7c9",
   "metadata": {
    "scrolled": true
   },
   "outputs": [
    {
     "data": {
      "text/latex": [
       "$\\displaystyle \\frac{\\alpha \\left(\\beta - 1\\right) \\left(- f^{4} \\left(K^{1 - \\beta} - f^{1 - \\beta}\\right)^{2} + f^{5 - \\beta} \\left(K^{1 - \\beta} - f^{1 - \\beta}\\right) \\left(\\beta - 1\\right) \\left(x \\left(\\beta - 1\\right) + x - 2\\right) + 2 f^{6 - 2 \\beta} x \\left(\\beta - 1\\right)^{2}\\right)}{f^{6} \\left(K^{1 - \\beta} - f^{1 - \\beta}\\right)^{3}}$"
      ],
      "text/plain": [
       "alpha*(beta - 1)*(-f**4*(K**(1 - beta) - f**(1 - beta))**2 + f**(5 - beta)*(K**(1 - beta) - f**(1 - beta))*(beta - 1)*(x*(beta - 1) + x - 2) + 2*f**(6 - 2*beta)*x*(beta - 1)**2)/(f**6*(K**(1 - beta) - f**(1 - beta))**3)"
      ]
     },
     "execution_count": 145,
     "metadata": {},
     "output_type": "execute_result"
    }
   ],
   "source": [
    "# forward^2\n",
    "sym.simplify(I_B.diff(f).diff(f).subs(x, \"x\"))"
   ]
  },
  {
   "cell_type": "code",
   "execution_count": 146,
   "id": "8fa23ef0",
   "metadata": {},
   "outputs": [
    {
     "data": {
      "text/latex": [
       "$\\displaystyle - \\frac{f^{1 - \\beta} x \\left(1 - \\beta\\right)^{2}}{f \\left(- K^{1 - \\beta} + f^{1 - \\beta}\\right)^{2}} + \\frac{1 - \\beta}{f \\left(- K^{1 - \\beta} + f^{1 - \\beta}\\right)}$"
      ],
      "text/plain": [
       "-f**(1 - beta)*x*(1 - beta)**2/(f*(-K**(1 - beta) + f**(1 - beta))**2) + (1 - beta)/(f*(-K**(1 - beta) + f**(1 - beta)))"
      ]
     },
     "execution_count": 146,
     "metadata": {},
     "output_type": "execute_result"
    }
   ],
   "source": [
    "# d_forward, d_alpha\n",
    "I_B.diff(f).diff(alpha).subs(x, \"x\")"
   ]
  },
  {
   "cell_type": "code",
   "execution_count": 147,
   "id": "db556e32",
   "metadata": {},
   "outputs": [
    {
     "data": {
      "text/latex": [
       "$\\displaystyle 0$"
      ],
      "text/plain": [
       "0"
      ]
     },
     "execution_count": 147,
     "metadata": {},
     "output_type": "execute_result"
    }
   ],
   "source": [
    "# d_alpha^2\n",
    "I_B.diff(alpha).diff(alpha).subs(x, \"x\")"
   ]
  },
  {
   "cell_type": "code",
   "execution_count": 148,
   "id": "528939a6",
   "metadata": {},
   "outputs": [
    {
     "data": {
      "text/latex": [
       "$\\displaystyle \\frac{\\alpha \\left(\\beta - 1\\right) \\left(- K \\left(K^{1 - \\beta} - f^{1 - \\beta}\\right) + K^{2 - \\beta} x \\left(\\beta - 1\\right)\\right)}{K^{2} \\left(K^{1 - \\beta} - f^{1 - \\beta}\\right)^{2}}$"
      ],
      "text/plain": [
       "alpha*(beta - 1)*(-K*(K**(1 - beta) - f**(1 - beta)) + K**(2 - beta)*x*(beta - 1))/(K**2*(K**(1 - beta) - f**(1 - beta))**2)"
      ]
     },
     "execution_count": 148,
     "metadata": {},
     "output_type": "execute_result"
    }
   ],
   "source": [
    "# d_K\n",
    "sym.simplify(I_B.diff(K)).subs(x, \"x\")"
   ]
  },
  {
   "cell_type": "markdown",
   "id": "35c37019",
   "metadata": {},
   "source": [
    "## Case 3: $\\beta = 1$"
   ]
  },
  {
   "cell_type": "code",
   "execution_count": 194,
   "id": "980733a6",
   "metadata": {},
   "outputs": [
    {
     "data": {
      "text/latex": [
       "$\\displaystyle \\frac{v x}{\\log{\\left(\\frac{\\xi - \\rho + z}{1 - \\rho} \\right)}}$"
      ],
      "text/plain": [
       "v*x/log((\\xi - rho + z)/(1 - rho))"
      ]
     },
     "execution_count": 194,
     "metadata": {},
     "output_type": "execute_result"
    }
   ],
   "source": [
    "z = v*x/alpha\n",
    "xi = sym.sqrt(- 2*rho*z+z**2+1 )\n",
    "I_B = v*x/sym.ln((xi + z - rho)/(1 - rho))\n",
    "I_B.subs(xi, sym.Symbol(r\"\\xi\")).subs(z, \"z\").subs(x, \"x\")"
   ]
  },
  {
   "cell_type": "code",
   "execution_count": 175,
   "id": "30df29b3",
   "metadata": {},
   "outputs": [
    {
     "data": {
      "text/latex": [
       "$\\displaystyle \\frac{v x z}{\\xi \\alpha \\log{\\left(\\frac{- \\xi + \\rho - z}{\\rho - 1} \\right)}^{2}}$"
      ],
      "text/plain": [
       "v*x*z/(\\xi*alpha*log((-\\xi + rho - z)/(rho - 1))**2)"
      ]
     },
     "execution_count": 175,
     "metadata": {},
     "output_type": "execute_result"
    }
   ],
   "source": [
    "# alpha\n",
    "sym.simplify(I_B.diff(alpha).subs(xi, sym.Symbol(r\"\\xi\")).subs(z, \"z\").subs(x, \"x\"))"
   ]
  },
  {
   "cell_type": "code",
   "execution_count": 176,
   "id": "05cb8eb1",
   "metadata": {},
   "outputs": [
    {
     "data": {
      "text/latex": [
       "$\\displaystyle 0$"
      ],
      "text/plain": [
       "0"
      ]
     },
     "execution_count": 176,
     "metadata": {},
     "output_type": "execute_result"
    }
   ],
   "source": [
    "# beta\n",
    "sym.simplify(I_B.diff(beta).subs(xi, sym.Symbol(r\"\\xi\")).subs(z, \"z\").subs(x, \"x\"))"
   ]
  },
  {
   "cell_type": "code",
   "execution_count": 177,
   "id": "d73d1c6b",
   "metadata": {},
   "outputs": [
    {
     "data": {
      "text/latex": [
       "$\\displaystyle \\frac{x \\left(\\xi \\alpha \\log{\\left(\\frac{- \\xi + \\rho - z}{\\rho - 1} \\right)} - v x\\right)}{\\xi \\alpha \\log{\\left(\\frac{- \\xi + \\rho - z}{\\rho - 1} \\right)}^{2}}$"
      ],
      "text/plain": [
       "x*(\\xi*alpha*log((-\\xi + rho - z)/(rho - 1)) - v*x)/(\\xi*alpha*log((-\\xi + rho - z)/(rho - 1))**2)"
      ]
     },
     "execution_count": 177,
     "metadata": {},
     "output_type": "execute_result"
    }
   ],
   "source": [
    "# v\n",
    "sym.simplify(I_B.diff(v).subs(xi, sym.Symbol(r\"\\xi\")).subs(z, \"z\").subs(x, \"x\"))"
   ]
  },
  {
   "cell_type": "code",
   "execution_count": 178,
   "id": "6c09e61b",
   "metadata": {},
   "outputs": [
    {
     "data": {
      "text/latex": [
       "$\\displaystyle \\frac{v x \\left(\\xi \\left(\\xi - \\rho + z\\right) + \\left(\\xi + z\\right) \\left(\\rho - 1\\right)\\right)}{\\xi \\left(\\rho - 1\\right) \\left(\\xi - \\rho + z\\right) \\log{\\left(\\frac{- \\xi + \\rho - z}{\\rho - 1} \\right)}^{2}}$"
      ],
      "text/plain": [
       "v*x*(\\xi*(\\xi - rho + z) + (\\xi + z)*(rho - 1))/(\\xi*(rho - 1)*(\\xi - rho + z)*log((-\\xi + rho - z)/(rho - 1))**2)"
      ]
     },
     "execution_count": 178,
     "metadata": {},
     "output_type": "execute_result"
    }
   ],
   "source": [
    "# rho\n",
    "sym.simplify(I_B.diff(rho).subs(xi, sym.Symbol(r\"\\xi\")).subs(z, \"z\").subs(x, \"x\"))"
   ]
  },
  {
   "cell_type": "code",
   "execution_count": 179,
   "id": "f04c0d73",
   "metadata": {},
   "outputs": [
    {
     "data": {
      "text/latex": [
       "$\\displaystyle \\frac{v \\left(\\xi \\alpha \\log{\\left(\\frac{- \\xi + \\rho - z}{\\rho - 1} \\right)} - v x\\right)}{\\xi \\alpha f \\log{\\left(\\frac{- \\xi + \\rho - z}{\\rho - 1} \\right)}^{2}}$"
      ],
      "text/plain": [
       "v*(\\xi*alpha*log((-\\xi + rho - z)/(rho - 1)) - v*x)/(\\xi*alpha*f*log((-\\xi + rho - z)/(rho - 1))**2)"
      ]
     },
     "execution_count": 179,
     "metadata": {},
     "output_type": "execute_result"
    }
   ],
   "source": [
    "# forward\n",
    "sym.simplify(I_B.diff(f).subs(xi, sym.Symbol(r\"\\xi\")).subs(z, \"z\").subs(x, \"x\"))"
   ]
  },
  {
   "cell_type": "code",
   "execution_count": 180,
   "id": "fb46ac23",
   "metadata": {},
   "outputs": [
    {
     "data": {
      "text/latex": [
       "$\\displaystyle \\frac{v \\left(- \\xi^{3} \\alpha^{2} \\log{\\left(\\frac{- \\xi + \\rho - z}{\\rho - 1} \\right)}^{2} + \\xi^{2} \\alpha v x \\log{\\left(\\frac{- \\xi + \\rho - z}{\\rho - 1} \\right)} - 2 \\xi^{2} \\alpha v \\log{\\left(\\frac{- \\xi + \\rho - z}{\\rho - 1} \\right)} + 2 \\xi v^{2} x - \\rho v^{2} x \\log{\\left(\\frac{- \\xi + \\rho - z}{\\rho - 1} \\right)} + v^{2} x z \\log{\\left(\\frac{- \\xi + \\rho - z}{\\rho - 1} \\right)}\\right)}{\\xi^{3} \\alpha^{2} f^{2} \\log{\\left(\\frac{- \\xi + \\rho - z}{\\rho - 1} \\right)}^{3}}$"
      ],
      "text/plain": [
       "v*(-\\xi**3*alpha**2*log((-\\xi + rho - z)/(rho - 1))**2 + \\xi**2*alpha*v*x*log((-\\xi + rho - z)/(rho - 1)) - 2*\\xi**2*alpha*v*log((-\\xi + rho - z)/(rho - 1)) + 2*\\xi*v**2*x - rho*v**2*x*log((-\\xi + rho - z)/(rho - 1)) + v**2*x*z*log((-\\xi + rho - z)/(rho - 1)))/(\\xi**3*alpha**2*f**2*log((-\\xi + rho - z)/(rho - 1))**3)"
      ]
     },
     "execution_count": 180,
     "metadata": {},
     "output_type": "execute_result"
    }
   ],
   "source": [
    "# d^2 forward\n",
    "sym.simplify(I_B.diff(f).diff(f).subs(xi, sym.Symbol(r\"\\xi\")).subs(z, \"z\").subs(x, \"x\"))"
   ]
  },
  {
   "cell_type": "code",
   "execution_count": 181,
   "id": "05d8ca89",
   "metadata": {},
   "outputs": [
    {
     "data": {
      "text/latex": [
       "$\\displaystyle \\frac{v \\left(\\xi^{2} \\alpha z \\log{\\left(\\frac{- \\xi + \\rho - z}{\\rho - 1} \\right)} + \\xi^{2} v x \\log{\\left(\\frac{- \\xi + \\rho - z}{\\rho - 1} \\right)} - 2 \\xi v x z + \\rho v x z \\log{\\left(\\frac{- \\xi + \\rho - z}{\\rho - 1} \\right)} - v x z^{2} \\log{\\left(\\frac{- \\xi + \\rho - z}{\\rho - 1} \\right)}\\right)}{\\xi^{3} \\alpha^{2} f \\log{\\left(\\frac{- \\xi + \\rho - z}{\\rho - 1} \\right)}^{3}}$"
      ],
      "text/plain": [
       "v*(\\xi**2*alpha*z*log((-\\xi + rho - z)/(rho - 1)) + \\xi**2*v*x*log((-\\xi + rho - z)/(rho - 1)) - 2*\\xi*v*x*z + rho*v*x*z*log((-\\xi + rho - z)/(rho - 1)) - v*x*z**2*log((-\\xi + rho - z)/(rho - 1)))/(\\xi**3*alpha**2*f*log((-\\xi + rho - z)/(rho - 1))**3)"
      ]
     },
     "execution_count": 181,
     "metadata": {},
     "output_type": "execute_result"
    }
   ],
   "source": [
    "# d_forward, d_alpha\n",
    "sym.simplify(I_B.diff(f).diff(alpha).subs(xi, sym.Symbol(r\"\\xi\")).subs(z, \"z\").subs(x, \"x\"))"
   ]
  },
  {
   "cell_type": "code",
   "execution_count": 195,
   "id": "9cddcf87",
   "metadata": {},
   "outputs": [
    {
     "data": {
      "text/latex": [
       "$\\displaystyle \\frac{v x z \\left(- 2 \\xi^{2} \\log{\\left(\\frac{- \\xi + \\rho - z}{\\rho - 1} \\right)} + 2 \\xi z - \\rho z \\log{\\left(\\frac{- \\xi + \\rho - z}{\\rho - 1} \\right)} + z^{2} \\log{\\left(\\frac{- \\xi + \\rho - z}{\\rho - 1} \\right)}\\right)}{\\xi^{3} \\alpha^{2} \\log{\\left(\\frac{- \\xi + \\rho - z}{\\rho - 1} \\right)}^{3}}$"
      ],
      "text/plain": [
       "v*x*z*(-2*\\xi**2*log((-\\xi + rho - z)/(rho - 1)) + 2*\\xi*z - rho*z*log((-\\xi + rho - z)/(rho - 1)) + z**2*log((-\\xi + rho - z)/(rho - 1)))/(\\xi**3*alpha**2*log((-\\xi + rho - z)/(rho - 1))**3)"
      ]
     },
     "execution_count": 195,
     "metadata": {},
     "output_type": "execute_result"
    }
   ],
   "source": [
    "# d_alpha^2\n",
    "sym.simplify(I_B.diff(alpha).diff(alpha).subs(xi, sym.Symbol(r\"\\xi\")).subs(z, \"z\").subs(x, \"x\"))"
   ]
  },
  {
   "cell_type": "code",
   "execution_count": 183,
   "id": "ad05291c",
   "metadata": {},
   "outputs": [
    {
     "data": {
      "text/latex": [
       "$\\displaystyle \\frac{v \\left(- \\xi \\alpha \\log{\\left(\\frac{- \\xi + \\rho - z}{\\rho - 1} \\right)} + v x\\right)}{K \\xi \\alpha \\log{\\left(\\frac{- \\xi + \\rho - z}{\\rho - 1} \\right)}^{2}}$"
      ],
      "text/plain": [
       "v*(-\\xi*alpha*log((-\\xi + rho - z)/(rho - 1)) + v*x)/(K*\\xi*alpha*log((-\\xi + rho - z)/(rho - 1))**2)"
      ]
     },
     "execution_count": 183,
     "metadata": {},
     "output_type": "execute_result"
    }
   ],
   "source": [
    "# d_K\n",
    "sym.simplify(I_B.diff(K).subs(xi, sym.Symbol(r\"\\xi\")).subs(z, \"z\").subs(x, \"x\"))"
   ]
  },
  {
   "cell_type": "markdown",
   "id": "c049855f",
   "metadata": {},
   "source": [
    "## Case 4: $\\beta < 1$"
   ]
  },
  {
   "cell_type": "code",
   "execution_count": 192,
   "id": "5452d1e3",
   "metadata": {},
   "outputs": [
    {
     "data": {
      "text/latex": [
       "$\\displaystyle \\frac{v x}{\\log{\\left(\\frac{\\xi - \\rho + z}{1 - \\rho} \\right)}}$"
      ],
      "text/plain": [
       "v*x/log((\\xi - rho + z)/(1 - rho))"
      ]
     },
     "execution_count": 192,
     "metadata": {},
     "output_type": "execute_result"
    }
   ],
   "source": [
    "z = v*(f**(1 - beta) - K**(1 - beta))/(alpha * (1 - beta))\n",
    "xi = sym.sqrt(- 2*rho*z+z**2+1 )\n",
    "I_B = v*x/sym.ln((xi + z - rho)/(1 - rho))\n",
    "I_B.subs(xi, sym.Symbol(r\"\\xi\")).subs(z, \"z\").subs(x, \"x\")"
   ]
  },
  {
   "cell_type": "code",
   "execution_count": 185,
   "id": "c60456d6",
   "metadata": {},
   "outputs": [
    {
     "data": {
      "text/latex": [
       "$\\displaystyle \\frac{v x z}{\\xi \\alpha \\log{\\left(\\frac{- \\xi + \\rho - z}{\\rho - 1} \\right)}^{2}}$"
      ],
      "text/plain": [
       "v*x*z/(\\xi*alpha*log((-\\xi + rho - z)/(rho - 1))**2)"
      ]
     },
     "execution_count": 185,
     "metadata": {},
     "output_type": "execute_result"
    }
   ],
   "source": [
    "# alpha\n",
    "sym.simplify(I_B.diff(alpha).subs(xi, sym.Symbol(r\"\\xi\")).subs(z, \"z\").subs(x, \"x\"))"
   ]
  },
  {
   "cell_type": "code",
   "execution_count": 186,
   "id": "ab517c46",
   "metadata": {},
   "outputs": [
    {
     "data": {
      "text/latex": [
       "$\\displaystyle \\frac{K^{- \\beta} f^{- \\beta} v x \\left(K f^{\\beta} v \\log{\\left(K \\right)} + K^{\\beta} \\alpha f^{\\beta} z - K^{\\beta} f v \\log{\\left(f \\right)}\\right)}{\\xi \\alpha \\left(\\beta - 1\\right) \\log{\\left(\\frac{- \\xi + \\rho - z}{\\rho - 1} \\right)}^{2}}$"
      ],
      "text/plain": [
       "v*x*(K*f**beta*v*log(K) + K**beta*alpha*f**beta*z - K**beta*f*v*log(f))/(K**beta*\\xi*alpha*f**beta*(beta - 1)*log((-\\xi + rho - z)/(rho - 1))**2)"
      ]
     },
     "execution_count": 186,
     "metadata": {},
     "output_type": "execute_result"
    }
   ],
   "source": [
    "# beta\n",
    "sym.simplify(I_B.diff(beta).subs(xi, sym.Symbol(r\"\\xi\")).subs(z, \"z\").subs(x, \"x\"))"
   ]
  },
  {
   "cell_type": "code",
   "execution_count": 187,
   "id": "23862589",
   "metadata": {},
   "outputs": [
    {
     "data": {
      "text/latex": [
       "$\\displaystyle \\frac{x \\left(\\xi \\alpha \\left(\\beta - 1\\right) \\log{\\left(\\frac{- \\xi + \\rho - z}{\\rho - 1} \\right)} - v \\left(K^{1 - \\beta} - f^{1 - \\beta}\\right)\\right)}{\\xi \\alpha \\left(\\beta - 1\\right) \\log{\\left(\\frac{- \\xi + \\rho - z}{\\rho - 1} \\right)}^{2}}$"
      ],
      "text/plain": [
       "x*(\\xi*alpha*(beta - 1)*log((-\\xi + rho - z)/(rho - 1)) - v*(K**(1 - beta) - f**(1 - beta)))/(\\xi*alpha*(beta - 1)*log((-\\xi + rho - z)/(rho - 1))**2)"
      ]
     },
     "execution_count": 187,
     "metadata": {},
     "output_type": "execute_result"
    }
   ],
   "source": [
    "# v\n",
    "sym.simplify(I_B.diff(v).subs(xi, sym.Symbol(r\"\\xi\")).subs(z, \"z\").subs(x, \"x\"))"
   ]
  },
  {
   "cell_type": "code",
   "execution_count": 188,
   "id": "3033609c",
   "metadata": {},
   "outputs": [
    {
     "data": {
      "text/latex": [
       "$\\displaystyle \\frac{v x \\left(\\xi \\left(\\xi - \\rho + z\\right) + \\left(\\xi + z\\right) \\left(\\rho - 1\\right)\\right)}{\\xi \\left(\\rho - 1\\right) \\left(\\xi - \\rho + z\\right) \\log{\\left(\\frac{- \\xi + \\rho - z}{\\rho - 1} \\right)}^{2}}$"
      ],
      "text/plain": [
       "v*x*(\\xi*(\\xi - rho + z) + (\\xi + z)*(rho - 1))/(\\xi*(rho - 1)*(\\xi - rho + z)*log((-\\xi + rho - z)/(rho - 1))**2)"
      ]
     },
     "execution_count": 188,
     "metadata": {},
     "output_type": "execute_result"
    }
   ],
   "source": [
    "# rho\n",
    "sym.simplify(I_B.diff(rho).subs(xi, sym.Symbol(r\"\\xi\")).subs(z, \"z\").subs(x, \"x\"))"
   ]
  },
  {
   "cell_type": "code",
   "execution_count": 189,
   "id": "7769df4d",
   "metadata": {},
   "outputs": [
    {
     "data": {
      "text/latex": [
       "$\\displaystyle \\frac{f^{- \\beta} v \\left(\\xi \\alpha f^{\\beta} \\log{\\left(\\frac{- \\xi + \\rho - z}{\\rho - 1} \\right)} - f v x\\right)}{\\xi \\alpha f \\log{\\left(\\frac{- \\xi + \\rho - z}{\\rho - 1} \\right)}^{2}}$"
      ],
      "text/plain": [
       "v*(\\xi*alpha*f**beta*log((-\\xi + rho - z)/(rho - 1)) - f*v*x)/(\\xi*alpha*f*f**beta*log((-\\xi + rho - z)/(rho - 1))**2)"
      ]
     },
     "execution_count": 189,
     "metadata": {},
     "output_type": "execute_result"
    }
   ],
   "source": [
    "# forward\n",
    "sym.simplify(I_B.diff(f).subs(xi, sym.Symbol(r\"\\xi\")).subs(z, \"z\").subs(x, \"x\"))"
   ]
  },
  {
   "cell_type": "code",
   "execution_count": 190,
   "id": "ed9b7cfc",
   "metadata": {},
   "outputs": [
    {
     "data": {
      "text/latex": [
       "$\\displaystyle \\frac{v \\left(- \\xi^{3} \\alpha^{2} f \\left(\\xi - \\rho + z\\right) \\log{\\left(\\frac{- \\xi + \\rho - z}{\\rho - 1} \\right)}^{2} - 2 \\xi^{2} \\alpha f^{2 - \\beta} v \\left(\\xi - \\rho + z\\right) \\log{\\left(\\frac{- \\xi + \\rho - z}{\\rho - 1} \\right)} + \\xi f^{3 - 2 \\beta} v^{2} x \\left(\\xi - \\rho + z\\right) \\log{\\left(\\frac{- \\xi + \\rho - z}{\\rho - 1} \\right)} + 2 \\xi f^{3 - 2 \\beta} v^{2} x \\left(\\xi - \\rho + z\\right) + f v x \\left(\\xi^{3} \\alpha \\beta f^{1 - \\beta} + \\xi^{2} \\left(\\alpha f^{1 - \\beta} \\left(- \\rho \\left(\\beta - 1\\right) - \\rho + z\\right) - v \\left(f^{1 - \\beta} \\left(- K^{1 - \\beta} + f^{1 - \\beta}\\right) + f^{2 - 2 \\beta}\\right)\\right) + f^{2 - 2 \\beta} v \\left(\\rho - z\\right)^{2}\\right) \\log{\\left(\\frac{- \\xi + \\rho - z}{\\rho - 1} \\right)}\\right)}{\\xi^{3} \\alpha^{2} f^{3} \\left(\\xi - \\rho + z\\right) \\log{\\left(\\frac{- \\xi + \\rho - z}{\\rho - 1} \\right)}^{3}}$"
      ],
      "text/plain": [
       "v*(-\\xi**3*alpha**2*f*(\\xi - rho + z)*log((-\\xi + rho - z)/(rho - 1))**2 - 2*\\xi**2*alpha*f**(2 - beta)*v*(\\xi - rho + z)*log((-\\xi + rho - z)/(rho - 1)) + \\xi*f**(3 - 2*beta)*v**2*x*(\\xi - rho + z)*log((-\\xi + rho - z)/(rho - 1)) + 2*\\xi*f**(3 - 2*beta)*v**2*x*(\\xi - rho + z) + f*v*x*(\\xi**3*alpha*beta*f**(1 - beta) + \\xi**2*(alpha*f**(1 - beta)*(-rho*(beta - 1) - rho + z) - v*(f**(1 - beta)*(-K**(1 - beta) + f**(1 - beta)) + f**(2 - 2*beta))) + f**(2 - 2*beta)*v*(rho - z)**2)*log((-\\xi + rho - z)/(rho - 1)))/(\\xi**3*alpha**2*f**3*(\\xi - rho + z)*log((-\\xi + rho - z)/(rho - 1))**3)"
      ]
     },
     "execution_count": 190,
     "metadata": {},
     "output_type": "execute_result"
    }
   ],
   "source": [
    "# d^forward\n",
    "sym.simplify(I_B.diff(f).diff(f).subs(xi, sym.Symbol(r\"\\xi\")).subs(z, \"z\").subs(x, \"x\"))"
   ]
  },
  {
   "cell_type": "code",
   "execution_count": 193,
   "id": "21de94b4",
   "metadata": {},
   "outputs": [
    {
     "data": {
      "text/latex": [
       "$\\displaystyle \\frac{v x z \\left(- 2 \\xi^{2} \\log{\\left(\\frac{- \\xi + \\rho - z}{\\rho - 1} \\right)} + 2 \\xi z - \\rho z \\log{\\left(\\frac{- \\xi + \\rho - z}{\\rho - 1} \\right)} + z^{2} \\log{\\left(\\frac{- \\xi + \\rho - z}{\\rho - 1} \\right)}\\right)}{\\xi^{3} \\alpha^{2} \\log{\\left(\\frac{- \\xi + \\rho - z}{\\rho - 1} \\right)}^{3}}$"
      ],
      "text/plain": [
       "v*x*z*(-2*\\xi**2*log((-\\xi + rho - z)/(rho - 1)) + 2*\\xi*z - rho*z*log((-\\xi + rho - z)/(rho - 1)) + z**2*log((-\\xi + rho - z)/(rho - 1)))/(\\xi**3*alpha**2*log((-\\xi + rho - z)/(rho - 1))**3)"
      ]
     },
     "execution_count": 193,
     "metadata": {},
     "output_type": "execute_result"
    }
   ],
   "source": [
    "# d^alpha\n",
    "sym.simplify(I_B.diff(alpha).diff(alpha).subs(xi, sym.Symbol(r\"\\xi\")).subs(z, \"z\").subs(x, \"x\"))"
   ]
  },
  {
   "cell_type": "code",
   "execution_count": 169,
   "id": "0a4c443e",
   "metadata": {},
   "outputs": [
    {
     "data": {
      "text/latex": [
       "$\\displaystyle \\frac{f^{- \\beta} v \\left(\\xi^{2} \\alpha f^{\\beta} z \\log{\\left(\\frac{- \\xi + \\rho - z}{\\rho - 1} \\right)} + \\xi^{2} f v x \\log{\\left(\\frac{- \\xi + \\rho - z}{\\rho - 1} \\right)} - 2 \\xi f v x z + f \\rho v x z \\log{\\left(\\frac{- \\xi + \\rho - z}{\\rho - 1} \\right)} - f v x z^{2} \\log{\\left(\\frac{- \\xi + \\rho - z}{\\rho - 1} \\right)}\\right)}{\\xi^{3} \\alpha^{2} f \\log{\\left(\\frac{- \\xi + \\rho - z}{\\rho - 1} \\right)}^{3}}$"
      ],
      "text/plain": [
       "v*(\\xi**2*alpha*f**beta*z*log((-\\xi + rho - z)/(rho - 1)) + \\xi**2*f*v*x*log((-\\xi + rho - z)/(rho - 1)) - 2*\\xi*f*v*x*z + f*rho*v*x*z*log((-\\xi + rho - z)/(rho - 1)) - f*v*x*z**2*log((-\\xi + rho - z)/(rho - 1)))/(\\xi**3*alpha**2*f*f**beta*log((-\\xi + rho - z)/(rho - 1))**3)"
      ]
     },
     "execution_count": 169,
     "metadata": {},
     "output_type": "execute_result"
    }
   ],
   "source": [
    "# d_forward, d_alpha\n",
    "sym.simplify(I_B.diff(f).diff(alpha).subs(xi, sym.Symbol(r\"\\xi\")).subs(z, \"z\").subs(x, \"x\"))"
   ]
  },
  {
   "cell_type": "code",
   "execution_count": 170,
   "id": "6cda9fe1",
   "metadata": {},
   "outputs": [
    {
     "data": {
      "text/latex": [
       "$\\displaystyle \\frac{K^{- \\beta} v \\left(K v x - K^{\\beta} \\xi \\alpha \\log{\\left(\\frac{- \\xi + \\rho - z}{\\rho - 1} \\right)}\\right)}{K \\xi \\alpha \\log{\\left(\\frac{- \\xi + \\rho - z}{\\rho - 1} \\right)}^{2}}$"
      ],
      "text/plain": [
       "v*(K*v*x - K**beta*\\xi*alpha*log((-\\xi + rho - z)/(rho - 1)))/(K*K**beta*\\xi*alpha*log((-\\xi + rho - z)/(rho - 1))**2)"
      ]
     },
     "execution_count": 170,
     "metadata": {},
     "output_type": "execute_result"
    }
   ],
   "source": [
    "# d_K\n",
    "sym.simplify(I_B.diff(K).subs(xi, sym.Symbol(r\"\\xi\")).subs(z, \"z\").subs(x, \"x\"))"
   ]
  },
  {
   "cell_type": "markdown",
   "id": "2985f3bf",
   "metadata": {},
   "source": [
    "Final formulas for Jacobian:\n",
    "\n",
    "$$ \\frac{\\partial \\sigma_B(x, T)}{\\partial \\alpha} = \\frac{\\partial I_B^0(x)}{\\partial \\alpha} (1 + I_H^1(x)T) +\n",
    "\\frac{\\partial I_H^1(x)}{\\partial \\alpha} I_B^0(x) T \n",
    "$$\n",
    "\n",
    "$$ \\frac{\\partial \\sigma_B(x, T)}{\\partial \\beta} = \\frac{\\partial I_B^0(x)}{\\partial \\beta} (1 + I_H^1(x)T) +\n",
    "\\frac{\\partial I_H^1(x)}{\\partial \\beta} I_B^0(x) T \n",
    "$$\n",
    "\n",
    "$$ \\frac{\\partial \\sigma_B(x, T)}{\\partial v} = \\frac{\\partial I_B^0(x)}{\\partial v} (1 + I_H^1(x)T) +\n",
    "\\frac{\\partial I_H^1(x)}{\\partial v} I_B^0(x) T \n",
    "$$\n",
    "\n",
    "$$ \\frac{\\partial \\sigma_B(x, T)}{\\partial \\rho} = \\frac{\\partial I_B^0(x)}{\\partial \\rho} (1 + I_H^1(x)T) +\n",
    "\\frac{\\partial I_H^1(x)}{\\partial \\rho} I_B^0(x) T \n",
    "$$\n",
    "\n",
    "$$ \\frac{\\partial \\sigma_B(x, T)}{\\partial K} = \\frac{\\partial I_B^0(x)}{\\partial K} (1 + I_H^1(x)T) +\n",
    "\\frac{\\partial I_H^1(x)}{\\partial K} I_B^0(x) T \n",
    "$$"
   ]
  },
  {
   "cell_type": "markdown",
   "id": "03ba3f21",
   "metadata": {},
   "source": [
    "$\\sigma$ second order derivatives\n",
    "\n",
    "$$\\frac{\\partial ^2 \\sigma_B}{\\partial f^2} = \\frac{\\partial}{\\partial f} \\left(\\frac{\\partial  I_B^0(x)}{\\partial f} + \\frac{\\partial  I_B^0(x)}{\\partial f} I_H^1(x)T + \\frac{\\partial  I_H^1(x)}{\\partial f} I_B^0(x) T \\right) = $$\n",
    "\n",
    "$$ = \\frac{\\partial^2  I_B^0(x)}{\\partial f^2} + \\frac{\\partial^2  I_B^0(x)}{\\partial f^2} I_H^1(x)T + \\frac{\\partial  I_B^0(x)}{\\partial f} \\frac{\\partial  I_H^1(x)}{\\partial f} T + \\frac{\\partial^2  I_H^1(x)}{\\partial f^2} I_B^0(x) T +  \\frac{\\partial  I_B^0(x)}{\\partial f} \\frac{\\partial  I_H^1(x)}{\\partial f} T = $$\n",
    "\n",
    "$$ = \\frac{\\partial^2  I_B^0(x)}{\\partial f^2} + T\\left( \\frac{\\partial^2  I_B^0(x)}{\\partial f^2} I_H^1(x) +  \\frac{\\partial^2  I_H^1(x)}{\\partial f^2} I_B^0(x)  + 2 \\frac{\\partial  I_B^0(x)}{\\partial f} \\frac{\\partial  I_H^1(x)}{\\partial f} \\right)$$\n",
    "\n",
    "$$ \\frac{\\partial ^2 \\sigma_B}{\\partial \\alpha \\partial f}  = \\frac{\\partial}{\\partial f}\\left( \\frac{\\partial I_B^0(x)}{\\partial \\alpha} (1 + I_H^1(x)T) +\\frac{\\partial I_H^1(x)}{\\partial \\alpha} I_B^0(x) T \\right) = $$\n",
    "$$ = \\frac{\\partial^2 I_B^0(x)}{\\partial \\alpha \\partial f} (1 + I_H^1(x)T) + \\frac{\\partial I_B^0(x)}{\\partial \\alpha} \\frac{\\partial I_H^1(x)}{\\partial f}T + \\frac{\\partial^2 I_H^1(x)}{\\partial \\alpha \\partial f} I_B^0(x) T +\\frac{\\partial I_H^1(x)}{\\partial \\alpha} \\frac{\\partial I_B^0(x)}{\\partial f}T $$\n",
    "\n",
    "$$ \\frac{\\partial ^2 \\sigma_B}{\\partial \\alpha^2}  = \\frac{\\partial}{\\partial \\alpha}\\left( \\frac{\\partial I_B^0(x)}{\\partial \\alpha} (1 + I_H^1(x)T) +\\frac{\\partial I_H^1(x)}{\\partial \\alpha} I_B^0(x) T \\right) = $$\n",
    "\n",
    "$$ = \\frac{\\partial^2  I_B^0(x)}{\\partial \\alpha^2} + T\\left( \\frac{\\partial^2  I_B^0(x)}{\\partial \\alpha^2} I_H^1(x) +  \\frac{\\partial^2  I_H^1(x)}{\\partial \\alpha^2} I_B^0(x)  + 2 \\frac{\\partial  I_B^0(x)}{\\partial \\alpha} \\frac{\\partial  I_H^1(x)}{\\partial \\alpha} \\right)$$\n",
    "\n"
   ]
  },
  {
   "cell_type": "markdown",
   "id": "94fe0058",
   "metadata": {},
   "source": [
    "$$\\frac{\\partial ^2 I_H^1(x)}{\\partial f^2} = \\frac{\\alpha^{2} (\\beta - 2) \\left(K f\\right)^{\\beta - 1}  \\left(\\beta - 1\\right)^{3}}{24 f^{2}} + \\frac{\\alpha \\beta \\rho v \\left(K f\\right)^{\\frac{\\beta}{2} - \\frac{1}{2}} \\left(\\frac{\\beta}{2} - \\frac{1}{2}\\right) \\left(\\frac{\\beta}{2} - \\frac{3}{2}\\right)}{8 f^{2}}$$\n",
    "\n",
    "$$\\frac{\\partial ^2 I_H^1(x)}{\\partial f \\partial \\alpha} = \\frac{\\alpha \\left(K f\\right)^{\\beta - 1} \\left(1 - \\beta\\right)^{2} \\left(\\beta - 1\\right)}{12 f} + \\frac{\\beta \\rho v \\left(K f\\right)^{\\frac{\\beta}{2} - \\frac{1}{2}} \\left(\\frac{\\beta}{2} - \\frac{1}{2}\\right)}{4 f}$$\n",
    "\n",
    "\n",
    "$$\\frac{\\partial ^2 I_H^1(x)}{\\partial \\alpha^2} = \\frac{\\left(K f\\right)^{\\beta - 1} \\left(1 - \\beta\\right)^{2}}{12}\n",
    "$$\n",
    "\n",
    "Derivaties for $\\frac{\\partial^2 I_B^0(x)}{\\partial \\alpha \\partial f}$ and $\\frac{\\partial^2 I_B^0(x)}{ \\partial f^2}$ are in the section with 4 cases above"
   ]
  },
  {
   "cell_type": "markdown",
   "id": "2c4df789",
   "metadata": {},
   "source": [
    "* Sticky Delta (for the call):\n",
    "$$\\Delta_C =  \\frac{\\partial C}{\\partial f} =  \\frac{\\partial C_B}{\\partial f} + \\frac{\\partial C_B}{\\partial \\sigma_B} \\cdot \\left( \\frac{\\partial \\sigma_B}{\\partial f} + \\frac{\\partial \\sigma_B}{\\partial \\alpha}  \\frac{\\rho v}{f^\\beta} \\right) = $$\n",
    "$$ = \\Delta_{C,BSM} + \\mathcal{V}_{BSM} \\cdot \\left( \\frac{\\partial \\sigma_B}{\\partial f} + \\frac{\\partial \\sigma_B}{\\partial \\alpha}  \\frac{\\rho v}{f^\\beta} \\right)$$\n",
    "For the put one can use the put-call parity:\n",
    "$$\\Delta_{P} = \\Delta_{C} - 1$$\n"
   ]
  },
  {
   "cell_type": "markdown",
   "id": "ba60a112",
   "metadata": {},
   "source": [
    "* Gamma: \n",
    "$$\n",
    "\\Gamma = \\frac{\\partial \\Delta_C}{\\partial f}\n",
    "$$\n",
    "$$\n",
    "= \\Gamma_{BSM} + 2\\text{Vanna}_{BSM} \\cdot \\left( \\frac{\\partial \\sigma_B}{\\partial f} + \\frac{\\partial \\sigma_B}{\\partial \\alpha}  \\frac{\\rho v}{f^\\beta} \\right) \n",
    "$$\n",
    "$$\n",
    "+  \\text{Volga}_{BSM}\\cdot \\left( \\frac{\\partial \\sigma_B}{\\partial f} + \\frac{\\partial \\sigma_B}{\\partial \\alpha}  \\frac{\\rho v}{f^\\beta} \\right) ^2\n",
    "$$\n",
    "$$\n",
    "+ \\mathcal{V}_{BSM} \\cdot \\left( \\frac{\\partial ^2 \\sigma_B}{\\partial f^2} + \\frac{\\partial ^2 \\sigma_B}{\\partial \\alpha \\partial f}  \\frac{\\rho v}{f^\\beta}  - \\frac{\\partial \\sigma_B}{\\partial \\alpha}  \\frac{\\beta \\rho v}{f^{\\beta + 1}} \\right)\n",
    "$$\n"
   ]
  },
  {
   "cell_type": "markdown",
   "id": "920b0585",
   "metadata": {},
   "source": [
    "* Vega (ATM straddle):\n",
    "\n",
    "$$\\mathcal{V} = \\frac{\\partial C}{\\partial \\alpha} = \\mathcal{V}_{BSM} \\cdot \\left( \n",
    " \\frac{\\partial \\sigma_B}{\\partial \\alpha} + \\frac{\\partial \\sigma_B}{\\partial f} \\cdot \\frac{\\rho f^\\beta}{v}\\right)$$\n",
    " \n",
    " * Rega (risk reversal):\n",
    " $$ \\mathcal{R} =\\frac{ \\partial C}{\\partial  \\rho} = \\mathcal{V}_{BSM} \\frac{\\partial \\sigma_B}{\\partial \\rho}$$\n",
    "\n",
    " * Sega (butterfly):\n",
    "$$ \\mathcal{S} =\\frac{ \\partial C}{\\partial  v} = \\mathcal{V}_{BSM} \\frac{\\partial \\sigma_B}{\\partial v}$$"
   ]
  },
  {
   "cell_type": "markdown",
   "id": "1dbc4247",
   "metadata": {},
   "source": [
    "* Vanna: \n",
    "$$\n",
    "\\mathcal{Vanna} = \\frac{\\partial \\mathcal{V}}{\\partial f }\n",
    "$$\n",
    "$$\n",
    "= \\left( \\text{Vanna}_{BSM} +  \\text{Volga}_{BSM}\\cdot \\left( \\frac{\\partial \\sigma_B}{\\partial f} + \\frac{\\partial \\sigma_B}{\\partial \\alpha}  \\frac{\\rho v}{f^\\beta} \\right) \\right)\\cdot \\left( \n",
    " \\frac{\\partial \\sigma_B}{\\partial \\alpha} + \\frac{\\partial \\sigma_B}{\\partial f} \\cdot \\frac{\\rho f^\\beta}{v}\\right)\n",
    "$$\n",
    "$$\n",
    "+ \\mathcal{V}_{BSM} \\cdot \\left( \\frac{\\partial ^2 \\sigma_B}{\\partial f \\partial \\alpha} + \\frac{\\partial ^2 \\sigma_B}{\\partial f^2}  \\frac{\\rho f^\\beta}{v}  + \\frac{\\partial \\sigma_B}{\\partial f}  \\frac{\\beta \\rho f^{\\beta - 1}}{v} \\right)\n",
    "$$\n",
    "\n"
   ]
  },
  {
   "cell_type": "markdown",
   "id": "f9ff9b17",
   "metadata": {},
   "source": [
    "* Volga: \n",
    "$$\n",
    "\\mathcal{Volga} = \\frac{\\partial \\mathcal{V}}{\\partial \\alpha }\n",
    "$$\n",
    "$$\n",
    "= \\text{Volga}_{BSM} \\cdot \\left( \n",
    " \\frac{\\partial \\sigma_B}{\\partial \\alpha} + \\frac{\\partial \\sigma_B}{\\partial f} \\cdot \\frac{\\rho f^\\beta}{v}\\right)^2\n",
    "$$\n",
    "$$\n",
    "+ \\mathcal{V}_{BSM} \\cdot \\left( \\frac{\\partial ^2 \\sigma_B}{\\partial \\alpha^2} + \\frac{\\partial ^2 \\sigma_B}{\\partial f \\partial \\alpha}  \\cdot \\frac{\\rho f^\\beta}{v} \\right)\n",
    "$$\n"
   ]
  }
 ],
 "metadata": {
  "kernelspec": {
   "display_name": "Python 3 (ipykernel)",
   "language": "python",
   "name": "python3"
  },
  "language_info": {
   "codemirror_mode": {
    "name": "ipython",
    "version": 3
   },
   "file_extension": ".py",
   "mimetype": "text/x-python",
   "name": "python",
   "nbconvert_exporter": "python",
   "pygments_lexer": "ipython3",
   "version": "3.8.13"
  }
 },
 "nbformat": 4,
 "nbformat_minor": 5
}
