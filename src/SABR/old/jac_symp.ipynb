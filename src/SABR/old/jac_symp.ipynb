{
 "cells": [
  {
   "cell_type": "markdown",
   "id": "ace31ce3",
   "metadata": {},
   "source": [
    "# Computing derivatives for sabr approxed"
   ]
  },
  {
   "cell_type": "code",
   "execution_count": 1,
   "id": "90a1a7e8",
   "metadata": {},
   "outputs": [],
   "source": [
    "import sympy as sym\n"
   ]
  },
  {
   "cell_type": "code",
   "execution_count": 24,
   "id": "7fe8c1b9",
   "metadata": {
    "scrolled": true
   },
   "outputs": [
    {
     "data": {
      "text/latex": [
       "$\\displaystyle \\frac{\\alpha^{2} \\left(K f\\right)^{\\beta - 1} \\left(1 - \\beta\\right)^{2}}{24} + \\frac{\\alpha \\beta \\rho v \\left(K f\\right)^{\\frac{\\beta}{2} - \\frac{1}{2}}}{4} + \\frac{v^{2} \\cdot \\left(2 - 3 \\rho^{2}\\right)}{24}$"
      ],
      "text/plain": [
       "alpha**2*(K*f)**(beta - 1)*(1 - beta)**2/24 + alpha*beta*rho*v*(K*f)**(beta/2 - 1/2)/4 + v**2*(2 - 3*rho**2)/24"
      ]
     },
     "execution_count": 24,
     "metadata": {},
     "output_type": "execute_result"
    }
   ],
   "source": [
    "alpha, beta, v, rho, f, K, T = sym.symbols('alpha beta v rho f K T')\n",
    "x = sym.log(f/K)\n",
    "I_H_1 = (((1 - beta)**2)*alpha**2/(24*(f*K)**(1 - beta)) + (rho*v*alpha*beta)/(4*(f*K)**((1-beta)/2)) + \n",
    " ((2 - 3*rho**2)*v**2)/24 )\n",
    "I_H_1"
   ]
  },
  {
   "cell_type": "code",
   "execution_count": 25,
   "id": "85f0f0cd",
   "metadata": {},
   "outputs": [
    {
     "name": "stdout",
     "output_type": "stream",
     "text": [
      "alpha = Symbol('alpha')\n",
      "beta = Symbol('beta')\n",
      "K = Symbol('K')\n",
      "f = Symbol('f')\n",
      "rho = Symbol('rho')\n",
      "v = Symbol('v')\n",
      "e = alpha**2*(K*f)**(beta - 1)*(1 - beta)**2/24 + alpha*beta*rho*v*(K*f)**(beta/2 + Rational(-1, 2))/4 + v**2*(2 - 3*rho**2)/24\n"
     ]
    }
   ],
   "source": [
    "print(sym.python(I_H_1))"
   ]
  },
  {
   "cell_type": "markdown",
   "id": "5d21bd7f",
   "metadata": {},
   "source": [
    "# Analytical"
   ]
  },
  {
   "cell_type": "markdown",
   "id": "7e356c12",
   "metadata": {},
   "source": [
    "$$ \\sigma_B(x, T) \\approx I_B^0(x) (1 + I_H^1(x)T) = I_B^0(x) + I_B^0(x)* I_H^1(x)T$$"
   ]
  },
  {
   "cell_type": "markdown",
   "id": "46ab40e5",
   "metadata": {},
   "source": [
    "# Case 1: x = 0"
   ]
  },
  {
   "cell_type": "code",
   "execution_count": 27,
   "id": "24f2bd34",
   "metadata": {},
   "outputs": [
    {
     "data": {
      "text/latex": [
       "$\\displaystyle K^{\\beta - 1} \\alpha \\left(T \\left(\\frac{\\alpha^{2} \\left(K f\\right)^{\\beta - 1} \\left(1 - \\beta\\right)^{2}}{24} + \\frac{\\alpha \\beta \\rho v \\left(K f\\right)^{\\frac{\\beta}{2} - \\frac{1}{2}}}{4} + \\frac{v^{2} \\cdot \\left(2 - 3 \\rho^{2}\\right)}{24}\\right) + 1\\right)$"
      ],
      "text/plain": [
       "K**(beta - 1)*alpha*(T*(alpha**2*(K*f)**(beta - 1)*(1 - beta)**2/24 + alpha*beta*rho*v*(K*f)**(beta/2 - 1/2)/4 + v**2*(2 - 3*rho**2)/24) + 1)"
      ]
     },
     "execution_count": 27,
     "metadata": {},
     "output_type": "execute_result"
    }
   ],
   "source": [
    "I_0 = alpha*K**(beta - 1)\n",
    "sigma = I_0*(1 + I_H_1*T)\n",
    "sigma"
   ]
  },
  {
   "cell_type": "code",
   "execution_count": 28,
   "id": "b1f3885a",
   "metadata": {},
   "outputs": [
    {
     "name": "stdout",
     "output_type": "stream",
     "text": [
      "beta = Symbol('beta')\n",
      "K = Symbol('K')\n",
      "alpha = Symbol('alpha')\n",
      "e = K**(beta - 1)*alpha\n"
     ]
    }
   ],
   "source": [
    "print(sym.python(I_0))"
   ]
  },
  {
   "cell_type": "code",
   "execution_count": 4,
   "id": "e2fddfb2",
   "metadata": {},
   "outputs": [
    {
     "data": {
      "text/latex": [
       "$\\displaystyle \\frac{K^{\\beta} T \\alpha \\beta \\rho v \\left(K f\\right)^{\\frac{\\beta}{2}}}{2 K \\sqrt{K f}} - \\frac{K^{\\beta} T \\rho^{2} v^{2}}{8 K} + \\frac{K^{\\beta} T v^{2}}{24 K} + \\frac{K^{\\beta}}{K} + \\frac{K^{\\beta} T \\alpha^{2} \\left(K f\\right)^{\\beta} \\left(\\beta - 1\\right)^{2}}{8 K^{2} f}$"
      ],
      "text/plain": [
       "K**beta*T*alpha*beta*rho*v*(K*f)**(beta/2)/(2*K*sqrt(K*f)) - K**beta*T*rho**2*v**2/(8*K) + K**beta*T*v**2/(24*K) + K**beta/K + K**beta*T*alpha**2*(K*f)**beta*(beta - 1)**2/(8*K**2*f)"
      ]
     },
     "execution_count": 4,
     "metadata": {},
     "output_type": "execute_result"
    }
   ],
   "source": [
    "sym.simplify(sigma.diff(alpha))"
   ]
  },
  {
   "cell_type": "code",
   "execution_count": 5,
   "id": "74b3f422",
   "metadata": {},
   "outputs": [
    {
     "data": {
      "text/latex": [
       "$\\displaystyle \\frac{K^{\\beta - 1} \\alpha \\left(T \\alpha \\left(\\alpha \\left(K f\\right)^{\\beta - 1} \\left(\\beta - 1\\right)^{2} \\log{\\left(K f \\right)} + 2 \\alpha \\left(K f\\right)^{\\beta - 1} \\left(\\beta - 1\\right) + 3 \\beta \\rho v \\left(K f\\right)^{\\frac{\\beta}{2} - \\frac{1}{2}} \\log{\\left(K f \\right)} + 6 \\rho v \\left(K f\\right)^{\\frac{\\beta}{2} - \\frac{1}{2}}\\right) + \\left(T \\left(\\alpha^{2} \\left(K f\\right)^{\\beta - 1} \\left(\\beta - 1\\right)^{2} + 6 \\alpha \\beta \\rho v \\left(K f\\right)^{\\frac{\\beta}{2} - \\frac{1}{2}} + v^{2} \\cdot \\left(1 - 3 \\rho^{2}\\right)\\right) + 24\\right) \\log{\\left(K \\right)}\\right)}{24}$"
      ],
      "text/plain": [
       "K**(beta - 1)*alpha*(T*alpha*(alpha*(K*f)**(beta - 1)*(beta - 1)**2*log(K*f) + 2*alpha*(K*f)**(beta - 1)*(beta - 1) + 3*beta*rho*v*(K*f)**(beta/2 - 1/2)*log(K*f) + 6*rho*v*(K*f)**(beta/2 - 1/2)) + (T*(alpha**2*(K*f)**(beta - 1)*(beta - 1)**2 + 6*alpha*beta*rho*v*(K*f)**(beta/2 - 1/2) + v**2*(1 - 3*rho**2)) + 24)*log(K))/24"
      ]
     },
     "execution_count": 5,
     "metadata": {},
     "output_type": "execute_result"
    }
   ],
   "source": [
    "sym.simplify(sigma.diff(beta))\n"
   ]
  },
  {
   "cell_type": "code",
   "execution_count": 6,
   "id": "73a0c0b4",
   "metadata": {},
   "outputs": [
    {
     "data": {
      "text/latex": [
       "$\\displaystyle \\frac{K^{\\beta - 1} T \\alpha \\left(3 \\alpha \\beta \\rho \\left(K f\\right)^{\\frac{\\beta}{2} - \\frac{1}{2}} - v \\left(3 \\rho^{2} - 1\\right)\\right)}{12}$"
      ],
      "text/plain": [
       "K**(beta - 1)*T*alpha*(3*alpha*beta*rho*(K*f)**(beta/2 - 1/2) - v*(3*rho**2 - 1))/12"
      ]
     },
     "execution_count": 6,
     "metadata": {},
     "output_type": "execute_result"
    }
   ],
   "source": [
    "sym.simplify(sigma.diff(v))\n"
   ]
  },
  {
   "cell_type": "code",
   "execution_count": 7,
   "id": "39c6a9f6",
   "metadata": {},
   "outputs": [
    {
     "data": {
      "text/latex": [
       "$\\displaystyle \\frac{K^{\\beta - 1} T \\alpha v \\left(\\alpha \\beta \\left(K f\\right)^{\\frac{\\beta}{2} - \\frac{1}{2}} - \\rho v\\right)}{4}$"
      ],
      "text/plain": [
       "K**(beta - 1)*T*alpha*v*(alpha*beta*(K*f)**(beta/2 - 1/2) - rho*v)/4"
      ]
     },
     "execution_count": 7,
     "metadata": {},
     "output_type": "execute_result"
    }
   ],
   "source": [
    "sym.simplify(sigma.diff(rho))\n"
   ]
  },
  {
   "cell_type": "markdown",
   "id": "3f8a964f",
   "metadata": {},
   "source": [
    "# Case 2: v = 0"
   ]
  },
  {
   "cell_type": "code",
   "execution_count": 29,
   "id": "f62d845f",
   "metadata": {},
   "outputs": [
    {
     "data": {
      "text/latex": [
       "$\\displaystyle \\frac{\\alpha \\left(1 - \\beta\\right) \\left(T \\left(\\frac{\\alpha^{2} \\left(K f\\right)^{\\beta - 1} \\left(1 - \\beta\\right)^{2}}{24} + \\frac{\\alpha \\beta \\rho v \\left(K f\\right)^{\\frac{\\beta}{2} - \\frac{1}{2}}}{4} + \\frac{v^{2} \\cdot \\left(2 - 3 \\rho^{2}\\right)}{24}\\right) + 1\\right) \\log{\\left(\\frac{f}{K} \\right)}}{- K^{1 - \\beta} + f^{1 - \\beta}}$"
      ],
      "text/plain": [
       "alpha*(1 - beta)*(T*(alpha**2*(K*f)**(beta - 1)*(1 - beta)**2/24 + alpha*beta*rho*v*(K*f)**(beta/2 - 1/2)/4 + v**2*(2 - 3*rho**2)/24) + 1)*log(f/K)/(-K**(1 - beta) + f**(1 - beta))"
      ]
     },
     "execution_count": 29,
     "metadata": {},
     "output_type": "execute_result"
    }
   ],
   "source": [
    "I_0 = x*alpha*(1 - beta)/(f**(1 - beta) - K**(1 - beta))\n",
    "sigma = I_0*(1 + I_H_1*T)\n",
    "\n",
    "sigma"
   ]
  },
  {
   "cell_type": "code",
   "execution_count": 31,
   "id": "61d8d71f",
   "metadata": {},
   "outputs": [
    {
     "name": "stdout",
     "output_type": "stream",
     "text": [
      "alpha = Symbol('alpha')\n",
      "beta = Symbol('beta')\n",
      "f = Symbol('f')\n",
      "K = Symbol('K')\n",
      "e = alpha*(1 - beta)*log(f/K)/(-K**(1 - beta) + f**(1 - beta))\n"
     ]
    }
   ],
   "source": [
    "print(sym.python(I_0))"
   ]
  },
  {
   "cell_type": "code",
   "execution_count": 9,
   "id": "58fb57ce",
   "metadata": {},
   "outputs": [
    {
     "data": {
      "text/latex": [
       "$\\displaystyle \\frac{\\left(\\beta - 1\\right) \\left(2 T \\alpha \\left(\\alpha \\left(K f\\right)^{\\beta - 1} \\left(\\beta - 1\\right)^{2} + 3 \\beta \\rho v \\left(K f\\right)^{\\frac{\\beta}{2} - \\frac{1}{2}}\\right) + T \\left(\\alpha^{2} \\left(K f\\right)^{\\beta - 1} \\left(\\beta - 1\\right)^{2} + 6 \\alpha \\beta \\rho v \\left(K f\\right)^{\\frac{\\beta}{2} - \\frac{1}{2}} + v^{2} \\cdot \\left(1 - 3 \\rho^{2}\\right)\\right) + 24\\right) \\log{\\left(\\frac{f}{K} \\right)}}{24 \\left(K^{1 - \\beta} - f^{1 - \\beta}\\right)}$"
      ],
      "text/plain": [
       "(beta - 1)*(2*T*alpha*(alpha*(K*f)**(beta - 1)*(beta - 1)**2 + 3*beta*rho*v*(K*f)**(beta/2 - 1/2)) + T*(alpha**2*(K*f)**(beta - 1)*(beta - 1)**2 + 6*alpha*beta*rho*v*(K*f)**(beta/2 - 1/2) + v**2*(1 - 3*rho**2)) + 24)*log(f/K)/(24*(K**(1 - beta) - f**(1 - beta)))"
      ]
     },
     "execution_count": 9,
     "metadata": {},
     "output_type": "execute_result"
    }
   ],
   "source": [
    "sym.simplify(sigma.diff(alpha))"
   ]
  },
  {
   "cell_type": "code",
   "execution_count": 10,
   "id": "4a52867d",
   "metadata": {},
   "outputs": [
    {
     "data": {
      "text/latex": [
       "$\\displaystyle \\frac{\\alpha \\left(\\left(K^{1 - \\beta} - f^{1 - \\beta}\\right) \\left(T \\alpha \\left(\\beta - 1\\right) \\left(\\alpha \\left(K f\\right)^{\\beta - 1} \\left(\\beta - 1\\right)^{2} \\log{\\left(K f \\right)} + 2 \\alpha \\left(K f\\right)^{\\beta - 1} \\left(\\beta - 1\\right) + 3 \\beta \\rho v \\left(K f\\right)^{\\frac{\\beta}{2} - \\frac{1}{2}} \\log{\\left(K f \\right)} + 6 \\rho v \\left(K f\\right)^{\\frac{\\beta}{2} - \\frac{1}{2}}\\right) + T \\left(\\alpha^{2} \\left(K f\\right)^{\\beta - 1} \\left(\\beta - 1\\right)^{2} + 6 \\alpha \\beta \\rho v \\left(K f\\right)^{\\frac{\\beta}{2} - \\frac{1}{2}} + v^{2} \\cdot \\left(1 - 3 \\rho^{2}\\right)\\right) + 24\\right) + \\left(\\beta - 1\\right) \\left(K^{1 - \\beta} \\log{\\left(K \\right)} - f^{1 - \\beta} \\log{\\left(f \\right)}\\right) \\left(T \\left(\\alpha^{2} \\left(K f\\right)^{\\beta - 1} \\left(\\beta - 1\\right)^{2} + 6 \\alpha \\beta \\rho v \\left(K f\\right)^{\\frac{\\beta}{2} - \\frac{1}{2}} + v^{2} \\cdot \\left(1 - 3 \\rho^{2}\\right)\\right) + 24\\right)\\right) \\log{\\left(\\frac{f}{K} \\right)}}{24 \\left(K^{1 - \\beta} - f^{1 - \\beta}\\right)^{2}}$"
      ],
      "text/plain": [
       "alpha*((K**(1 - beta) - f**(1 - beta))*(T*alpha*(beta - 1)*(alpha*(K*f)**(beta - 1)*(beta - 1)**2*log(K*f) + 2*alpha*(K*f)**(beta - 1)*(beta - 1) + 3*beta*rho*v*(K*f)**(beta/2 - 1/2)*log(K*f) + 6*rho*v*(K*f)**(beta/2 - 1/2)) + T*(alpha**2*(K*f)**(beta - 1)*(beta - 1)**2 + 6*alpha*beta*rho*v*(K*f)**(beta/2 - 1/2) + v**2*(1 - 3*rho**2)) + 24) + (beta - 1)*(K**(1 - beta)*log(K) - f**(1 - beta)*log(f))*(T*(alpha**2*(K*f)**(beta - 1)*(beta - 1)**2 + 6*alpha*beta*rho*v*(K*f)**(beta/2 - 1/2) + v**2*(1 - 3*rho**2)) + 24))*log(f/K)/(24*(K**(1 - beta) - f**(1 - beta))**2)"
      ]
     },
     "execution_count": 10,
     "metadata": {},
     "output_type": "execute_result"
    }
   ],
   "source": [
    "sym.simplify(sigma.diff(beta))\n"
   ]
  },
  {
   "cell_type": "code",
   "execution_count": 11,
   "id": "a1e14af8",
   "metadata": {},
   "outputs": [
    {
     "data": {
      "text/latex": [
       "$\\displaystyle \\frac{T \\alpha \\left(\\beta - 1\\right) \\left(3 \\alpha \\beta \\rho \\left(K f\\right)^{\\frac{\\beta}{2} - \\frac{1}{2}} - v \\left(3 \\rho^{2} - 1\\right)\\right) \\log{\\left(\\frac{f}{K} \\right)}}{12 \\left(K^{1 - \\beta} - f^{1 - \\beta}\\right)}$"
      ],
      "text/plain": [
       "T*alpha*(beta - 1)*(3*alpha*beta*rho*(K*f)**(beta/2 - 1/2) - v*(3*rho**2 - 1))*log(f/K)/(12*(K**(1 - beta) - f**(1 - beta)))"
      ]
     },
     "execution_count": 11,
     "metadata": {},
     "output_type": "execute_result"
    }
   ],
   "source": [
    "sym.simplify(sigma.diff(v))\n"
   ]
  },
  {
   "cell_type": "code",
   "execution_count": 12,
   "id": "28f20152",
   "metadata": {},
   "outputs": [
    {
     "data": {
      "text/latex": [
       "$\\displaystyle \\frac{T \\alpha v \\left(\\beta - 1\\right) \\left(\\alpha \\beta \\left(K f\\right)^{\\frac{\\beta}{2} - \\frac{1}{2}} - \\rho v\\right) \\log{\\left(\\frac{f}{K} \\right)}}{4 \\left(K^{1 - \\beta} - f^{1 - \\beta}\\right)}$"
      ],
      "text/plain": [
       "T*alpha*v*(beta - 1)*(alpha*beta*(K*f)**(beta/2 - 1/2) - rho*v)*log(f/K)/(4*(K**(1 - beta) - f**(1 - beta)))"
      ]
     },
     "execution_count": 12,
     "metadata": {},
     "output_type": "execute_result"
    }
   ],
   "source": [
    "sym.simplify(sigma.diff(rho))\n"
   ]
  },
  {
   "cell_type": "markdown",
   "id": "7761deed",
   "metadata": {},
   "source": [
    "# Case 3: beta = 1"
   ]
  },
  {
   "cell_type": "code",
   "execution_count": 32,
   "id": "611741f5",
   "metadata": {},
   "outputs": [
    {
     "data": {
      "text/latex": [
       "$\\displaystyle \\frac{v \\left(T \\left(\\frac{\\alpha^{2} \\left(K f\\right)^{\\beta - 1} \\left(1 - \\beta\\right)^{2}}{24} + \\frac{\\alpha \\beta \\rho v \\left(K f\\right)^{\\frac{\\beta}{2} - \\frac{1}{2}}}{4} + \\frac{v^{2} \\cdot \\left(2 - 3 \\rho^{2}\\right)}{24}\\right) + 1\\right) \\log{\\left(\\frac{f}{K} \\right)}}{\\log{\\left(\\frac{- \\rho + \\sqrt{1 - \\frac{2 \\rho v \\log{\\left(\\frac{f}{K} \\right)}}{\\alpha} + \\frac{v^{2} \\log{\\left(\\frac{f}{K} \\right)}^{2}}{\\alpha^{2}}} + \\frac{v \\log{\\left(\\frac{f}{K} \\right)}}{\\alpha}}{1 - \\rho} \\right)}}$"
      ],
      "text/plain": [
       "v*(T*(alpha**2*(K*f)**(beta - 1)*(1 - beta)**2/24 + alpha*beta*rho*v*(K*f)**(beta/2 - 1/2)/4 + v**2*(2 - 3*rho**2)/24) + 1)*log(f/K)/log((-rho + sqrt(1 - 2*rho*v*log(f/K)/alpha + v**2*log(f/K)**2/alpha**2) + v*log(f/K)/alpha)/(1 - rho))"
      ]
     },
     "execution_count": 32,
     "metadata": {},
     "output_type": "execute_result"
    }
   ],
   "source": [
    "z = v*x/alpha\n",
    "I_0 = v*x/(sym.log((sym.sqrt(1 - 2*rho*z + z**2) + z - rho)/(1 - rho)))\n",
    "sigma = I_0*(1 + I_H_1*T)\n",
    "sigma\n"
   ]
  },
  {
   "cell_type": "code",
   "execution_count": 34,
   "id": "930fb159",
   "metadata": {},
   "outputs": [
    {
     "data": {
      "text/latex": [
       "$\\displaystyle \\frac{v \\log{\\left(\\frac{f}{K} \\right)}}{\\log{\\left(\\frac{- \\rho + \\sqrt{1 - \\frac{2 \\rho v \\log{\\left(\\frac{f}{K} \\right)}}{\\alpha} + \\frac{v^{2} \\log{\\left(\\frac{f}{K} \\right)}^{2}}{\\alpha^{2}}} + \\frac{v \\log{\\left(\\frac{f}{K} \\right)}}{\\alpha}}{1 - \\rho} \\right)}}$"
      ],
      "text/plain": [
       "v*log(f/K)/log((-rho + sqrt(1 - 2*rho*v*log(f/K)/alpha + v**2*log(f/K)**2/alpha**2) + v*log(f/K)/alpha)/(1 - rho))"
      ]
     },
     "execution_count": 34,
     "metadata": {},
     "output_type": "execute_result"
    }
   ],
   "source": [
    "I_0"
   ]
  },
  {
   "cell_type": "code",
   "execution_count": 33,
   "id": "a6beceab",
   "metadata": {
    "scrolled": true
   },
   "outputs": [
    {
     "name": "stdout",
     "output_type": "stream",
     "text": [
      "v = Symbol('v')\n",
      "f = Symbol('f')\n",
      "K = Symbol('K')\n",
      "rho = Symbol('rho')\n",
      "alpha = Symbol('alpha')\n",
      "e = v*log(f/K)/log((-rho + sqrt(1 - 2*rho*v*log(f/K)/alpha + v**2*log(f/K)**2/alpha**2) + v*log(f/K)/alpha)/(1 - rho))\n"
     ]
    }
   ],
   "source": [
    "print(sym.python(I_0))"
   ]
  },
  {
   "cell_type": "code",
   "execution_count": 14,
   "id": "73b8edfc",
   "metadata": {},
   "outputs": [
    {
     "data": {
      "text/latex": [
       "$\\displaystyle \\frac{v \\left(2 T \\alpha^{2} \\sqrt{\\frac{\\alpha^{2} - 2 \\alpha \\rho v \\log{\\left(\\frac{f}{K} \\right)} + v^{2} \\log{\\left(\\frac{f}{K} \\right)}^{2}}{\\alpha^{2}}} \\left(\\alpha \\left(- \\rho + \\sqrt{\\frac{\\alpha^{2} - 2 \\alpha \\rho v \\log{\\left(\\frac{f}{K} \\right)} + v^{2} \\log{\\left(\\frac{f}{K} \\right)}^{2}}{\\alpha^{2}}}\\right) + v \\log{\\left(\\frac{f}{K} \\right)}\\right) \\left(\\alpha \\left(K f\\right)^{\\beta - 1} \\left(\\beta - 1\\right)^{2} + 3 \\beta \\rho v \\left(K f\\right)^{\\frac{\\beta}{2} - \\frac{1}{2}}\\right) \\log{\\left(\\frac{\\alpha \\rho - \\alpha \\sqrt{\\frac{\\alpha^{2} - 2 \\alpha \\rho v \\log{\\left(\\frac{f}{K} \\right)} + v^{2} \\log{\\left(\\frac{f}{K} \\right)}^{2}}{\\alpha^{2}}} - v \\log{\\left(\\frac{f}{K} \\right)}}{\\alpha \\left(\\rho - 1\\right)} \\right)} - v \\left(T \\left(\\alpha^{2} \\left(K f\\right)^{\\beta - 1} \\left(\\beta - 1\\right)^{2} + 6 \\alpha \\beta \\rho v \\left(K f\\right)^{\\frac{\\beta}{2} - \\frac{1}{2}} + v^{2} \\cdot \\left(1 - 3 \\rho^{2}\\right)\\right) + 24\\right) \\left(\\alpha \\rho - \\alpha \\sqrt{\\frac{\\alpha^{2} - 2 \\alpha \\rho v \\log{\\left(\\frac{f}{K} \\right)} + v^{2} \\log{\\left(\\frac{f}{K} \\right)}^{2}}{\\alpha^{2}}} - v \\log{\\left(\\frac{f}{K} \\right)}\\right) \\log{\\left(\\frac{f}{K} \\right)}\\right) \\log{\\left(\\frac{f}{K} \\right)}}{24 \\alpha^{2} \\sqrt{\\frac{\\alpha^{2} - 2 \\alpha \\rho v \\log{\\left(\\frac{f}{K} \\right)} + v^{2} \\log{\\left(\\frac{f}{K} \\right)}^{2}}{\\alpha^{2}}} \\left(\\alpha \\left(- \\rho + \\sqrt{\\frac{\\alpha^{2} - 2 \\alpha \\rho v \\log{\\left(\\frac{f}{K} \\right)} + v^{2} \\log{\\left(\\frac{f}{K} \\right)}^{2}}{\\alpha^{2}}}\\right) + v \\log{\\left(\\frac{f}{K} \\right)}\\right) \\log{\\left(\\frac{\\alpha \\rho - \\alpha \\sqrt{\\frac{\\alpha^{2} - 2 \\alpha \\rho v \\log{\\left(\\frac{f}{K} \\right)} + v^{2} \\log{\\left(\\frac{f}{K} \\right)}^{2}}{\\alpha^{2}}} - v \\log{\\left(\\frac{f}{K} \\right)}}{\\alpha \\left(\\rho - 1\\right)} \\right)}^{2}}$"
      ],
      "text/plain": [
       "v*(2*T*alpha**2*sqrt((alpha**2 - 2*alpha*rho*v*log(f/K) + v**2*log(f/K)**2)/alpha**2)*(alpha*(-rho + sqrt((alpha**2 - 2*alpha*rho*v*log(f/K) + v**2*log(f/K)**2)/alpha**2)) + v*log(f/K))*(alpha*(K*f)**(beta - 1)*(beta - 1)**2 + 3*beta*rho*v*(K*f)**(beta/2 - 1/2))*log((alpha*rho - alpha*sqrt((alpha**2 - 2*alpha*rho*v*log(f/K) + v**2*log(f/K)**2)/alpha**2) - v*log(f/K))/(alpha*(rho - 1))) - v*(T*(alpha**2*(K*f)**(beta - 1)*(beta - 1)**2 + 6*alpha*beta*rho*v*(K*f)**(beta/2 - 1/2) + v**2*(1 - 3*rho**2)) + 24)*(alpha*rho - alpha*sqrt((alpha**2 - 2*alpha*rho*v*log(f/K) + v**2*log(f/K)**2)/alpha**2) - v*log(f/K))*log(f/K))*log(f/K)/(24*alpha**2*sqrt((alpha**2 - 2*alpha*rho*v*log(f/K) + v**2*log(f/K)**2)/alpha**2)*(alpha*(-rho + sqrt((alpha**2 - 2*alpha*rho*v*log(f/K) + v**2*log(f/K)**2)/alpha**2)) + v*log(f/K))*log((alpha*rho - alpha*sqrt((alpha**2 - 2*alpha*rho*v*log(f/K) + v**2*log(f/K)**2)/alpha**2) - v*log(f/K))/(alpha*(rho - 1)))**2)"
      ]
     },
     "execution_count": 14,
     "metadata": {},
     "output_type": "execute_result"
    }
   ],
   "source": [
    "sym.simplify(sigma.diff(alpha))"
   ]
  },
  {
   "cell_type": "code",
   "execution_count": 15,
   "id": "6c14d055",
   "metadata": {},
   "outputs": [
    {
     "data": {
      "text/latex": [
       "$\\displaystyle \\frac{T \\alpha v \\left(\\alpha \\left(K f\\right)^{\\beta - 1} \\left(\\beta - 1\\right)^{2} \\log{\\left(K f \\right)} + 2 \\alpha \\left(K f\\right)^{\\beta - 1} \\left(\\beta - 1\\right) + 3 \\beta \\rho v \\left(K f\\right)^{\\frac{\\beta}{2} - \\frac{1}{2}} \\log{\\left(K f \\right)} + 6 \\rho v \\left(K f\\right)^{\\frac{\\beta}{2} - \\frac{1}{2}}\\right) \\log{\\left(\\frac{f}{K} \\right)}}{24 \\log{\\left(\\frac{\\alpha \\rho - \\alpha \\sqrt{\\frac{\\alpha^{2} - 2 \\alpha \\rho v \\log{\\left(\\frac{f}{K} \\right)} + v^{2} \\log{\\left(\\frac{f}{K} \\right)}^{2}}{\\alpha^{2}}} - v \\log{\\left(\\frac{f}{K} \\right)}}{\\alpha \\left(\\rho - 1\\right)} \\right)}}$"
      ],
      "text/plain": [
       "T*alpha*v*(alpha*(K*f)**(beta - 1)*(beta - 1)**2*log(K*f) + 2*alpha*(K*f)**(beta - 1)*(beta - 1) + 3*beta*rho*v*(K*f)**(beta/2 - 1/2)*log(K*f) + 6*rho*v*(K*f)**(beta/2 - 1/2))*log(f/K)/(24*log((alpha*rho - alpha*sqrt((alpha**2 - 2*alpha*rho*v*log(f/K) + v**2*log(f/K)**2)/alpha**2) - v*log(f/K))/(alpha*(rho - 1))))"
      ]
     },
     "execution_count": 15,
     "metadata": {},
     "output_type": "execute_result"
    }
   ],
   "source": [
    "sym.simplify(sigma.diff(beta))\n"
   ]
  },
  {
   "cell_type": "code",
   "execution_count": 16,
   "id": "a8392de7",
   "metadata": {},
   "outputs": [
    {
     "data": {
      "text/latex": [
       "$\\displaystyle \\frac{\\left(\\alpha \\sqrt{\\frac{\\alpha^{2} - 2 \\alpha \\rho v \\log{\\left(\\frac{f}{K} \\right)} + v^{2} \\log{\\left(\\frac{f}{K} \\right)}^{2}}{\\alpha^{2}}} \\left(\\alpha \\left(- \\rho + \\sqrt{\\frac{\\alpha^{2} - 2 \\alpha \\rho v \\log{\\left(\\frac{f}{K} \\right)} + v^{2} \\log{\\left(\\frac{f}{K} \\right)}^{2}}{\\alpha^{2}}}\\right) + v \\log{\\left(\\frac{f}{K} \\right)}\\right) \\left(2 T v \\left(3 \\alpha \\beta \\rho \\left(K f\\right)^{\\frac{\\beta}{2} - \\frac{1}{2}} - v \\left(3 \\rho^{2} - 1\\right)\\right) + T \\left(\\alpha^{2} \\left(K f\\right)^{\\beta - 1} \\left(\\beta - 1\\right)^{2} + 6 \\alpha \\beta \\rho v \\left(K f\\right)^{\\frac{\\beta}{2} - \\frac{1}{2}} + v^{2} \\cdot \\left(1 - 3 \\rho^{2}\\right)\\right) + 24\\right) \\log{\\left(\\frac{\\alpha \\rho - \\alpha \\sqrt{\\frac{\\alpha^{2} - 2 \\alpha \\rho v \\log{\\left(\\frac{f}{K} \\right)} + v^{2} \\log{\\left(\\frac{f}{K} \\right)}^{2}}{\\alpha^{2}}} - v \\log{\\left(\\frac{f}{K} \\right)}}{\\alpha \\left(\\rho - 1\\right)} \\right)} + v \\left(T \\left(\\alpha^{2} \\left(K f\\right)^{\\beta - 1} \\left(\\beta - 1\\right)^{2} + 6 \\alpha \\beta \\rho v \\left(K f\\right)^{\\frac{\\beta}{2} - \\frac{1}{2}} + v^{2} \\cdot \\left(1 - 3 \\rho^{2}\\right)\\right) + 24\\right) \\left(\\alpha \\rho - \\alpha \\sqrt{\\frac{\\alpha^{2} - 2 \\alpha \\rho v \\log{\\left(\\frac{f}{K} \\right)} + v^{2} \\log{\\left(\\frac{f}{K} \\right)}^{2}}{\\alpha^{2}}} - v \\log{\\left(\\frac{f}{K} \\right)}\\right) \\log{\\left(\\frac{f}{K} \\right)}\\right) \\log{\\left(\\frac{f}{K} \\right)}}{24 \\alpha \\sqrt{\\frac{\\alpha^{2} - 2 \\alpha \\rho v \\log{\\left(\\frac{f}{K} \\right)} + v^{2} \\log{\\left(\\frac{f}{K} \\right)}^{2}}{\\alpha^{2}}} \\left(\\alpha \\left(- \\rho + \\sqrt{\\frac{\\alpha^{2} - 2 \\alpha \\rho v \\log{\\left(\\frac{f}{K} \\right)} + v^{2} \\log{\\left(\\frac{f}{K} \\right)}^{2}}{\\alpha^{2}}}\\right) + v \\log{\\left(\\frac{f}{K} \\right)}\\right) \\log{\\left(\\frac{\\alpha \\rho - \\alpha \\sqrt{\\frac{\\alpha^{2} - 2 \\alpha \\rho v \\log{\\left(\\frac{f}{K} \\right)} + v^{2} \\log{\\left(\\frac{f}{K} \\right)}^{2}}{\\alpha^{2}}} - v \\log{\\left(\\frac{f}{K} \\right)}}{\\alpha \\left(\\rho - 1\\right)} \\right)}^{2}}$"
      ],
      "text/plain": [
       "(alpha*sqrt((alpha**2 - 2*alpha*rho*v*log(f/K) + v**2*log(f/K)**2)/alpha**2)*(alpha*(-rho + sqrt((alpha**2 - 2*alpha*rho*v*log(f/K) + v**2*log(f/K)**2)/alpha**2)) + v*log(f/K))*(2*T*v*(3*alpha*beta*rho*(K*f)**(beta/2 - 1/2) - v*(3*rho**2 - 1)) + T*(alpha**2*(K*f)**(beta - 1)*(beta - 1)**2 + 6*alpha*beta*rho*v*(K*f)**(beta/2 - 1/2) + v**2*(1 - 3*rho**2)) + 24)*log((alpha*rho - alpha*sqrt((alpha**2 - 2*alpha*rho*v*log(f/K) + v**2*log(f/K)**2)/alpha**2) - v*log(f/K))/(alpha*(rho - 1))) + v*(T*(alpha**2*(K*f)**(beta - 1)*(beta - 1)**2 + 6*alpha*beta*rho*v*(K*f)**(beta/2 - 1/2) + v**2*(1 - 3*rho**2)) + 24)*(alpha*rho - alpha*sqrt((alpha**2 - 2*alpha*rho*v*log(f/K) + v**2*log(f/K)**2)/alpha**2) - v*log(f/K))*log(f/K))*log(f/K)/(24*alpha*sqrt((alpha**2 - 2*alpha*rho*v*log(f/K) + v**2*log(f/K)**2)/alpha**2)*(alpha*(-rho + sqrt((alpha**2 - 2*alpha*rho*v*log(f/K) + v**2*log(f/K)**2)/alpha**2)) + v*log(f/K))*log((alpha*rho - alpha*sqrt((alpha**2 - 2*alpha*rho*v*log(f/K) + v**2*log(f/K)**2)/alpha**2) - v*log(f/K))/(alpha*(rho - 1)))**2)"
      ]
     },
     "execution_count": 16,
     "metadata": {},
     "output_type": "execute_result"
    }
   ],
   "source": [
    "sym.simplify(sigma.diff(v))\n"
   ]
  },
  {
   "cell_type": "code",
   "execution_count": 17,
   "id": "20a1ba13",
   "metadata": {},
   "outputs": [
    {
     "data": {
      "text/latex": [
       "$\\displaystyle \\frac{v \\left(6 T v \\sqrt{\\frac{\\alpha^{2} - 2 \\alpha \\rho v \\log{\\left(\\frac{f}{K} \\right)} + v^{2} \\log{\\left(\\frac{f}{K} \\right)}^{2}}{\\alpha^{2}}} \\left(\\rho - 1\\right) \\left(\\alpha \\left(- \\rho + \\sqrt{\\frac{\\alpha^{2} - 2 \\alpha \\rho v \\log{\\left(\\frac{f}{K} \\right)} + v^{2} \\log{\\left(\\frac{f}{K} \\right)}^{2}}{\\alpha^{2}}}\\right) + v \\log{\\left(\\frac{f}{K} \\right)}\\right) \\left(\\alpha \\beta \\left(K f\\right)^{\\frac{\\beta}{2} - \\frac{1}{2}} - \\rho v\\right) \\log{\\left(\\frac{\\alpha \\rho - \\alpha \\sqrt{\\frac{\\alpha^{2} - 2 \\alpha \\rho v \\log{\\left(\\frac{f}{K} \\right)} + v^{2} \\log{\\left(\\frac{f}{K} \\right)}^{2}}{\\alpha^{2}}} - v \\log{\\left(\\frac{f}{K} \\right)}}{\\alpha \\left(\\rho - 1\\right)} \\right)} + \\left(T \\left(\\alpha^{2} \\left(K f\\right)^{\\beta - 1} \\left(\\beta - 1\\right)^{2} + 6 \\alpha \\beta \\rho v \\left(K f\\right)^{\\frac{\\beta}{2} - \\frac{1}{2}} + v^{2} \\cdot \\left(1 - 3 \\rho^{2}\\right)\\right) + 24\\right) \\left(\\sqrt{\\frac{\\alpha^{2} - 2 \\alpha \\rho v \\log{\\left(\\frac{f}{K} \\right)} + v^{2} \\log{\\left(\\frac{f}{K} \\right)}^{2}}{\\alpha^{2}}} \\left(\\alpha \\left(- \\rho + \\sqrt{\\frac{\\alpha^{2} - 2 \\alpha \\rho v \\log{\\left(\\frac{f}{K} \\right)} + v^{2} \\log{\\left(\\frac{f}{K} \\right)}^{2}}{\\alpha^{2}}}\\right) + v \\log{\\left(\\frac{f}{K} \\right)}\\right) + \\left(\\rho - 1\\right) \\left(\\alpha \\sqrt{\\frac{\\alpha^{2} - 2 \\alpha \\rho v \\log{\\left(\\frac{f}{K} \\right)} + v^{2} \\log{\\left(\\frac{f}{K} \\right)}^{2}}{\\alpha^{2}}} + v \\log{\\left(\\frac{f}{K} \\right)}\\right)\\right)\\right) \\log{\\left(\\frac{f}{K} \\right)}}{24 \\sqrt{\\frac{\\alpha^{2} - 2 \\alpha \\rho v \\log{\\left(\\frac{f}{K} \\right)} + v^{2} \\log{\\left(\\frac{f}{K} \\right)}^{2}}{\\alpha^{2}}} \\left(\\rho - 1\\right) \\left(\\alpha \\left(- \\rho + \\sqrt{\\frac{\\alpha^{2} - 2 \\alpha \\rho v \\log{\\left(\\frac{f}{K} \\right)} + v^{2} \\log{\\left(\\frac{f}{K} \\right)}^{2}}{\\alpha^{2}}}\\right) + v \\log{\\left(\\frac{f}{K} \\right)}\\right) \\log{\\left(\\frac{\\alpha \\rho - \\alpha \\sqrt{\\frac{\\alpha^{2} - 2 \\alpha \\rho v \\log{\\left(\\frac{f}{K} \\right)} + v^{2} \\log{\\left(\\frac{f}{K} \\right)}^{2}}{\\alpha^{2}}} - v \\log{\\left(\\frac{f}{K} \\right)}}{\\alpha \\left(\\rho - 1\\right)} \\right)}^{2}}$"
      ],
      "text/plain": [
       "v*(6*T*v*sqrt((alpha**2 - 2*alpha*rho*v*log(f/K) + v**2*log(f/K)**2)/alpha**2)*(rho - 1)*(alpha*(-rho + sqrt((alpha**2 - 2*alpha*rho*v*log(f/K) + v**2*log(f/K)**2)/alpha**2)) + v*log(f/K))*(alpha*beta*(K*f)**(beta/2 - 1/2) - rho*v)*log((alpha*rho - alpha*sqrt((alpha**2 - 2*alpha*rho*v*log(f/K) + v**2*log(f/K)**2)/alpha**2) - v*log(f/K))/(alpha*(rho - 1))) + (T*(alpha**2*(K*f)**(beta - 1)*(beta - 1)**2 + 6*alpha*beta*rho*v*(K*f)**(beta/2 - 1/2) + v**2*(1 - 3*rho**2)) + 24)*(sqrt((alpha**2 - 2*alpha*rho*v*log(f/K) + v**2*log(f/K)**2)/alpha**2)*(alpha*(-rho + sqrt((alpha**2 - 2*alpha*rho*v*log(f/K) + v**2*log(f/K)**2)/alpha**2)) + v*log(f/K)) + (rho - 1)*(alpha*sqrt((alpha**2 - 2*alpha*rho*v*log(f/K) + v**2*log(f/K)**2)/alpha**2) + v*log(f/K))))*log(f/K)/(24*sqrt((alpha**2 - 2*alpha*rho*v*log(f/K) + v**2*log(f/K)**2)/alpha**2)*(rho - 1)*(alpha*(-rho + sqrt((alpha**2 - 2*alpha*rho*v*log(f/K) + v**2*log(f/K)**2)/alpha**2)) + v*log(f/K))*log((alpha*rho - alpha*sqrt((alpha**2 - 2*alpha*rho*v*log(f/K) + v**2*log(f/K)**2)/alpha**2) - v*log(f/K))/(alpha*(rho - 1)))**2)"
      ]
     },
     "execution_count": 17,
     "metadata": {},
     "output_type": "execute_result"
    }
   ],
   "source": [
    "sym.simplify(sigma.diff(rho))\n"
   ]
  },
  {
   "cell_type": "markdown",
   "id": "b3bd9413",
   "metadata": {},
   "source": [
    "# Case 4: beta < 1"
   ]
  },
  {
   "cell_type": "code",
   "execution_count": 18,
   "id": "53329fea",
   "metadata": {},
   "outputs": [
    {
     "data": {
      "text/latex": [
       "$\\displaystyle \\frac{v \\left(T \\left(\\frac{\\alpha^{2} \\left(K f\\right)^{\\beta - 1} \\left(1 - \\beta\\right)^{2}}{24} + \\frac{\\alpha \\beta \\rho v \\left(K f\\right)^{\\frac{\\beta}{2} - \\frac{1}{2}}}{4} + \\frac{v^{2} \\cdot \\left(1 - 3 \\rho^{2}\\right)}{24}\\right) + 1\\right) \\log{\\left(\\frac{f}{K} \\right)}}{\\log{\\left(\\frac{- \\rho + \\sqrt{1 - \\frac{2 \\rho v \\left(- K^{1 - \\beta} + f^{1 - \\beta}\\right)}{\\alpha \\left(1 - \\beta\\right)} + \\frac{v^{2} \\left(- K^{1 - \\beta} + f^{1 - \\beta}\\right)^{2}}{\\alpha^{2} \\left(1 - \\beta\\right)^{2}}} + \\frac{v \\left(- K^{1 - \\beta} + f^{1 - \\beta}\\right)}{\\alpha \\left(1 - \\beta\\right)}}{1 - \\rho} \\right)}}$"
      ],
      "text/plain": [
       "v*(T*(alpha**2*(K*f)**(beta - 1)*(1 - beta)**2/24 + alpha*beta*rho*v*(K*f)**(beta/2 - 1/2)/4 + v**2*(1 - 3*rho**2)/24) + 1)*log(f/K)/log((-rho + sqrt(1 - 2*rho*v*(-K**(1 - beta) + f**(1 - beta))/(alpha*(1 - beta)) + v**2*(-K**(1 - beta) + f**(1 - beta))**2/(alpha**2*(1 - beta)**2)) + v*(-K**(1 - beta) + f**(1 - beta))/(alpha*(1 - beta)))/(1 - rho))"
      ]
     },
     "execution_count": 18,
     "metadata": {},
     "output_type": "execute_result"
    }
   ],
   "source": [
    "z = v*(f**(1 - beta) - K**(1 - beta))/(alpha*(1 - beta))\n",
    "I_0 = v*x/(sym.log((sym.sqrt(1 - 2*rho*z + z**2) + z - rho)/(1 - rho)))\n",
    "sigma = I_0*(1 + I_H_1*T)\n",
    "sigma\n"
   ]
  },
  {
   "cell_type": "code",
   "execution_count": 19,
   "id": "8042ffb4",
   "metadata": {},
   "outputs": [
    {
     "data": {
      "text/latex": [
       "$\\displaystyle \\frac{T v \\left(\\frac{\\alpha \\left(K f\\right)^{\\beta - 1} \\left(1 - \\beta\\right)^{2}}{12} + \\frac{\\beta \\rho v \\left(K f\\right)^{\\frac{\\beta}{2} - \\frac{1}{2}}}{4}\\right) \\log{\\left(\\frac{f}{K} \\right)}}{\\log{\\left(\\frac{- \\rho + \\sqrt{1 - \\frac{2 \\rho v \\left(- K^{1 - \\beta} + f^{1 - \\beta}\\right)}{\\alpha \\left(1 - \\beta\\right)} + \\frac{v^{2} \\left(- K^{1 - \\beta} + f^{1 - \\beta}\\right)^{2}}{\\alpha^{2} \\left(1 - \\beta\\right)^{2}}} + \\frac{v \\left(- K^{1 - \\beta} + f^{1 - \\beta}\\right)}{\\alpha \\left(1 - \\beta\\right)}}{1 - \\rho} \\right)}} - \\frac{v \\left(T \\left(\\frac{\\alpha^{2} \\left(K f\\right)^{\\beta - 1} \\left(1 - \\beta\\right)^{2}}{24} + \\frac{\\alpha \\beta \\rho v \\left(K f\\right)^{\\frac{\\beta}{2} - \\frac{1}{2}}}{4} + \\frac{v^{2} \\cdot \\left(1 - 3 \\rho^{2}\\right)}{24}\\right) + 1\\right) \\left(\\frac{\\frac{\\rho v \\left(- K^{1 - \\beta} + f^{1 - \\beta}\\right)}{\\alpha^{2} \\cdot \\left(1 - \\beta\\right)} - \\frac{v^{2} \\left(- K^{1 - \\beta} + f^{1 - \\beta}\\right)^{2}}{\\alpha^{3} \\left(1 - \\beta\\right)^{2}}}{\\sqrt{1 - \\frac{2 \\rho v \\left(- K^{1 - \\beta} + f^{1 - \\beta}\\right)}{\\alpha \\left(1 - \\beta\\right)} + \\frac{v^{2} \\left(- K^{1 - \\beta} + f^{1 - \\beta}\\right)^{2}}{\\alpha^{2} \\left(1 - \\beta\\right)^{2}}}} - \\frac{v \\left(- K^{1 - \\beta} + f^{1 - \\beta}\\right)}{\\alpha^{2} \\cdot \\left(1 - \\beta\\right)}\\right) \\log{\\left(\\frac{f}{K} \\right)}}{\\left(- \\rho + \\sqrt{1 - \\frac{2 \\rho v \\left(- K^{1 - \\beta} + f^{1 - \\beta}\\right)}{\\alpha \\left(1 - \\beta\\right)} + \\frac{v^{2} \\left(- K^{1 - \\beta} + f^{1 - \\beta}\\right)^{2}}{\\alpha^{2} \\left(1 - \\beta\\right)^{2}}} + \\frac{v \\left(- K^{1 - \\beta} + f^{1 - \\beta}\\right)}{\\alpha \\left(1 - \\beta\\right)}\\right) \\log{\\left(\\frac{- \\rho + \\sqrt{1 - \\frac{2 \\rho v \\left(- K^{1 - \\beta} + f^{1 - \\beta}\\right)}{\\alpha \\left(1 - \\beta\\right)} + \\frac{v^{2} \\left(- K^{1 - \\beta} + f^{1 - \\beta}\\right)^{2}}{\\alpha^{2} \\left(1 - \\beta\\right)^{2}}} + \\frac{v \\left(- K^{1 - \\beta} + f^{1 - \\beta}\\right)}{\\alpha \\left(1 - \\beta\\right)}}{1 - \\rho} \\right)}^{2}}$"
      ],
      "text/plain": [
       "T*v*(alpha*(K*f)**(beta - 1)*(1 - beta)**2/12 + beta*rho*v*(K*f)**(beta/2 - 1/2)/4)*log(f/K)/log((-rho + sqrt(1 - 2*rho*v*(-K**(1 - beta) + f**(1 - beta))/(alpha*(1 - beta)) + v**2*(-K**(1 - beta) + f**(1 - beta))**2/(alpha**2*(1 - beta)**2)) + v*(-K**(1 - beta) + f**(1 - beta))/(alpha*(1 - beta)))/(1 - rho)) - v*(T*(alpha**2*(K*f)**(beta - 1)*(1 - beta)**2/24 + alpha*beta*rho*v*(K*f)**(beta/2 - 1/2)/4 + v**2*(1 - 3*rho**2)/24) + 1)*((rho*v*(-K**(1 - beta) + f**(1 - beta))/(alpha**2*(1 - beta)) - v**2*(-K**(1 - beta) + f**(1 - beta))**2/(alpha**3*(1 - beta)**2))/sqrt(1 - 2*rho*v*(-K**(1 - beta) + f**(1 - beta))/(alpha*(1 - beta)) + v**2*(-K**(1 - beta) + f**(1 - beta))**2/(alpha**2*(1 - beta)**2)) - v*(-K**(1 - beta) + f**(1 - beta))/(alpha**2*(1 - beta)))*log(f/K)/((-rho + sqrt(1 - 2*rho*v*(-K**(1 - beta) + f**(1 - beta))/(alpha*(1 - beta)) + v**2*(-K**(1 - beta) + f**(1 - beta))**2/(alpha**2*(1 - beta)**2)) + v*(-K**(1 - beta) + f**(1 - beta))/(alpha*(1 - beta)))*log((-rho + sqrt(1 - 2*rho*v*(-K**(1 - beta) + f**(1 - beta))/(alpha*(1 - beta)) + v**2*(-K**(1 - beta) + f**(1 - beta))**2/(alpha**2*(1 - beta)**2)) + v*(-K**(1 - beta) + f**(1 - beta))/(alpha*(1 - beta)))/(1 - rho))**2)"
      ]
     },
     "execution_count": 19,
     "metadata": {},
     "output_type": "execute_result"
    }
   ],
   "source": [
    "sigma.diff(alpha)"
   ]
  },
  {
   "cell_type": "code",
   "execution_count": 20,
   "id": "9a92846e",
   "metadata": {},
   "outputs": [
    {
     "data": {
      "text/latex": [
       "$\\displaystyle \\frac{T v \\left(\\frac{\\alpha^{2} \\left(K f\\right)^{\\beta - 1} \\left(1 - \\beta\\right)^{2} \\log{\\left(K f \\right)}}{24} + \\frac{\\alpha^{2} \\left(K f\\right)^{\\beta - 1} \\cdot \\left(2 \\beta - 2\\right)}{24} + \\frac{\\alpha \\beta \\rho v \\left(K f\\right)^{\\frac{\\beta}{2} - \\frac{1}{2}} \\log{\\left(K f \\right)}}{8} + \\frac{\\alpha \\rho v \\left(K f\\right)^{\\frac{\\beta}{2} - \\frac{1}{2}}}{4}\\right) \\log{\\left(\\frac{f}{K} \\right)}}{\\log{\\left(\\frac{- \\rho + \\sqrt{1 - \\frac{2 \\rho v \\left(- K^{1 - \\beta} + f^{1 - \\beta}\\right)}{\\alpha \\left(1 - \\beta\\right)} + \\frac{v^{2} \\left(- K^{1 - \\beta} + f^{1 - \\beta}\\right)^{2}}{\\alpha^{2} \\left(1 - \\beta\\right)^{2}}} + \\frac{v \\left(- K^{1 - \\beta} + f^{1 - \\beta}\\right)}{\\alpha \\left(1 - \\beta\\right)}}{1 - \\rho} \\right)}} - \\frac{v \\left(T \\left(\\frac{\\alpha^{2} \\left(K f\\right)^{\\beta - 1} \\left(1 - \\beta\\right)^{2}}{24} + \\frac{\\alpha \\beta \\rho v \\left(K f\\right)^{\\frac{\\beta}{2} - \\frac{1}{2}}}{4} + \\frac{v^{2} \\cdot \\left(1 - 3 \\rho^{2}\\right)}{24}\\right) + 1\\right) \\left(\\frac{- \\frac{\\rho v \\left(K^{1 - \\beta} \\log{\\left(K \\right)} - f^{1 - \\beta} \\log{\\left(f \\right)}\\right)}{\\alpha \\left(1 - \\beta\\right)} - \\frac{\\rho v \\left(- K^{1 - \\beta} + f^{1 - \\beta}\\right)}{\\alpha \\left(1 - \\beta\\right)^{2}} + \\frac{v^{2} \\left(- K^{1 - \\beta} + f^{1 - \\beta}\\right) \\left(2 K^{1 - \\beta} \\log{\\left(K \\right)} - 2 f^{1 - \\beta} \\log{\\left(f \\right)}\\right)}{2 \\alpha^{2} \\left(1 - \\beta\\right)^{2}} + \\frac{v^{2} \\left(- K^{1 - \\beta} + f^{1 - \\beta}\\right)^{2}}{\\alpha^{2} \\left(1 - \\beta\\right)^{3}}}{\\sqrt{1 - \\frac{2 \\rho v \\left(- K^{1 - \\beta} + f^{1 - \\beta}\\right)}{\\alpha \\left(1 - \\beta\\right)} + \\frac{v^{2} \\left(- K^{1 - \\beta} + f^{1 - \\beta}\\right)^{2}}{\\alpha^{2} \\left(1 - \\beta\\right)^{2}}}} + \\frac{v \\left(K^{1 - \\beta} \\log{\\left(K \\right)} - f^{1 - \\beta} \\log{\\left(f \\right)}\\right)}{\\alpha \\left(1 - \\beta\\right)} + \\frac{v \\left(- K^{1 - \\beta} + f^{1 - \\beta}\\right)}{\\alpha \\left(1 - \\beta\\right)^{2}}\\right) \\log{\\left(\\frac{f}{K} \\right)}}{\\left(- \\rho + \\sqrt{1 - \\frac{2 \\rho v \\left(- K^{1 - \\beta} + f^{1 - \\beta}\\right)}{\\alpha \\left(1 - \\beta\\right)} + \\frac{v^{2} \\left(- K^{1 - \\beta} + f^{1 - \\beta}\\right)^{2}}{\\alpha^{2} \\left(1 - \\beta\\right)^{2}}} + \\frac{v \\left(- K^{1 - \\beta} + f^{1 - \\beta}\\right)}{\\alpha \\left(1 - \\beta\\right)}\\right) \\log{\\left(\\frac{- \\rho + \\sqrt{1 - \\frac{2 \\rho v \\left(- K^{1 - \\beta} + f^{1 - \\beta}\\right)}{\\alpha \\left(1 - \\beta\\right)} + \\frac{v^{2} \\left(- K^{1 - \\beta} + f^{1 - \\beta}\\right)^{2}}{\\alpha^{2} \\left(1 - \\beta\\right)^{2}}} + \\frac{v \\left(- K^{1 - \\beta} + f^{1 - \\beta}\\right)}{\\alpha \\left(1 - \\beta\\right)}}{1 - \\rho} \\right)}^{2}}$"
      ],
      "text/plain": [
       "T*v*(alpha**2*(K*f)**(beta - 1)*(1 - beta)**2*log(K*f)/24 + alpha**2*(K*f)**(beta - 1)*(2*beta - 2)/24 + alpha*beta*rho*v*(K*f)**(beta/2 - 1/2)*log(K*f)/8 + alpha*rho*v*(K*f)**(beta/2 - 1/2)/4)*log(f/K)/log((-rho + sqrt(1 - 2*rho*v*(-K**(1 - beta) + f**(1 - beta))/(alpha*(1 - beta)) + v**2*(-K**(1 - beta) + f**(1 - beta))**2/(alpha**2*(1 - beta)**2)) + v*(-K**(1 - beta) + f**(1 - beta))/(alpha*(1 - beta)))/(1 - rho)) - v*(T*(alpha**2*(K*f)**(beta - 1)*(1 - beta)**2/24 + alpha*beta*rho*v*(K*f)**(beta/2 - 1/2)/4 + v**2*(1 - 3*rho**2)/24) + 1)*((-rho*v*(K**(1 - beta)*log(K) - f**(1 - beta)*log(f))/(alpha*(1 - beta)) - rho*v*(-K**(1 - beta) + f**(1 - beta))/(alpha*(1 - beta)**2) + v**2*(-K**(1 - beta) + f**(1 - beta))*(2*K**(1 - beta)*log(K) - 2*f**(1 - beta)*log(f))/(2*alpha**2*(1 - beta)**2) + v**2*(-K**(1 - beta) + f**(1 - beta))**2/(alpha**2*(1 - beta)**3))/sqrt(1 - 2*rho*v*(-K**(1 - beta) + f**(1 - beta))/(alpha*(1 - beta)) + v**2*(-K**(1 - beta) + f**(1 - beta))**2/(alpha**2*(1 - beta)**2)) + v*(K**(1 - beta)*log(K) - f**(1 - beta)*log(f))/(alpha*(1 - beta)) + v*(-K**(1 - beta) + f**(1 - beta))/(alpha*(1 - beta)**2))*log(f/K)/((-rho + sqrt(1 - 2*rho*v*(-K**(1 - beta) + f**(1 - beta))/(alpha*(1 - beta)) + v**2*(-K**(1 - beta) + f**(1 - beta))**2/(alpha**2*(1 - beta)**2)) + v*(-K**(1 - beta) + f**(1 - beta))/(alpha*(1 - beta)))*log((-rho + sqrt(1 - 2*rho*v*(-K**(1 - beta) + f**(1 - beta))/(alpha*(1 - beta)) + v**2*(-K**(1 - beta) + f**(1 - beta))**2/(alpha**2*(1 - beta)**2)) + v*(-K**(1 - beta) + f**(1 - beta))/(alpha*(1 - beta)))/(1 - rho))**2)"
      ]
     },
     "execution_count": 20,
     "metadata": {},
     "output_type": "execute_result"
    }
   ],
   "source": [
    "sigma.diff(beta)\n"
   ]
  },
  {
   "cell_type": "code",
   "execution_count": 21,
   "id": "1e0091c1",
   "metadata": {},
   "outputs": [
    {
     "data": {
      "text/latex": [
       "$\\displaystyle \\frac{T v \\left(\\frac{\\alpha \\beta \\rho \\left(K f\\right)^{\\frac{\\beta}{2} - \\frac{1}{2}}}{4} + \\frac{v \\left(1 - 3 \\rho^{2}\\right)}{12}\\right) \\log{\\left(\\frac{f}{K} \\right)}}{\\log{\\left(\\frac{- \\rho + \\sqrt{1 - \\frac{2 \\rho v \\left(- K^{1 - \\beta} + f^{1 - \\beta}\\right)}{\\alpha \\left(1 - \\beta\\right)} + \\frac{v^{2} \\left(- K^{1 - \\beta} + f^{1 - \\beta}\\right)^{2}}{\\alpha^{2} \\left(1 - \\beta\\right)^{2}}} + \\frac{v \\left(- K^{1 - \\beta} + f^{1 - \\beta}\\right)}{\\alpha \\left(1 - \\beta\\right)}}{1 - \\rho} \\right)}} - \\frac{v \\left(T \\left(\\frac{\\alpha^{2} \\left(K f\\right)^{\\beta - 1} \\left(1 - \\beta\\right)^{2}}{24} + \\frac{\\alpha \\beta \\rho v \\left(K f\\right)^{\\frac{\\beta}{2} - \\frac{1}{2}}}{4} + \\frac{v^{2} \\cdot \\left(1 - 3 \\rho^{2}\\right)}{24}\\right) + 1\\right) \\left(\\frac{- \\frac{\\rho \\left(- K^{1 - \\beta} + f^{1 - \\beta}\\right)}{\\alpha \\left(1 - \\beta\\right)} + \\frac{v \\left(- K^{1 - \\beta} + f^{1 - \\beta}\\right)^{2}}{\\alpha^{2} \\left(1 - \\beta\\right)^{2}}}{\\sqrt{1 - \\frac{2 \\rho v \\left(- K^{1 - \\beta} + f^{1 - \\beta}\\right)}{\\alpha \\left(1 - \\beta\\right)} + \\frac{v^{2} \\left(- K^{1 - \\beta} + f^{1 - \\beta}\\right)^{2}}{\\alpha^{2} \\left(1 - \\beta\\right)^{2}}}} + \\frac{- K^{1 - \\beta} + f^{1 - \\beta}}{\\alpha \\left(1 - \\beta\\right)}\\right) \\log{\\left(\\frac{f}{K} \\right)}}{\\left(- \\rho + \\sqrt{1 - \\frac{2 \\rho v \\left(- K^{1 - \\beta} + f^{1 - \\beta}\\right)}{\\alpha \\left(1 - \\beta\\right)} + \\frac{v^{2} \\left(- K^{1 - \\beta} + f^{1 - \\beta}\\right)^{2}}{\\alpha^{2} \\left(1 - \\beta\\right)^{2}}} + \\frac{v \\left(- K^{1 - \\beta} + f^{1 - \\beta}\\right)}{\\alpha \\left(1 - \\beta\\right)}\\right) \\log{\\left(\\frac{- \\rho + \\sqrt{1 - \\frac{2 \\rho v \\left(- K^{1 - \\beta} + f^{1 - \\beta}\\right)}{\\alpha \\left(1 - \\beta\\right)} + \\frac{v^{2} \\left(- K^{1 - \\beta} + f^{1 - \\beta}\\right)^{2}}{\\alpha^{2} \\left(1 - \\beta\\right)^{2}}} + \\frac{v \\left(- K^{1 - \\beta} + f^{1 - \\beta}\\right)}{\\alpha \\left(1 - \\beta\\right)}}{1 - \\rho} \\right)}^{2}} + \\frac{\\left(T \\left(\\frac{\\alpha^{2} \\left(K f\\right)^{\\beta - 1} \\left(1 - \\beta\\right)^{2}}{24} + \\frac{\\alpha \\beta \\rho v \\left(K f\\right)^{\\frac{\\beta}{2} - \\frac{1}{2}}}{4} + \\frac{v^{2} \\cdot \\left(1 - 3 \\rho^{2}\\right)}{24}\\right) + 1\\right) \\log{\\left(\\frac{f}{K} \\right)}}{\\log{\\left(\\frac{- \\rho + \\sqrt{1 - \\frac{2 \\rho v \\left(- K^{1 - \\beta} + f^{1 - \\beta}\\right)}{\\alpha \\left(1 - \\beta\\right)} + \\frac{v^{2} \\left(- K^{1 - \\beta} + f^{1 - \\beta}\\right)^{2}}{\\alpha^{2} \\left(1 - \\beta\\right)^{2}}} + \\frac{v \\left(- K^{1 - \\beta} + f^{1 - \\beta}\\right)}{\\alpha \\left(1 - \\beta\\right)}}{1 - \\rho} \\right)}}$"
      ],
      "text/plain": [
       "T*v*(alpha*beta*rho*(K*f)**(beta/2 - 1/2)/4 + v*(1 - 3*rho**2)/12)*log(f/K)/log((-rho + sqrt(1 - 2*rho*v*(-K**(1 - beta) + f**(1 - beta))/(alpha*(1 - beta)) + v**2*(-K**(1 - beta) + f**(1 - beta))**2/(alpha**2*(1 - beta)**2)) + v*(-K**(1 - beta) + f**(1 - beta))/(alpha*(1 - beta)))/(1 - rho)) - v*(T*(alpha**2*(K*f)**(beta - 1)*(1 - beta)**2/24 + alpha*beta*rho*v*(K*f)**(beta/2 - 1/2)/4 + v**2*(1 - 3*rho**2)/24) + 1)*((-rho*(-K**(1 - beta) + f**(1 - beta))/(alpha*(1 - beta)) + v*(-K**(1 - beta) + f**(1 - beta))**2/(alpha**2*(1 - beta)**2))/sqrt(1 - 2*rho*v*(-K**(1 - beta) + f**(1 - beta))/(alpha*(1 - beta)) + v**2*(-K**(1 - beta) + f**(1 - beta))**2/(alpha**2*(1 - beta)**2)) + (-K**(1 - beta) + f**(1 - beta))/(alpha*(1 - beta)))*log(f/K)/((-rho + sqrt(1 - 2*rho*v*(-K**(1 - beta) + f**(1 - beta))/(alpha*(1 - beta)) + v**2*(-K**(1 - beta) + f**(1 - beta))**2/(alpha**2*(1 - beta)**2)) + v*(-K**(1 - beta) + f**(1 - beta))/(alpha*(1 - beta)))*log((-rho + sqrt(1 - 2*rho*v*(-K**(1 - beta) + f**(1 - beta))/(alpha*(1 - beta)) + v**2*(-K**(1 - beta) + f**(1 - beta))**2/(alpha**2*(1 - beta)**2)) + v*(-K**(1 - beta) + f**(1 - beta))/(alpha*(1 - beta)))/(1 - rho))**2) + (T*(alpha**2*(K*f)**(beta - 1)*(1 - beta)**2/24 + alpha*beta*rho*v*(K*f)**(beta/2 - 1/2)/4 + v**2*(1 - 3*rho**2)/24) + 1)*log(f/K)/log((-rho + sqrt(1 - 2*rho*v*(-K**(1 - beta) + f**(1 - beta))/(alpha*(1 - beta)) + v**2*(-K**(1 - beta) + f**(1 - beta))**2/(alpha**2*(1 - beta)**2)) + v*(-K**(1 - beta) + f**(1 - beta))/(alpha*(1 - beta)))/(1 - rho))"
      ]
     },
     "execution_count": 21,
     "metadata": {},
     "output_type": "execute_result"
    }
   ],
   "source": [
    "sigma.diff(v)\n"
   ]
  },
  {
   "cell_type": "code",
   "execution_count": 22,
   "id": "9fb73b6e",
   "metadata": {},
   "outputs": [
    {
     "data": {
      "text/latex": [
       "$\\displaystyle \\frac{T v \\left(\\frac{\\alpha \\beta v \\left(K f\\right)^{\\frac{\\beta}{2} - \\frac{1}{2}}}{4} - \\frac{\\rho v^{2}}{4}\\right) \\log{\\left(\\frac{f}{K} \\right)}}{\\log{\\left(\\frac{- \\rho + \\sqrt{1 - \\frac{2 \\rho v \\left(- K^{1 - \\beta} + f^{1 - \\beta}\\right)}{\\alpha \\left(1 - \\beta\\right)} + \\frac{v^{2} \\left(- K^{1 - \\beta} + f^{1 - \\beta}\\right)^{2}}{\\alpha^{2} \\left(1 - \\beta\\right)^{2}}} + \\frac{v \\left(- K^{1 - \\beta} + f^{1 - \\beta}\\right)}{\\alpha \\left(1 - \\beta\\right)}}{1 - \\rho} \\right)}} - \\frac{v \\left(1 - \\rho\\right) \\left(T \\left(\\frac{\\alpha^{2} \\left(K f\\right)^{\\beta - 1} \\left(1 - \\beta\\right)^{2}}{24} + \\frac{\\alpha \\beta \\rho v \\left(K f\\right)^{\\frac{\\beta}{2} - \\frac{1}{2}}}{4} + \\frac{v^{2} \\cdot \\left(1 - 3 \\rho^{2}\\right)}{24}\\right) + 1\\right) \\left(\\frac{-1 - \\frac{v \\left(- K^{1 - \\beta} + f^{1 - \\beta}\\right)}{\\alpha \\left(1 - \\beta\\right) \\sqrt{1 - \\frac{2 \\rho v \\left(- K^{1 - \\beta} + f^{1 - \\beta}\\right)}{\\alpha \\left(1 - \\beta\\right)} + \\frac{v^{2} \\left(- K^{1 - \\beta} + f^{1 - \\beta}\\right)^{2}}{\\alpha^{2} \\left(1 - \\beta\\right)^{2}}}}}{1 - \\rho} + \\frac{- \\rho + \\sqrt{1 - \\frac{2 \\rho v \\left(- K^{1 - \\beta} + f^{1 - \\beta}\\right)}{\\alpha \\left(1 - \\beta\\right)} + \\frac{v^{2} \\left(- K^{1 - \\beta} + f^{1 - \\beta}\\right)^{2}}{\\alpha^{2} \\left(1 - \\beta\\right)^{2}}} + \\frac{v \\left(- K^{1 - \\beta} + f^{1 - \\beta}\\right)}{\\alpha \\left(1 - \\beta\\right)}}{\\left(1 - \\rho\\right)^{2}}\\right) \\log{\\left(\\frac{f}{K} \\right)}}{\\left(- \\rho + \\sqrt{1 - \\frac{2 \\rho v \\left(- K^{1 - \\beta} + f^{1 - \\beta}\\right)}{\\alpha \\left(1 - \\beta\\right)} + \\frac{v^{2} \\left(- K^{1 - \\beta} + f^{1 - \\beta}\\right)^{2}}{\\alpha^{2} \\left(1 - \\beta\\right)^{2}}} + \\frac{v \\left(- K^{1 - \\beta} + f^{1 - \\beta}\\right)}{\\alpha \\left(1 - \\beta\\right)}\\right) \\log{\\left(\\frac{- \\rho + \\sqrt{1 - \\frac{2 \\rho v \\left(- K^{1 - \\beta} + f^{1 - \\beta}\\right)}{\\alpha \\left(1 - \\beta\\right)} + \\frac{v^{2} \\left(- K^{1 - \\beta} + f^{1 - \\beta}\\right)^{2}}{\\alpha^{2} \\left(1 - \\beta\\right)^{2}}} + \\frac{v \\left(- K^{1 - \\beta} + f^{1 - \\beta}\\right)}{\\alpha \\left(1 - \\beta\\right)}}{1 - \\rho} \\right)}^{2}}$"
      ],
      "text/plain": [
       "T*v*(alpha*beta*v*(K*f)**(beta/2 - 1/2)/4 - rho*v**2/4)*log(f/K)/log((-rho + sqrt(1 - 2*rho*v*(-K**(1 - beta) + f**(1 - beta))/(alpha*(1 - beta)) + v**2*(-K**(1 - beta) + f**(1 - beta))**2/(alpha**2*(1 - beta)**2)) + v*(-K**(1 - beta) + f**(1 - beta))/(alpha*(1 - beta)))/(1 - rho)) - v*(1 - rho)*(T*(alpha**2*(K*f)**(beta - 1)*(1 - beta)**2/24 + alpha*beta*rho*v*(K*f)**(beta/2 - 1/2)/4 + v**2*(1 - 3*rho**2)/24) + 1)*((-1 - v*(-K**(1 - beta) + f**(1 - beta))/(alpha*(1 - beta)*sqrt(1 - 2*rho*v*(-K**(1 - beta) + f**(1 - beta))/(alpha*(1 - beta)) + v**2*(-K**(1 - beta) + f**(1 - beta))**2/(alpha**2*(1 - beta)**2))))/(1 - rho) + (-rho + sqrt(1 - 2*rho*v*(-K**(1 - beta) + f**(1 - beta))/(alpha*(1 - beta)) + v**2*(-K**(1 - beta) + f**(1 - beta))**2/(alpha**2*(1 - beta)**2)) + v*(-K**(1 - beta) + f**(1 - beta))/(alpha*(1 - beta)))/(1 - rho)**2)*log(f/K)/((-rho + sqrt(1 - 2*rho*v*(-K**(1 - beta) + f**(1 - beta))/(alpha*(1 - beta)) + v**2*(-K**(1 - beta) + f**(1 - beta))**2/(alpha**2*(1 - beta)**2)) + v*(-K**(1 - beta) + f**(1 - beta))/(alpha*(1 - beta)))*log((-rho + sqrt(1 - 2*rho*v*(-K**(1 - beta) + f**(1 - beta))/(alpha*(1 - beta)) + v**2*(-K**(1 - beta) + f**(1 - beta))**2/(alpha**2*(1 - beta)**2)) + v*(-K**(1 - beta) + f**(1 - beta))/(alpha*(1 - beta)))/(1 - rho))**2)"
      ]
     },
     "execution_count": 22,
     "metadata": {},
     "output_type": "execute_result"
    }
   ],
   "source": [
    "sigma.diff(rho)\n"
   ]
  }
 ],
 "metadata": {
  "kernelspec": {
   "display_name": "Python 3 (ipykernel)",
   "language": "python",
   "name": "python3"
  },
  "language_info": {
   "codemirror_mode": {
    "name": "ipython",
    "version": 3
   },
   "file_extension": ".py",
   "mimetype": "text/x-python",
   "name": "python",
   "nbconvert_exporter": "python",
   "pygments_lexer": "ipython3",
   "version": "3.8.13"
  }
 },
 "nbformat": 4,
 "nbformat_minor": 5
}
