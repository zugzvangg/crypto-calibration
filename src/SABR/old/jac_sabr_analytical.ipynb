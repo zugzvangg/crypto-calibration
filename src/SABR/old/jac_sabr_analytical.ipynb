{
 "cells": [
  {
   "cell_type": "markdown",
   "id": "ace31ce3",
   "metadata": {},
   "source": [
    "# Computing derivatives for sabr approxed"
   ]
  },
  {
   "cell_type": "code",
   "execution_count": 1,
   "id": "90a1a7e8",
   "metadata": {},
   "outputs": [],
   "source": [
    "import sympy as sym\n"
   ]
  },
  {
   "cell_type": "code",
   "execution_count": 279,
   "id": "7fe8c1b9",
   "metadata": {
    "scrolled": true
   },
   "outputs": [
    {
     "data": {
      "text/latex": [
       "$\\displaystyle \\frac{\\alpha^{2} \\left(K f\\right)^{\\beta - 1} \\left(1 - \\beta\\right)^{2}}{24} + \\frac{\\alpha \\beta \\rho v \\left(K f\\right)^{\\frac{\\beta}{2} - \\frac{1}{2}}}{4} + \\frac{v^{2} \\cdot \\left(2 - 3 \\rho^{2}\\right)}{24}$"
      ],
      "text/plain": [
       "alpha**2*(K*f)**(beta - 1)*(1 - beta)**2/24 + alpha*beta*rho*v*(K*f)**(beta/2 - 1/2)/4 + v**2*(2 - 3*rho**2)/24"
      ]
     },
     "execution_count": 279,
     "metadata": {},
     "output_type": "execute_result"
    }
   ],
   "source": [
    "alpha, beta, v, rho, f, K, T, P = sym.symbols('alpha beta v rho f K T P')\n",
    "x = sym.log(f/K)\n",
    "I_H_1 = (((1 - beta)**2)*alpha**2/(24*(f*K)**(1 - beta)) + (rho*v*alpha*beta)/(4*(f*K)**((1-beta)/2)) + \n",
    " ((2 - 3*rho**2)*v**2)/24 )\n",
    "I_H_1"
   ]
  },
  {
   "cell_type": "code",
   "execution_count": 290,
   "id": "3a24f550",
   "metadata": {},
   "outputs": [
    {
     "data": {
      "text/latex": [
       "$\\displaystyle \\frac{\\alpha \\beta v \\left(K f\\right)^{\\frac{\\beta}{2} - \\frac{1}{2}}}{4} - \\frac{\\rho v^{2}}{4}$"
      ],
      "text/plain": [
       "alpha*beta*v*(K*f)**(beta/2 - 1/2)/4 - rho*v**2/4"
      ]
     },
     "execution_count": 290,
     "metadata": {},
     "output_type": "execute_result"
    }
   ],
   "source": [
    "I_H_1.diff(rho)"
   ]
  },
  {
   "cell_type": "code",
   "execution_count": 291,
   "id": "e056f013",
   "metadata": {},
   "outputs": [
    {
     "name": "stdout",
     "output_type": "stream",
     "text": [
      "alpha = Symbol('alpha')\n",
      "beta = Symbol('beta')\n",
      "v = Symbol('v')\n",
      "K = Symbol('K')\n",
      "f = Symbol('f')\n",
      "rho = Symbol('rho')\n",
      "e = alpha*beta*v*(K*f)**(beta/2 + Rational(-1, 2))/4 - rho*v**2/4\n"
     ]
    }
   ],
   "source": [
    "print(sym.python(I_H_1.diff(rho)))"
   ]
  },
  {
   "cell_type": "code",
   "execution_count": 280,
   "id": "dc3da36c",
   "metadata": {},
   "outputs": [
    {
     "data": {
      "text/latex": [
       "$\\displaystyle \\frac{\\alpha^{2} \\left(K f\\right)^{\\beta - 1} \\left(1 - \\beta\\right)^{2}}{24} + \\frac{\\alpha \\beta \\rho v \\left(K f\\right)^{\\frac{\\beta}{2} - \\frac{1}{2}}}{4} + \\frac{v^{2} \\cdot \\left(2 - 3 \\rho^{2}\\right)}{24}$"
      ],
      "text/plain": [
       "alpha**2*(K*f)**(beta - 1)*(1 - beta)**2/24 + alpha*beta*rho*v*(K*f)**(beta/2 - 1/2)/4 + v**2*(2 - 3*rho**2)/24"
      ]
     },
     "execution_count": 280,
     "metadata": {},
     "output_type": "execute_result"
    }
   ],
   "source": [
    "I_H_1"
   ]
  },
  {
   "cell_type": "code",
   "execution_count": null,
   "id": "bbe9a629",
   "metadata": {},
   "outputs": [],
   "source": []
  },
  {
   "cell_type": "code",
   "execution_count": null,
   "id": "c43baec6",
   "metadata": {},
   "outputs": [],
   "source": []
  },
  {
   "cell_type": "code",
   "execution_count": 12,
   "id": "5a9289fe",
   "metadata": {},
   "outputs": [
    {
     "name": "stdout",
     "output_type": "stream",
     "text": [
      "\\frac{\\alpha^{2} \\left(K f\\right)^{\\beta - 1} \\left(1 - \\beta\\right)^{2}}{24} + \\frac{\\alpha \\beta \\rho v \\left(K f\\right)^{\\frac{\\beta}{2} - \\frac{1}{2}}}{4} + \\frac{v^{2} \\cdot \\left(2 - 3 \\rho^{2}\\right)}{24}\n"
     ]
    }
   ],
   "source": [
    "print(sym.latex(I_H_1))"
   ]
  },
  {
   "cell_type": "code",
   "execution_count": 13,
   "id": "85f0f0cd",
   "metadata": {},
   "outputs": [
    {
     "data": {
      "text/latex": [
       "$\\displaystyle \\frac{\\alpha \\left(K f\\right)^{\\beta - 1} \\left(1 - \\beta\\right)^{2}}{12} + \\frac{\\beta \\rho v \\left(K f\\right)^{\\frac{\\beta}{2} - \\frac{1}{2}}}{4}$"
      ],
      "text/plain": [
       "alpha*(K*f)**(beta - 1)*(1 - beta)**2/12 + beta*rho*v*(K*f)**(beta/2 - 1/2)/4"
      ]
     },
     "execution_count": 13,
     "metadata": {},
     "output_type": "execute_result"
    }
   ],
   "source": [
    "I_H_1.diff(alpha)"
   ]
  },
  {
   "cell_type": "code",
   "execution_count": 25,
   "id": "225a6337",
   "metadata": {},
   "outputs": [
    {
     "name": "stdout",
     "output_type": "stream",
     "text": [
      "\\frac{\\alpha \\beta v \\left(K f\\right)^{\\frac{\\beta}{2} - \\frac{1}{2}}}{4} - \\frac{\\rho v^{2}}{4}\n"
     ]
    }
   ],
   "source": [
    "print(sym.latex((I_H_1.diff(rho))))"
   ]
  },
  {
   "cell_type": "code",
   "execution_count": null,
   "id": "57be5cd9",
   "metadata": {},
   "outputs": [],
   "source": []
  },
  {
   "cell_type": "code",
   "execution_count": 24,
   "id": "c38006d5",
   "metadata": {},
   "outputs": [
    {
     "data": {
      "text/latex": [
       "$\\displaystyle \\frac{v \\left(\\alpha \\beta \\left(K f\\right)^{\\frac{\\beta}{2} - \\frac{1}{2}} - \\rho v\\right)}{4}$"
      ],
      "text/plain": [
       "v*(alpha*beta*(K*f)**(beta/2 - 1/2) - rho*v)/4"
      ]
     },
     "execution_count": 24,
     "metadata": {},
     "output_type": "execute_result"
    }
   ],
   "source": [
    "sym.simplify(I_H_1.diff(rho))"
   ]
  },
  {
   "cell_type": "markdown",
   "id": "5d21bd7f",
   "metadata": {},
   "source": [
    "# Analytical"
   ]
  },
  {
   "cell_type": "markdown",
   "id": "7e356c12",
   "metadata": {},
   "source": [
    "$$ \\sigma_B(x, T) \\approx I_B^0(x) (1 + I_H^1(x)T) = I_B^0(x) + I_B^0(x) \\cdot I_H^1(x)T$$\n",
    "\n",
    "$$I_H^1(x) = \\frac{\\alpha^{2} \\left(K f\\right)^{\\beta - 1} \\left(1 - \\beta\\right)^{2}}{24} + \\frac{\\alpha \\beta \\rho v \\left(K f\\right)^{\\frac{\\beta}{2} - \\frac{1}{2}}}{4} + \\frac{v^{2} \\cdot \\left(2 - 3 \\rho^{2}\\right)}{24}$$\n",
    "\n",
    "$$\\Theta = [\\frac{\\partial I_H^1(x)}{\\partial \\alpha}, \\frac{\\partial I_H^1(x)}{\\partial \\beta}, \\frac{\\partial I_H^1(x)}{\\partial v}, \\frac{\\partial I_H^1(x)}{\\partial \\rho}]$$\n",
    "\n",
    "Derivatives of $I_H^1(x)$:\n",
    "\n",
    "$$ \\frac{\\partial I_H^1(x)}{\\partial \\alpha} = \\frac{\\alpha \\left(K f\\right)^{\\beta - 1} \\left(1 - \\beta\\right)^{2}}{12} + \\frac{\\beta \\rho v \\left(K f\\right)^{\\frac{\\beta}{2} - \\frac{1}{2}}}{4}$$\n",
    "\n",
    "$$ \\frac{\\partial I_H^1(x)}{\\partial \\beta} = \\frac{\\alpha^{2} \\left(K f\\right)^{\\beta - 1} \\left(1 - \\beta\\right)^{2} \\log{\\left(K f \\right)}}{24} + \\frac{\\alpha^{2} \\left(K f\\right)^{\\beta - 1} \\cdot \\left(2 \\beta - 2\\right)}{24} + \\frac{\\alpha \\beta \\rho v \\left(K f\\right)^{\\frac{\\beta}{2} - \\frac{1}{2}} \\log{\\left(K f \\right)}}{8} + \\frac{\\alpha \\rho v \\left(K f\\right)^{\\frac{\\beta}{2} - \\frac{1}{2}}}{4} $$\n",
    "\n",
    "$$ \\frac{\\partial I_H^1(x)}{\\partial v} = \\frac{\\alpha \\beta \\rho \\left(K f\\right)^{\\frac{\\beta}{2} - \\frac{1}{2}}}{4} + \\frac{v \\left(2 - 3 \\rho^{2}\\right)}{12}$$\n",
    "\n",
    "$$ \\frac{\\partial I_H^1(x)}{\\partial \\rho} = \\frac{\\alpha \\beta v \\left(K f\\right)^{\\frac{\\beta}{2} - \\frac{1}{2}}}{4} - \\frac{\\rho v^{2}}{4}$$\n",
    "\n",
    "Formulas for jacobian using $\\Theta$ and $I_H^1(x)$\n",
    "\n",
    "$$ \\frac{\\partial \\sigma_B(x, T)}{\\partial \\alpha} = \\frac{I_B^0(x)}{\\partial \\alpha} (1 + I_H^1(x)T) +\n",
    "\\frac{I_H^1(x)}{\\partial \\alpha} I_B^0(x) T \n",
    "$$\n",
    "\n",
    "Same for $$\\beta, v, \\rho$$"
   ]
  },
  {
   "cell_type": "markdown",
   "id": "05166e3e",
   "metadata": {},
   "source": [
    "$\\textbf{Case 1}: x = 1$ \n",
    "$$I_B^0 = \\alpha K^{\\beta - 1}$$\n",
    "\n",
    "$$\\frac{\\partial I_B^0}{\\partial \\alpha} = K^{\\beta - 1}$$\n",
    "$$\\frac{\\partial I_B^0}{\\partial \\beta} = K^{\\beta - 1} \\alpha \\ln{\\left(K \\right)}$$\n",
    "$$\\frac{\\partial I_B^0}{\\partial v} = 0 $$\n",
    "$$\\frac{\\partial I_B^0}{\\partial \\rho} = 0 $$"
   ]
  },
  {
   "cell_type": "markdown",
   "id": "6de28a8b",
   "metadata": {},
   "source": [
    "$\\textbf{Case 2}: v = 1$ \n",
    "$$I_B^0 = \\frac{x\\alpha(1 - \\beta)}{f^{1 - \\beta} - K^{1 - \\beta}} $$\n",
    "\n",
    "$$\\frac{\\partial I_B^0}{\\partial \\alpha} = \\frac{x \\left(1 - \\beta\\right)}{ f^{1 - \\beta} - K^{1 - \\beta} }\n",
    "$$\n",
    "$$\\frac{\\partial I_B^0}{\\partial \\beta} = K^{\\beta - 1} \\alpha \\ln{\\left(K \\right)}$$\n",
    "$$\\frac{\\partial I_B^0}{\\partial v} = 0 $$\n",
    "$$\\frac{\\partial I_B^0}{\\partial \\rho} = 0 $$"
   ]
  },
  {
   "cell_type": "markdown",
   "id": "8fa5c256",
   "metadata": {},
   "source": [
    "$\\textbf{Case 3}: \\beta = 1$ \n",
    "\n",
    "$$z = \\frac{v x}{\\alpha}$$\n",
    "\n",
    "$$I_B^0 = \\frac{vx}{\\ln \\left( \\frac{\\sqrt{1 - 2\\rho z + z^2} + z - \\rho}{1 - \\rho} \\right) } $$\n",
    "\n",
    "$$\\frac{\\partial I_B^0}{\\partial \\alpha} = \\frac{v x z}{\\alpha \\sqrt{- 2 \\rho z + z^{2} + 1} \\log{\\left(\\frac{\\rho - z - \\sqrt{- 2 \\rho z + z^{2} + 1}}{\\rho - 1} \\right)}^{2}}$$\n",
    "\n",
    "\n",
    "$$\\frac{\\partial I_B^0}{\\partial \\beta} = 0 $$\n",
    "\n",
    "\n",
    "$$\\frac{\\partial I_B^0}{\\partial v} = \\frac{x \\left(\\alpha \\sqrt{- 2 \\rho z + z^{2} + 1} \\log{\\left(\\frac{\\rho - z - \\sqrt{- 2 \\rho z + z^{2} + 1}}{\\rho - 1} \\right)} - v x\\right)}{\\alpha \\sqrt{- 2 \\rho z + z^{2} + 1} \\log{\\left(\\frac{\\rho - z - \\sqrt{- 2 \\rho z + z^{2} + 1}}{\\rho - 1} \\right)}^{2}}$$\n",
    "\n",
    "\n",
    "$$\\frac{\\partial I_B^0}{\\partial \\rho} = \\frac{v x \\left(\\left(\\rho - 1\\right) \\left(z + \\sqrt{- 2 \\rho z + z^{2} + 1}\\right) + \\left(- \\rho + z + \\sqrt{- 2 \\rho z + z^{2} + 1}\\right) \\sqrt{- 2 \\rho z + z^{2} + 1}\\right)}{\\left(\\rho - 1\\right) \\left(- \\rho + z + \\sqrt{- 2 \\rho z + z^{2} + 1}\\right) \\sqrt{- 2 \\rho z + z^{2} + 1} \\log{\\left(\\frac{\\rho - z - \\sqrt{- 2 \\rho z + z^{2} + 1}}{\\rho - 1} \\right)}^{2}} $$"
   ]
  },
  {
   "cell_type": "markdown",
   "id": "2c2493bf",
   "metadata": {},
   "source": [
    "$\\textbf{Case 4}: \\beta < 1$ \n",
    "\n",
    "$$z = \\frac{v(f^{1 - \\beta} - K^{1 - \\beta})}{\\alpha (1 - \\beta)}$$\n",
    "\n",
    "$$I_B^0 = \\frac{vx}{\\ln \\left( \\frac{\\sqrt{1 - 2\\rho z + z^2} + z - \\rho}{1 - \\rho} \\right) } $$\n",
    "\n",
    "$$\\frac{\\partial I_B^0}{\\partial \\alpha} = \\frac{v x z}{\\alpha \\sqrt{- 2 \\rho z + z^{2} + 1} \\log{\\left(\\frac{\\rho - z - \\sqrt{- 2 \\rho z + z^{2} + 1}}{\\rho - 1} \\right)}^{2}} $$\n",
    "\n",
    "\n",
    "$$\\frac{\\partial I_B^0}{\\partial \\beta} = \\frac{v x \\left(\\alpha z \\left(\\beta - 1\\right) \\sqrt{- 2 \\rho z + z^{2} + 1} + v \\left(\\beta - 1\\right) \\left(K^{1 - \\beta} \\log{\\left(K \\right)} - f^{1 - \\beta} \\log{\\left(f \\right)}\\right) \\sqrt{- 2 \\rho z + z^{2} + 1} + \\left(1 - \\beta\\right) \\left(\\rho - z\\right) \\left(\\alpha z + v \\left(K^{1 - \\beta} \\log{\\left(K \\right)} - f^{1 - \\beta} \\log{\\left(f \\right)}\\right)\\right)\\right)}{\\alpha \\left(\\beta - 1\\right)^{2} \\left(- \\rho + z + \\sqrt{- 2 \\rho z + z^{2} + 1}\\right) \\sqrt{- 2 \\rho z + z^{2} + 1} \\log{\\left(\\frac{\\rho - z - \\sqrt{- 2 \\rho z + z^{2} + 1}}{\\rho - 1} \\right)}^{2}} $$\n",
    "\n",
    "\n",
    "$$\\frac{\\partial I_B^0}{\\partial v} = - \\frac{v x \\left(\\frac{- \\frac{\\rho z}{v} + \\frac{z^{2}}{v}}{\\sqrt{- 2 \\rho z + z^{2} + 1}} + \\frac{z}{v}\\right)}{\\left(- \\rho + z + \\sqrt{- 2 \\rho z + z^{2} + 1}\\right) \\log{\\left(\\frac{- \\rho + z + \\sqrt{- 2 \\rho z + z^{2} + 1}}{1 - \\rho} \\right)}^{2}} + \\frac{x}{\\log{\\left(\\frac{- \\rho + z + \\sqrt{- 2 \\rho z + z^{2} + 1}}{1 - \\rho} \\right)}}$$\n",
    "\n",
    "\n",
    "$$\\frac{\\partial I_B^0}{\\partial \\rho} = - \\frac{v x \\left(1 - \\rho\\right) \\left(\\frac{- \\frac{z}{\\sqrt{- 2 \\rho z + z^{2} + 1}} - 1}{1 - \\rho} + \\frac{- \\rho + z + \\sqrt{- 2 \\rho z + z^{2} + 1}}{\\left(1 - \\rho\\right)^{2}}\\right)}{\\left(- \\rho + z + \\sqrt{- 2 \\rho z + z^{2} + 1}\\right) \\log{\\left(\\frac{- \\rho + z + \\sqrt{- 2 \\rho z + z^{2} + 1}}{1 - \\rho} \\right)}^{2}} $$"
   ]
  },
  {
   "cell_type": "code",
   "execution_count": 259,
   "id": "1685dff2",
   "metadata": {},
   "outputs": [
    {
     "data": {
      "text/latex": [
       "$\\displaystyle \\frac{v x}{\\log{\\left(\\frac{- \\rho + \\sqrt{1 - \\frac{2 \\rho v \\left(- K^{1 - \\beta} + f^{1 - \\beta}\\right)}{\\alpha \\left(1 - \\beta\\right)} + \\frac{v^{2} \\left(- K^{1 - \\beta} + f^{1 - \\beta}\\right)^{2}}{\\alpha^{2} \\left(1 - \\beta\\right)^{2}}} + \\frac{v \\left(- K^{1 - \\beta} + f^{1 - \\beta}\\right)}{\\alpha \\left(1 - \\beta\\right)}}{1 - \\rho} \\right)}}$"
      ],
      "text/plain": [
       "v*x/log((-rho + sqrt(1 - 2*rho*v*(-K**(1 - beta) + f**(1 - beta))/(alpha*(1 - beta)) + v**2*(-K**(1 - beta) + f**(1 - beta))**2/(alpha**2*(1 - beta)**2)) + v*(-K**(1 - beta) + f**(1 - beta))/(alpha*(1 - beta)))/(1 - rho))"
      ]
     },
     "execution_count": 259,
     "metadata": {},
     "output_type": "execute_result"
    }
   ],
   "source": [
    "z = v*(f**(1 - beta) - K**(1 - beta))/(alpha*(1 - beta))\n",
    "I_0 = v*x/(sym.log((sym.sqrt(1 - 2*rho*z + z**2) + z - rho)/(1 - rho)))\n",
    "I_0"
   ]
  },
  {
   "cell_type": "code",
   "execution_count": 227,
   "id": "f8ae97a2",
   "metadata": {},
   "outputs": [
    {
     "name": "stdout",
     "output_type": "stream",
     "text": [
      "- \\frac{v x \\left(\\frac{z}{1 - \\beta} + \\frac{- \\frac{\\rho z}{1 - \\beta} + \\frac{z^{2}}{1 - \\beta} - \\frac{\\rho v \\left(K^{1 - \\beta} \\log{\\left(K \\right)} - f^{1 - \\beta} \\log{\\left(f \\right)}\\right)}{\\alpha \\left(1 - \\beta\\right)} + \\frac{v z \\left(2 K^{1 - \\beta} \\log{\\left(K \\right)} - 2 f^{1 - \\beta} \\log{\\left(f \\right)}\\right)}{2 \\alpha \\left(1 - \\beta\\right)}}{\\sqrt{- 2 \\rho z + z^{2} + 1}} + \\frac{v \\left(K^{1 - \\beta} \\log{\\left(K \\right)} - f^{1 - \\beta} \\log{\\left(f \\right)}\\right)}{\\alpha \\left(1 - \\beta\\right)}\\right)}{\\left(- \\rho + z + \\sqrt{- 2 \\rho z + z^{2} + 1}\\right) \\log{\\left(\\frac{- \\rho + z + \\sqrt{- 2 \\rho z + z^{2} + 1}}{1 - \\rho} \\right)}^{2}}\n"
     ]
    }
   ],
   "source": [
    "print(sym.latex(I_0.diff(beta).subs(z, \"z\")))"
   ]
  },
  {
   "cell_type": "code",
   "execution_count": 226,
   "id": "e4f44629",
   "metadata": {},
   "outputs": [
    {
     "data": {
      "text/latex": [
       "$\\displaystyle - \\frac{v x \\left(\\frac{z}{1 - \\beta} + \\frac{- \\frac{\\rho z}{1 - \\beta} + \\frac{z^{2}}{1 - \\beta} - \\frac{\\rho v \\left(K^{1 - \\beta} \\log{\\left(K \\right)} - f^{1 - \\beta} \\log{\\left(f \\right)}\\right)}{\\alpha \\left(1 - \\beta\\right)} + \\frac{v z \\left(2 K^{1 - \\beta} \\log{\\left(K \\right)} - 2 f^{1 - \\beta} \\log{\\left(f \\right)}\\right)}{2 \\alpha \\left(1 - \\beta\\right)}}{\\sqrt{- 2 \\rho z + z^{2} + 1}} + \\frac{v \\left(K^{1 - \\beta} \\log{\\left(K \\right)} - f^{1 - \\beta} \\log{\\left(f \\right)}\\right)}{\\alpha \\left(1 - \\beta\\right)}\\right)}{\\left(- \\rho + z + \\sqrt{- 2 \\rho z + z^{2} + 1}\\right) \\log{\\left(\\frac{- \\rho + z + \\sqrt{- 2 \\rho z + z^{2} + 1}}{1 - \\rho} \\right)}^{2}}$"
      ],
      "text/plain": [
       "-v*x*(z/(1 - beta) + (-rho*z/(1 - beta) + z**2/(1 - beta) - rho*v*(K**(1 - beta)*log(K) - f**(1 - beta)*log(f))/(alpha*(1 - beta)) + v*z*(2*K**(1 - beta)*log(K) - 2*f**(1 - beta)*log(f))/(2*alpha*(1 - beta)))/sqrt(-2*rho*z + z**2 + 1) + v*(K**(1 - beta)*log(K) - f**(1 - beta)*log(f))/(alpha*(1 - beta)))/((-rho + z + sqrt(-2*rho*z + z**2 + 1))*log((-rho + z + sqrt(-2*rho*z + z**2 + 1))/(1 - rho))**2)"
      ]
     },
     "execution_count": 226,
     "metadata": {},
     "output_type": "execute_result"
    }
   ],
   "source": [
    "I_0.diff(beta).subs(z, \"z\")"
   ]
  },
  {
   "cell_type": "code",
   "execution_count": 292,
   "id": "16cb992f",
   "metadata": {},
   "outputs": [
    {
     "data": {
      "text/latex": [
       "$\\displaystyle - \\frac{v x \\left(\\frac{z}{1 - \\beta} + \\frac{- \\frac{\\rho z}{1 - \\beta} + \\frac{z^{2}}{1 - \\beta} - \\frac{\\rho v \\left(K^{1 - \\beta} \\log{\\left(K \\right)} - f^{1 - \\beta} \\log{\\left(f \\right)}\\right)}{\\alpha \\left(1 - \\beta\\right)} + \\frac{v z \\left(2 K^{1 - \\beta} \\log{\\left(K \\right)} - 2 f^{1 - \\beta} \\log{\\left(f \\right)}\\right)}{2 \\alpha \\left(1 - \\beta\\right)}}{\\sqrt{- 2 \\rho z + z^{2} + 1}} + \\frac{v \\left(K^{1 - \\beta} \\log{\\left(K \\right)} - f^{1 - \\beta} \\log{\\left(f \\right)}\\right)}{\\alpha \\left(1 - \\beta\\right)}\\right)}{\\left(- \\rho + z + \\sqrt{- 2 \\rho z + z^{2} + 1}\\right) \\log{\\left(\\frac{- \\rho + z + \\sqrt{- 2 \\rho z + z^{2} + 1}}{1 - \\rho} \\right)}^{2}}$"
      ],
      "text/plain": [
       "-v*x*(z/(1 - beta) + (-rho*z/(1 - beta) + z**2/(1 - beta) - rho*v*(K**(1 - beta)*log(K) - f**(1 - beta)*log(f))/(alpha*(1 - beta)) + v*z*(2*K**(1 - beta)*log(K) - 2*f**(1 - beta)*log(f))/(2*alpha*(1 - beta)))/sqrt(-2*rho*z + z**2 + 1) + v*(K**(1 - beta)*log(K) - f**(1 - beta)*log(f))/(alpha*(1 - beta)))/((-rho + z + sqrt(-2*rho*z + z**2 + 1))*log((-rho + z + sqrt(-2*rho*z + z**2 + 1))/(1 - rho))**2)"
      ]
     },
     "execution_count": 292,
     "metadata": {},
     "output_type": "execute_result"
    }
   ],
   "source": [
    "I_0.diff(beta).subs(z, \"z\")"
   ]
  },
  {
   "cell_type": "code",
   "execution_count": 204,
   "id": "f63b304d",
   "metadata": {},
   "outputs": [
    {
     "data": {
      "text/latex": [
       "$\\displaystyle \\frac{- K^{1 - \\beta} + f^{1 - \\beta}}{\\alpha \\left(1 - \\beta\\right)}$"
      ],
      "text/plain": [
       "(-K**(1 - beta) + f**(1 - beta))/(alpha*(1 - beta))"
      ]
     },
     "execution_count": 204,
     "metadata": {},
     "output_type": "execute_result"
    }
   ],
   "source": [
    "z/v"
   ]
  },
  {
   "cell_type": "code",
   "execution_count": 207,
   "id": "f8bf2a50",
   "metadata": {},
   "outputs": [
    {
     "data": {
      "text/latex": [
       "$\\displaystyle - \\frac{v x \\left(\\frac{- \\frac{\\rho z}{v} + \\frac{z^{2}}{v}}{\\sqrt{- 2 \\rho z + z^{2} + 1}} + \\frac{z}{v}\\right)}{\\left(- \\rho + z + \\sqrt{- 2 \\rho z + z^{2} + 1}\\right) \\log{\\left(\\frac{- \\rho + z + \\sqrt{- 2 \\rho z + z^{2} + 1}}{1 - \\rho} \\right)}^{2}} + \\frac{x}{\\log{\\left(\\frac{- \\rho + z + \\sqrt{- 2 \\rho z + z^{2} + 1}}{1 - \\rho} \\right)}}$"
      ],
      "text/plain": [
       "-v*x*((-rho*z/v + z**2/v)/sqrt(-2*rho*z + z**2 + 1) + z/v)/((-rho + z + sqrt(-2*rho*z + z**2 + 1))*log((-rho + z + sqrt(-2*rho*z + z**2 + 1))/(1 - rho))**2) + x/log((-rho + z + sqrt(-2*rho*z + z**2 + 1))/(1 - rho))"
      ]
     },
     "execution_count": 207,
     "metadata": {},
     "output_type": "execute_result"
    }
   ],
   "source": [
    "I_0.diff(v).subs(z, \"z\").subs(z/v, \"z/v\")"
   ]
  },
  {
   "cell_type": "code",
   "execution_count": 206,
   "id": "2a7143bc",
   "metadata": {},
   "outputs": [
    {
     "data": {
      "text/latex": [
       "$\\displaystyle \\frac{x \\left(- z + \\sqrt{- 2 \\rho z + z^{2} + 1} \\log{\\left(\\frac{\\rho - z - \\sqrt{- 2 \\rho z + z^{2} + 1}}{\\rho - 1} \\right)}\\right)}{\\sqrt{- 2 \\rho z + z^{2} + 1} \\log{\\left(\\frac{\\rho - z - \\sqrt{- 2 \\rho z + z^{2} + 1}}{\\rho - 1} \\right)}^{2}}$"
      ],
      "text/plain": [
       "x*(-z + sqrt(-2*rho*z + z**2 + 1)*log((rho - z - sqrt(-2*rho*z + z**2 + 1))/(rho - 1)))/(sqrt(-2*rho*z + z**2 + 1)*log((rho - z - sqrt(-2*rho*z + z**2 + 1))/(rho - 1))**2)"
      ]
     },
     "execution_count": 206,
     "metadata": {},
     "output_type": "execute_result"
    }
   ],
   "source": [
    "sym.simplify(I_0.diff(v).subs(z, \"z\").subs(z/v, \"z/v\"))"
   ]
  },
  {
   "cell_type": "code",
   "execution_count": null,
   "id": "06952aea",
   "metadata": {},
   "outputs": [],
   "source": []
  },
  {
   "cell_type": "code",
   "execution_count": null,
   "id": "25a3a190",
   "metadata": {},
   "outputs": [],
   "source": []
  },
  {
   "cell_type": "code",
   "execution_count": 192,
   "id": "00c2989e",
   "metadata": {},
   "outputs": [
    {
     "data": {
      "text/latex": [
       "$\\displaystyle - \\frac{v x \\left(\\frac{- \\frac{\\rho \\left(- K^{1 - \\beta} + f^{1 - \\beta}\\right)}{\\alpha \\left(1 - \\beta\\right)} + \\frac{z \\left(- K^{1 - \\beta} + f^{1 - \\beta}\\right)}{\\alpha \\left(1 - \\beta\\right)}}{\\sqrt{- 2 \\rho z + z^{2} + 1}} + \\frac{- K^{1 - \\beta} + f^{1 - \\beta}}{\\alpha \\left(1 - \\beta\\right)}\\right)}{\\left(- \\rho + z + \\sqrt{- 2 \\rho z + z^{2} + 1}\\right) \\log{\\left(\\frac{- \\rho + z + \\sqrt{- 2 \\rho z + z^{2} + 1}}{1 - \\rho} \\right)}^{2}} + \\frac{x}{\\log{\\left(\\frac{- \\rho + z + \\sqrt{- 2 \\rho z + z^{2} + 1}}{1 - \\rho} \\right)}}$"
      ],
      "text/plain": [
       "-v*x*((-rho*(-K**(1 - beta) + f**(1 - beta))/(alpha*(1 - beta)) + z*(-K**(1 - beta) + f**(1 - beta))/(alpha*(1 - beta)))/sqrt(-2*rho*z + z**2 + 1) + (-K**(1 - beta) + f**(1 - beta))/(alpha*(1 - beta)))/((-rho + z + sqrt(-2*rho*z + z**2 + 1))*log((-rho + z + sqrt(-2*rho*z + z**2 + 1))/(1 - rho))**2) + x/log((-rho + z + sqrt(-2*rho*z + z**2 + 1))/(1 - rho))"
      ]
     },
     "execution_count": 192,
     "metadata": {},
     "output_type": "execute_result"
    }
   ],
   "source": [
    "I_0.diff(v).subs(z, \"z\")"
   ]
  },
  {
   "cell_type": "code",
   "execution_count": 190,
   "id": "d459c6ef",
   "metadata": {},
   "outputs": [
    {
     "data": {
      "text/latex": [
       "$\\displaystyle \\frac{v \\left(- K^{1 - \\beta} + f^{1 - \\beta}\\right)}{\\alpha \\left(1 - \\beta\\right)}$"
      ],
      "text/plain": [
       "v*(-K**(1 - beta) + f**(1 - beta))/(alpha*(1 - beta))"
      ]
     },
     "execution_count": 190,
     "metadata": {},
     "output_type": "execute_result"
    }
   ],
   "source": [
    "z"
   ]
  },
  {
   "cell_type": "code",
   "execution_count": null,
   "id": "d3115f9e",
   "metadata": {},
   "outputs": [],
   "source": []
  },
  {
   "cell_type": "code",
   "execution_count": null,
   "id": "6c7903f5",
   "metadata": {},
   "outputs": [],
   "source": []
  },
  {
   "cell_type": "markdown",
   "id": "46ab40e5",
   "metadata": {},
   "source": [
    "# Case 1: x = 0"
   ]
  },
  {
   "cell_type": "code",
   "execution_count": 312,
   "id": "24f2bd34",
   "metadata": {},
   "outputs": [
    {
     "name": "stdout",
     "output_type": "stream",
     "text": [
      "beta = Symbol('beta')\n",
      "f = Symbol('f')\n",
      "K = Symbol('K')\n",
      "e = (beta - 1)*log(f/K)/(K**(1 - beta) - f**(1 - beta))\n"
     ]
    }
   ],
   "source": [
    "# I_0 = alpha*K**(beta - 1)\n",
    "I_0 = x*alpha*(1 - beta)/(f**(1 - beta) - K**(1 - beta))\n",
    "# I_0\n",
    "\n",
    "# sym.simplify(I_0.diff(beta))\n",
    "# print(sym.latex((I_0.diff(beta))))\n",
    "# print(sym.python(I_0.diff(alpha)))\n",
    "print(sym.python(sym.simplify(I_0.diff(alpha))))"
   ]
  },
  {
   "cell_type": "code",
   "execution_count": 39,
   "id": "e2fddfb2",
   "metadata": {},
   "outputs": [],
   "source": [
    "# sym.simplify(sigma.diff(alpha))"
   ]
  },
  {
   "cell_type": "code",
   "execution_count": 40,
   "id": "74b3f422",
   "metadata": {},
   "outputs": [],
   "source": [
    "# sym.simplify(sigma.diff(beta))\n"
   ]
  },
  {
   "cell_type": "code",
   "execution_count": 41,
   "id": "73a0c0b4",
   "metadata": {},
   "outputs": [],
   "source": [
    "# sym.simplify(sigma.diff(v))\n"
   ]
  },
  {
   "cell_type": "code",
   "execution_count": 42,
   "id": "39c6a9f6",
   "metadata": {},
   "outputs": [],
   "source": [
    "# sym.simplify(sigma.diff(rho))\n"
   ]
  },
  {
   "cell_type": "markdown",
   "id": "3f8a964f",
   "metadata": {},
   "source": [
    "# Case 2: v = 0"
   ]
  },
  {
   "cell_type": "code",
   "execution_count": 235,
   "id": "f62d845f",
   "metadata": {},
   "outputs": [
    {
     "data": {
      "text/latex": [
       "$\\displaystyle \\frac{\\alpha x \\left(1 - \\beta\\right)}{- K^{1 - \\beta} + f^{1 - \\beta}}$"
      ],
      "text/plain": [
       "alpha*x*(1 - beta)/(-K**(1 - beta) + f**(1 - beta))"
      ]
     },
     "execution_count": 235,
     "metadata": {},
     "output_type": "execute_result"
    }
   ],
   "source": [
    "I_0 = x*alpha*(1 - beta)/(f**(1 - beta) - K**(1 - beta))\n",
    "# sigma = I_0*(1 + I_H_1*T)\n",
    "\n",
    "I_0\n",
    "# print(sym.latex((I_0.diff(alpha))))\n",
    "# print(sym.python(I_0))\n",
    "# sym.simplify(sigma.diff(alpha))\n",
    "# sym.simplify(sigma.diff(beta))\n",
    "# sym.simplify(sigma.diff(v))\n",
    "# sym.simplify(sigma.diff(rho))\n"
   ]
  },
  {
   "cell_type": "code",
   "execution_count": 239,
   "id": "3bcc2963",
   "metadata": {},
   "outputs": [
    {
     "name": "stdout",
     "output_type": "stream",
     "text": [
      "\\frac{\\alpha x \\left(K^{1 - \\beta} - f^{1 - \\beta} + \\left(\\beta - 1\\right) \\left(K^{1 - \\beta} \\log{\\left(K \\right)} - f^{1 - \\beta} \\log{\\left(f \\right)}\\right)\\right)}{\\left(K^{1 - \\beta} - f^{1 - \\beta}\\right)^{2}}\n"
     ]
    }
   ],
   "source": [
    "print(sym.latex(sym.simplify(I_0.diff(beta))))"
   ]
  },
  {
   "cell_type": "code",
   "execution_count": 238,
   "id": "7cf8069b",
   "metadata": {},
   "outputs": [
    {
     "data": {
      "text/latex": [
       "$\\displaystyle \\frac{\\alpha x \\left(K^{1 - \\beta} - f^{1 - \\beta} + \\left(\\beta - 1\\right) \\left(K^{1 - \\beta} \\log{\\left(K \\right)} - f^{1 - \\beta} \\log{\\left(f \\right)}\\right)\\right)}{\\left(K^{1 - \\beta} - f^{1 - \\beta}\\right)^{2}}$"
      ],
      "text/plain": [
       "alpha*x*(K**(1 - beta) - f**(1 - beta) + (beta - 1)*(K**(1 - beta)*log(K) - f**(1 - beta)*log(f)))/(K**(1 - beta) - f**(1 - beta))**2"
      ]
     },
     "execution_count": 238,
     "metadata": {},
     "output_type": "execute_result"
    }
   ],
   "source": [
    "sym.simplify(I_0.diff(beta))"
   ]
  },
  {
   "cell_type": "markdown",
   "id": "7761deed",
   "metadata": {},
   "source": [
    "# Case 3: beta = 1"
   ]
  },
  {
   "cell_type": "code",
   "execution_count": 111,
   "id": "67b562bb",
   "metadata": {},
   "outputs": [],
   "source": [
    "alpha, beta, v, rho, f, K, T, x = sym.symbols('alpha beta v rho f K T x')\n"
   ]
  },
  {
   "cell_type": "code",
   "execution_count": 340,
   "id": "ebe34005",
   "metadata": {},
   "outputs": [
    {
     "name": "stdout",
     "output_type": "stream",
     "text": [
      "v = Symbol('v')\n",
      "beta = Symbol('beta')\n",
      "K = Symbol('K')\n",
      "f = Symbol('f')\n",
      "alpha = Symbol('alpha')\n",
      "e = v*(-K**(1 - beta) + f**(1 - beta))/(alpha*(1 - beta))\n"
     ]
    }
   ],
   "source": [
    "print(sym.python(z))"
   ]
  },
  {
   "cell_type": "code",
   "execution_count": 334,
   "id": "611741f5",
   "metadata": {},
   "outputs": [
    {
     "data": {
      "text/latex": [
       "$\\displaystyle \\frac{v \\log{\\left(\\frac{f}{K} \\right)}}{\\log{\\left(\\frac{- \\rho + \\sqrt{1 - \\frac{2 \\rho v \\left(- K^{1 - \\beta} + f^{1 - \\beta}\\right)}{\\alpha \\left(1 - \\beta\\right)} + \\frac{v^{2} \\left(- K^{1 - \\beta} + f^{1 - \\beta}\\right)^{2}}{\\alpha^{2} \\left(1 - \\beta\\right)^{2}}} + \\frac{v \\left(- K^{1 - \\beta} + f^{1 - \\beta}\\right)}{\\alpha \\left(1 - \\beta\\right)}}{1 - \\rho} \\right)}}$"
      ],
      "text/plain": [
       "v*log(f/K)/log((-rho + sqrt(1 - 2*rho*v*(-K**(1 - beta) + f**(1 - beta))/(alpha*(1 - beta)) + v**2*(-K**(1 - beta) + f**(1 - beta))**2/(alpha**2*(1 - beta)**2)) + v*(-K**(1 - beta) + f**(1 - beta))/(alpha*(1 - beta)))/(1 - rho))"
      ]
     },
     "execution_count": 334,
     "metadata": {},
     "output_type": "execute_result"
    }
   ],
   "source": [
    "z = v*(f**(1 - beta) - K**(1 - beta))/(alpha*(1 - beta))\n",
    "\n",
    "I_0 = v*x/(sym.log((sym.sqrt(1 - 2*rho*z + z**2) + z - rho)/(1 - rho)))\n",
    "# sigma = I_0*(1 + I_H_1*T)\n",
    "I_0\n"
   ]
  },
  {
   "cell_type": "code",
   "execution_count": 355,
   "id": "9db24f87",
   "metadata": {},
   "outputs": [
    {
     "name": "stdout",
     "output_type": "stream",
     "text": [
      "v = Symbol('v')\n",
      "x = Symbol('x')\n",
      "rho = Symbol('rho')\n",
      "z = Symbol('z')\n",
      "e = -v*x*(1 - rho)*((-z/sqrt(-2*rho*z + z**2 + 1) - 1)/(1 - rho) + (-rho + z + sqrt(-2*rho*z + z**2 + 1))/(1 - rho)**2)/((-rho + z + sqrt(-2*rho*z + z**2 + 1))*log((-rho + z + sqrt(-2*rho*z + z**2 + 1))/(1 - rho))**2)\n"
     ]
    }
   ],
   "source": [
    "print(sym.python(I_0.diff(rho).subs(z, \"z\").subs(x, \"x\")))"
   ]
  },
  {
   "cell_type": "code",
   "execution_count": 353,
   "id": "cd551256",
   "metadata": {},
   "outputs": [
    {
     "data": {
      "text/latex": [
       "$\\displaystyle - \\frac{v x \\left(1 - \\rho\\right) \\left(\\frac{- \\frac{z}{\\sqrt{- 2 \\rho z + z^{2} + 1}} - 1}{1 - \\rho} + \\frac{- \\rho + z + \\sqrt{- 2 \\rho z + z^{2} + 1}}{\\left(1 - \\rho\\right)^{2}}\\right)}{\\left(- \\rho + z + \\sqrt{- 2 \\rho z + z^{2} + 1}\\right) \\log{\\left(\\frac{- \\rho + z + \\sqrt{- 2 \\rho z + z^{2} + 1}}{1 - \\rho} \\right)}^{2}}$"
      ],
      "text/plain": [
       "-v*x*(1 - rho)*((-z/sqrt(-2*rho*z + z**2 + 1) - 1)/(1 - rho) + (-rho + z + sqrt(-2*rho*z + z**2 + 1))/(1 - rho)**2)/((-rho + z + sqrt(-2*rho*z + z**2 + 1))*log((-rho + z + sqrt(-2*rho*z + z**2 + 1))/(1 - rho))**2)"
      ]
     },
     "execution_count": 353,
     "metadata": {},
     "output_type": "execute_result"
    }
   ],
   "source": [
    "I_0.diff(rho).subs(z, \"z\").subs(x, \"x\").subs(z/v, \"z/v\")"
   ]
  },
  {
   "cell_type": "code",
   "execution_count": 354,
   "id": "c8e86d2f",
   "metadata": {},
   "outputs": [
    {
     "data": {
      "text/latex": [
       "$\\displaystyle - \\frac{v x \\left(1 - \\rho\\right) \\left(\\frac{- \\frac{z}{\\sqrt{- 2 \\rho z + z^{2} + 1}} - 1}{1 - \\rho} + \\frac{- \\rho + z + \\sqrt{- 2 \\rho z + z^{2} + 1}}{\\left(1 - \\rho\\right)^{2}}\\right)}{\\left(- \\rho + z + \\sqrt{- 2 \\rho z + z^{2} + 1}\\right) \\log{\\left(\\frac{- \\rho + z + \\sqrt{- 2 \\rho z + z^{2} + 1}}{1 - \\rho} \\right)}^{2}}$"
      ],
      "text/plain": [
       "-v*x*(1 - rho)*((-z/sqrt(-2*rho*z + z**2 + 1) - 1)/(1 - rho) + (-rho + z + sqrt(-2*rho*z + z**2 + 1))/(1 - rho)**2)/((-rho + z + sqrt(-2*rho*z + z**2 + 1))*log((-rho + z + sqrt(-2*rho*z + z**2 + 1))/(1 - rho))**2)"
      ]
     },
     "execution_count": 354,
     "metadata": {},
     "output_type": "execute_result"
    }
   ],
   "source": [
    "I_0.diff(rho).subs(z, \"z\").subs(x, \"x\")"
   ]
  },
  {
   "cell_type": "code",
   "execution_count": null,
   "id": "95233cdc",
   "metadata": {},
   "outputs": [],
   "source": []
  },
  {
   "cell_type": "code",
   "execution_count": null,
   "id": "51fd5daf",
   "metadata": {},
   "outputs": [],
   "source": []
  },
  {
   "cell_type": "code",
   "execution_count": null,
   "id": "a7c57afd",
   "metadata": {},
   "outputs": [],
   "source": []
  },
  {
   "cell_type": "code",
   "execution_count": 337,
   "id": "63bb40a7",
   "metadata": {},
   "outputs": [
    {
     "name": "stdout",
     "output_type": "stream",
     "text": [
      "v = Symbol('v')\n",
      "x = Symbol('x')\n",
      "z = Symbol('z')\n",
      "alpha = Symbol('alpha')\n",
      "rho = Symbol('rho')\n",
      "e = v*x*z/(alpha*sqrt(-2*rho*z + z**2 + 1)*log((rho - z - sqrt(-2*rho*z + z**2 + 1))/(rho - 1))**2)\n"
     ]
    }
   ],
   "source": [
    "print(sym.python(sym.simplify(I_0.diff(alpha).subs(z, \"z\")).subs(x, \"x\")))"
   ]
  },
  {
   "cell_type": "code",
   "execution_count": 333,
   "id": "6ff54e7e",
   "metadata": {},
   "outputs": [
    {
     "name": "stdout",
     "output_type": "stream",
     "text": [
      "v = Symbol('v')\n",
      "x = Symbol('x')\n",
      "rho = Symbol('rho')\n",
      "z = Symbol('z')\n",
      "e = v*x*((rho - 1)*(z + sqrt(-2*rho*z + z**2 + 1)) + (-rho + z + sqrt(-2*rho*z + z**2 + 1))*sqrt(-2*rho*z + z**2 + 1))/((rho - 1)*(-rho + z + sqrt(-2*rho*z + z**2 + 1))*sqrt(-2*rho*z + z**2 + 1)*log((rho - z - sqrt(-2*rho*z + z**2 + 1))/(rho - 1))**2)\n"
     ]
    }
   ],
   "source": [
    "print(sym.python(sym.simplify(I_0.diff(rho).subs(z, \"z\")).subs(x, \"x\")))"
   ]
  },
  {
   "cell_type": "code",
   "execution_count": 318,
   "id": "1dd61177",
   "metadata": {},
   "outputs": [
    {
     "data": {
      "text/latex": [
       "$\\displaystyle \\frac{z^{2}}{\\sqrt{- 2 \\rho z + z^{2} + 1} \\log{\\left(\\frac{\\alpha \\rho}{\\alpha \\rho - \\alpha} - \\frac{\\alpha \\sqrt{- 2 \\rho z + z^{2} + 1}}{\\alpha \\rho - \\alpha} - \\frac{v \\log{\\left(\\frac{f}{K} \\right)}}{\\alpha \\rho - \\alpha} \\right)}^{2}}$"
      ],
      "text/plain": [
       "z**2/(sqrt(-2*rho*z + z**2 + 1)*log(alpha*rho/(alpha*rho - alpha) - alpha*sqrt(-2*rho*z + z**2 + 1)/(alpha*rho - alpha) - v*log(f/K)/(alpha*rho - alpha))**2)"
      ]
     },
     "execution_count": 318,
     "metadata": {},
     "output_type": "execute_result"
    }
   ],
   "source": [
    "sym.simplify(I_0.diff(alpha)).subs(z, \"z\")"
   ]
  },
  {
   "cell_type": "code",
   "execution_count": 250,
   "id": "e992dedb",
   "metadata": {},
   "outputs": [],
   "source": [
    "# sym.simplify(I_0.diff(rho))"
   ]
  },
  {
   "cell_type": "code",
   "execution_count": 135,
   "id": "a6beceab",
   "metadata": {
    "scrolled": true
   },
   "outputs": [],
   "source": [
    "# print(sym.latex(sym.simplify(I_0.diff(v))))"
   ]
  },
  {
   "cell_type": "code",
   "execution_count": 251,
   "id": "9b6facfd",
   "metadata": {},
   "outputs": [],
   "source": [
    "# I_0.diff(alpha).subs(z, \"z\")"
   ]
  },
  {
   "cell_type": "code",
   "execution_count": 252,
   "id": "eaf5952d",
   "metadata": {},
   "outputs": [],
   "source": [
    "# sym.simplify(I_0.diff(beta).subs(z, \"z\"))"
   ]
  },
  {
   "cell_type": "code",
   "execution_count": 253,
   "id": "e017a73d",
   "metadata": {},
   "outputs": [],
   "source": [
    "# print(sym.latex(sym.simplify(I_0.diff(alpha).subs(v*x/alpha, \"z\"))))"
   ]
  },
  {
   "cell_type": "code",
   "execution_count": null,
   "id": "ff83b181",
   "metadata": {},
   "outputs": [],
   "source": []
  },
  {
   "cell_type": "code",
   "execution_count": 254,
   "id": "3b9d9cd6",
   "metadata": {},
   "outputs": [],
   "source": [
    "# I_0.diff(v).subs(v*x/alpha, \"z\")"
   ]
  },
  {
   "cell_type": "code",
   "execution_count": 255,
   "id": "b4a1f5fa",
   "metadata": {},
   "outputs": [],
   "source": [
    "# sym.simplify(I_0.diff(v).subs(v*x/alpha, \"z\"))"
   ]
  },
  {
   "cell_type": "code",
   "execution_count": 256,
   "id": "93cb26f1",
   "metadata": {},
   "outputs": [],
   "source": [
    "# print(sym.latex(sym.simplify(I_0.diff(v).subs(v*x/alpha, \"z\"))))"
   ]
  },
  {
   "cell_type": "code",
   "execution_count": null,
   "id": "399319eb",
   "metadata": {},
   "outputs": [],
   "source": []
  },
  {
   "cell_type": "code",
   "execution_count": 148,
   "id": "330849df",
   "metadata": {},
   "outputs": [
    {
     "data": {
      "text/latex": [
       "$\\displaystyle - \\frac{v x \\left(1 - \\rho\\right) \\left(\\frac{- \\frac{z}{\\sqrt{- 2 \\rho z + z^{2} + 1}} - 1}{1 - \\rho} + \\frac{- \\rho + z + \\sqrt{- 2 \\rho z + z^{2} + 1}}{\\left(1 - \\rho\\right)^{2}}\\right)}{\\left(- \\rho + z + \\sqrt{- 2 \\rho z + z^{2} + 1}\\right) \\log{\\left(\\frac{- \\rho + z + \\sqrt{- 2 \\rho z + z^{2} + 1}}{1 - \\rho} \\right)}^{2}}$"
      ],
      "text/plain": [
       "-v*x*(1 - rho)*((-z/sqrt(-2*rho*z + z**2 + 1) - 1)/(1 - rho) + (-rho + z + sqrt(-2*rho*z + z**2 + 1))/(1 - rho)**2)/((-rho + z + sqrt(-2*rho*z + z**2 + 1))*log((-rho + z + sqrt(-2*rho*z + z**2 + 1))/(1 - rho))**2)"
      ]
     },
     "execution_count": 148,
     "metadata": {},
     "output_type": "execute_result"
    }
   ],
   "source": [
    "I_0.diff(rho).subs(v*x/alpha, \"z\")"
   ]
  },
  {
   "cell_type": "code",
   "execution_count": 151,
   "id": "70827390",
   "metadata": {},
   "outputs": [
    {
     "data": {
      "text/latex": [
       "$\\displaystyle \\frac{v x \\left(\\left(\\rho - 1\\right) \\left(z + \\sqrt{- 2 \\rho z + z^{2} + 1}\\right) + \\left(- \\rho + z + \\sqrt{- 2 \\rho z + z^{2} + 1}\\right) \\sqrt{- 2 \\rho z + z^{2} + 1}\\right)}{\\left(\\rho - 1\\right) \\left(- \\rho + z + \\sqrt{- 2 \\rho z + z^{2} + 1}\\right) \\sqrt{- 2 \\rho z + z^{2} + 1} \\log{\\left(\\frac{\\rho - z - \\sqrt{- 2 \\rho z + z^{2} + 1}}{\\rho - 1} \\right)}^{2}}$"
      ],
      "text/plain": [
       "v*x*((rho - 1)*(z + sqrt(-2*rho*z + z**2 + 1)) + (-rho + z + sqrt(-2*rho*z + z**2 + 1))*sqrt(-2*rho*z + z**2 + 1))/((rho - 1)*(-rho + z + sqrt(-2*rho*z + z**2 + 1))*sqrt(-2*rho*z + z**2 + 1)*log((rho - z - sqrt(-2*rho*z + z**2 + 1))/(rho - 1))**2)"
      ]
     },
     "execution_count": 151,
     "metadata": {},
     "output_type": "execute_result"
    }
   ],
   "source": [
    "sym.simplify(I_0.diff(rho).subs(v*x/alpha, \"z\"))"
   ]
  },
  {
   "cell_type": "code",
   "execution_count": 150,
   "id": "9c9a99bf",
   "metadata": {},
   "outputs": [
    {
     "name": "stdout",
     "output_type": "stream",
     "text": [
      "\\frac{v x \\left(\\left(\\rho - 1\\right) \\left(z + \\sqrt{- 2 \\rho z + z^{2} + 1}\\right) + \\left(- \\rho + z + \\sqrt{- 2 \\rho z + z^{2} + 1}\\right) \\sqrt{- 2 \\rho z + z^{2} + 1}\\right)}{\\left(\\rho - 1\\right) \\left(- \\rho + z + \\sqrt{- 2 \\rho z + z^{2} + 1}\\right) \\sqrt{- 2 \\rho z + z^{2} + 1} \\log{\\left(\\frac{\\rho - z - \\sqrt{- 2 \\rho z + z^{2} + 1}}{\\rho - 1} \\right)}^{2}}\n"
     ]
    }
   ],
   "source": [
    "print(sym.latex(sym.simplify(I_0.diff(rho).subs(v*x/alpha, \"z\"))))"
   ]
  },
  {
   "cell_type": "code",
   "execution_count": null,
   "id": "31422166",
   "metadata": {},
   "outputs": [],
   "source": []
  },
  {
   "cell_type": "markdown",
   "id": "b3bd9413",
   "metadata": {},
   "source": [
    "# Case 4: beta < 1"
   ]
  },
  {
   "cell_type": "code",
   "execution_count": 263,
   "id": "53329fea",
   "metadata": {},
   "outputs": [
    {
     "data": {
      "text/latex": [
       "$\\displaystyle \\frac{v x}{\\log{\\left(\\frac{- \\rho + z + \\sqrt{- 2 \\rho z + z^{2} + 1}}{1 - \\rho} \\right)}}$"
      ],
      "text/plain": [
       "v*x/log((-rho + z + sqrt(-2*rho*z + z**2 + 1))/(1 - rho))"
      ]
     },
     "execution_count": 263,
     "metadata": {},
     "output_type": "execute_result"
    }
   ],
   "source": [
    "z = v*(f**(1 - beta) - K**(1 - beta))/(alpha*(1 - beta))\n",
    "z\n",
    "I_0 = v*x/(sym.log((sym.sqrt(1 - 2*rho*z + z**2) + z - rho)/(1 - rho)))\n",
    "I_0.subs(z, \"z\")\n",
    "# sigma = I_0*(1 + I_H_1*T)\n",
    "# sigma\n"
   ]
  },
  {
   "cell_type": "code",
   "execution_count": 278,
   "id": "8042ffb4",
   "metadata": {},
   "outputs": [
    {
     "data": {
      "text/latex": [
       "$\\displaystyle - \\frac{v x \\left(1 - \\rho\\right) \\left(\\frac{- \\frac{z}{\\sqrt{- 2 \\rho z + z^{2} + 1}} - 1}{1 - \\rho} + \\frac{- \\rho + z + \\sqrt{- 2 \\rho z + z^{2} + 1}}{\\left(1 - \\rho\\right)^{2}}\\right)}{\\left(- \\rho + z + \\sqrt{- 2 \\rho z + z^{2} + 1}\\right) \\log{\\left(\\frac{- \\rho + z + \\sqrt{- 2 \\rho z + z^{2} + 1}}{1 - \\rho} \\right)}^{2}}$"
      ],
      "text/plain": [
       "-v*x*(1 - rho)*((-z/sqrt(-2*rho*z + z**2 + 1) - 1)/(1 - rho) + (-rho + z + sqrt(-2*rho*z + z**2 + 1))/(1 - rho)**2)/((-rho + z + sqrt(-2*rho*z + z**2 + 1))*log((-rho + z + sqrt(-2*rho*z + z**2 + 1))/(1 - rho))**2)"
      ]
     },
     "execution_count": 278,
     "metadata": {},
     "output_type": "execute_result"
    }
   ],
   "source": [
    "I_0.diff(rho).subs(z, \"z\")"
   ]
  },
  {
   "cell_type": "code",
   "execution_count": 20,
   "id": "9a92846e",
   "metadata": {},
   "outputs": [
    {
     "data": {
      "text/latex": [
       "$\\displaystyle \\frac{T v \\left(\\frac{\\alpha^{2} \\left(K f\\right)^{\\beta - 1} \\left(1 - \\beta\\right)^{2} \\log{\\left(K f \\right)}}{24} + \\frac{\\alpha^{2} \\left(K f\\right)^{\\beta - 1} \\cdot \\left(2 \\beta - 2\\right)}{24} + \\frac{\\alpha \\beta \\rho v \\left(K f\\right)^{\\frac{\\beta}{2} - \\frac{1}{2}} \\log{\\left(K f \\right)}}{8} + \\frac{\\alpha \\rho v \\left(K f\\right)^{\\frac{\\beta}{2} - \\frac{1}{2}}}{4}\\right) \\log{\\left(\\frac{f}{K} \\right)}}{\\log{\\left(\\frac{- \\rho + \\sqrt{1 - \\frac{2 \\rho v \\left(- K^{1 - \\beta} + f^{1 - \\beta}\\right)}{\\alpha \\left(1 - \\beta\\right)} + \\frac{v^{2} \\left(- K^{1 - \\beta} + f^{1 - \\beta}\\right)^{2}}{\\alpha^{2} \\left(1 - \\beta\\right)^{2}}} + \\frac{v \\left(- K^{1 - \\beta} + f^{1 - \\beta}\\right)}{\\alpha \\left(1 - \\beta\\right)}}{1 - \\rho} \\right)}} - \\frac{v \\left(T \\left(\\frac{\\alpha^{2} \\left(K f\\right)^{\\beta - 1} \\left(1 - \\beta\\right)^{2}}{24} + \\frac{\\alpha \\beta \\rho v \\left(K f\\right)^{\\frac{\\beta}{2} - \\frac{1}{2}}}{4} + \\frac{v^{2} \\cdot \\left(1 - 3 \\rho^{2}\\right)}{24}\\right) + 1\\right) \\left(\\frac{- \\frac{\\rho v \\left(K^{1 - \\beta} \\log{\\left(K \\right)} - f^{1 - \\beta} \\log{\\left(f \\right)}\\right)}{\\alpha \\left(1 - \\beta\\right)} - \\frac{\\rho v \\left(- K^{1 - \\beta} + f^{1 - \\beta}\\right)}{\\alpha \\left(1 - \\beta\\right)^{2}} + \\frac{v^{2} \\left(- K^{1 - \\beta} + f^{1 - \\beta}\\right) \\left(2 K^{1 - \\beta} \\log{\\left(K \\right)} - 2 f^{1 - \\beta} \\log{\\left(f \\right)}\\right)}{2 \\alpha^{2} \\left(1 - \\beta\\right)^{2}} + \\frac{v^{2} \\left(- K^{1 - \\beta} + f^{1 - \\beta}\\right)^{2}}{\\alpha^{2} \\left(1 - \\beta\\right)^{3}}}{\\sqrt{1 - \\frac{2 \\rho v \\left(- K^{1 - \\beta} + f^{1 - \\beta}\\right)}{\\alpha \\left(1 - \\beta\\right)} + \\frac{v^{2} \\left(- K^{1 - \\beta} + f^{1 - \\beta}\\right)^{2}}{\\alpha^{2} \\left(1 - \\beta\\right)^{2}}}} + \\frac{v \\left(K^{1 - \\beta} \\log{\\left(K \\right)} - f^{1 - \\beta} \\log{\\left(f \\right)}\\right)}{\\alpha \\left(1 - \\beta\\right)} + \\frac{v \\left(- K^{1 - \\beta} + f^{1 - \\beta}\\right)}{\\alpha \\left(1 - \\beta\\right)^{2}}\\right) \\log{\\left(\\frac{f}{K} \\right)}}{\\left(- \\rho + \\sqrt{1 - \\frac{2 \\rho v \\left(- K^{1 - \\beta} + f^{1 - \\beta}\\right)}{\\alpha \\left(1 - \\beta\\right)} + \\frac{v^{2} \\left(- K^{1 - \\beta} + f^{1 - \\beta}\\right)^{2}}{\\alpha^{2} \\left(1 - \\beta\\right)^{2}}} + \\frac{v \\left(- K^{1 - \\beta} + f^{1 - \\beta}\\right)}{\\alpha \\left(1 - \\beta\\right)}\\right) \\log{\\left(\\frac{- \\rho + \\sqrt{1 - \\frac{2 \\rho v \\left(- K^{1 - \\beta} + f^{1 - \\beta}\\right)}{\\alpha \\left(1 - \\beta\\right)} + \\frac{v^{2} \\left(- K^{1 - \\beta} + f^{1 - \\beta}\\right)^{2}}{\\alpha^{2} \\left(1 - \\beta\\right)^{2}}} + \\frac{v \\left(- K^{1 - \\beta} + f^{1 - \\beta}\\right)}{\\alpha \\left(1 - \\beta\\right)}}{1 - \\rho} \\right)}^{2}}$"
      ],
      "text/plain": [
       "T*v*(alpha**2*(K*f)**(beta - 1)*(1 - beta)**2*log(K*f)/24 + alpha**2*(K*f)**(beta - 1)*(2*beta - 2)/24 + alpha*beta*rho*v*(K*f)**(beta/2 - 1/2)*log(K*f)/8 + alpha*rho*v*(K*f)**(beta/2 - 1/2)/4)*log(f/K)/log((-rho + sqrt(1 - 2*rho*v*(-K**(1 - beta) + f**(1 - beta))/(alpha*(1 - beta)) + v**2*(-K**(1 - beta) + f**(1 - beta))**2/(alpha**2*(1 - beta)**2)) + v*(-K**(1 - beta) + f**(1 - beta))/(alpha*(1 - beta)))/(1 - rho)) - v*(T*(alpha**2*(K*f)**(beta - 1)*(1 - beta)**2/24 + alpha*beta*rho*v*(K*f)**(beta/2 - 1/2)/4 + v**2*(1 - 3*rho**2)/24) + 1)*((-rho*v*(K**(1 - beta)*log(K) - f**(1 - beta)*log(f))/(alpha*(1 - beta)) - rho*v*(-K**(1 - beta) + f**(1 - beta))/(alpha*(1 - beta)**2) + v**2*(-K**(1 - beta) + f**(1 - beta))*(2*K**(1 - beta)*log(K) - 2*f**(1 - beta)*log(f))/(2*alpha**2*(1 - beta)**2) + v**2*(-K**(1 - beta) + f**(1 - beta))**2/(alpha**2*(1 - beta)**3))/sqrt(1 - 2*rho*v*(-K**(1 - beta) + f**(1 - beta))/(alpha*(1 - beta)) + v**2*(-K**(1 - beta) + f**(1 - beta))**2/(alpha**2*(1 - beta)**2)) + v*(K**(1 - beta)*log(K) - f**(1 - beta)*log(f))/(alpha*(1 - beta)) + v*(-K**(1 - beta) + f**(1 - beta))/(alpha*(1 - beta)**2))*log(f/K)/((-rho + sqrt(1 - 2*rho*v*(-K**(1 - beta) + f**(1 - beta))/(alpha*(1 - beta)) + v**2*(-K**(1 - beta) + f**(1 - beta))**2/(alpha**2*(1 - beta)**2)) + v*(-K**(1 - beta) + f**(1 - beta))/(alpha*(1 - beta)))*log((-rho + sqrt(1 - 2*rho*v*(-K**(1 - beta) + f**(1 - beta))/(alpha*(1 - beta)) + v**2*(-K**(1 - beta) + f**(1 - beta))**2/(alpha**2*(1 - beta)**2)) + v*(-K**(1 - beta) + f**(1 - beta))/(alpha*(1 - beta)))/(1 - rho))**2)"
      ]
     },
     "execution_count": 20,
     "metadata": {},
     "output_type": "execute_result"
    }
   ],
   "source": [
    "sigma.diff(beta)\n"
   ]
  },
  {
   "cell_type": "code",
   "execution_count": 21,
   "id": "1e0091c1",
   "metadata": {},
   "outputs": [
    {
     "data": {
      "text/latex": [
       "$\\displaystyle \\frac{T v \\left(\\frac{\\alpha \\beta \\rho \\left(K f\\right)^{\\frac{\\beta}{2} - \\frac{1}{2}}}{4} + \\frac{v \\left(1 - 3 \\rho^{2}\\right)}{12}\\right) \\log{\\left(\\frac{f}{K} \\right)}}{\\log{\\left(\\frac{- \\rho + \\sqrt{1 - \\frac{2 \\rho v \\left(- K^{1 - \\beta} + f^{1 - \\beta}\\right)}{\\alpha \\left(1 - \\beta\\right)} + \\frac{v^{2} \\left(- K^{1 - \\beta} + f^{1 - \\beta}\\right)^{2}}{\\alpha^{2} \\left(1 - \\beta\\right)^{2}}} + \\frac{v \\left(- K^{1 - \\beta} + f^{1 - \\beta}\\right)}{\\alpha \\left(1 - \\beta\\right)}}{1 - \\rho} \\right)}} - \\frac{v \\left(T \\left(\\frac{\\alpha^{2} \\left(K f\\right)^{\\beta - 1} \\left(1 - \\beta\\right)^{2}}{24} + \\frac{\\alpha \\beta \\rho v \\left(K f\\right)^{\\frac{\\beta}{2} - \\frac{1}{2}}}{4} + \\frac{v^{2} \\cdot \\left(1 - 3 \\rho^{2}\\right)}{24}\\right) + 1\\right) \\left(\\frac{- \\frac{\\rho \\left(- K^{1 - \\beta} + f^{1 - \\beta}\\right)}{\\alpha \\left(1 - \\beta\\right)} + \\frac{v \\left(- K^{1 - \\beta} + f^{1 - \\beta}\\right)^{2}}{\\alpha^{2} \\left(1 - \\beta\\right)^{2}}}{\\sqrt{1 - \\frac{2 \\rho v \\left(- K^{1 - \\beta} + f^{1 - \\beta}\\right)}{\\alpha \\left(1 - \\beta\\right)} + \\frac{v^{2} \\left(- K^{1 - \\beta} + f^{1 - \\beta}\\right)^{2}}{\\alpha^{2} \\left(1 - \\beta\\right)^{2}}}} + \\frac{- K^{1 - \\beta} + f^{1 - \\beta}}{\\alpha \\left(1 - \\beta\\right)}\\right) \\log{\\left(\\frac{f}{K} \\right)}}{\\left(- \\rho + \\sqrt{1 - \\frac{2 \\rho v \\left(- K^{1 - \\beta} + f^{1 - \\beta}\\right)}{\\alpha \\left(1 - \\beta\\right)} + \\frac{v^{2} \\left(- K^{1 - \\beta} + f^{1 - \\beta}\\right)^{2}}{\\alpha^{2} \\left(1 - \\beta\\right)^{2}}} + \\frac{v \\left(- K^{1 - \\beta} + f^{1 - \\beta}\\right)}{\\alpha \\left(1 - \\beta\\right)}\\right) \\log{\\left(\\frac{- \\rho + \\sqrt{1 - \\frac{2 \\rho v \\left(- K^{1 - \\beta} + f^{1 - \\beta}\\right)}{\\alpha \\left(1 - \\beta\\right)} + \\frac{v^{2} \\left(- K^{1 - \\beta} + f^{1 - \\beta}\\right)^{2}}{\\alpha^{2} \\left(1 - \\beta\\right)^{2}}} + \\frac{v \\left(- K^{1 - \\beta} + f^{1 - \\beta}\\right)}{\\alpha \\left(1 - \\beta\\right)}}{1 - \\rho} \\right)}^{2}} + \\frac{\\left(T \\left(\\frac{\\alpha^{2} \\left(K f\\right)^{\\beta - 1} \\left(1 - \\beta\\right)^{2}}{24} + \\frac{\\alpha \\beta \\rho v \\left(K f\\right)^{\\frac{\\beta}{2} - \\frac{1}{2}}}{4} + \\frac{v^{2} \\cdot \\left(1 - 3 \\rho^{2}\\right)}{24}\\right) + 1\\right) \\log{\\left(\\frac{f}{K} \\right)}}{\\log{\\left(\\frac{- \\rho + \\sqrt{1 - \\frac{2 \\rho v \\left(- K^{1 - \\beta} + f^{1 - \\beta}\\right)}{\\alpha \\left(1 - \\beta\\right)} + \\frac{v^{2} \\left(- K^{1 - \\beta} + f^{1 - \\beta}\\right)^{2}}{\\alpha^{2} \\left(1 - \\beta\\right)^{2}}} + \\frac{v \\left(- K^{1 - \\beta} + f^{1 - \\beta}\\right)}{\\alpha \\left(1 - \\beta\\right)}}{1 - \\rho} \\right)}}$"
      ],
      "text/plain": [
       "T*v*(alpha*beta*rho*(K*f)**(beta/2 - 1/2)/4 + v*(1 - 3*rho**2)/12)*log(f/K)/log((-rho + sqrt(1 - 2*rho*v*(-K**(1 - beta) + f**(1 - beta))/(alpha*(1 - beta)) + v**2*(-K**(1 - beta) + f**(1 - beta))**2/(alpha**2*(1 - beta)**2)) + v*(-K**(1 - beta) + f**(1 - beta))/(alpha*(1 - beta)))/(1 - rho)) - v*(T*(alpha**2*(K*f)**(beta - 1)*(1 - beta)**2/24 + alpha*beta*rho*v*(K*f)**(beta/2 - 1/2)/4 + v**2*(1 - 3*rho**2)/24) + 1)*((-rho*(-K**(1 - beta) + f**(1 - beta))/(alpha*(1 - beta)) + v*(-K**(1 - beta) + f**(1 - beta))**2/(alpha**2*(1 - beta)**2))/sqrt(1 - 2*rho*v*(-K**(1 - beta) + f**(1 - beta))/(alpha*(1 - beta)) + v**2*(-K**(1 - beta) + f**(1 - beta))**2/(alpha**2*(1 - beta)**2)) + (-K**(1 - beta) + f**(1 - beta))/(alpha*(1 - beta)))*log(f/K)/((-rho + sqrt(1 - 2*rho*v*(-K**(1 - beta) + f**(1 - beta))/(alpha*(1 - beta)) + v**2*(-K**(1 - beta) + f**(1 - beta))**2/(alpha**2*(1 - beta)**2)) + v*(-K**(1 - beta) + f**(1 - beta))/(alpha*(1 - beta)))*log((-rho + sqrt(1 - 2*rho*v*(-K**(1 - beta) + f**(1 - beta))/(alpha*(1 - beta)) + v**2*(-K**(1 - beta) + f**(1 - beta))**2/(alpha**2*(1 - beta)**2)) + v*(-K**(1 - beta) + f**(1 - beta))/(alpha*(1 - beta)))/(1 - rho))**2) + (T*(alpha**2*(K*f)**(beta - 1)*(1 - beta)**2/24 + alpha*beta*rho*v*(K*f)**(beta/2 - 1/2)/4 + v**2*(1 - 3*rho**2)/24) + 1)*log(f/K)/log((-rho + sqrt(1 - 2*rho*v*(-K**(1 - beta) + f**(1 - beta))/(alpha*(1 - beta)) + v**2*(-K**(1 - beta) + f**(1 - beta))**2/(alpha**2*(1 - beta)**2)) + v*(-K**(1 - beta) + f**(1 - beta))/(alpha*(1 - beta)))/(1 - rho))"
      ]
     },
     "execution_count": 21,
     "metadata": {},
     "output_type": "execute_result"
    }
   ],
   "source": [
    "sigma.diff(v)\n"
   ]
  },
  {
   "cell_type": "code",
   "execution_count": 22,
   "id": "9fb73b6e",
   "metadata": {},
   "outputs": [
    {
     "data": {
      "text/latex": [
       "$\\displaystyle \\frac{T v \\left(\\frac{\\alpha \\beta v \\left(K f\\right)^{\\frac{\\beta}{2} - \\frac{1}{2}}}{4} - \\frac{\\rho v^{2}}{4}\\right) \\log{\\left(\\frac{f}{K} \\right)}}{\\log{\\left(\\frac{- \\rho + \\sqrt{1 - \\frac{2 \\rho v \\left(- K^{1 - \\beta} + f^{1 - \\beta}\\right)}{\\alpha \\left(1 - \\beta\\right)} + \\frac{v^{2} \\left(- K^{1 - \\beta} + f^{1 - \\beta}\\right)^{2}}{\\alpha^{2} \\left(1 - \\beta\\right)^{2}}} + \\frac{v \\left(- K^{1 - \\beta} + f^{1 - \\beta}\\right)}{\\alpha \\left(1 - \\beta\\right)}}{1 - \\rho} \\right)}} - \\frac{v \\left(1 - \\rho\\right) \\left(T \\left(\\frac{\\alpha^{2} \\left(K f\\right)^{\\beta - 1} \\left(1 - \\beta\\right)^{2}}{24} + \\frac{\\alpha \\beta \\rho v \\left(K f\\right)^{\\frac{\\beta}{2} - \\frac{1}{2}}}{4} + \\frac{v^{2} \\cdot \\left(1 - 3 \\rho^{2}\\right)}{24}\\right) + 1\\right) \\left(\\frac{-1 - \\frac{v \\left(- K^{1 - \\beta} + f^{1 - \\beta}\\right)}{\\alpha \\left(1 - \\beta\\right) \\sqrt{1 - \\frac{2 \\rho v \\left(- K^{1 - \\beta} + f^{1 - \\beta}\\right)}{\\alpha \\left(1 - \\beta\\right)} + \\frac{v^{2} \\left(- K^{1 - \\beta} + f^{1 - \\beta}\\right)^{2}}{\\alpha^{2} \\left(1 - \\beta\\right)^{2}}}}}{1 - \\rho} + \\frac{- \\rho + \\sqrt{1 - \\frac{2 \\rho v \\left(- K^{1 - \\beta} + f^{1 - \\beta}\\right)}{\\alpha \\left(1 - \\beta\\right)} + \\frac{v^{2} \\left(- K^{1 - \\beta} + f^{1 - \\beta}\\right)^{2}}{\\alpha^{2} \\left(1 - \\beta\\right)^{2}}} + \\frac{v \\left(- K^{1 - \\beta} + f^{1 - \\beta}\\right)}{\\alpha \\left(1 - \\beta\\right)}}{\\left(1 - \\rho\\right)^{2}}\\right) \\log{\\left(\\frac{f}{K} \\right)}}{\\left(- \\rho + \\sqrt{1 - \\frac{2 \\rho v \\left(- K^{1 - \\beta} + f^{1 - \\beta}\\right)}{\\alpha \\left(1 - \\beta\\right)} + \\frac{v^{2} \\left(- K^{1 - \\beta} + f^{1 - \\beta}\\right)^{2}}{\\alpha^{2} \\left(1 - \\beta\\right)^{2}}} + \\frac{v \\left(- K^{1 - \\beta} + f^{1 - \\beta}\\right)}{\\alpha \\left(1 - \\beta\\right)}\\right) \\log{\\left(\\frac{- \\rho + \\sqrt{1 - \\frac{2 \\rho v \\left(- K^{1 - \\beta} + f^{1 - \\beta}\\right)}{\\alpha \\left(1 - \\beta\\right)} + \\frac{v^{2} \\left(- K^{1 - \\beta} + f^{1 - \\beta}\\right)^{2}}{\\alpha^{2} \\left(1 - \\beta\\right)^{2}}} + \\frac{v \\left(- K^{1 - \\beta} + f^{1 - \\beta}\\right)}{\\alpha \\left(1 - \\beta\\right)}}{1 - \\rho} \\right)}^{2}}$"
      ],
      "text/plain": [
       "T*v*(alpha*beta*v*(K*f)**(beta/2 - 1/2)/4 - rho*v**2/4)*log(f/K)/log((-rho + sqrt(1 - 2*rho*v*(-K**(1 - beta) + f**(1 - beta))/(alpha*(1 - beta)) + v**2*(-K**(1 - beta) + f**(1 - beta))**2/(alpha**2*(1 - beta)**2)) + v*(-K**(1 - beta) + f**(1 - beta))/(alpha*(1 - beta)))/(1 - rho)) - v*(1 - rho)*(T*(alpha**2*(K*f)**(beta - 1)*(1 - beta)**2/24 + alpha*beta*rho*v*(K*f)**(beta/2 - 1/2)/4 + v**2*(1 - 3*rho**2)/24) + 1)*((-1 - v*(-K**(1 - beta) + f**(1 - beta))/(alpha*(1 - beta)*sqrt(1 - 2*rho*v*(-K**(1 - beta) + f**(1 - beta))/(alpha*(1 - beta)) + v**2*(-K**(1 - beta) + f**(1 - beta))**2/(alpha**2*(1 - beta)**2))))/(1 - rho) + (-rho + sqrt(1 - 2*rho*v*(-K**(1 - beta) + f**(1 - beta))/(alpha*(1 - beta)) + v**2*(-K**(1 - beta) + f**(1 - beta))**2/(alpha**2*(1 - beta)**2)) + v*(-K**(1 - beta) + f**(1 - beta))/(alpha*(1 - beta)))/(1 - rho)**2)*log(f/K)/((-rho + sqrt(1 - 2*rho*v*(-K**(1 - beta) + f**(1 - beta))/(alpha*(1 - beta)) + v**2*(-K**(1 - beta) + f**(1 - beta))**2/(alpha**2*(1 - beta)**2)) + v*(-K**(1 - beta) + f**(1 - beta))/(alpha*(1 - beta)))*log((-rho + sqrt(1 - 2*rho*v*(-K**(1 - beta) + f**(1 - beta))/(alpha*(1 - beta)) + v**2*(-K**(1 - beta) + f**(1 - beta))**2/(alpha**2*(1 - beta)**2)) + v*(-K**(1 - beta) + f**(1 - beta))/(alpha*(1 - beta)))/(1 - rho))**2)"
      ]
     },
     "execution_count": 22,
     "metadata": {},
     "output_type": "execute_result"
    }
   ],
   "source": [
    "sigma.diff(rho)\n"
   ]
  }
 ],
 "metadata": {
  "kernelspec": {
   "display_name": "Python 3 (ipykernel)",
   "language": "python",
   "name": "python3"
  },
  "language_info": {
   "codemirror_mode": {
    "name": "ipython",
    "version": 3
   },
   "file_extension": ".py",
   "mimetype": "text/x-python",
   "name": "python",
   "nbconvert_exporter": "python",
   "pygments_lexer": "ipython3",
   "version": "3.8.13"
  }
 },
 "nbformat": 4,
 "nbformat_minor": 5
}
