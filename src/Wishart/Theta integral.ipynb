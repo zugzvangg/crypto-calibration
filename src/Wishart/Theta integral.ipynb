{
 "cells": [
  {
   "cell_type": "code",
   "execution_count": 1,
   "id": "a3fdf94d",
   "metadata": {},
   "outputs": [],
   "source": [
    "import sympy as sym\n",
    "from scipy.integrate import quad\n",
    "import numpy as np"
   ]
  },
  {
   "cell_type": "code",
   "execution_count": 80,
   "id": "83073555",
   "metadata": {},
   "outputs": [
    {
     "data": {
      "text/latex": [
       "$\\displaystyle \\left[\\begin{matrix}\\left(Q_{11} \\left(Q_{11} e^{M_{11} u} + Q_{12} e^{M_{12} u}\\right) + Q_{21} \\left(Q_{21} e^{M_{11} u} + Q_{22} e^{M_{12} u}\\right)\\right) e^{M_{11} u} + \\left(Q_{12} \\left(Q_{11} e^{M_{11} u} + Q_{12} e^{M_{12} u}\\right) + Q_{22} \\left(Q_{21} e^{M_{11} u} + Q_{22} e^{M_{12} u}\\right)\\right) e^{M_{12} u} & \\left(Q_{11} \\left(Q_{11} e^{M_{11} u} + Q_{12} e^{M_{12} u}\\right) + Q_{21} \\left(Q_{21} e^{M_{11} u} + Q_{22} e^{M_{12} u}\\right)\\right) e^{M_{21} u} + \\left(Q_{12} \\left(Q_{11} e^{M_{11} u} + Q_{12} e^{M_{12} u}\\right) + Q_{22} \\left(Q_{21} e^{M_{11} u} + Q_{22} e^{M_{12} u}\\right)\\right) e^{M_{22} u}\\\\\\left(Q_{11} \\left(Q_{11} e^{M_{21} u} + Q_{12} e^{M_{22} u}\\right) + Q_{21} \\left(Q_{21} e^{M_{21} u} + Q_{22} e^{M_{22} u}\\right)\\right) e^{M_{11} u} + \\left(Q_{12} \\left(Q_{11} e^{M_{21} u} + Q_{12} e^{M_{22} u}\\right) + Q_{22} \\left(Q_{21} e^{M_{21} u} + Q_{22} e^{M_{22} u}\\right)\\right) e^{M_{12} u} & \\left(Q_{11} \\left(Q_{11} e^{M_{21} u} + Q_{12} e^{M_{22} u}\\right) + Q_{21} \\left(Q_{21} e^{M_{21} u} + Q_{22} e^{M_{22} u}\\right)\\right) e^{M_{21} u} + \\left(Q_{12} \\left(Q_{11} e^{M_{21} u} + Q_{12} e^{M_{22} u}\\right) + Q_{22} \\left(Q_{21} e^{M_{21} u} + Q_{22} e^{M_{22} u}\\right)\\right) e^{M_{22} u}\\end{matrix}\\right]$"
      ],
      "text/plain": [
       "Matrix([\n",
       "[(Q11*(Q11*exp(M11*u) + Q12*exp(M12*u)) + Q21*(Q21*exp(M11*u) + Q22*exp(M12*u)))*exp(M11*u) + (Q12*(Q11*exp(M11*u) + Q12*exp(M12*u)) + Q22*(Q21*exp(M11*u) + Q22*exp(M12*u)))*exp(M12*u), (Q11*(Q11*exp(M11*u) + Q12*exp(M12*u)) + Q21*(Q21*exp(M11*u) + Q22*exp(M12*u)))*exp(M21*u) + (Q12*(Q11*exp(M11*u) + Q12*exp(M12*u)) + Q22*(Q21*exp(M11*u) + Q22*exp(M12*u)))*exp(M22*u)],\n",
       "[(Q11*(Q11*exp(M21*u) + Q12*exp(M22*u)) + Q21*(Q21*exp(M21*u) + Q22*exp(M22*u)))*exp(M11*u) + (Q12*(Q11*exp(M21*u) + Q12*exp(M22*u)) + Q22*(Q21*exp(M21*u) + Q22*exp(M22*u)))*exp(M12*u), (Q11*(Q11*exp(M21*u) + Q12*exp(M22*u)) + Q21*(Q21*exp(M21*u) + Q22*exp(M22*u)))*exp(M21*u) + (Q12*(Q11*exp(M21*u) + Q12*exp(M22*u)) + Q22*(Q21*exp(M21*u) + Q22*exp(M22*u)))*exp(M22*u)]])"
      ]
     },
     "execution_count": 80,
     "metadata": {},
     "output_type": "execute_result"
    }
   ],
   "source": [
    "q11, q12, q21, q22 = sym.symbols(\"Q11, Q12, Q21, Q22\")\n",
    "m11, m12, m21, m22, u, tau = sym.symbols(\"M11, M12, M21, M22, u, \\tau\")\n",
    "Q = sym.Matrix([[q11, q12], [q21, q22]])\n",
    "M = sym.Matrix([[m11, m12], [m21, m22]])\n",
    "M_exp = (M*u).applyfunc(sym.exp)\n",
    "res = sym.simplify(M_exp@Q.T@Q@M_exp.T)\n",
    "# res = sym.simplify(sym.Matrix([[u*m11, u*m12], [u*m22, u*m21]])*Q.T*Q*sym.Matrix([[u*m11, u*m21], [u*m22, u*m12]]))\n",
    "# integral1 = sym.simplify(sym.integrate(res, (u, 0, tau)))\n",
    "res"
   ]
  },
  {
   "cell_type": "code",
   "execution_count": 90,
   "id": "6664c96f",
   "metadata": {},
   "outputs": [
    {
     "ename": "NameError",
     "evalue": "name 'exp' is not defined",
     "output_type": "error",
     "traceback": [
      "\u001b[0;31m---------------------------------------------------------------------------\u001b[0m",
      "\u001b[0;31mNameError\u001b[0m                                 Traceback (most recent call last)",
      "Cell \u001b[0;32mIn [90], line 1\u001b[0m\n\u001b[0;32m----> 1\u001b[0m \u001b[43mexp\u001b[49m(\u001b[38;5;241m1\u001b[39m)\n",
      "\u001b[0;31mNameError\u001b[0m: name 'exp' is not defined"
     ]
    }
   ],
   "source": [
    "exp(1)"
   ]
  },
  {
   "cell_type": "code",
   "execution_count": 97,
   "id": "14a59a3e",
   "metadata": {},
   "outputs": [],
   "source": [
    "M = np.array([[1, 1], [2, 2]])\n",
    "Q = np.array([[3, 3], [4, 4]])\n",
    "Q11, Q12, Q21, Q22 = Q[0][0], Q[0][1], Q[1][0], Q[1][1]\n",
    "M11, M12, M21, M22 = M[0][0], M[0][1], M[1][0], M[1][1]\n",
    "\n",
    "def M11_calc(u):\n",
    "    return (Q11*(Q11*np.exp(M11*u) + Q12*np.exp(M12*u)) + Q21*(Q21*np.exp(M11*u) + Q22*np.exp(M12*u)))*np.exp(M11*u) + (Q12*(Q11*np.exp(M11*u) + Q12*np.exp(M12*u)) + Q22*(Q21*np.exp(M11*u) + Q22*np.exp(M12*u)))*np.exp(M12*u)\n",
    "\n",
    "def M12_calc(u):\n",
    "    return (Q11*(Q11*np.exp(M11*u) + Q12*np.exp(M12*u)) + Q21*(Q21*np.exp(M11*u) + Q22*np.exp(M12*u)))*np.exp(M21*u) + (Q12*(Q11*np.exp(M11*u) + Q12*np.exp(M12*u)) + Q22*(Q21*np.exp(M11*u) + Q22*np.exp(M12*u)))*np.exp(M22*u)\n",
    "\n",
    "def M21_calc(u):\n",
    "    return (Q11*(Q11*np.exp(M21*u) + Q12*np.exp(M22*u)) + Q21*(Q21*np.exp(M21*u) + Q22*np.exp(M22*u)))*np.exp(M11*u) + (Q12*(Q11*np.exp(M21*u) + Q12*np.exp(M22*u)) + Q22*(Q21*np.exp(M21*u) + Q22*np.exp(M22*u)))*np.exp(M12*u)\n",
    "\n",
    "def M22_calc(u):\n",
    "    return (Q11*(Q11*np.exp(M21*u) + Q12*np.exp(M22*u)) + Q21*(Q21*np.exp(M21*u) + Q22*np.exp(M22*u)))*np.exp(M21*u) + (Q12*(Q11*np.exp(M21*u) + Q12*np.exp(M22*u)) + Q22*(Q21*np.exp(M21*u) + Q22*np.exp(M22*u)))*np.exp(M22*u)\n",
    "\n"
   ]
  },
  {
   "cell_type": "code",
   "execution_count": 102,
   "id": "4f99ae60",
   "metadata": {},
   "outputs": [
    {
     "data": {
      "text/plain": [
       "(0.01000100006667, 1.110334054329476e-16)"
      ]
     },
     "execution_count": 102,
     "metadata": {},
     "output_type": "execute_result"
    }
   ],
   "source": [
    "quad(M11_calc, 0, tau,)\n"
   ]
  },
  {
   "cell_type": "code",
   "execution_count": 100,
   "id": "9cf1fa43",
   "metadata": {},
   "outputs": [
    {
     "data": {
      "text/plain": [
       "(0.01000150015001125, 1.1103895747334446e-16)"
      ]
     },
     "execution_count": 100,
     "metadata": {},
     "output_type": "execute_result"
    }
   ],
   "source": [
    "tau = 0.0001\n",
    "quad(M12_calc, 0, tau,)\n"
   ]
  },
  {
   "cell_type": "code",
   "execution_count": null,
   "id": "83920649",
   "metadata": {},
   "outputs": [],
   "source": []
  },
  {
   "cell_type": "code",
   "execution_count": null,
   "id": "4c339914",
   "metadata": {},
   "outputs": [],
   "source": []
  }
 ],
 "metadata": {
  "kernelspec": {
   "display_name": "Python 3 (ipykernel)",
   "language": "python",
   "name": "python3"
  },
  "language_info": {
   "codemirror_mode": {
    "name": "ipython",
    "version": 3
   },
   "file_extension": ".py",
   "mimetype": "text/x-python",
   "name": "python",
   "nbconvert_exporter": "python",
   "pygments_lexer": "ipython3",
   "version": "3.8.13"
  }
 },
 "nbformat": 4,
 "nbformat_minor": 5
}
