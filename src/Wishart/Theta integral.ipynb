{
 "cells": [
  {
   "cell_type": "code",
   "execution_count": 1,
   "id": "befc787d",
   "metadata": {},
   "outputs": [],
   "source": [
    "import sympy as sym"
   ]
  },
  {
   "cell_type": "code",
   "execution_count": 77,
   "id": "f9567d4d",
   "metadata": {},
   "outputs": [],
   "source": [
    "q11, q12, q21, q22 = sym.symbols(\"Q11, Q12, Q21, Q22\")\n",
    "m11, m12, m21, m22, u, tau = sym.symbols(\"M11, M12, M21, M22, u, \\tau\")\n",
    "Q = sym.Matrix([[q11, q12], [q21, q22]])\n",
    "M = sym.Matrix([[m11, m12], [m21, m22]])\n",
    "M_exp = (M*u).applyfunc(sym.exp)\n",
    "res = sym.simplify(M_exp@Q.T@Q@M_exp.T)\n",
    "# res = sym.simplify(sym.Matrix([[u*m11, u*m12], [u*m22, u*m21]])*Q.T*Q*sym.Matrix([[u*m11, u*m21], [u*m22, u*m12]]))\n",
    "# integral1 = sym.simplify(sym.integrate(res, (u, 0, tau)))\n"
   ]
  },
  {
   "cell_type": "code",
   "execution_count": 78,
   "id": "9479592b",
   "metadata": {},
   "outputs": [
    {
     "data": {
      "text/latex": [
       "$\\displaystyle \\left[\\begin{matrix}\\left(Q_{11} \\left(Q_{11} e^{M_{11} u} + Q_{12} e^{M_{12} u}\\right) + Q_{21} \\left(Q_{21} e^{M_{11} u} + Q_{22} e^{M_{12} u}\\right)\\right) e^{M_{11} u} + \\left(Q_{12} \\left(Q_{11} e^{M_{11} u} + Q_{12} e^{M_{12} u}\\right) + Q_{22} \\left(Q_{21} e^{M_{11} u} + Q_{22} e^{M_{12} u}\\right)\\right) e^{M_{12} u} & \\left(Q_{11} \\left(Q_{11} e^{M_{11} u} + Q_{12} e^{M_{12} u}\\right) + Q_{21} \\left(Q_{21} e^{M_{11} u} + Q_{22} e^{M_{12} u}\\right)\\right) e^{M_{21} u} + \\left(Q_{12} \\left(Q_{11} e^{M_{11} u} + Q_{12} e^{M_{12} u}\\right) + Q_{22} \\left(Q_{21} e^{M_{11} u} + Q_{22} e^{M_{12} u}\\right)\\right) e^{M_{22} u}\\\\\\left(Q_{11} \\left(Q_{11} e^{M_{21} u} + Q_{12} e^{M_{22} u}\\right) + Q_{21} \\left(Q_{21} e^{M_{21} u} + Q_{22} e^{M_{22} u}\\right)\\right) e^{M_{11} u} + \\left(Q_{12} \\left(Q_{11} e^{M_{21} u} + Q_{12} e^{M_{22} u}\\right) + Q_{22} \\left(Q_{21} e^{M_{21} u} + Q_{22} e^{M_{22} u}\\right)\\right) e^{M_{12} u} & \\left(Q_{11} \\left(Q_{11} e^{M_{21} u} + Q_{12} e^{M_{22} u}\\right) + Q_{21} \\left(Q_{21} e^{M_{21} u} + Q_{22} e^{M_{22} u}\\right)\\right) e^{M_{21} u} + \\left(Q_{12} \\left(Q_{11} e^{M_{21} u} + Q_{12} e^{M_{22} u}\\right) + Q_{22} \\left(Q_{21} e^{M_{21} u} + Q_{22} e^{M_{22} u}\\right)\\right) e^{M_{22} u}\\end{matrix}\\right]$"
      ],
      "text/plain": [
       "Matrix([\n",
       "[(Q11*(Q11*exp(M11*u) + Q12*exp(M12*u)) + Q21*(Q21*exp(M11*u) + Q22*exp(M12*u)))*exp(M11*u) + (Q12*(Q11*exp(M11*u) + Q12*exp(M12*u)) + Q22*(Q21*exp(M11*u) + Q22*exp(M12*u)))*exp(M12*u), (Q11*(Q11*exp(M11*u) + Q12*exp(M12*u)) + Q21*(Q21*exp(M11*u) + Q22*exp(M12*u)))*exp(M21*u) + (Q12*(Q11*exp(M11*u) + Q12*exp(M12*u)) + Q22*(Q21*exp(M11*u) + Q22*exp(M12*u)))*exp(M22*u)],\n",
       "[(Q11*(Q11*exp(M21*u) + Q12*exp(M22*u)) + Q21*(Q21*exp(M21*u) + Q22*exp(M22*u)))*exp(M11*u) + (Q12*(Q11*exp(M21*u) + Q12*exp(M22*u)) + Q22*(Q21*exp(M21*u) + Q22*exp(M22*u)))*exp(M12*u), (Q11*(Q11*exp(M21*u) + Q12*exp(M22*u)) + Q21*(Q21*exp(M21*u) + Q22*exp(M22*u)))*exp(M21*u) + (Q12*(Q11*exp(M21*u) + Q12*exp(M22*u)) + Q22*(Q21*exp(M21*u) + Q22*exp(M22*u)))*exp(M22*u)]])"
      ]
     },
     "execution_count": 78,
     "metadata": {},
     "output_type": "execute_result"
    }
   ],
   "source": [
    "res"
   ]
  },
  {
   "cell_type": "code",
   "execution_count": 75,
   "id": "65416d97",
   "metadata": {},
   "outputs": [
    {
     "data": {
      "text/latex": [
       "$\\displaystyle \\left[\\begin{matrix}\\left(Q_{11} \\left(Q_{11} e^{M_{11} u} + Q_{12} e^{M_{12} u}\\right) + Q_{21} \\left(Q_{21} e^{M_{11} u} + Q_{22} e^{M_{12} u}\\right)\\right) e^{M_{11} u} + \\left(Q_{12} \\left(Q_{11} e^{M_{11} u} + Q_{12} e^{M_{12} u}\\right) + Q_{22} \\left(Q_{21} e^{M_{11} u} + Q_{22} e^{M_{12} u}\\right)\\right) e^{M_{12} u} & \\left(Q_{11} \\left(Q_{11} e^{M_{11} u} + Q_{12} e^{M_{12} u}\\right) + Q_{21} \\left(Q_{21} e^{M_{11} u} + Q_{22} e^{M_{12} u}\\right)\\right) e^{M_{21} u} + \\left(Q_{12} \\left(Q_{11} e^{M_{11} u} + Q_{12} e^{M_{12} u}\\right) + Q_{22} \\left(Q_{21} e^{M_{11} u} + Q_{22} e^{M_{12} u}\\right)\\right) e^{M_{22} u}\\\\\\left(Q_{11} \\left(Q_{11} e^{M_{21} u} + Q_{12} e^{M_{22} u}\\right) + Q_{21} \\left(Q_{21} e^{M_{21} u} + Q_{22} e^{M_{22} u}\\right)\\right) e^{M_{11} u} + \\left(Q_{12} \\left(Q_{11} e^{M_{21} u} + Q_{12} e^{M_{22} u}\\right) + Q_{22} \\left(Q_{21} e^{M_{21} u} + Q_{22} e^{M_{22} u}\\right)\\right) e^{M_{12} u} & \\left(Q_{11} \\left(Q_{11} e^{M_{21} u} + Q_{12} e^{M_{22} u}\\right) + Q_{21} \\left(Q_{21} e^{M_{21} u} + Q_{22} e^{M_{22} u}\\right)\\right) e^{M_{21} u} + \\left(Q_{12} \\left(Q_{11} e^{M_{21} u} + Q_{12} e^{M_{22} u}\\right) + Q_{22} \\left(Q_{21} e^{M_{21} u} + Q_{22} e^{M_{22} u}\\right)\\right) e^{M_{22} u}\\end{matrix}\\right]$"
      ],
      "text/plain": [
       "Matrix([\n",
       "[(Q11*(Q11*exp(M11*u) + Q12*exp(M12*u)) + Q21*(Q21*exp(M11*u) + Q22*exp(M12*u)))*exp(M11*u) + (Q12*(Q11*exp(M11*u) + Q12*exp(M12*u)) + Q22*(Q21*exp(M11*u) + Q22*exp(M12*u)))*exp(M12*u), (Q11*(Q11*exp(M11*u) + Q12*exp(M12*u)) + Q21*(Q21*exp(M11*u) + Q22*exp(M12*u)))*exp(M21*u) + (Q12*(Q11*exp(M11*u) + Q12*exp(M12*u)) + Q22*(Q21*exp(M11*u) + Q22*exp(M12*u)))*exp(M22*u)],\n",
       "[(Q11*(Q11*exp(M21*u) + Q12*exp(M22*u)) + Q21*(Q21*exp(M21*u) + Q22*exp(M22*u)))*exp(M11*u) + (Q12*(Q11*exp(M21*u) + Q12*exp(M22*u)) + Q22*(Q21*exp(M21*u) + Q22*exp(M22*u)))*exp(M12*u), (Q11*(Q11*exp(M21*u) + Q12*exp(M22*u)) + Q21*(Q21*exp(M21*u) + Q22*exp(M22*u)))*exp(M21*u) + (Q12*(Q11*exp(M21*u) + Q12*exp(M22*u)) + Q22*(Q21*exp(M21*u) + Q22*exp(M22*u)))*exp(M22*u)]])"
      ]
     },
     "execution_count": 75,
     "metadata": {},
     "output_type": "execute_result"
    }
   ],
   "source": [
    "sym.simplify(res)"
   ]
  }
 ],
 "metadata": {
  "kernelspec": {
   "display_name": "Python 3 (ipykernel)",
   "language": "python",
   "name": "python3"
  },
  "language_info": {
   "codemirror_mode": {
    "name": "ipython",
    "version": 3
   },
   "file_extension": ".py",
   "mimetype": "text/x-python",
   "name": "python",
   "nbconvert_exporter": "python",
   "pygments_lexer": "ipython3",
   "version": "3.8.13"
  }
 },
 "nbformat": 4,
 "nbformat_minor": 5
}
