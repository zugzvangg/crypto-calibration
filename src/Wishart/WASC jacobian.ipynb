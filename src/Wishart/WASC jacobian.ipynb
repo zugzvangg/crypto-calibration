{
 "cells": [
  {
   "cell_type": "markdown",
   "id": "b701329b",
   "metadata": {},
   "source": [
    "# WASC jacobian"
   ]
  },
  {
   "cell_type": "code",
   "execution_count": 3,
   "id": "b3f4ab98",
   "metadata": {},
   "outputs": [],
   "source": [
    "import sympy as sym"
   ]
  },
  {
   "cell_type": "code",
   "execution_count": 57,
   "id": "6424d611",
   "metadata": {},
   "outputs": [],
   "source": [
    "r11, r12, r21, r22 = sym.symbols(\"R11, R12, R21, R22\")\n",
    "q11, q12, q21, q22 = sym.symbols(\"Q11, Q12, Q21, Q22\")\n",
    "e11, ed,  e22 = sym.symbols(\"E11, Ed, E22\")\n",
    "R = sym.Matrix([[r11, r12], [r21, r22]])\n",
    "Q = sym.Matrix([[q11, q12], [q21, q22]])\n",
    "E = sym.Matrix([[e11, ed], [ed, e22]])\n",
    "mf = sym.symbols(\"mf\")\n",
    "trace_E = sym.trace(E)\n",
    "trace_RQE = sym.trace(R*Q*E)\n",
    "\n",
    "\n"
   ]
  },
  {
   "cell_type": "code",
   "execution_count": 58,
   "id": "359dc0ec",
   "metadata": {},
   "outputs": [
    {
     "data": {
      "text/latex": [
       "$\\displaystyle E_{11} + E_{22} + \\frac{mf^{2} \\left(\\frac{E_{11} \\left(Q_{11}^{2} + Q_{21}^{2}\\right)}{3} + \\frac{E_{11} \\left(\\left(Q_{11} R_{11} + Q_{21} R_{12}\\right) \\left(2 Q_{11} R_{11} + 2 Q_{21} R_{12}\\right) + \\left(Q_{12} R_{11} + Q_{22} R_{12}\\right) \\left(Q_{11} R_{21} + Q_{12} R_{11} + Q_{21} R_{22} + Q_{22} R_{12}\\right)\\right)}{3} + \\frac{E_{22} \\left(Q_{12}^{2} + Q_{22}^{2}\\right)}{3} + \\frac{E_{22} \\left(\\left(Q_{11} R_{21} + Q_{21} R_{22}\\right) \\left(Q_{11} R_{21} + Q_{12} R_{11} + Q_{21} R_{22} + Q_{22} R_{12}\\right) + \\left(Q_{12} R_{21} + Q_{22} R_{22}\\right) \\left(2 Q_{12} R_{21} + 2 Q_{22} R_{22}\\right)\\right)}{3} + \\frac{2 Ed \\left(Q_{11} Q_{12} + Q_{21} Q_{22}\\right)}{3} + \\frac{Ed \\left(\\left(Q_{11} R_{11} + Q_{21} R_{12}\\right) \\left(Q_{11} R_{21} + Q_{12} R_{11} + Q_{21} R_{22} + Q_{22} R_{12}\\right) + \\left(Q_{12} R_{11} + Q_{22} R_{12}\\right) \\left(2 Q_{12} R_{21} + 2 Q_{22} R_{22}\\right)\\right)}{3} + \\frac{Ed \\left(\\left(2 Q_{11} R_{11} + 2 Q_{21} R_{12}\\right) \\left(Q_{11} R_{21} + Q_{21} R_{22}\\right) + \\left(Q_{12} R_{21} + Q_{22} R_{22}\\right) \\left(Q_{11} R_{21} + Q_{12} R_{11} + Q_{21} R_{22} + Q_{22} R_{12}\\right)\\right)}{3} - \\frac{1.25 \\left(E_{11} \\left(Q_{11} R_{11} + Q_{21} R_{12}\\right) + E_{22} \\left(Q_{12} R_{21} + Q_{22} R_{22}\\right) + Ed \\left(Q_{11} R_{21} + Q_{21} R_{22}\\right) + Ed \\left(Q_{12} R_{11} + Q_{22} R_{12}\\right)\\right)^{2}}{E_{11} + E_{22}}\\right)}{\\left(E_{11} + E_{22}\\right)^{2}} + \\frac{mf \\left(E_{11} \\left(Q_{11} R_{11} + Q_{21} R_{12}\\right) + E_{22} \\left(Q_{12} R_{21} + Q_{22} R_{22}\\right) + Ed \\left(Q_{11} R_{21} + Q_{21} R_{22}\\right) + Ed \\left(Q_{12} R_{11} + Q_{22} R_{12}\\right)\\right)}{E_{11} + E_{22}}$"
      ],
      "text/plain": [
       "E11 + E22 + mf**2*(E11*(Q11**2 + Q21**2)/3 + E11*((Q11*R11 + Q21*R12)*(2*Q11*R11 + 2*Q21*R12) + (Q12*R11 + Q22*R12)*(Q11*R21 + Q12*R11 + Q21*R22 + Q22*R12))/3 + E22*(Q12**2 + Q22**2)/3 + E22*((Q11*R21 + Q21*R22)*(Q11*R21 + Q12*R11 + Q21*R22 + Q22*R12) + (Q12*R21 + Q22*R22)*(2*Q12*R21 + 2*Q22*R22))/3 + 2*Ed*(Q11*Q12 + Q21*Q22)/3 + Ed*((Q11*R11 + Q21*R12)*(Q11*R21 + Q12*R11 + Q21*R22 + Q22*R12) + (Q12*R11 + Q22*R12)*(2*Q12*R21 + 2*Q22*R22))/3 + Ed*((2*Q11*R11 + 2*Q21*R12)*(Q11*R21 + Q21*R22) + (Q12*R21 + Q22*R22)*(Q11*R21 + Q12*R11 + Q21*R22 + Q22*R12))/3 - 1.25*(E11*(Q11*R11 + Q21*R12) + E22*(Q12*R21 + Q22*R22) + Ed*(Q11*R21 + Q21*R22) + Ed*(Q12*R11 + Q22*R12))**2/(E11 + E22))/(E11 + E22)**2 + mf*(E11*(Q11*R11 + Q21*R12) + E22*(Q12*R21 + Q22*R22) + Ed*(Q11*R21 + Q21*R22) + Ed*(Q12*R11 + Q22*R12))/(E11 + E22)"
      ]
     },
     "execution_count": 58,
     "metadata": {},
     "output_type": "execute_result"
    }
   ],
   "source": [
    "iv_sqrt = trace_E + mf*trace_RQE/trace_E + mf**2/trace_E**2*(\n",
    "sym.trace(Q.T*Q*E)/3 + sym.trace(R*Q*(Q.T*R.T + R*Q)*E)/3 - 5/4*trace_RQE**2/trace_E)\n",
    "\n",
    "iv_sqrt"
   ]
  },
  {
   "cell_type": "code",
   "execution_count": 59,
   "id": "cba50763",
   "metadata": {},
   "outputs": [
    {
     "data": {
      "text/latex": [
       "$\\displaystyle \\frac{\\frac{mf^{2} \\left(\\left(E_{11} + E_{22}\\right) \\left(E_{11} \\left(Q_{11}^{2} + Q_{21}^{2}\\right) + E_{11} \\cdot \\left(2 \\left(Q_{11} R_{11} + Q_{21} R_{12}\\right)^{2} + \\left(Q_{12} R_{11} + Q_{22} R_{12}\\right) \\left(Q_{11} R_{21} + Q_{12} R_{11} + Q_{21} R_{22} + Q_{22} R_{12}\\right)\\right) + E_{22} \\left(Q_{12}^{2} + Q_{22}^{2}\\right) + E_{22} \\left(\\left(Q_{11} R_{21} + Q_{21} R_{22}\\right) \\left(Q_{11} R_{21} + Q_{12} R_{11} + Q_{21} R_{22} + Q_{22} R_{12}\\right) + 2 \\left(Q_{12} R_{21} + Q_{22} R_{22}\\right)^{2}\\right) + 2 Ed \\left(Q_{11} Q_{12} + Q_{21} Q_{22}\\right) + Ed \\left(2 \\left(Q_{11} R_{11} + Q_{21} R_{12}\\right) \\left(Q_{11} R_{21} + Q_{21} R_{22}\\right) + \\left(Q_{12} R_{21} + Q_{22} R_{22}\\right) \\left(Q_{11} R_{21} + Q_{12} R_{11} + Q_{21} R_{22} + Q_{22} R_{12}\\right)\\right) + Ed \\left(\\left(Q_{11} R_{11} + Q_{21} R_{12}\\right) \\left(Q_{11} R_{21} + Q_{12} R_{11} + Q_{21} R_{22} + Q_{22} R_{12}\\right) + 2 \\left(Q_{12} R_{11} + Q_{22} R_{12}\\right) \\left(Q_{12} R_{21} + Q_{22} R_{22}\\right)\\right)\\right) - 3.75 \\left(E_{11} \\left(Q_{11} R_{11} + Q_{21} R_{12}\\right) + E_{22} \\left(Q_{12} R_{21} + Q_{22} R_{22}\\right) + Ed \\left(Q_{11} R_{21} + Q_{21} R_{22}\\right) + Ed \\left(Q_{12} R_{11} + Q_{22} R_{12}\\right)\\right)^{2}\\right)}{3} + mf \\left(E_{11} + E_{22}\\right)^{2} \\left(E_{11} \\left(Q_{11} R_{11} + Q_{21} R_{12}\\right) + E_{22} \\left(Q_{12} R_{21} + Q_{22} R_{22}\\right) + Ed \\left(Q_{11} R_{21} + Q_{21} R_{22}\\right) + Ed \\left(Q_{12} R_{11} + Q_{22} R_{12}\\right)\\right) + \\left(E_{11} + E_{22}\\right)^{4}}{\\left(E_{11} + E_{22}\\right)^{3}}$"
      ],
      "text/plain": [
       "(mf**2*((E11 + E22)*(E11*(Q11**2 + Q21**2) + E11*(2*(Q11*R11 + Q21*R12)**2 + (Q12*R11 + Q22*R12)*(Q11*R21 + Q12*R11 + Q21*R22 + Q22*R12)) + E22*(Q12**2 + Q22**2) + E22*((Q11*R21 + Q21*R22)*(Q11*R21 + Q12*R11 + Q21*R22 + Q22*R12) + 2*(Q12*R21 + Q22*R22)**2) + 2*Ed*(Q11*Q12 + Q21*Q22) + Ed*(2*(Q11*R11 + Q21*R12)*(Q11*R21 + Q21*R22) + (Q12*R21 + Q22*R22)*(Q11*R21 + Q12*R11 + Q21*R22 + Q22*R12)) + Ed*((Q11*R11 + Q21*R12)*(Q11*R21 + Q12*R11 + Q21*R22 + Q22*R12) + 2*(Q12*R11 + Q22*R12)*(Q12*R21 + Q22*R22))) - 3.75*(E11*(Q11*R11 + Q21*R12) + E22*(Q12*R21 + Q22*R22) + Ed*(Q11*R21 + Q21*R22) + Ed*(Q12*R11 + Q22*R12))**2)/3 + mf*(E11 + E22)**2*(E11*(Q11*R11 + Q21*R12) + E22*(Q12*R21 + Q22*R22) + Ed*(Q11*R21 + Q21*R22) + Ed*(Q12*R11 + Q22*R12)) + (E11 + E22)**4)/(E11 + E22)**3"
      ]
     },
     "execution_count": 59,
     "metadata": {},
     "output_type": "execute_result"
    }
   ],
   "source": [
    "sym.simplify(iv_sqrt)"
   ]
  },
  {
   "cell_type": "code",
   "execution_count": 61,
   "id": "f4106181",
   "metadata": {},
   "outputs": [],
   "source": [
    "dQ = sym.simplify(iv_sqrt.diff(Q))\n",
    "dE = sym.simplify(iv_sqrt.diff(E))\n",
    "dR = sym.simplify(iv_sqrt.diff(R))"
   ]
  },
  {
   "cell_type": "code",
   "execution_count": 63,
   "id": "0873b026",
   "metadata": {},
   "outputs": [
    {
     "data": {
      "text/latex": [
       "$\\displaystyle \\left[\\begin{matrix}\\frac{mf \\left(mf \\left(\\left(E_{11} + E_{22}\\right) \\left(E_{11} \\cdot \\left(4 Q_{11} \\left(Q_{11} R_{11} + Q_{21} R_{12}\\right) + Q_{12} \\left(Q_{12} R_{11} + Q_{22} R_{12}\\right) + Q_{12} \\left(Q_{11} R_{21} + Q_{12} R_{11} + Q_{21} R_{22} + Q_{22} R_{12}\\right)\\right) + E_{22} Q_{12} \\left(Q_{11} R_{21} + Q_{21} R_{22}\\right) + Ed \\left(2 Q_{11} \\left(Q_{11} R_{21} + Q_{21} R_{22}\\right) + Q_{12} \\left(Q_{12} R_{21} + Q_{22} R_{22}\\right)\\right) + Ed \\left(Q_{11} \\left(Q_{11} R_{21} + Q_{12} R_{11} + Q_{21} R_{22} + Q_{22} R_{12}\\right) + Q_{12} \\left(Q_{11} R_{11} + Q_{21} R_{12}\\right) + 2 Q_{12} \\left(Q_{12} R_{21} + Q_{22} R_{22}\\right)\\right)\\right) - 7.5 \\left(E_{11} Q_{11} + Ed Q_{12}\\right) \\left(E_{11} \\left(Q_{11} R_{11} + Q_{21} R_{12}\\right) + E_{22} \\left(Q_{12} R_{21} + Q_{22} R_{22}\\right) + Ed \\left(Q_{11} R_{21} + Q_{21} R_{22}\\right) + Ed \\left(Q_{12} R_{11} + Q_{22} R_{12}\\right)\\right)\\right) + 3 \\left(E_{11} + E_{22}\\right)^{2} \\left(E_{11} Q_{11} + Ed Q_{12}\\right)\\right)}{3 \\left(E_{11} + E_{22}\\right)^{3}} & \\frac{mf \\left(mf \\left(\\left(E_{11} + E_{22}\\right) \\left(E_{11} \\cdot \\left(4 Q_{21} \\left(Q_{11} R_{11} + Q_{21} R_{12}\\right) + Q_{22} \\left(Q_{12} R_{11} + Q_{22} R_{12}\\right) + Q_{22} \\left(Q_{11} R_{21} + Q_{12} R_{11} + Q_{21} R_{22} + Q_{22} R_{12}\\right)\\right) + E_{22} Q_{22} \\left(Q_{11} R_{21} + Q_{21} R_{22}\\right) + Ed \\left(2 Q_{21} \\left(Q_{11} R_{21} + Q_{21} R_{22}\\right) + Q_{22} \\left(Q_{12} R_{21} + Q_{22} R_{22}\\right)\\right) + Ed \\left(Q_{21} \\left(Q_{11} R_{21} + Q_{12} R_{11} + Q_{21} R_{22} + Q_{22} R_{12}\\right) + Q_{22} \\left(Q_{11} R_{11} + Q_{21} R_{12}\\right) + 2 Q_{22} \\left(Q_{12} R_{21} + Q_{22} R_{22}\\right)\\right)\\right) - 7.5 \\left(E_{11} Q_{21} + Ed Q_{22}\\right) \\left(E_{11} \\left(Q_{11} R_{11} + Q_{21} R_{12}\\right) + E_{22} \\left(Q_{12} R_{21} + Q_{22} R_{22}\\right) + Ed \\left(Q_{11} R_{21} + Q_{21} R_{22}\\right) + Ed \\left(Q_{12} R_{11} + Q_{22} R_{12}\\right)\\right)\\right) + 3 \\left(E_{11} + E_{22}\\right)^{2} \\left(E_{11} Q_{21} + Ed Q_{22}\\right)\\right)}{3 \\left(E_{11} + E_{22}\\right)^{3}}\\\\\\frac{mf \\left(mf \\left(\\left(E_{11} + E_{22}\\right) \\left(E_{11} Q_{11} \\left(Q_{12} R_{11} + Q_{22} R_{12}\\right) + E_{22} \\left(Q_{11} \\left(Q_{11} R_{21} + Q_{21} R_{22}\\right) + Q_{11} \\left(Q_{11} R_{21} + Q_{12} R_{11} + Q_{21} R_{22} + Q_{22} R_{12}\\right) + 4 Q_{12} \\left(Q_{12} R_{21} + Q_{22} R_{22}\\right)\\right) + Ed \\left(Q_{11} \\left(Q_{11} R_{11} + Q_{21} R_{12}\\right) + 2 Q_{12} \\left(Q_{12} R_{11} + Q_{22} R_{12}\\right)\\right) + Ed \\left(2 Q_{11} \\left(Q_{11} R_{11} + Q_{21} R_{12}\\right) + Q_{11} \\left(Q_{12} R_{21} + Q_{22} R_{22}\\right) + Q_{12} \\left(Q_{11} R_{21} + Q_{12} R_{11} + Q_{21} R_{22} + Q_{22} R_{12}\\right)\\right)\\right) - 7.5 \\left(E_{22} Q_{12} + Ed Q_{11}\\right) \\left(E_{11} \\left(Q_{11} R_{11} + Q_{21} R_{12}\\right) + E_{22} \\left(Q_{12} R_{21} + Q_{22} R_{22}\\right) + Ed \\left(Q_{11} R_{21} + Q_{21} R_{22}\\right) + Ed \\left(Q_{12} R_{11} + Q_{22} R_{12}\\right)\\right)\\right) + 3 \\left(E_{11} + E_{22}\\right)^{2} \\left(E_{22} Q_{12} + Ed Q_{11}\\right)\\right)}{3 \\left(E_{11} + E_{22}\\right)^{3}} & \\frac{mf \\left(mf \\left(\\left(E_{11} + E_{22}\\right) \\left(E_{11} Q_{21} \\left(Q_{12} R_{11} + Q_{22} R_{12}\\right) + E_{22} \\left(Q_{21} \\left(Q_{11} R_{21} + Q_{21} R_{22}\\right) + Q_{21} \\left(Q_{11} R_{21} + Q_{12} R_{11} + Q_{21} R_{22} + Q_{22} R_{12}\\right) + 4 Q_{22} \\left(Q_{12} R_{21} + Q_{22} R_{22}\\right)\\right) + Ed \\left(Q_{21} \\left(Q_{11} R_{11} + Q_{21} R_{12}\\right) + 2 Q_{22} \\left(Q_{12} R_{11} + Q_{22} R_{12}\\right)\\right) + Ed \\left(2 Q_{21} \\left(Q_{11} R_{11} + Q_{21} R_{12}\\right) + Q_{21} \\left(Q_{12} R_{21} + Q_{22} R_{22}\\right) + Q_{22} \\left(Q_{11} R_{21} + Q_{12} R_{11} + Q_{21} R_{22} + Q_{22} R_{12}\\right)\\right)\\right) - 7.5 \\left(E_{22} Q_{22} + Ed Q_{21}\\right) \\left(E_{11} \\left(Q_{11} R_{11} + Q_{21} R_{12}\\right) + E_{22} \\left(Q_{12} R_{21} + Q_{22} R_{22}\\right) + Ed \\left(Q_{11} R_{21} + Q_{21} R_{22}\\right) + Ed \\left(Q_{12} R_{11} + Q_{22} R_{12}\\right)\\right)\\right) + 3 \\left(E_{11} + E_{22}\\right)^{2} \\left(E_{22} Q_{22} + Ed Q_{21}\\right)\\right)}{3 \\left(E_{11} + E_{22}\\right)^{3}}\\end{matrix}\\right]$"
      ],
      "text/plain": [
       "Matrix([\n",
       "[mf*(mf*((E11 + E22)*(E11*(4*Q11*(Q11*R11 + Q21*R12) + Q12*(Q12*R11 + Q22*R12) + Q12*(Q11*R21 + Q12*R11 + Q21*R22 + Q22*R12)) + E22*Q12*(Q11*R21 + Q21*R22) + Ed*(2*Q11*(Q11*R21 + Q21*R22) + Q12*(Q12*R21 + Q22*R22)) + Ed*(Q11*(Q11*R21 + Q12*R11 + Q21*R22 + Q22*R12) + Q12*(Q11*R11 + Q21*R12) + 2*Q12*(Q12*R21 + Q22*R22))) - 7.5*(E11*Q11 + Ed*Q12)*(E11*(Q11*R11 + Q21*R12) + E22*(Q12*R21 + Q22*R22) + Ed*(Q11*R21 + Q21*R22) + Ed*(Q12*R11 + Q22*R12))) + 3*(E11 + E22)**2*(E11*Q11 + Ed*Q12))/(3*(E11 + E22)**3), mf*(mf*((E11 + E22)*(E11*(4*Q21*(Q11*R11 + Q21*R12) + Q22*(Q12*R11 + Q22*R12) + Q22*(Q11*R21 + Q12*R11 + Q21*R22 + Q22*R12)) + E22*Q22*(Q11*R21 + Q21*R22) + Ed*(2*Q21*(Q11*R21 + Q21*R22) + Q22*(Q12*R21 + Q22*R22)) + Ed*(Q21*(Q11*R21 + Q12*R11 + Q21*R22 + Q22*R12) + Q22*(Q11*R11 + Q21*R12) + 2*Q22*(Q12*R21 + Q22*R22))) - 7.5*(E11*Q21 + Ed*Q22)*(E11*(Q11*R11 + Q21*R12) + E22*(Q12*R21 + Q22*R22) + Ed*(Q11*R21 + Q21*R22) + Ed*(Q12*R11 + Q22*R12))) + 3*(E11 + E22)**2*(E11*Q21 + Ed*Q22))/(3*(E11 + E22)**3)],\n",
       "[mf*(mf*((E11 + E22)*(E11*Q11*(Q12*R11 + Q22*R12) + E22*(Q11*(Q11*R21 + Q21*R22) + Q11*(Q11*R21 + Q12*R11 + Q21*R22 + Q22*R12) + 4*Q12*(Q12*R21 + Q22*R22)) + Ed*(Q11*(Q11*R11 + Q21*R12) + 2*Q12*(Q12*R11 + Q22*R12)) + Ed*(2*Q11*(Q11*R11 + Q21*R12) + Q11*(Q12*R21 + Q22*R22) + Q12*(Q11*R21 + Q12*R11 + Q21*R22 + Q22*R12))) - 7.5*(E22*Q12 + Ed*Q11)*(E11*(Q11*R11 + Q21*R12) + E22*(Q12*R21 + Q22*R22) + Ed*(Q11*R21 + Q21*R22) + Ed*(Q12*R11 + Q22*R12))) + 3*(E11 + E22)**2*(E22*Q12 + Ed*Q11))/(3*(E11 + E22)**3), mf*(mf*((E11 + E22)*(E11*Q21*(Q12*R11 + Q22*R12) + E22*(Q21*(Q11*R21 + Q21*R22) + Q21*(Q11*R21 + Q12*R11 + Q21*R22 + Q22*R12) + 4*Q22*(Q12*R21 + Q22*R22)) + Ed*(Q21*(Q11*R11 + Q21*R12) + 2*Q22*(Q12*R11 + Q22*R12)) + Ed*(2*Q21*(Q11*R11 + Q21*R12) + Q21*(Q12*R21 + Q22*R22) + Q22*(Q11*R21 + Q12*R11 + Q21*R22 + Q22*R12))) - 7.5*(E22*Q22 + Ed*Q21)*(E11*(Q11*R11 + Q21*R12) + E22*(Q12*R21 + Q22*R22) + Ed*(Q11*R21 + Q21*R22) + Ed*(Q12*R11 + Q22*R12))) + 3*(E11 + E22)**2*(E22*Q22 + Ed*Q21))/(3*(E11 + E22)**3)]])"
      ]
     },
     "execution_count": 63,
     "metadata": {},
     "output_type": "execute_result"
    }
   ],
   "source": [
    "dR"
   ]
  },
  {
   "cell_type": "code",
   "execution_count": 47,
   "id": "1ed8b0a7",
   "metadata": {},
   "outputs": [
    {
     "name": "stdout",
     "output_type": "stream",
     "text": [
      "mf = Symbol('mf')\n",
      "E11 = Symbol('E11')\n",
      "E22 = Symbol('E22')\n",
      "Q11 = Symbol('Q11')\n",
      "Q12 = Symbol('Q12')\n",
      "R11 = Symbol('R11')\n",
      "Q22 = Symbol('Q22')\n",
      "R12 = Symbol('R12')\n",
      "E12 = Symbol('E12')\n",
      "Q21 = Symbol('Q21')\n",
      "R21 = Symbol('R21')\n",
      "R22 = Symbol('R22')\n",
      "E21 = Symbol('E21')\n",
      "e = mf*(mf*((E11 + E22)*(E11*Q11*(Q12*R11 + Q22*R12) + E12*(2*Q11*(Q11*R11 + Q21*R12) + Q11*(Q12*R21 + Q22*R22) + Q12*(Q11*R21 + Q12*R11 + Q21*R22 + Q22*R12)) + E21*(Q11*(Q11*R11 + Q21*R12) + 2*Q12*(Q12*R11 + Q22*R12)) + E22*(Q11*(Q11*R21 + Q21*R22) + Q11*(Q11*R21 + Q12*R11 + Q21*R22 + Q22*R12) + 4*Q12*(Q12*R21 + Q22*R22))) - Float('7.5', precision=53)*(E12*Q11 + E22*Q12)*(E11*(Q11*R11 + Q21*R12) + E12*(Q11*R21 + Q21*R22) + E21*(Q12*R11 + Q22*R12) + E22*(Q12*R21 + Q22*R22))) + 3*(E11 + E22)**2*(E12*Q11 + E22*Q12))/(3*(E11 + E22)**3)\n"
     ]
    }
   ],
   "source": [
    "print(sym.python(dR[2]))"
   ]
  },
  {
   "cell_type": "code",
   "execution_count": null,
   "id": "7e1884d9",
   "metadata": {},
   "outputs": [],
   "source": []
  },
  {
   "cell_type": "code",
   "execution_count": null,
   "id": "a0de1e3b",
   "metadata": {},
   "outputs": [],
   "source": []
  }
 ],
 "metadata": {
  "kernelspec": {
   "display_name": "Python 3 (ipykernel)",
   "language": "python",
   "name": "python3"
  },
  "language_info": {
   "codemirror_mode": {
    "name": "ipython",
    "version": 3
   },
   "file_extension": ".py",
   "mimetype": "text/x-python",
   "name": "python",
   "nbconvert_exporter": "python",
   "pygments_lexer": "ipython3",
   "version": "3.8.13"
  }
 },
 "nbformat": 4,
 "nbformat_minor": 5
}
