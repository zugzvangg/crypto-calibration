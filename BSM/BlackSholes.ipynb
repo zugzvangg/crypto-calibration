{
 "cells": [
  {
   "cell_type": "code",
   "execution_count": 2,
   "id": "273c1ba6",
   "metadata": {},
   "outputs": [],
   "source": [
    "import numpy as np\n",
    "from scipy import stats as sps\n",
    "from scipy.optimize import root_scalar"
   ]
  },
  {
   "cell_type": "code",
   "execution_count": 23,
   "id": "6252a861",
   "metadata": {},
   "outputs": [],
   "source": [
    "class BlackSholes:\n",
    "    def __init__(self, r: float, K: float, F: float, T: float, vol: float):\n",
    "        \"\"\"Returns the price of option with given params\n",
    "        Args:\n",
    "            K(float): strike,\n",
    "            F(float): underlying price,\n",
    "            T(float): Time to expiration in years,\n",
    "            r(float): risk-free rate,\n",
    "            vol(float): volatility\n",
    "        Returns:\n",
    "            C/P: option price \n",
    "        \"\"\"\n",
    "        self.r = r\n",
    "        self.K = K\n",
    "        self.F = F\n",
    "        self.T = T\n",
    "        self.vol = vol\n",
    "        d1 = (np.log(F / K) + 0.5 * vol ** 2 * T) \\\n",
    "                / (vol * np.sqrt(T))\n",
    "        d2 = d1 - vol * np.sqrt(T)\n",
    "        D = np.exp(-r * T)\n",
    "        self.call_price = F * sps.norm.cdf(d1) - K * sps.norm.cdf(d2) * D\n",
    "        self.put_price = K * sps.norm.cdf(- d2) * D - F * sps.norm.cdf(- d1)\n",
    "        "
   ]
  },
  {
   "cell_type": "code",
   "execution_count": 40,
   "id": "f3711ab1",
   "metadata": {},
   "outputs": [],
   "source": [
    "option = BlackSholes(r = 0.1, K = 2000, F = 1900, T = 1.0, vol = 20)"
   ]
  },
  {
   "cell_type": "code",
   "execution_count": 41,
   "id": "95dedbad",
   "metadata": {},
   "outputs": [
    {
     "data": {
      "text/plain": [
       "1809.6748360719191"
      ]
     },
     "execution_count": 41,
     "metadata": {},
     "output_type": "execute_result"
    }
   ],
   "source": [
    "option.put_price"
   ]
  },
  {
   "cell_type": "code",
   "execution_count": 39,
   "id": "4245dee9",
   "metadata": {},
   "outputs": [
    {
     "data": {
      "text/plain": [
       "1899.9999999970762"
      ]
     },
     "execution_count": 39,
     "metadata": {},
     "output_type": "execute_result"
    }
   ],
   "source": [
    "option.call_price"
   ]
  }
 ],
 "metadata": {
  "kernelspec": {
   "display_name": "Python 3 (ipykernel)",
   "language": "python",
   "name": "python3"
  },
  "language_info": {
   "codemirror_mode": {
    "name": "ipython",
    "version": 3
   },
   "file_extension": ".py",
   "mimetype": "text/x-python",
   "name": "python",
   "nbconvert_exporter": "python",
   "pygments_lexer": "ipython3",
   "version": "3.8.13"
  }
 },
 "nbformat": 4,
 "nbformat_minor": 5
}
