{
 "cells": [
  {
   "cell_type": "code",
   "execution_count": 1,
   "id": "2ca6aa1a",
   "metadata": {},
   "outputs": [],
   "source": [
    "def download_data():\n",
    "    '''\n",
    "        download historial data from deribit exchange\n",
    "    '''\n",
    "    import nest_asyncio\n",
    "    nest_asyncio.apply()\n",
    "    from tardis_dev import datasets\n",
    "    \n",
    "    datasets.download(\n",
    "        exchange=\"deribit\",\n",
    "        data_types=[\"options_chain\"],\n",
    "        from_date=\"2022-12-01T00:00:00\",\n",
    "        to_date=\"2022-12-01T00:05:00\",\n",
    "        symbols=[\"OPTIONS\"]\n",
    "    )\n",
    "    \n",
    "    !gzip -d datasets/*.gz"
   ]
  },
  {
   "cell_type": "code",
   "execution_count": 2,
   "id": "564a7a46",
   "metadata": {
    "scrolled": true
   },
   "outputs": [
    {
     "name": "stdout",
     "output_type": "stream",
     "text": [
      "Loading...\n"
     ]
    }
   ],
   "source": [
    "import os.path\n",
    "\n",
    "fname = './datasets/deribit_options_chain_2022-12-01_OPTIONS.csv'\n",
    "if not os.path.isfile(fname):\n",
    "    print(\"Loading...\")\n",
    "    download_data()\n"
   ]
  }
 ],
 "metadata": {
  "kernelspec": {
   "display_name": "Python 3 (ipykernel)",
   "language": "python",
   "name": "python3"
  },
  "language_info": {
   "codemirror_mode": {
    "name": "ipython",
    "version": 3
   },
   "file_extension": ".py",
   "mimetype": "text/x-python",
   "name": "python",
   "nbconvert_exporter": "python",
   "pygments_lexer": "ipython3",
   "version": "3.8.13"
  }
 },
 "nbformat": 4,
 "nbformat_minor": 5
}
