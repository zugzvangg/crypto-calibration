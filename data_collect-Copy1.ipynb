{
 "cells": [
  {
   "cell_type": "code",
   "execution_count": 2,
   "id": "8c48e9a3",
   "metadata": {},
   "outputs": [],
   "source": [
    "import asyncio\n",
    "import websockets\n",
    "import json\n",
    "import pandas as pd\n",
    "import nest_asyncio\n",
    "import matplotlib.pyplot as plt\n",
    "nest_asyncio.apply()\n",
    "import warnings\n",
    "import numpy as np\n",
    "import datetime\n",
    "from utils import collect_all_instruments_ids, collect_single_instrument_data\n",
    "warnings.filterwarnings(\"ignore\")"
   ]
  },
  {
   "cell_type": "markdown",
   "id": "eef0f453",
   "metadata": {},
   "source": [
    "## Соберем все id-щники и опционы, которым они соответсвуют"
   ]
  },
  {
   "cell_type": "code",
   "execution_count": 6,
   "id": "a3f3d2ea",
   "metadata": {},
   "outputs": [
    {
     "data": {
      "text/html": [
       "<div>\n",
       "<style scoped>\n",
       "    .dataframe tbody tr th:only-of-type {\n",
       "        vertical-align: middle;\n",
       "    }\n",
       "\n",
       "    .dataframe tbody tr th {\n",
       "        vertical-align: top;\n",
       "    }\n",
       "\n",
       "    .dataframe thead th {\n",
       "        text-align: right;\n",
       "    }\n",
       "</style>\n",
       "<table border=\"1\" class=\"dataframe\">\n",
       "  <thead>\n",
       "    <tr style=\"text-align: right;\">\n",
       "      <th></th>\n",
       "      <th>instrument_name</th>\n",
       "      <th>instrument_id</th>\n",
       "    </tr>\n",
       "  </thead>\n",
       "  <tbody>\n",
       "    <tr>\n",
       "      <th>0</th>\n",
       "      <td>BTC-23OCT22-15000-C</td>\n",
       "      <td>140054</td>\n",
       "    </tr>\n",
       "    <tr>\n",
       "      <th>1</th>\n",
       "      <td>BTC-23OCT22-15000-P</td>\n",
       "      <td>140055</td>\n",
       "    </tr>\n",
       "    <tr>\n",
       "      <th>2</th>\n",
       "      <td>BTC-23OCT22-16000-C</td>\n",
       "      <td>140056</td>\n",
       "    </tr>\n",
       "    <tr>\n",
       "      <th>3</th>\n",
       "      <td>BTC-23OCT22-16000-P</td>\n",
       "      <td>140057</td>\n",
       "    </tr>\n",
       "    <tr>\n",
       "      <th>4</th>\n",
       "      <td>BTC-23OCT22-17000-C</td>\n",
       "      <td>140058</td>\n",
       "    </tr>\n",
       "  </tbody>\n",
       "</table>\n",
       "</div>"
      ],
      "text/plain": [
       "       instrument_name  instrument_id\n",
       "0  BTC-23OCT22-15000-C         140054\n",
       "1  BTC-23OCT22-15000-P         140055\n",
       "2  BTC-23OCT22-16000-C         140056\n",
       "3  BTC-23OCT22-16000-P         140057\n",
       "4  BTC-23OCT22-17000-C         140058"
      ]
     },
     "execution_count": 6,
     "metadata": {},
     "output_type": "execute_result"
    }
   ],
   "source": [
    "# все id-шники\n",
    "instruments_df = collect_all_instruments_ids()\n",
    "instruments_df.head(5)"
   ]
  },
  {
   "cell_type": "markdown",
   "id": "4d8f2e00",
   "metadata": {},
   "source": [
    "## Собираем данные по конкретному опциону"
   ]
  },
  {
   "cell_type": "code",
   "execution_count": 4,
   "id": "688b150f",
   "metadata": {},
   "outputs": [
    {
     "name": "stderr",
     "output_type": "stream",
     "text": [
      "2022-10-22 21:06:03.603 | INFO     | utils:call_api:68 - Collected 100 ticks for id = 140054\n"
     ]
    },
    {
     "data": {
      "text/html": [
       "<div>\n",
       "<style scoped>\n",
       "    .dataframe tbody tr th:only-of-type {\n",
       "        vertical-align: middle;\n",
       "    }\n",
       "\n",
       "    .dataframe tbody tr th {\n",
       "        vertical-align: top;\n",
       "    }\n",
       "\n",
       "    .dataframe thead th {\n",
       "        text-align: right;\n",
       "    }\n",
       "</style>\n",
       "<table border=\"1\" class=\"dataframe\">\n",
       "  <thead>\n",
       "    <tr style=\"text-align: right;\">\n",
       "      <th></th>\n",
       "      <th>instrument_name</th>\n",
       "      <th>timestamp</th>\n",
       "      <th>underlying_price</th>\n",
       "      <th>mark_iv</th>\n",
       "      <th>mark_price</th>\n",
       "      <th>best_bid_price</th>\n",
       "      <th>best_ask_price</th>\n",
       "      <th>human_timestamp</th>\n",
       "      <th>strike</th>\n",
       "    </tr>\n",
       "  </thead>\n",
       "  <tbody>\n",
       "    <tr>\n",
       "      <th>0</th>\n",
       "      <td>BTC-23OCT22-15000-C</td>\n",
       "      <td>1666461955380</td>\n",
       "      <td>19148.8979</td>\n",
       "      <td>210.0</td>\n",
       "      <td>0.2167</td>\n",
       "      <td>0.0</td>\n",
       "      <td>0.0</td>\n",
       "      <td>2022-10-22 21:05:55.380000</td>\n",
       "      <td>15000</td>\n",
       "    </tr>\n",
       "    <tr>\n",
       "      <th>5</th>\n",
       "      <td>BTC-23OCT22-15000-C</td>\n",
       "      <td>1666461956389</td>\n",
       "      <td>19149.0563</td>\n",
       "      <td>210.0</td>\n",
       "      <td>0.2167</td>\n",
       "      <td>0.0</td>\n",
       "      <td>0.0</td>\n",
       "      <td>2022-10-22 21:05:56.389000</td>\n",
       "      <td>15000</td>\n",
       "    </tr>\n",
       "    <tr>\n",
       "      <th>18</th>\n",
       "      <td>BTC-23OCT22-15000-C</td>\n",
       "      <td>1666461957394</td>\n",
       "      <td>19149.3825</td>\n",
       "      <td>210.0</td>\n",
       "      <td>0.2167</td>\n",
       "      <td>0.0</td>\n",
       "      <td>0.0</td>\n",
       "      <td>2022-10-22 21:05:57.394000</td>\n",
       "      <td>15000</td>\n",
       "    </tr>\n",
       "    <tr>\n",
       "      <th>31</th>\n",
       "      <td>BTC-23OCT22-15000-C</td>\n",
       "      <td>1666461958399</td>\n",
       "      <td>19149.2187</td>\n",
       "      <td>210.0</td>\n",
       "      <td>0.2167</td>\n",
       "      <td>0.0</td>\n",
       "      <td>0.0</td>\n",
       "      <td>2022-10-22 21:05:58.399000</td>\n",
       "      <td>15000</td>\n",
       "    </tr>\n",
       "    <tr>\n",
       "      <th>45</th>\n",
       "      <td>BTC-23OCT22-15000-C</td>\n",
       "      <td>1666461959407</td>\n",
       "      <td>19149.1550</td>\n",
       "      <td>210.0</td>\n",
       "      <td>0.2167</td>\n",
       "      <td>0.0</td>\n",
       "      <td>0.0</td>\n",
       "      <td>2022-10-22 21:05:59.407000</td>\n",
       "      <td>15000</td>\n",
       "    </tr>\n",
       "  </tbody>\n",
       "</table>\n",
       "</div>"
      ],
      "text/plain": [
       "        instrument_name      timestamp  underlying_price  mark_iv  mark_price  \\\n",
       "0   BTC-23OCT22-15000-C  1666461955380        19148.8979    210.0      0.2167   \n",
       "5   BTC-23OCT22-15000-C  1666461956389        19149.0563    210.0      0.2167   \n",
       "18  BTC-23OCT22-15000-C  1666461957394        19149.3825    210.0      0.2167   \n",
       "31  BTC-23OCT22-15000-C  1666461958399        19149.2187    210.0      0.2167   \n",
       "45  BTC-23OCT22-15000-C  1666461959407        19149.1550    210.0      0.2167   \n",
       "\n",
       "    best_bid_price  best_ask_price             human_timestamp  strike  \n",
       "0              0.0             0.0  2022-10-22 21:05:55.380000   15000  \n",
       "5              0.0             0.0  2022-10-22 21:05:56.389000   15000  \n",
       "18             0.0             0.0  2022-10-22 21:05:57.394000   15000  \n",
       "31             0.0             0.0  2022-10-22 21:05:58.399000   15000  \n",
       "45             0.0             0.0  2022-10-22 21:05:59.407000   15000  "
      ]
     },
     "execution_count": 4,
     "metadata": {},
     "output_type": "execute_result"
    }
   ],
   "source": [
    "# по конкретному опциону\n",
    "single_option = collect_single_instrument_data(instrument_id = 140054, number_of_ticks = 100)\n",
    "single_option.head(5)"
   ]
  },
  {
   "cell_type": "code",
   "execution_count": 50,
   "id": "a2911cb5",
   "metadata": {
    "scrolled": false
   },
   "outputs": [
    {
     "name": "stderr",
     "output_type": "stream",
     "text": [
      "2022-10-23 02:02:00.418 | INFO     | utils:call_api:68 - Collected 1 ticks for id = 138432\n",
      "2022-10-23 02:02:00.822 | INFO     | utils:call_api:68 - Collected 1 ticks for id = 138433\n",
      "2022-10-23 02:02:01.330 | INFO     | utils:call_api:68 - Collected 1 ticks for id = 138434\n",
      "2022-10-23 02:02:01.776 | INFO     | utils:call_api:68 - Collected 1 ticks for id = 138435\n",
      "2022-10-23 02:02:02.183 | INFO     | utils:call_api:68 - Collected 1 ticks for id = 138436\n",
      "2022-10-23 02:02:02.588 | INFO     | utils:call_api:68 - Collected 1 ticks for id = 138437\n",
      "2022-10-23 02:02:02.979 | INFO     | utils:call_api:68 - Collected 1 ticks for id = 138438\n",
      "2022-10-23 02:02:03.380 | INFO     | utils:call_api:68 - Collected 1 ticks for id = 138439\n",
      "2022-10-23 02:02:03.814 | INFO     | utils:call_api:68 - Collected 1 ticks for id = 138440\n",
      "2022-10-23 02:02:04.222 | INFO     | utils:call_api:68 - Collected 1 ticks for id = 138441\n",
      "2022-10-23 02:02:04.633 | INFO     | utils:call_api:68 - Collected 1 ticks for id = 138442\n",
      "2022-10-23 02:02:05.034 | INFO     | utils:call_api:68 - Collected 1 ticks for id = 138443\n",
      "2022-10-23 02:02:05.442 | INFO     | utils:call_api:68 - Collected 1 ticks for id = 138444\n",
      "2022-10-23 02:02:05.856 | INFO     | utils:call_api:68 - Collected 1 ticks for id = 138445\n",
      "2022-10-23 02:02:06.270 | INFO     | utils:call_api:68 - Collected 1 ticks for id = 138446\n",
      "2022-10-23 02:02:06.682 | INFO     | utils:call_api:68 - Collected 1 ticks for id = 138447\n",
      "2022-10-23 02:02:07.078 | INFO     | utils:call_api:68 - Collected 1 ticks for id = 139007\n",
      "2022-10-23 02:02:07.493 | INFO     | utils:call_api:68 - Collected 1 ticks for id = 139008\n",
      "2022-10-23 02:02:07.925 | INFO     | utils:call_api:68 - Collected 1 ticks for id = 138448\n",
      "2022-10-23 02:02:08.331 | INFO     | utils:call_api:68 - Collected 1 ticks for id = 138449\n",
      "2022-10-23 02:02:08.732 | INFO     | utils:call_api:68 - Collected 1 ticks for id = 138450\n",
      "2022-10-23 02:02:09.156 | INFO     | utils:call_api:68 - Collected 1 ticks for id = 138451\n",
      "2022-10-23 02:02:09.569 | INFO     | utils:call_api:68 - Collected 1 ticks for id = 138452\n",
      "2022-10-23 02:02:09.973 | INFO     | utils:call_api:68 - Collected 1 ticks for id = 138453\n"
     ]
    },
    {
     "data": {
      "image/png": "[encoded data removed]",
      "text/plain": [
       "<Figure size 640x480 with 1 Axes>"
      ]
     },
     "metadata": {},
     "output_type": "display_data"
    }
   ],
   "source": [
    "random_instrument = instruments_df.sample(1).iloc[0][\"instrument_name\"]\n",
    "single_strike = instruments_df[\n",
    "    (instruments_df[\"instrument_name\"].str.startswith(random_instrument[0:11])) \n",
    "#     (instruments_df[\"instrument_name\"].str.endswith(random_instrument[-1]))\n",
    "]\n",
    "single_strike_ids = single_strike.instrument_id.to_list()\n",
    "\n",
    "\n",
    "options = []\n",
    "for op_id in single_strike_ids:\n",
    "    option = collect_single_instrument_data(instrument_id = op_id, number_of_ticks = 1)\n",
    "    options.append(option)\n",
    "    \n",
    "result = pd.DataFrame(columns = option.columns.values)\n",
    "\n",
    "for option in options:\n",
    "    result = result.append(option)\n",
    "    \n",
    "    \n",
    "plt.scatter(result[\"strike\"], result[\"mark_iv\"])\n",
    "plt.axvline(x=result.iloc[0][\"underlying_price\"])\n",
    "plt.show()"
   ]
  },
  {
   "cell_type": "code",
   "execution_count": 51,
   "id": "4e22736f",
   "metadata": {},
   "outputs": [],
   "source": [
    "result.to_pickle(\"data/colmiled_options.pkl\")"
   ]
  }
 ],
 "metadata": {
  "kernelspec": {
   "display_name": "Python 3 (ipykernel)",
   "language": "python",
   "name": "python3"
  },
  "language_info": {
   "codemirror_mode": {
    "name": "ipython",
    "version": 3
   },
   "file_extension": ".py",
   "mimetype": "text/x-python",
   "name": "python",
   "nbconvert_exporter": "python",
   "pygments_lexer": "ipython3",
   "version": "3.10.6"
  }
 },
 "nbformat": 4,
 "nbformat_minor": 5
}
