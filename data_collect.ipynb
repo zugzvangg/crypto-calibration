{
 "cells": [
  {
   "cell_type": "code",
   "execution_count": 1,
   "id": "8c48e9a3",
   "metadata": {},
   "outputs": [],
   "source": [
    "import asyncio\n",
    "import websockets\n",
    "import json\n",
    "import pandas as pd\n",
    "import nest_asyncio\n",
    "import matplotlib.pyplot as plt\n",
    "nest_asyncio.apply()\n",
    "import warnings\n",
    "import numpy as np\n",
    "import datetime\n",
    "from utils import collect_all_instruments_ids, collect_single_instrument_data\n",
    "warnings.filterwarnings(\"ignore\")"
   ]
  },
  {
   "cell_type": "markdown",
   "id": "eef0f453",
   "metadata": {},
   "source": [
    "## Соберем все id-щники и опционы, которым они соответсвуют"
   ]
  },
  {
   "cell_type": "code",
   "execution_count": 2,
   "id": "a3f3d2ea",
   "metadata": {},
   "outputs": [
    {
     "data": {
      "text/html": [
       "<div>\n",
       "<style scoped>\n",
       "    .dataframe tbody tr th:only-of-type {\n",
       "        vertical-align: middle;\n",
       "    }\n",
       "\n",
       "    .dataframe tbody tr th {\n",
       "        vertical-align: top;\n",
       "    }\n",
       "\n",
       "    .dataframe thead th {\n",
       "        text-align: right;\n",
       "    }\n",
       "</style>\n",
       "<table border=\"1\" class=\"dataframe\">\n",
       "  <thead>\n",
       "    <tr style=\"text-align: right;\">\n",
       "      <th></th>\n",
       "      <th>instrument_name</th>\n",
       "      <th>instrument_id</th>\n",
       "    </tr>\n",
       "  </thead>\n",
       "  <tbody>\n",
       "    <tr>\n",
       "      <th>0</th>\n",
       "      <td>BTC-24OCT22-15000-C</td>\n",
       "      <td>140131</td>\n",
       "    </tr>\n",
       "    <tr>\n",
       "      <th>1</th>\n",
       "      <td>BTC-24OCT22-15000-P</td>\n",
       "      <td>140132</td>\n",
       "    </tr>\n",
       "    <tr>\n",
       "      <th>2</th>\n",
       "      <td>BTC-24OCT22-16000-C</td>\n",
       "      <td>140133</td>\n",
       "    </tr>\n",
       "    <tr>\n",
       "      <th>3</th>\n",
       "      <td>BTC-24OCT22-16000-P</td>\n",
       "      <td>140134</td>\n",
       "    </tr>\n",
       "    <tr>\n",
       "      <th>4</th>\n",
       "      <td>BTC-24OCT22-17000-C</td>\n",
       "      <td>140136</td>\n",
       "    </tr>\n",
       "  </tbody>\n",
       "</table>\n",
       "</div>"
      ],
      "text/plain": [
       "       instrument_name  instrument_id\n",
       "0  BTC-24OCT22-15000-C         140131\n",
       "1  BTC-24OCT22-15000-P         140132\n",
       "2  BTC-24OCT22-16000-C         140133\n",
       "3  BTC-24OCT22-16000-P         140134\n",
       "4  BTC-24OCT22-17000-C         140136"
      ]
     },
     "execution_count": 2,
     "metadata": {},
     "output_type": "execute_result"
    }
   ],
   "source": [
    "# все id-шники\n",
    "instruments_df = collect_all_instruments_ids()\n",
    "instruments_df.head(5)"
   ]
  },
  {
   "cell_type": "markdown",
   "id": "4d8f2e00",
   "metadata": {},
   "source": [
    "## Собираем данные по конкретному опциону"
   ]
  },
  {
   "cell_type": "code",
   "execution_count": 3,
   "id": "ec7235a6",
   "metadata": {},
   "outputs": [
    {
     "name": "stderr",
     "output_type": "stream",
     "text": [
      "2022-10-23 14:44:55.336 | INFO     | utils:call_api:68 - Collected 100 ticks for id = 140054\n"
     ]
    },
    {
     "data": {
      "text/html": [
       "<div>\n",
       "<style scoped>\n",
       "    .dataframe tbody tr th:only-of-type {\n",
       "        vertical-align: middle;\n",
       "    }\n",
       "\n",
       "    .dataframe tbody tr th {\n",
       "        vertical-align: top;\n",
       "    }\n",
       "\n",
       "    .dataframe thead th {\n",
       "        text-align: right;\n",
       "    }\n",
       "</style>\n",
       "<table border=\"1\" class=\"dataframe\">\n",
       "  <thead>\n",
       "    <tr style=\"text-align: right;\">\n",
       "      <th></th>\n",
       "      <th>instrument_name</th>\n",
       "      <th>timestamp</th>\n",
       "      <th>underlying_price</th>\n",
       "      <th>mark_iv</th>\n",
       "      <th>mark_price</th>\n",
       "      <th>best_bid_price</th>\n",
       "      <th>best_ask_price</th>\n",
       "      <th>human_timestamp</th>\n",
       "      <th>strike</th>\n",
       "    </tr>\n",
       "  </thead>\n",
       "  <tbody>\n",
       "    <tr>\n",
       "      <th>0</th>\n",
       "      <td>BTC-23OCT22-15000-C</td>\n",
       "      <td>1666512000014</td>\n",
       "      <td>19159.46</td>\n",
       "      <td>210.0</td>\n",
       "      <td>0.2171</td>\n",
       "      <td>0.0</td>\n",
       "      <td>0.0</td>\n",
       "      <td>2022-10-23 11:00:00.014000</td>\n",
       "      <td>15000</td>\n",
       "    </tr>\n",
       "  </tbody>\n",
       "</table>\n",
       "</div>"
      ],
      "text/plain": [
       "       instrument_name      timestamp  underlying_price  mark_iv  mark_price  \\\n",
       "0  BTC-23OCT22-15000-C  1666512000014          19159.46    210.0      0.2171   \n",
       "\n",
       "   best_bid_price  best_ask_price             human_timestamp  strike  \n",
       "0             0.0             0.0  2022-10-23 11:00:00.014000   15000  "
      ]
     },
     "execution_count": 3,
     "metadata": {},
     "output_type": "execute_result"
    }
   ],
   "source": [
    "# по конкретному опциону\n",
    "single_option = collect_single_instrument_data(instrument_id = 140054, number_of_ticks = 100)\n",
    "single_option.head(5)"
   ]
  },
  {
   "cell_type": "markdown",
   "id": "ebd98f73",
   "metadata": {},
   "source": [
    "## Собираем по одному тику для каждого опциона, чтобы узнать все страйки и их рыночные волатильности"
   ]
  },
  {
   "cell_type": "code",
   "execution_count": 4,
   "id": "a2911cb5",
   "metadata": {
    "scrolled": true
   },
   "outputs": [
    {
     "name": "stderr",
     "output_type": "stream",
     "text": [
      "2022-10-23 14:44:55.776 | INFO     | utils:call_api:68 - Collected 1 ticks for id = 132634\n",
      "2022-10-23 14:44:56.589 | INFO     | utils:call_api:68 - Collected 1 ticks for id = 132635\n",
      "2022-10-23 14:44:56.992 | INFO     | utils:call_api:68 - Collected 1 ticks for id = 132636\n",
      "2022-10-23 14:44:57.405 | INFO     | utils:call_api:68 - Collected 1 ticks for id = 132637\n",
      "2022-10-23 14:44:57.829 | INFO     | utils:call_api:68 - Collected 1 ticks for id = 132638\n",
      "2022-10-23 14:44:58.253 | INFO     | utils:call_api:68 - Collected 1 ticks for id = 132639\n",
      "2022-10-23 14:44:58.652 | INFO     | utils:call_api:68 - Collected 1 ticks for id = 132640\n",
      "2022-10-23 14:44:59.024 | INFO     | utils:call_api:68 - Collected 1 ticks for id = 132641\n",
      "2022-10-23 14:44:59.427 | INFO     | utils:call_api:68 - Collected 1 ticks for id = 132642\n",
      "2022-10-23 14:44:59.820 | INFO     | utils:call_api:68 - Collected 1 ticks for id = 132643\n",
      "2022-10-23 14:45:00.185 | INFO     | utils:call_api:68 - Collected 1 ticks for id = 132644\n",
      "2022-10-23 14:45:00.580 | INFO     | utils:call_api:68 - Collected 1 ticks for id = 132645\n",
      "2022-10-23 14:45:01.002 | INFO     | utils:call_api:68 - Collected 1 ticks for id = 132646\n",
      "2022-10-23 14:45:01.412 | INFO     | utils:call_api:68 - Collected 1 ticks for id = 132647\n",
      "2022-10-23 14:45:01.820 | INFO     | utils:call_api:68 - Collected 1 ticks for id = 132648\n",
      "2022-10-23 14:45:02.250 | INFO     | utils:call_api:68 - Collected 1 ticks for id = 132649\n",
      "2022-10-23 14:45:02.662 | INFO     | utils:call_api:68 - Collected 1 ticks for id = 132650\n",
      "2022-10-23 14:45:03.050 | INFO     | utils:call_api:68 - Collected 1 ticks for id = 132651\n",
      "2022-10-23 14:45:03.448 | INFO     | utils:call_api:68 - Collected 1 ticks for id = 132652\n",
      "2022-10-23 14:45:03.864 | INFO     | utils:call_api:68 - Collected 1 ticks for id = 132653\n",
      "2022-10-23 14:45:04.275 | INFO     | utils:call_api:68 - Collected 1 ticks for id = 132654\n",
      "2022-10-23 14:45:04.673 | INFO     | utils:call_api:68 - Collected 1 ticks for id = 132655\n",
      "2022-10-23 14:45:05.026 | INFO     | utils:call_api:68 - Collected 1 ticks for id = 132656\n",
      "2022-10-23 14:45:05.416 | INFO     | utils:call_api:68 - Collected 1 ticks for id = 132657\n",
      "2022-10-23 14:45:05.798 | INFO     | utils:call_api:68 - Collected 1 ticks for id = 132737\n",
      "2022-10-23 14:45:06.186 | INFO     | utils:call_api:68 - Collected 1 ticks for id = 132738\n",
      "2022-10-23 14:45:06.593 | INFO     | utils:call_api:68 - Collected 1 ticks for id = 132658\n",
      "2022-10-23 14:45:07.005 | INFO     | utils:call_api:68 - Collected 1 ticks for id = 132659\n",
      "2022-10-23 14:45:07.425 | INFO     | utils:call_api:68 - Collected 1 ticks for id = 133128\n",
      "2022-10-23 14:45:07.822 | INFO     | utils:call_api:68 - Collected 1 ticks for id = 133129\n",
      "2022-10-23 14:45:08.251 | INFO     | utils:call_api:68 - Collected 1 ticks for id = 132660\n",
      "2022-10-23 14:45:08.681 | INFO     | utils:call_api:68 - Collected 1 ticks for id = 132661\n",
      "2022-10-23 14:45:09.070 | INFO     | utils:call_api:68 - Collected 1 ticks for id = 132739\n",
      "2022-10-23 14:45:09.576 | INFO     | utils:call_api:68 - Collected 1 ticks for id = 132740\n",
      "2022-10-23 14:45:09.996 | INFO     | utils:call_api:68 - Collected 1 ticks for id = 133130\n",
      "2022-10-23 14:45:10.415 | INFO     | utils:call_api:68 - Collected 1 ticks for id = 133131\n",
      "2022-10-23 14:45:10.814 | INFO     | utils:call_api:68 - Collected 1 ticks for id = 132662\n",
      "2022-10-23 14:45:11.300 | INFO     | utils:call_api:68 - Collected 1 ticks for id = 132663\n",
      "2022-10-23 14:45:11.693 | INFO     | utils:call_api:68 - Collected 1 ticks for id = 132664\n",
      "2022-10-23 14:45:12.100 | INFO     | utils:call_api:68 - Collected 1 ticks for id = 132665\n",
      "2022-10-23 14:45:12.535 | INFO     | utils:call_api:68 - Collected 1 ticks for id = 132727\n",
      "2022-10-23 14:45:12.946 | INFO     | utils:call_api:68 - Collected 1 ticks for id = 132728\n",
      "2022-10-23 14:45:13.340 | INFO     | utils:call_api:68 - Collected 1 ticks for id = 133264\n",
      "2022-10-23 14:45:13.756 | INFO     | utils:call_api:68 - Collected 1 ticks for id = 133265\n"
     ]
    },
    {
     "data": {
      "image/png": "[encoded data removed]",
      "text/plain": [
       "<Figure size 640x480 with 1 Axes>"
      ]
     },
     "metadata": {},
     "output_type": "display_data"
    }
   ],
   "source": [
    "random_instrument = instruments_df.sample(1).iloc[0][\"instrument_name\"]\n",
    "single_strike = instruments_df[\n",
    "    (instruments_df[\"instrument_name\"].str.startswith(random_instrument[0:11])) \n",
    "#     (instruments_df[\"instrument_name\"].str.endswith(random_instrument[-1]))\n",
    "]\n",
    "single_strike_ids = single_strike.instrument_id.to_list()\n",
    "\n",
    "options = pd.DataFrame(columns = single_option.columns.values)\n",
    "for op_id in single_strike_ids:\n",
    "    option = collect_single_instrument_data(instrument_id = op_id, number_of_ticks = 1)\n",
    "    options = options.append(option)\n",
    "    \n",
    "plt.scatter(options[\"strike\"], options[\"mark_iv\"])\n",
    "plt.axvline(x=option.iloc[0][\"underlying_price\"])\n",
    "plt.show()"
   ]
  },
  {
   "cell_type": "code",
   "execution_count": 5,
   "id": "24aa96f6",
   "metadata": {},
   "outputs": [],
   "source": [
    "options.to_pickle(\"data/BTC-25NOV22.pkl\")"
   ]
  }
 ],
 "metadata": {
  "kernelspec": {
   "display_name": "Python 3 (ipykernel)",
   "language": "python",
   "name": "python3"
  },
  "language_info": {
   "codemirror_mode": {
    "name": "ipython",
    "version": 3
   },
   "file_extension": ".py",
   "mimetype": "text/x-python",
   "name": "python",
   "nbconvert_exporter": "python",
   "pygments_lexer": "ipython3",
   "version": "3.8.13"
  }
 },
 "nbformat": 4,
 "nbformat_minor": 5
}
