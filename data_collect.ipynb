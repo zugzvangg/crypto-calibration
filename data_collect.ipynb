{
 "cells": [
  {
   "cell_type": "code",
   "execution_count": 1,
   "id": "8c48e9a3",
   "metadata": {},
   "outputs": [],
   "source": [
    "import asyncio\n",
    "import websockets\n",
    "import json\n",
    "import pandas as pd\n",
    "import nest_asyncio\n",
    "import matplotlib.pyplot as plt\n",
    "nest_asyncio.apply()\n",
    "import warnings\n",
    "import numpy as np\n",
    "import datetime\n",
    "from utils import collect_all_instruments_ids, collect_single_instrument_data\n",
    "warnings.filterwarnings(\"ignore\")"
   ]
  },
  {
   "cell_type": "markdown",
   "id": "eef0f453",
   "metadata": {},
   "source": [
    "## Соберем все id-щники и опционы, которым они соответсвуют"
   ]
  },
  {
   "cell_type": "code",
   "execution_count": 2,
   "id": "a3f3d2ea",
   "metadata": {},
   "outputs": [
    {
     "data": {
      "text/html": [
       "<div>\n",
       "<style scoped>\n",
       "    .dataframe tbody tr th:only-of-type {\n",
       "        vertical-align: middle;\n",
       "    }\n",
       "\n",
       "    .dataframe tbody tr th {\n",
       "        vertical-align: top;\n",
       "    }\n",
       "\n",
       "    .dataframe thead th {\n",
       "        text-align: right;\n",
       "    }\n",
       "</style>\n",
       "<table border=\"1\" class=\"dataframe\">\n",
       "  <thead>\n",
       "    <tr style=\"text-align: right;\">\n",
       "      <th></th>\n",
       "      <th>instrument_name</th>\n",
       "      <th>instrument_id</th>\n",
       "    </tr>\n",
       "  </thead>\n",
       "  <tbody>\n",
       "    <tr>\n",
       "      <th>0</th>\n",
       "      <td>BTC-24OCT22-15000-C</td>\n",
       "      <td>140131</td>\n",
       "    </tr>\n",
       "    <tr>\n",
       "      <th>1</th>\n",
       "      <td>BTC-24OCT22-15000-P</td>\n",
       "      <td>140132</td>\n",
       "    </tr>\n",
       "    <tr>\n",
       "      <th>2</th>\n",
       "      <td>BTC-24OCT22-16000-C</td>\n",
       "      <td>140133</td>\n",
       "    </tr>\n",
       "    <tr>\n",
       "      <th>3</th>\n",
       "      <td>BTC-24OCT22-16000-P</td>\n",
       "      <td>140134</td>\n",
       "    </tr>\n",
       "    <tr>\n",
       "      <th>4</th>\n",
       "      <td>BTC-24OCT22-17000-C</td>\n",
       "      <td>140136</td>\n",
       "    </tr>\n",
       "  </tbody>\n",
       "</table>\n",
       "</div>"
      ],
      "text/plain": [
       "       instrument_name  instrument_id\n",
       "0  BTC-24OCT22-15000-C         140131\n",
       "1  BTC-24OCT22-15000-P         140132\n",
       "2  BTC-24OCT22-16000-C         140133\n",
       "3  BTC-24OCT22-16000-P         140134\n",
       "4  BTC-24OCT22-17000-C         140136"
      ]
     },
     "execution_count": 2,
     "metadata": {},
     "output_type": "execute_result"
    }
   ],
   "source": [
    "# все id-шники\n",
    "instruments_df = collect_all_instruments_ids()\n",
    "instruments_df.head(5)"
   ]
  },
  {
   "cell_type": "markdown",
   "id": "4d8f2e00",
   "metadata": {},
   "source": [
    "## Собираем данные по конкретному опциону"
   ]
  },
  {
   "cell_type": "code",
   "execution_count": 3,
   "id": "ec7235a6",
   "metadata": {},
   "outputs": [
    {
     "name": "stderr",
     "output_type": "stream",
     "text": [
      "2022-10-23 13:42:55.798 | INFO     | utils:call_api:68 - Collected 100 ticks for id = 140054\n"
     ]
    },
    {
     "data": {
      "text/html": [
       "<div>\n",
       "<style scoped>\n",
       "    .dataframe tbody tr th:only-of-type {\n",
       "        vertical-align: middle;\n",
       "    }\n",
       "\n",
       "    .dataframe tbody tr th {\n",
       "        vertical-align: top;\n",
       "    }\n",
       "\n",
       "    .dataframe thead th {\n",
       "        text-align: right;\n",
       "    }\n",
       "</style>\n",
       "<table border=\"1\" class=\"dataframe\">\n",
       "  <thead>\n",
       "    <tr style=\"text-align: right;\">\n",
       "      <th></th>\n",
       "      <th>instrument_name</th>\n",
       "      <th>timestamp</th>\n",
       "      <th>underlying_price</th>\n",
       "      <th>mark_iv</th>\n",
       "      <th>mark_price</th>\n",
       "      <th>best_bid_price</th>\n",
       "      <th>best_ask_price</th>\n",
       "      <th>human_timestamp</th>\n",
       "      <th>strike</th>\n",
       "    </tr>\n",
       "  </thead>\n",
       "  <tbody>\n",
       "    <tr>\n",
       "      <th>0</th>\n",
       "      <td>BTC-23OCT22-15000-C</td>\n",
       "      <td>1666512000014</td>\n",
       "      <td>19159.46</td>\n",
       "      <td>210.0</td>\n",
       "      <td>0.2171</td>\n",
       "      <td>0.0</td>\n",
       "      <td>0.0</td>\n",
       "      <td>2022-10-23 11:00:00.014000</td>\n",
       "      <td>15000</td>\n",
       "    </tr>\n",
       "  </tbody>\n",
       "</table>\n",
       "</div>"
      ],
      "text/plain": [
       "       instrument_name      timestamp  underlying_price  mark_iv  mark_price  \\\n",
       "0  BTC-23OCT22-15000-C  1666512000014          19159.46    210.0      0.2171   \n",
       "\n",
       "   best_bid_price  best_ask_price             human_timestamp  strike  \n",
       "0             0.0             0.0  2022-10-23 11:00:00.014000   15000  "
      ]
     },
     "execution_count": 3,
     "metadata": {},
     "output_type": "execute_result"
    }
   ],
   "source": [
    "# по конкретному опциону\n",
    "single_option = collect_single_instrument_data(instrument_id = 140054, number_of_ticks = 100)\n",
    "single_option.head(5)"
   ]
  },
  {
   "cell_type": "markdown",
   "id": "48535eb4",
   "metadata": {},
   "source": [
    "## Собираем по одному тику для каждого опциона, чтобы узнать все страйки и их рыночные волатильности"
   ]
  },
  {
   "cell_type": "code",
   "execution_count": 10,
   "id": "a2911cb5",
   "metadata": {
    "scrolled": true
   },
   "outputs": [
    {
     "name": "stderr",
     "output_type": "stream",
     "text": [
      "2022-10-23 13:47:26.185 | INFO     | utils:call_api:68 - Collected 1 ticks for id = 136057\n",
      "2022-10-23 13:47:26.591 | INFO     | utils:call_api:68 - Collected 1 ticks for id = 136058\n",
      "2022-10-23 13:47:27.231 | INFO     | utils:call_api:68 - Collected 1 ticks for id = 135676\n",
      "2022-10-23 13:47:27.643 | INFO     | utils:call_api:68 - Collected 1 ticks for id = 135677\n",
      "2022-10-23 13:47:28.077 | INFO     | utils:call_api:68 - Collected 1 ticks for id = 136226\n",
      "2022-10-23 13:47:28.473 | INFO     | utils:call_api:68 - Collected 1 ticks for id = 136227\n",
      "2022-10-23 13:47:28.907 | INFO     | utils:call_api:68 - Collected 1 ticks for id = 135678\n",
      "2022-10-23 13:47:29.309 | INFO     | utils:call_api:68 - Collected 1 ticks for id = 135679\n",
      "2022-10-23 13:47:29.760 | INFO     | utils:call_api:68 - Collected 1 ticks for id = 135680\n",
      "2022-10-23 13:47:30.209 | INFO     | utils:call_api:68 - Collected 1 ticks for id = 135681\n",
      "2022-10-23 13:47:30.621 | INFO     | utils:call_api:68 - Collected 1 ticks for id = 135682\n",
      "2022-10-23 13:47:31.025 | INFO     | utils:call_api:68 - Collected 1 ticks for id = 135683\n",
      "2022-10-23 13:47:31.432 | INFO     | utils:call_api:68 - Collected 1 ticks for id = 135684\n",
      "2022-10-23 13:47:31.847 | INFO     | utils:call_api:68 - Collected 1 ticks for id = 135685\n",
      "2022-10-23 13:47:32.255 | INFO     | utils:call_api:68 - Collected 1 ticks for id = 135686\n",
      "2022-10-23 13:47:32.658 | INFO     | utils:call_api:68 - Collected 1 ticks for id = 135687\n",
      "2022-10-23 13:47:33.092 | INFO     | utils:call_api:68 - Collected 1 ticks for id = 135688\n",
      "2022-10-23 13:47:33.497 | INFO     | utils:call_api:68 - Collected 1 ticks for id = 135689\n",
      "2022-10-23 13:47:33.998 | INFO     | utils:call_api:68 - Collected 1 ticks for id = 135690\n",
      "2022-10-23 13:47:34.428 | INFO     | utils:call_api:68 - Collected 1 ticks for id = 135691\n",
      "2022-10-23 13:47:34.869 | INFO     | utils:call_api:68 - Collected 1 ticks for id = 135692\n",
      "2022-10-23 13:47:36.315 | INFO     | utils:call_api:68 - Collected 1 ticks for id = 135693\n",
      "2022-10-23 13:47:36.715 | INFO     | utils:call_api:68 - Collected 1 ticks for id = 135694\n",
      "2022-10-23 13:47:37.148 | INFO     | utils:call_api:68 - Collected 1 ticks for id = 135695\n",
      "2022-10-23 13:47:37.540 | INFO     | utils:call_api:68 - Collected 1 ticks for id = 135696\n",
      "2022-10-23 13:47:37.954 | INFO     | utils:call_api:68 - Collected 1 ticks for id = 135697\n",
      "2022-10-23 13:47:38.338 | INFO     | utils:call_api:68 - Collected 1 ticks for id = 135698\n",
      "2022-10-23 13:47:38.734 | INFO     | utils:call_api:68 - Collected 1 ticks for id = 135699\n",
      "2022-10-23 13:47:39.151 | INFO     | utils:call_api:68 - Collected 1 ticks for id = 135700\n",
      "2022-10-23 13:47:39.537 | INFO     | utils:call_api:68 - Collected 1 ticks for id = 135701\n",
      "2022-10-23 13:47:39.941 | INFO     | utils:call_api:68 - Collected 1 ticks for id = 135702\n",
      "2022-10-23 13:47:40.334 | INFO     | utils:call_api:68 - Collected 1 ticks for id = 135703\n",
      "2022-10-23 13:47:40.763 | INFO     | utils:call_api:68 - Collected 1 ticks for id = 135704\n",
      "2022-10-23 13:47:41.191 | INFO     | utils:call_api:68 - Collected 1 ticks for id = 135705\n",
      "2022-10-23 13:47:41.626 | INFO     | utils:call_api:68 - Collected 1 ticks for id = 135706\n",
      "2022-10-23 13:47:42.039 | INFO     | utils:call_api:68 - Collected 1 ticks for id = 135707\n"
     ]
    },
    {
     "data": {
      "image/png": "[encoded data removed]",
      "text/plain": [
       "<Figure size 640x480 with 1 Axes>"
      ]
     },
     "metadata": {},
     "output_type": "display_data"
    }
   ],
   "source": [
    "random_instrument = instruments_df.sample(1).iloc[0][\"instrument_name\"]\n",
    "single_strike = instruments_df[\n",
    "    (instruments_df[\"instrument_name\"].str.startswith(random_instrument[0:11])) \n",
    "#     (instruments_df[\"instrument_name\"].str.endswith(random_instrument[-1]))\n",
    "]\n",
    "single_strike_ids = single_strike.instrument_id.to_list()\n",
    "\n",
    "options = pd.DataFrame(columns = single_option.columns.values)\n",
    "for op_id in single_strike_ids:\n",
    "    option = collect_single_instrument_data(instrument_id = op_id, number_of_ticks = 1)\n",
    "    options = options.append(option)\n",
    "    \n",
    "plt.scatter(options[\"strike\"], options[\"mark_iv\"])\n",
    "plt.axvline(x=option.iloc[0][\"underlying_price\"])\n",
    "plt.show()"
   ]
  },
  {
   "cell_type": "code",
   "execution_count": 12,
   "id": "c852a3ac",
   "metadata": {},
   "outputs": [],
   "source": [
    "options.to_pickle(\"data/BTC-25NOV22.pkl\")"
   ]
  }
 ],
 "metadata": {
  "kernelspec": {
   "display_name": "Python 3 (ipykernel)",
   "language": "python",
   "name": "python3"
  },
  "language_info": {
   "codemirror_mode": {
    "name": "ipython",
    "version": 3
   },
   "file_extension": ".py",
   "mimetype": "text/x-python",
   "name": "python",
   "nbconvert_exporter": "python",
   "pygments_lexer": "ipython3",
   "version": "3.8.13"
  }
 },
 "nbformat": 4,
 "nbformat_minor": 5
}
