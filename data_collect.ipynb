{
 "cells": [
  {
   "cell_type": "code",
   "execution_count": 1,
   "id": "8c48e9a3",
   "metadata": {},
   "outputs": [],
   "source": [
    "import asyncio\n",
    "import websockets\n",
    "import json\n",
    "import pandas as pd\n",
    "import nest_asyncio\n",
    "import matplotlib.pyplot as plt\n",
    "nest_asyncio.apply()\n",
    "import warnings\n",
    "import numpy as np\n",
    "import datetime\n",
    "from utils import collect_all_instruments_ids, collect_single_instrument_data\n",
    "warnings.filterwarnings(\"ignore\")"
   ]
  },
  {
   "cell_type": "markdown",
   "id": "eef0f453",
   "metadata": {},
   "source": [
    "## Соберем все id-щники и опционы, которым они соответсвуют"
   ]
  },
  {
   "cell_type": "code",
   "execution_count": 2,
   "id": "a3f3d2ea",
   "metadata": {},
   "outputs": [
    {
     "data": {
      "text/html": [
       "<div>\n",
       "<style scoped>\n",
       "    .dataframe tbody tr th:only-of-type {\n",
       "        vertical-align: middle;\n",
       "    }\n",
       "\n",
       "    .dataframe tbody tr th {\n",
       "        vertical-align: top;\n",
       "    }\n",
       "\n",
       "    .dataframe thead th {\n",
       "        text-align: right;\n",
       "    }\n",
       "</style>\n",
       "<table border=\"1\" class=\"dataframe\">\n",
       "  <thead>\n",
       "    <tr style=\"text-align: right;\">\n",
       "      <th></th>\n",
       "      <th>instrument_name</th>\n",
       "      <th>instrument_id</th>\n",
       "    </tr>\n",
       "  </thead>\n",
       "  <tbody>\n",
       "    <tr>\n",
       "      <th>0</th>\n",
       "      <td>BTC-25OCT22-15000-C</td>\n",
       "      <td>140201</td>\n",
       "    </tr>\n",
       "    <tr>\n",
       "      <th>1</th>\n",
       "      <td>BTC-25OCT22-15000-P</td>\n",
       "      <td>140202</td>\n",
       "    </tr>\n",
       "    <tr>\n",
       "      <th>2</th>\n",
       "      <td>BTC-25OCT22-16000-C</td>\n",
       "      <td>140203</td>\n",
       "    </tr>\n",
       "    <tr>\n",
       "      <th>3</th>\n",
       "      <td>BTC-25OCT22-16000-P</td>\n",
       "      <td>140204</td>\n",
       "    </tr>\n",
       "    <tr>\n",
       "      <th>4</th>\n",
       "      <td>BTC-25OCT22-17000-C</td>\n",
       "      <td>140205</td>\n",
       "    </tr>\n",
       "  </tbody>\n",
       "</table>\n",
       "</div>"
      ],
      "text/plain": [
       "       instrument_name  instrument_id\n",
       "0  BTC-25OCT22-15000-C         140201\n",
       "1  BTC-25OCT22-15000-P         140202\n",
       "2  BTC-25OCT22-16000-C         140203\n",
       "3  BTC-25OCT22-16000-P         140204\n",
       "4  BTC-25OCT22-17000-C         140205"
      ]
     },
     "execution_count": 2,
     "metadata": {},
     "output_type": "execute_result"
    }
   ],
   "source": [
    "# все id-шники\n",
    "instruments_df = collect_all_instruments_ids()\n",
    "instruments_df.head(5)"
   ]
  },
  {
   "cell_type": "markdown",
   "id": "4d8f2e00",
   "metadata": {},
   "source": [
    "## Собираем данные по конкретному опциону"
   ]
  },
  {
   "cell_type": "code",
   "execution_count": 9,
   "id": "ec7235a6",
   "metadata": {},
   "outputs": [
    {
     "name": "stderr",
     "output_type": "stream",
     "text": [
      "2022-10-24 20:43:28.974 | INFO     | utils:call_api:68 - Collected 100 ticks for id = 130656\n"
     ]
    },
    {
     "data": {
      "text/html": [
       "<div>\n",
       "<style scoped>\n",
       "    .dataframe tbody tr th:only-of-type {\n",
       "        vertical-align: middle;\n",
       "    }\n",
       "\n",
       "    .dataframe tbody tr th {\n",
       "        vertical-align: top;\n",
       "    }\n",
       "\n",
       "    .dataframe thead th {\n",
       "        text-align: right;\n",
       "    }\n",
       "</style>\n",
       "<table border=\"1\" class=\"dataframe\">\n",
       "  <thead>\n",
       "    <tr style=\"text-align: right;\">\n",
       "      <th></th>\n",
       "      <th>instrument_name</th>\n",
       "      <th>timestamp</th>\n",
       "      <th>underlying_price</th>\n",
       "      <th>mark_iv</th>\n",
       "      <th>mark_price</th>\n",
       "      <th>best_bid_price</th>\n",
       "      <th>best_ask_price</th>\n",
       "      <th>human_timestamp</th>\n",
       "      <th>strike</th>\n",
       "    </tr>\n",
       "  </thead>\n",
       "  <tbody>\n",
       "    <tr>\n",
       "      <th>0</th>\n",
       "      <td>BTC-30JUN23-25000-P</td>\n",
       "      <td>1666633400528</td>\n",
       "      <td>19377.92</td>\n",
       "      <td>70.92</td>\n",
       "      <td>0.4324</td>\n",
       "      <td>0.0</td>\n",
       "      <td>0.0</td>\n",
       "      <td>2022-10-24 20:43:20.528000</td>\n",
       "      <td>25000</td>\n",
       "    </tr>\n",
       "    <tr>\n",
       "      <th>1</th>\n",
       "      <td>BTC-30JUN23-25000-P</td>\n",
       "      <td>1666633401539</td>\n",
       "      <td>19378.26</td>\n",
       "      <td>70.92</td>\n",
       "      <td>0.4324</td>\n",
       "      <td>0.0</td>\n",
       "      <td>0.0</td>\n",
       "      <td>2022-10-24 20:43:21.539000</td>\n",
       "      <td>25000</td>\n",
       "    </tr>\n",
       "    <tr>\n",
       "      <th>14</th>\n",
       "      <td>BTC-30JUN23-25000-P</td>\n",
       "      <td>1666633402545</td>\n",
       "      <td>19378.08</td>\n",
       "      <td>70.92</td>\n",
       "      <td>0.4324</td>\n",
       "      <td>0.0</td>\n",
       "      <td>0.0</td>\n",
       "      <td>2022-10-24 20:43:22.545000</td>\n",
       "      <td>25000</td>\n",
       "    </tr>\n",
       "    <tr>\n",
       "      <th>28</th>\n",
       "      <td>BTC-30JUN23-25000-P</td>\n",
       "      <td>1666633403551</td>\n",
       "      <td>19377.99</td>\n",
       "      <td>70.92</td>\n",
       "      <td>0.4324</td>\n",
       "      <td>0.0</td>\n",
       "      <td>0.0</td>\n",
       "      <td>2022-10-24 20:43:23.551000</td>\n",
       "      <td>25000</td>\n",
       "    </tr>\n",
       "    <tr>\n",
       "      <th>41</th>\n",
       "      <td>BTC-30JUN23-25000-P</td>\n",
       "      <td>1666633404556</td>\n",
       "      <td>19377.94</td>\n",
       "      <td>70.92</td>\n",
       "      <td>0.4324</td>\n",
       "      <td>0.0</td>\n",
       "      <td>0.0</td>\n",
       "      <td>2022-10-24 20:43:24.556000</td>\n",
       "      <td>25000</td>\n",
       "    </tr>\n",
       "  </tbody>\n",
       "</table>\n",
       "</div>"
      ],
      "text/plain": [
       "        instrument_name      timestamp  underlying_price  mark_iv  mark_price  \\\n",
       "0   BTC-30JUN23-25000-P  1666633400528          19377.92    70.92      0.4324   \n",
       "1   BTC-30JUN23-25000-P  1666633401539          19378.26    70.92      0.4324   \n",
       "14  BTC-30JUN23-25000-P  1666633402545          19378.08    70.92      0.4324   \n",
       "28  BTC-30JUN23-25000-P  1666633403551          19377.99    70.92      0.4324   \n",
       "41  BTC-30JUN23-25000-P  1666633404556          19377.94    70.92      0.4324   \n",
       "\n",
       "    best_bid_price  best_ask_price             human_timestamp  strike  \n",
       "0              0.0             0.0  2022-10-24 20:43:20.528000   25000  \n",
       "1              0.0             0.0  2022-10-24 20:43:21.539000   25000  \n",
       "14             0.0             0.0  2022-10-24 20:43:22.545000   25000  \n",
       "28             0.0             0.0  2022-10-24 20:43:23.551000   25000  \n",
       "41             0.0             0.0  2022-10-24 20:43:24.556000   25000  "
      ]
     },
     "execution_count": 9,
     "metadata": {},
     "output_type": "execute_result"
    }
   ],
   "source": [
    "# по конкретному опциону\n",
    "single_option = collect_single_instrument_data(instrument_id = int(instruments_df.sample(1).iloc[0].instrument_id), number_of_ticks = 100)\n",
    "single_option.head(5)"
   ]
  },
  {
   "cell_type": "markdown",
   "id": "e14279d1",
   "metadata": {},
   "source": [
    "## Собираем по одному тику для каждого опциона, чтобы узнать все страйки и их рыночные волатильности"
   ]
  },
  {
   "cell_type": "code",
   "execution_count": 14,
   "id": "a2911cb5",
   "metadata": {
    "scrolled": false
   },
   "outputs": [
    {
     "name": "stderr",
     "output_type": "stream",
     "text": [
      "2022-10-24 20:48:39.596 | INFO     | utils:call_api:68 - Collected 1 ticks for id = 130649\n",
      "2022-10-24 20:48:40.021 | INFO     | utils:call_api:68 - Collected 1 ticks for id = 130650\n",
      "2022-10-24 20:48:40.395 | INFO     | utils:call_api:68 - Collected 1 ticks for id = 131388\n",
      "2022-10-24 20:48:40.802 | INFO     | utils:call_api:68 - Collected 1 ticks for id = 131389\n",
      "2022-10-24 20:48:41.203 | INFO     | utils:call_api:68 - Collected 1 ticks for id = 130651\n",
      "2022-10-24 20:48:41.616 | INFO     | utils:call_api:68 - Collected 1 ticks for id = 130652\n",
      "2022-10-24 20:48:42.002 | INFO     | utils:call_api:68 - Collected 1 ticks for id = 131289\n",
      "2022-10-24 20:49:02.453 | INFO     | utils:call_api:68 - Collected 1 ticks for id = 131292\n",
      "2022-10-24 20:49:02.878 | INFO     | utils:call_api:68 - Collected 1 ticks for id = 130653\n",
      "2022-10-24 20:49:03.306 | INFO     | utils:call_api:68 - Collected 1 ticks for id = 130654\n",
      "2022-10-24 20:49:03.715 | INFO     | utils:call_api:68 - Collected 1 ticks for id = 131293\n",
      "2022-10-24 20:49:04.117 | INFO     | utils:call_api:68 - Collected 1 ticks for id = 131294\n",
      "2022-10-24 20:49:34.528 | INFO     | utils:call_api:68 - Collected 1 ticks for id = 130656\n",
      "2022-10-24 20:49:44.910 | INFO     | utils:call_api:68 - Collected 1 ticks for id = 131397\n",
      "2022-10-24 20:49:45.319 | INFO     | utils:call_api:68 - Collected 1 ticks for id = 131479\n",
      "2022-10-24 20:49:45.745 | INFO     | utils:call_api:68 - Collected 1 ticks for id = 131480\n",
      "2022-10-24 20:49:46.121 | INFO     | utils:call_api:68 - Collected 1 ticks for id = 130657\n",
      "2022-10-24 20:49:46.513 | INFO     | utils:call_api:68 - Collected 1 ticks for id = 130658\n",
      "2022-10-24 20:49:46.907 | INFO     | utils:call_api:68 - Collected 1 ticks for id = 130659\n",
      "2022-10-24 20:49:47.342 | INFO     | utils:call_api:68 - Collected 1 ticks for id = 130660\n",
      "2022-10-24 20:49:47.741 | INFO     | utils:call_api:68 - Collected 1 ticks for id = 131297\n",
      "2022-10-24 20:49:48.121 | INFO     | utils:call_api:68 - Collected 1 ticks for id = 131298\n",
      "2022-10-24 20:49:48.491 | INFO     | utils:call_api:68 - Collected 1 ticks for id = 130661\n",
      "2022-10-24 20:49:48.906 | INFO     | utils:call_api:68 - Collected 1 ticks for id = 130662\n",
      "2022-10-24 20:49:49.303 | INFO     | utils:call_api:68 - Collected 1 ticks for id = 131449\n",
      "2022-10-24 20:49:49.684 | INFO     | utils:call_api:68 - Collected 1 ticks for id = 131450\n",
      "2022-10-24 20:49:50.080 | INFO     | utils:call_api:68 - Collected 1 ticks for id = 130663\n",
      "2022-10-24 20:49:50.457 | INFO     | utils:call_api:68 - Collected 1 ticks for id = 130664\n"
     ]
    },
    {
     "data": {
      "image/png": "[encoded data removed]",
      "text/plain": [
       "<Figure size 640x480 with 1 Axes>"
      ]
     },
     "metadata": {},
     "output_type": "display_data"
    }
   ],
   "source": [
    "random_instrument = instruments_df.sample(1).iloc[0][\"instrument_name\"]\n",
    "single_strike = instruments_df[\n",
    "    (instruments_df[\"instrument_name\"].str.startswith(random_instrument[0:11])) \n",
    "#     (instruments_df[\"instrument_name\"].str.endswith(random_instrument[-1]))\n",
    "]\n",
    "single_strike_ids = single_strike.instrument_id.to_list()\n",
    "\n",
    "options = pd.DataFrame(columns = single_option.columns.values)\n",
    "for op_id in single_strike_ids:\n",
    "    try:\n",
    "        option = collect_single_instrument_data(instrument_id = op_id, number_of_ticks = 1)\n",
    "        options = options.append(option)\n",
    "    except:\n",
    "        continue\n",
    "    \n",
    "plt.scatter(options[\"strike\"], options[\"mark_iv\"])\n",
    "plt.axvline(x=option.iloc[0][\"underlying_price\"])\n",
    "plt.show()"
   ]
  },
  {
   "cell_type": "code",
   "execution_count": 13,
   "id": "3cb10c95",
   "metadata": {},
   "outputs": [
    {
     "name": "stdout",
     "output_type": "stream",
     "text": [
      "Expirety date: BTC-31MAR23\n"
     ]
    }
   ],
   "source": [
    "exp_date = options.iloc[0].instrument_name[:11]\n",
    "print(f\"Expirety date: {exp_date}\")\n",
    "options.to_pickle(f\"data/{exp_date}.pkl\")"
   ]
  }
 ],
 "metadata": {
  "kernelspec": {
   "display_name": "Python 3 (ipykernel)",
   "language": "python",
   "name": "python3"
  },
  "language_info": {
   "codemirror_mode": {
    "name": "ipython",
    "version": 3
   },
   "file_extension": ".py",
   "mimetype": "text/x-python",
   "name": "python",
   "nbconvert_exporter": "python",
   "pygments_lexer": "ipython3",
   "version": "3.10.6"
  }
 },
 "nbformat": 4,
 "nbformat_minor": 5
}
