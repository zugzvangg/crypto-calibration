{
 "cells": [
  {
   "cell_type": "code",
   "execution_count": 1,
   "id": "8c48e9a3",
   "metadata": {},
   "outputs": [],
   "source": [
    "import asyncio\n",
    "import websockets\n",
    "import json\n",
    "import pandas as pd\n",
    "import nest_asyncio\n",
    "import matplotlib.pyplot as plt\n",
    "nest_asyncio.apply()\n",
    "import warnings\n",
    "import numpy as np\n",
    "import datetime\n",
    "warnings.filterwarnings(\"ignore\")"
   ]
  },
  {
   "cell_type": "markdown",
   "id": "8e69abe1",
   "metadata": {},
   "source": [
    "# Первый метод"
   ]
  },
  {
   "cell_type": "code",
   "execution_count": 15,
   "id": "3b794965",
   "metadata": {
    "scrolled": true
   },
   "outputs": [],
   "source": [
    "# To subscribe to this channel:\n",
    "msg = \\\n",
    "    {\"jsonrpc\": \"2.0\",\n",
    "     \"method\": \"public/subscribe\",\n",
    "     \"id\": 42,\n",
    "     \"params\": {\n",
    "        \"channels\": [\"markprice.options.btc_usd\"]}\n",
    "    }\n",
    "# собираем ответы \n",
    "# просто код примера с сайте deribit-а\n",
    "responses = []\n",
    "async def call_api(msg):\n",
    "    async with websockets.connect('wss://test.deribit.com/ws/api/v2') as websocket:\n",
    "        await websocket.send(msg)\n",
    "        while websocket.open:\n",
    "            response = await websocket.recv()\n",
    "            responses.append(response)\n",
    "            \n",
    "asyncio.get_event_loop().run_until_complete(call_api(json.dumps(msg)))"
   ]
  },
  {
   "cell_type": "code",
   "execution_count": null,
   "id": "5abcc02e",
   "metadata": {},
   "outputs": [],
   "source": [
    "parsed = []\n",
    "columns = [\"timestamp\", \"mark_price\", \"iv\", \"instrument_name\"]\n",
    "data = pd.DataFrame(columns=columns)\n",
    "for response in responses:\n",
    "    resp_json = json.loads(response)\n",
    "    try:\n",
    "        singles = resp_json[\"params\"][\"data\"]\n",
    "    except:\n",
    "        continue\n",
    "    for single in singles:\n",
    "        data = data.append(pd.DataFrame([[single[\"timestamp\"], single[\"mark_price\"], single[\"iv\"], single[\"instrument_name\"]]], columns=columns))\n",
    "    "
   ]
  },
  {
   "cell_type": "code",
   "execution_count": 3,
   "id": "c5766a24",
   "metadata": {},
   "outputs": [],
   "source": [
    "data[\"human_timestamp\"] = data[\"timestamp\"].apply(lambda x : datetime.datetime.fromtimestamp(x/1000.0).strftime('%Y-%m-%d %H:%M:%S.%f'))\n"
   ]
  },
  {
   "cell_type": "code",
   "execution_count": 6,
   "id": "553e5729",
   "metadata": {},
   "outputs": [
    {
     "data": {
      "image/png": "[encoded data removed]",
      "text/plain": [
       "<Figure size 640x480 with 2 Axes>"
      ]
     },
     "metadata": {},
     "output_type": "display_data"
    }
   ],
   "source": [
    "sample = data[data[\"instrument_name\"] == data.instrument_name.sample(1).iloc[0]]\n",
    "fig, (ax0, ax1) = plt.subplots(2, 1)\n",
    "ax0.plot(sample[\"human_timestamp\"], sample[\"mark_price\"])\n",
    "ax0.set_title(\"mark_price\")\n",
    "ax1.plot(sample[\"human_timestamp\"], sample[\"iv\"])\n",
    "ax1.set_title(\"iv\")\n",
    "plt.show()\n"
   ]
  },
  {
   "cell_type": "code",
   "execution_count": 7,
   "id": "5a1dcb7e",
   "metadata": {},
   "outputs": [
    {
     "data": {
      "text/html": [
       "<div>\n",
       "<style scoped>\n",
       "    .dataframe tbody tr th:only-of-type {\n",
       "        vertical-align: middle;\n",
       "    }\n",
       "\n",
       "    .dataframe tbody tr th {\n",
       "        vertical-align: top;\n",
       "    }\n",
       "\n",
       "    .dataframe thead th {\n",
       "        text-align: right;\n",
       "    }\n",
       "</style>\n",
       "<table border=\"1\" class=\"dataframe\">\n",
       "  <thead>\n",
       "    <tr style=\"text-align: right;\">\n",
       "      <th></th>\n",
       "      <th>timestamp</th>\n",
       "      <th>mark_price</th>\n",
       "      <th>iv</th>\n",
       "      <th>instrument_name</th>\n",
       "      <th>human_timestamp</th>\n",
       "    </tr>\n",
       "  </thead>\n",
       "  <tbody>\n",
       "    <tr>\n",
       "      <th>0</th>\n",
       "      <td>1664392831477</td>\n",
       "      <td>0.1020</td>\n",
       "      <td>0.7908</td>\n",
       "      <td>BTC-29SEP22-21500-P</td>\n",
       "      <td>2022-09-28 22:20:31.477000</td>\n",
       "    </tr>\n",
       "    <tr>\n",
       "      <th>0</th>\n",
       "      <td>1664392834491</td>\n",
       "      <td>0.1018</td>\n",
       "      <td>0.7908</td>\n",
       "      <td>BTC-29SEP22-21500-P</td>\n",
       "      <td>2022-09-28 22:20:34.491000</td>\n",
       "    </tr>\n",
       "    <tr>\n",
       "      <th>0</th>\n",
       "      <td>1664392836499</td>\n",
       "      <td>0.1016</td>\n",
       "      <td>0.7908</td>\n",
       "      <td>BTC-29SEP22-21500-P</td>\n",
       "      <td>2022-09-28 22:20:36.499000</td>\n",
       "    </tr>\n",
       "    <tr>\n",
       "      <th>0</th>\n",
       "      <td>1664392845535</td>\n",
       "      <td>0.1017</td>\n",
       "      <td>0.7908</td>\n",
       "      <td>BTC-29SEP22-21500-P</td>\n",
       "      <td>2022-09-28 22:20:45.535000</td>\n",
       "    </tr>\n",
       "    <tr>\n",
       "      <th>0</th>\n",
       "      <td>1664392846539</td>\n",
       "      <td>0.1020</td>\n",
       "      <td>0.7908</td>\n",
       "      <td>BTC-29SEP22-21500-P</td>\n",
       "      <td>2022-09-28 22:20:46.539000</td>\n",
       "    </tr>\n",
       "    <tr>\n",
       "      <th>0</th>\n",
       "      <td>1664392847543</td>\n",
       "      <td>0.1021</td>\n",
       "      <td>0.7908</td>\n",
       "      <td>BTC-29SEP22-21500-P</td>\n",
       "      <td>2022-09-28 22:20:47.543000</td>\n",
       "    </tr>\n",
       "    <tr>\n",
       "      <th>0</th>\n",
       "      <td>1664392848546</td>\n",
       "      <td>0.1022</td>\n",
       "      <td>0.7908</td>\n",
       "      <td>BTC-29SEP22-21500-P</td>\n",
       "      <td>2022-09-28 22:20:48.546000</td>\n",
       "    </tr>\n",
       "    <tr>\n",
       "      <th>0</th>\n",
       "      <td>1664392850554</td>\n",
       "      <td>0.1023</td>\n",
       "      <td>0.7908</td>\n",
       "      <td>BTC-29SEP22-21500-P</td>\n",
       "      <td>2022-09-28 22:20:50.554000</td>\n",
       "    </tr>\n",
       "    <tr>\n",
       "      <th>0</th>\n",
       "      <td>1664392853566</td>\n",
       "      <td>0.1025</td>\n",
       "      <td>0.7908</td>\n",
       "      <td>BTC-29SEP22-21500-P</td>\n",
       "      <td>2022-09-28 22:20:53.566000</td>\n",
       "    </tr>\n",
       "    <tr>\n",
       "      <th>0</th>\n",
       "      <td>1664392855575</td>\n",
       "      <td>0.1029</td>\n",
       "      <td>0.7908</td>\n",
       "      <td>BTC-29SEP22-21500-P</td>\n",
       "      <td>2022-09-28 22:20:55.575000</td>\n",
       "    </tr>\n",
       "  </tbody>\n",
       "</table>\n",
       "</div>"
      ],
      "text/plain": [
       "       timestamp  mark_price      iv      instrument_name  \\\n",
       "0  1664392831477      0.1020  0.7908  BTC-29SEP22-21500-P   \n",
       "0  1664392834491      0.1018  0.7908  BTC-29SEP22-21500-P   \n",
       "0  1664392836499      0.1016  0.7908  BTC-29SEP22-21500-P   \n",
       "0  1664392845535      0.1017  0.7908  BTC-29SEP22-21500-P   \n",
       "0  1664392846539      0.1020  0.7908  BTC-29SEP22-21500-P   \n",
       "0  1664392847543      0.1021  0.7908  BTC-29SEP22-21500-P   \n",
       "0  1664392848546      0.1022  0.7908  BTC-29SEP22-21500-P   \n",
       "0  1664392850554      0.1023  0.7908  BTC-29SEP22-21500-P   \n",
       "0  1664392853566      0.1025  0.7908  BTC-29SEP22-21500-P   \n",
       "0  1664392855575      0.1029  0.7908  BTC-29SEP22-21500-P   \n",
       "\n",
       "              human_timestamp  \n",
       "0  2022-09-28 22:20:31.477000  \n",
       "0  2022-09-28 22:20:34.491000  \n",
       "0  2022-09-28 22:20:36.499000  \n",
       "0  2022-09-28 22:20:45.535000  \n",
       "0  2022-09-28 22:20:46.539000  \n",
       "0  2022-09-28 22:20:47.543000  \n",
       "0  2022-09-28 22:20:48.546000  \n",
       "0  2022-09-28 22:20:50.554000  \n",
       "0  2022-09-28 22:20:53.566000  \n",
       "0  2022-09-28 22:20:55.575000  "
      ]
     },
     "execution_count": 7,
     "metadata": {},
     "output_type": "execute_result"
    }
   ],
   "source": [
    "sample.sort_values(by = \"timestamp\").drop_duplicates().tail(10)"
   ]
  },
  {
   "cell_type": "code",
   "execution_count": null,
   "id": "0c47be93",
   "metadata": {},
   "outputs": [],
   "source": [
    "data.to_pickle(\"options.pkl\")"
   ]
  },
  {
   "cell_type": "markdown",
   "id": "bf528b43",
   "metadata": {},
   "source": [
    "# Второй метод"
   ]
  },
  {
   "cell_type": "markdown",
   "id": "eef0f453",
   "metadata": {},
   "source": [
    "## Соберем все id-щники и опционы, которым они соответсвуют"
   ]
  },
  {
   "cell_type": "code",
   "execution_count": 2,
   "id": "29b3c8e3",
   "metadata": {
    "scrolled": true
   },
   "outputs": [],
   "source": [
    "msg = \\\n",
    "{\n",
    "  \"jsonrpc\" : \"2.0\",\n",
    "  # \"id\" : 7617,\n",
    "  \"method\" : \"public/get_instruments\",\n",
    "  \"params\" : {\n",
    "    \"currency\" : \"BTC\",\n",
    "    \"kind\" : \"option\",\n",
    "    \"expired\" : False\n",
    "  }\n",
    "}\n",
    "\n",
    "async def call_api(msg):\n",
    "    async with websockets.connect('wss://test.deribit.com/ws/api/v2') as websocket:\n",
    "        await websocket.send(msg)\n",
    "        while websocket.open:\n",
    "            response = await websocket.recv()\n",
    "            return json.loads(response)\n",
    "\n",
    "\n",
    "instruments = asyncio.get_event_loop().run_until_complete(call_api(json.dumps(msg)))\n",
    "instruments_df = []\n",
    "for instrument in instruments[\"result\"]:\n",
    "    instruments_df.append([instrument[\"instrument_name\"], instrument[\"instrument_id\"]])\n",
    "instruments_df = pd.DataFrame(instruments_df, columns = [\"instrument_name\", \"instrument_id\"])\n"
   ]
  },
  {
   "cell_type": "code",
   "execution_count": 3,
   "id": "a3f3d2ea",
   "metadata": {},
   "outputs": [
    {
     "data": {
      "text/html": [
       "<div>\n",
       "<style scoped>\n",
       "    .dataframe tbody tr th:only-of-type {\n",
       "        vertical-align: middle;\n",
       "    }\n",
       "\n",
       "    .dataframe tbody tr th {\n",
       "        vertical-align: top;\n",
       "    }\n",
       "\n",
       "    .dataframe thead th {\n",
       "        text-align: right;\n",
       "    }\n",
       "</style>\n",
       "<table border=\"1\" class=\"dataframe\">\n",
       "  <thead>\n",
       "    <tr style=\"text-align: right;\">\n",
       "      <th></th>\n",
       "      <th>instrument_name</th>\n",
       "      <th>instrument_id</th>\n",
       "    </tr>\n",
       "  </thead>\n",
       "  <tbody>\n",
       "    <tr>\n",
       "      <th>0</th>\n",
       "      <td>BTC-20OCT22-16000-C</td>\n",
       "      <td>139861</td>\n",
       "    </tr>\n",
       "    <tr>\n",
       "      <th>1</th>\n",
       "      <td>BTC-20OCT22-16000-P</td>\n",
       "      <td>139862</td>\n",
       "    </tr>\n",
       "    <tr>\n",
       "      <th>2</th>\n",
       "      <td>BTC-20OCT22-17000-C</td>\n",
       "      <td>139863</td>\n",
       "    </tr>\n",
       "    <tr>\n",
       "      <th>3</th>\n",
       "      <td>BTC-20OCT22-17000-P</td>\n",
       "      <td>139864</td>\n",
       "    </tr>\n",
       "    <tr>\n",
       "      <th>4</th>\n",
       "      <td>BTC-20OCT22-17500-C</td>\n",
       "      <td>139865</td>\n",
       "    </tr>\n",
       "    <tr>\n",
       "      <th>...</th>\n",
       "      <td>...</td>\n",
       "      <td>...</td>\n",
       "    </tr>\n",
       "    <tr>\n",
       "      <th>283</th>\n",
       "      <td>BTC-29SEP23-30000-P</td>\n",
       "      <td>138449</td>\n",
       "    </tr>\n",
       "    <tr>\n",
       "      <th>284</th>\n",
       "      <td>BTC-29SEP23-40000-C</td>\n",
       "      <td>138450</td>\n",
       "    </tr>\n",
       "    <tr>\n",
       "      <th>285</th>\n",
       "      <td>BTC-29SEP23-40000-P</td>\n",
       "      <td>138451</td>\n",
       "    </tr>\n",
       "    <tr>\n",
       "      <th>286</th>\n",
       "      <td>BTC-29SEP23-50000-C</td>\n",
       "      <td>138452</td>\n",
       "    </tr>\n",
       "    <tr>\n",
       "      <th>287</th>\n",
       "      <td>BTC-29SEP23-50000-P</td>\n",
       "      <td>138453</td>\n",
       "    </tr>\n",
       "  </tbody>\n",
       "</table>\n",
       "<p>288 rows × 2 columns</p>\n",
       "</div>"
      ],
      "text/plain": [
       "         instrument_name  instrument_id\n",
       "0    BTC-20OCT22-16000-C         139861\n",
       "1    BTC-20OCT22-16000-P         139862\n",
       "2    BTC-20OCT22-17000-C         139863\n",
       "3    BTC-20OCT22-17000-P         139864\n",
       "4    BTC-20OCT22-17500-C         139865\n",
       "..                   ...            ...\n",
       "283  BTC-29SEP23-30000-P         138449\n",
       "284  BTC-29SEP23-40000-C         138450\n",
       "285  BTC-29SEP23-40000-P         138451\n",
       "286  BTC-29SEP23-50000-C         138452\n",
       "287  BTC-29SEP23-50000-P         138453\n",
       "\n",
       "[288 rows x 2 columns]"
      ]
     },
     "execution_count": 3,
     "metadata": {},
     "output_type": "execute_result"
    }
   ],
   "source": [
    "instruments_df"
   ]
  },
  {
   "cell_type": "markdown",
   "id": "4d8f2e00",
   "metadata": {},
   "source": [
    "## Собираем данные по конкретному опциону"
   ]
  },
  {
   "cell_type": "code",
   "execution_count": null,
   "id": "a2911cb5",
   "metadata": {
    "scrolled": true
   },
   "outputs": [],
   "source": [
    "msg = \\\n",
    "    {\"jsonrpc\": \"2.0\",\n",
    "     \"method\": \"public/get_order_book_by_instrument_id\",\n",
    "     # ранломный id опциона из датафрейма выше\n",
    "     \"id\": 138449,\n",
    "     \"params\": {\n",
    "        \"instrument_id\": 138449,\n",
    "        \"depth\": 5.0}\n",
    "    }\n",
    "async def call_api(msg):\n",
    "    prices = []\n",
    "    counter = 0\n",
    "    max_counter = 10000\n",
    "    async with websockets.connect('wss://test.deribit.com/ws/api/v2') as websocket:\n",
    "        while websocket.open:\n",
    "            if counter>=max_counter:\n",
    "                break\n",
    "            await websocket.send(msg)\n",
    "            response = await websocket.recv()\n",
    "            # print(response)\n",
    "            prices.append(json.loads(response))\n",
    "            counter+=1\n",
    "            continue\n",
    "    return prices\n",
    "            \n",
    "prices = asyncio.get_event_loop().run_until_complete(call_api(json.dumps(msg)))"
   ]
  },
  {
   "cell_type": "code",
   "execution_count": null,
   "id": "692de663",
   "metadata": {},
   "outputs": [],
   "source": [
    "df = []\n",
    "columns = [\"instrument_name\", \"timestamp\", \"mark_iv\", \"mark_price\", \"best_bid_price\", \"best_ask_price\"]\n",
    "for result in prices:\n",
    "    df.append([result[\"result\"][\"instrument_name\"], \n",
    "          result[\"result\"][\"timestamp\"],\n",
    "          result[\"result\"][\"mark_iv\"], \n",
    "          result[\"result\"][\"mark_price\"],\n",
    "          result[\"result\"][\"best_bid_price\"],\n",
    "          result[\"result\"][\"best_ask_price\"]]) \n",
    "df = pd.DataFrame(df, columns = columns)\n",
    "df[\"human_timestamp\"] = df[\"timestamp\"].apply(lambda x : datetime.datetime.fromtimestamp(x/1000.0).strftime('%Y-%m-%d %H:%M:%S.%f'))\n",
    "df = df.drop_duplicates()\n"
   ]
  },
  {
   "cell_type": "code",
   "execution_count": null,
   "id": "8707fec0",
   "metadata": {},
   "outputs": [],
   "source": [
    "fig, (ax0, ax1) = plt.subplots(2, 1)\n",
    "ax0.plot(df[\"human_timestamp\"], df[\"best_ask_price\"])\n",
    "ax0.plot(df[\"human_timestamp\"], df[\"best_bid_price\"])\n",
    "ax0.plot(df[\"human_timestamp\"], df[\"mark_price\"])\n",
    "\n",
    "ax0.set_title(\"mark_price\")\n",
    "ax1.plot(df[\"human_timestamp\"], df[\"mark_iv\"])\n",
    "ax1.set_title(\"iv\")\n",
    "plt.show()\n"
   ]
  },
  {
   "cell_type": "code",
   "execution_count": null,
   "id": "90cd3649",
   "metadata": {},
   "outputs": [],
   "source": [
    "df.to_pickle(\"BTC-29SEP23-30000-P.pkl\")"
   ]
  }
 ],
 "metadata": {
  "kernelspec": {
   "display_name": "Python 3 (ipykernel)",
   "language": "python",
   "name": "python3"
  },
  "language_info": {
   "codemirror_mode": {
    "name": "ipython",
    "version": 3
   },
   "file_extension": ".py",
   "mimetype": "text/x-python",
   "name": "python",
   "nbconvert_exporter": "python",
   "pygments_lexer": "ipython3",
   "version": "3.10.6"
  }
 },
 "nbformat": 4,
 "nbformat_minor": 5
}
