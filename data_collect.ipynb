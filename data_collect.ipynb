{
 "cells": [
  {
   "cell_type": "code",
   "execution_count": 1,
   "id": "8c48e9a3",
   "metadata": {},
   "outputs": [],
   "source": [
    "import asyncio\n",
    "import websockets\n",
    "import json\n",
    "import pandas as pd\n",
    "import nest_asyncio\n",
    "import matplotlib.pyplot as plt\n",
    "nest_asyncio.apply()\n",
    "import warnings\n",
    "import numpy as np\n",
    "import datetime\n",
    "from utils import collect_all_instruments_ids, collect_single_instrument_data\n",
    "warnings.filterwarnings(\"ignore\")"
   ]
  },
  {
   "cell_type": "markdown",
   "id": "eef0f453",
   "metadata": {},
   "source": [
    "## Соберем все id-щники и опционы, которым они соответсвуют"
   ]
  },
  {
   "cell_type": "code",
   "execution_count": 2,
   "id": "a3f3d2ea",
   "metadata": {},
   "outputs": [
    {
     "data": {
      "text/html": [
       "<div>\n",
       "<style scoped>\n",
       "    .dataframe tbody tr th:only-of-type {\n",
       "        vertical-align: middle;\n",
       "    }\n",
       "\n",
       "    .dataframe tbody tr th {\n",
       "        vertical-align: top;\n",
       "    }\n",
       "\n",
       "    .dataframe thead th {\n",
       "        text-align: right;\n",
       "    }\n",
       "</style>\n",
       "<table border=\"1\" class=\"dataframe\">\n",
       "  <thead>\n",
       "    <tr style=\"text-align: right;\">\n",
       "      <th></th>\n",
       "      <th>instrument_name</th>\n",
       "      <th>instrument_id</th>\n",
       "    </tr>\n",
       "  </thead>\n",
       "  <tbody>\n",
       "    <tr>\n",
       "      <th>0</th>\n",
       "      <td>BTC-28OCT22-14000-C</td>\n",
       "      <td>132634</td>\n",
       "    </tr>\n",
       "    <tr>\n",
       "      <th>1</th>\n",
       "      <td>BTC-28OCT22-14000-P</td>\n",
       "      <td>132635</td>\n",
       "    </tr>\n",
       "    <tr>\n",
       "      <th>2</th>\n",
       "      <td>BTC-28OCT22-16000-C</td>\n",
       "      <td>132636</td>\n",
       "    </tr>\n",
       "    <tr>\n",
       "      <th>3</th>\n",
       "      <td>BTC-28OCT22-16000-P</td>\n",
       "      <td>132637</td>\n",
       "    </tr>\n",
       "    <tr>\n",
       "      <th>4</th>\n",
       "      <td>BTC-28OCT22-17000-C</td>\n",
       "      <td>132638</td>\n",
       "    </tr>\n",
       "  </tbody>\n",
       "</table>\n",
       "</div>"
      ],
      "text/plain": [
       "       instrument_name  instrument_id\n",
       "0  BTC-28OCT22-14000-C         132634\n",
       "1  BTC-28OCT22-14000-P         132635\n",
       "2  BTC-28OCT22-16000-C         132636\n",
       "3  BTC-28OCT22-16000-P         132637\n",
       "4  BTC-28OCT22-17000-C         132638"
      ]
     },
     "execution_count": 2,
     "metadata": {},
     "output_type": "execute_result"
    }
   ],
   "source": [
    "# все id-шники\n",
    "instruments_df = collect_all_instruments_ids()\n",
    "instruments_df.head(5)"
   ]
  },
  {
   "cell_type": "markdown",
   "id": "4d8f2e00",
   "metadata": {},
   "source": [
    "## Собираем данные по конкретному опциону"
   ]
  },
  {
   "cell_type": "code",
   "execution_count": 3,
   "id": "ec7235a6",
   "metadata": {},
   "outputs": [
    {
     "name": "stderr",
     "output_type": "stream",
     "text": [
      "2022-10-27 22:39:54.918 | INFO     | utils:call_api:68 - Collected 100 ticks for id = 132652\n"
     ]
    },
    {
     "data": {
      "text/html": [
       "<div>\n",
       "<style scoped>\n",
       "    .dataframe tbody tr th:only-of-type {\n",
       "        vertical-align: middle;\n",
       "    }\n",
       "\n",
       "    .dataframe tbody tr th {\n",
       "        vertical-align: top;\n",
       "    }\n",
       "\n",
       "    .dataframe thead th {\n",
       "        text-align: right;\n",
       "    }\n",
       "</style>\n",
       "<table border=\"1\" class=\"dataframe\">\n",
       "  <thead>\n",
       "    <tr style=\"text-align: right;\">\n",
       "      <th></th>\n",
       "      <th>instrument_name</th>\n",
       "      <th>timestamp</th>\n",
       "      <th>underlying_price</th>\n",
       "      <th>mark_iv</th>\n",
       "      <th>mark_price</th>\n",
       "      <th>best_bid_price</th>\n",
       "      <th>best_ask_price</th>\n",
       "      <th>human_timestamp</th>\n",
       "      <th>strike</th>\n",
       "    </tr>\n",
       "  </thead>\n",
       "  <tbody>\n",
       "    <tr>\n",
       "      <th>0</th>\n",
       "      <td>BTC-28OCT22-24000-C</td>\n",
       "      <td>1666899588082</td>\n",
       "      <td>20649.42</td>\n",
       "      <td>191.82</td>\n",
       "      <td>0.0005</td>\n",
       "      <td>0.0</td>\n",
       "      <td>0.001</td>\n",
       "      <td>2022-10-27 22:39:48.082000</td>\n",
       "      <td>24000</td>\n",
       "    </tr>\n",
       "    <tr>\n",
       "      <th>12</th>\n",
       "      <td>BTC-28OCT22-24000-C</td>\n",
       "      <td>1666899589089</td>\n",
       "      <td>20649.04</td>\n",
       "      <td>191.82</td>\n",
       "      <td>0.0005</td>\n",
       "      <td>0.0</td>\n",
       "      <td>0.001</td>\n",
       "      <td>2022-10-27 22:39:49.089000</td>\n",
       "      <td>24000</td>\n",
       "    </tr>\n",
       "    <tr>\n",
       "      <th>27</th>\n",
       "      <td>BTC-28OCT22-24000-C</td>\n",
       "      <td>1666899590096</td>\n",
       "      <td>20649.29</td>\n",
       "      <td>191.82</td>\n",
       "      <td>0.0005</td>\n",
       "      <td>0.0</td>\n",
       "      <td>0.001</td>\n",
       "      <td>2022-10-27 22:39:50.096000</td>\n",
       "      <td>24000</td>\n",
       "    </tr>\n",
       "    <tr>\n",
       "      <th>42</th>\n",
       "      <td>BTC-28OCT22-24000-C</td>\n",
       "      <td>1666899591108</td>\n",
       "      <td>20649.44</td>\n",
       "      <td>191.82</td>\n",
       "      <td>0.0005</td>\n",
       "      <td>0.0</td>\n",
       "      <td>0.001</td>\n",
       "      <td>2022-10-27 22:39:51.108000</td>\n",
       "      <td>24000</td>\n",
       "    </tr>\n",
       "    <tr>\n",
       "      <th>57</th>\n",
       "      <td>BTC-28OCT22-24000-C</td>\n",
       "      <td>1666899592112</td>\n",
       "      <td>20649.48</td>\n",
       "      <td>191.82</td>\n",
       "      <td>0.0005</td>\n",
       "      <td>0.0</td>\n",
       "      <td>0.001</td>\n",
       "      <td>2022-10-27 22:39:52.112000</td>\n",
       "      <td>24000</td>\n",
       "    </tr>\n",
       "  </tbody>\n",
       "</table>\n",
       "</div>"
      ],
      "text/plain": [
       "        instrument_name      timestamp  underlying_price  mark_iv  mark_price  \\\n",
       "0   BTC-28OCT22-24000-C  1666899588082          20649.42   191.82      0.0005   \n",
       "12  BTC-28OCT22-24000-C  1666899589089          20649.04   191.82      0.0005   \n",
       "27  BTC-28OCT22-24000-C  1666899590096          20649.29   191.82      0.0005   \n",
       "42  BTC-28OCT22-24000-C  1666899591108          20649.44   191.82      0.0005   \n",
       "57  BTC-28OCT22-24000-C  1666899592112          20649.48   191.82      0.0005   \n",
       "\n",
       "    best_bid_price  best_ask_price             human_timestamp  strike  \n",
       "0              0.0           0.001  2022-10-27 22:39:48.082000   24000  \n",
       "12             0.0           0.001  2022-10-27 22:39:49.089000   24000  \n",
       "27             0.0           0.001  2022-10-27 22:39:50.096000   24000  \n",
       "42             0.0           0.001  2022-10-27 22:39:51.108000   24000  \n",
       "57             0.0           0.001  2022-10-27 22:39:52.112000   24000  "
      ]
     },
     "execution_count": 3,
     "metadata": {},
     "output_type": "execute_result"
    }
   ],
   "source": [
    "# по конкретному опциону\n",
    "single_option = collect_single_instrument_data(instrument_id = int(instruments_df.sample(1).iloc[0].instrument_id), number_of_ticks = 100)\n",
    "single_option.head(5)"
   ]
  },
  {
   "cell_type": "markdown",
   "id": "e14279d1",
   "metadata": {},
   "source": [
    "## Собираем по одному тику для каждого опциона, чтобы узнать все страйки и их рыночные волатильности"
   ]
  },
  {
   "cell_type": "code",
   "execution_count": 8,
   "id": "a2911cb5",
   "metadata": {
    "scrolled": false
   },
   "outputs": [
    {
     "name": "stderr",
     "output_type": "stream",
     "text": [
      "2022-10-27 22:40:32.409 | INFO     | utils:call_api:68 - Collected 1 ticks for id = 140468\n",
      "2022-10-27 22:40:32.778 | INFO     | utils:call_api:68 - Collected 1 ticks for id = 140469\n",
      "2022-10-27 22:40:33.143 | INFO     | utils:call_api:68 - Collected 1 ticks for id = 140470\n",
      "2022-10-27 22:40:33.523 | INFO     | utils:call_api:68 - Collected 1 ticks for id = 140471\n",
      "2022-10-27 22:40:33.890 | INFO     | utils:call_api:68 - Collected 1 ticks for id = 140472\n",
      "2022-10-27 22:40:54.266 | INFO     | utils:call_api:68 - Collected 1 ticks for id = 140474\n",
      "2022-10-27 22:40:54.650 | INFO     | utils:call_api:68 - Collected 1 ticks for id = 140475\n",
      "2022-10-27 22:40:55.022 | INFO     | utils:call_api:68 - Collected 1 ticks for id = 140476\n",
      "2022-10-27 22:40:55.385 | INFO     | utils:call_api:68 - Collected 1 ticks for id = 140477\n",
      "2022-10-27 22:40:55.765 | INFO     | utils:call_api:68 - Collected 1 ticks for id = 140478\n",
      "2022-10-27 22:40:56.137 | INFO     | utils:call_api:68 - Collected 1 ticks for id = 140479\n",
      "2022-10-27 22:40:56.505 | INFO     | utils:call_api:68 - Collected 1 ticks for id = 140480\n",
      "2022-10-27 22:40:56.879 | INFO     | utils:call_api:68 - Collected 1 ticks for id = 140481\n",
      "2022-10-27 22:40:57.269 | INFO     | utils:call_api:68 - Collected 1 ticks for id = 140482\n",
      "2022-10-27 22:40:57.642 | INFO     | utils:call_api:68 - Collected 1 ticks for id = 140483\n",
      "2022-10-27 22:40:58.012 | INFO     | utils:call_api:68 - Collected 1 ticks for id = 140484\n",
      "2022-10-27 22:40:58.561 | INFO     | utils:call_api:68 - Collected 1 ticks for id = 140485\n",
      "2022-10-27 22:40:58.940 | INFO     | utils:call_api:68 - Collected 1 ticks for id = 140486\n",
      "2022-10-27 22:40:59.313 | INFO     | utils:call_api:68 - Collected 1 ticks for id = 140487\n",
      "2022-10-27 22:40:59.679 | INFO     | utils:call_api:68 - Collected 1 ticks for id = 140488\n",
      "2022-10-27 22:41:00.205 | INFO     | utils:call_api:68 - Collected 1 ticks for id = 140489\n",
      "2022-10-27 22:41:00.575 | INFO     | utils:call_api:68 - Collected 1 ticks for id = 140542\n",
      "2022-10-27 22:41:01.091 | INFO     | utils:call_api:68 - Collected 1 ticks for id = 140543\n",
      "2022-10-27 22:41:01.472 | INFO     | utils:call_api:68 - Collected 1 ticks for id = 140490\n",
      "2022-10-27 22:41:01.838 | INFO     | utils:call_api:68 - Collected 1 ticks for id = 140491\n",
      "2022-10-27 22:41:02.343 | INFO     | utils:call_api:68 - Collected 1 ticks for id = 140492\n",
      "2022-10-27 22:41:02.710 | INFO     | utils:call_api:68 - Collected 1 ticks for id = 140493\n",
      "2022-10-27 22:41:03.094 | INFO     | utils:call_api:68 - Collected 1 ticks for id = 140494\n",
      "2022-10-27 22:41:03.615 | INFO     | utils:call_api:68 - Collected 1 ticks for id = 140495\n",
      "2022-10-27 22:41:04.116 | INFO     | utils:call_api:68 - Collected 1 ticks for id = 140496\n",
      "2022-10-27 22:41:04.499 | INFO     | utils:call_api:68 - Collected 1 ticks for id = 140497\n",
      "2022-10-27 22:41:04.869 | INFO     | utils:call_api:68 - Collected 1 ticks for id = 140498\n",
      "2022-10-27 22:41:05.377 | INFO     | utils:call_api:68 - Collected 1 ticks for id = 140499\n"
     ]
    },
    {
     "data": {
      "image/png": "[encoded data removed]",
      "text/plain": [
       "<Figure size 640x480 with 1 Axes>"
      ]
     },
     "metadata": {},
     "output_type": "display_data"
    }
   ],
   "source": [
    "random_instrument = instruments_df.sample(1).iloc[0][\"instrument_name\"]\n",
    "single_strike = instruments_df[\n",
    "    (instruments_df[\"instrument_name\"].str.startswith(random_instrument[0:11])) \n",
    "#     (instruments_df[\"instrument_name\"].str.endswith(random_instrument[-1]))\n",
    "]\n",
    "single_strike_ids = single_strike.instrument_id.to_list()\n",
    "\n",
    "options = pd.DataFrame(columns = single_option.columns.values)\n",
    "for op_id in single_strike_ids:\n",
    "    try:\n",
    "        option = collect_single_instrument_data(instrument_id = op_id, number_of_ticks = 1)\n",
    "        options = options.append(option)\n",
    "    except:\n",
    "        continue\n",
    "    \n",
    "plt.scatter(options[\"strike\"], options[\"mark_iv\"])\n",
    "plt.axvline(x=option.iloc[0][\"underlying_price\"])\n",
    "plt.show()"
   ]
  },
  {
   "cell_type": "code",
   "execution_count": 7,
   "id": "3cb10c95",
   "metadata": {},
   "outputs": [
    {
     "name": "stdout",
     "output_type": "stream",
     "text": [
      "Expirety date: BTC-27JAN23\n"
     ]
    }
   ],
   "source": [
    "exp_date = options.iloc[0].instrument_name[:11]\n",
    "print(f\"Expirety date: {exp_date}\")\n",
    "options.to_pickle(f\"data/{exp_date}.pkl\")"
   ]
  }
 ],
 "metadata": {
  "kernelspec": {
   "display_name": "Python 3.10.6 ('.venv': poetry)",
   "language": "python",
   "name": "python3"
  },
  "language_info": {
   "codemirror_mode": {
    "name": "ipython",
    "version": 3
   },
   "file_extension": ".py",
   "mimetype": "text/x-python",
   "name": "python",
   "nbconvert_exporter": "python",
   "pygments_lexer": "ipython3",
   "version": "3.10.6"
  },
  "vscode": {
   "interpreter": {
    "hash": "ac9509ee90b234574dc77e9356e283122dc105166bd8fba1299d6be8b3dd0f25"
   }
  }
 },
 "nbformat": 4,
 "nbformat_minor": 5
}
