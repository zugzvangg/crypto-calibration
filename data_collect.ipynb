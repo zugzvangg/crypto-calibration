{
 "cells": [
  {
   "cell_type": "code",
   "execution_count": 2,
   "id": "8c48e9a3",
   "metadata": {},
   "outputs": [],
   "source": [
    "import asyncio\n",
    "import websockets\n",
    "import json\n",
    "import pandas as pd\n",
    "import nest_asyncio\n",
    "import matplotlib.pyplot as plt\n",
    "nest_asyncio.apply()\n",
    "import warnings\n",
    "import numpy as np\n",
    "import datetime\n",
    "from utils import collect_all_instruments_ids, collect_single_instrument_data\n",
    "warnings.filterwarnings(\"ignore\")"
   ]
  },
  {
   "cell_type": "markdown",
   "id": "eef0f453",
   "metadata": {},
   "source": [
    "## Соберем все id-щники и опционы, которым они соответсвуют"
   ]
  },
  {
   "cell_type": "code",
   "execution_count": 6,
   "id": "a3f3d2ea",
   "metadata": {},
   "outputs": [
    {
     "data": {
      "text/html": [
       "<div>\n",
       "<style scoped>\n",
       "    .dataframe tbody tr th:only-of-type {\n",
       "        vertical-align: middle;\n",
       "    }\n",
       "\n",
       "    .dataframe tbody tr th {\n",
       "        vertical-align: top;\n",
       "    }\n",
       "\n",
       "    .dataframe thead th {\n",
       "        text-align: right;\n",
       "    }\n",
       "</style>\n",
       "<table border=\"1\" class=\"dataframe\">\n",
       "  <thead>\n",
       "    <tr style=\"text-align: right;\">\n",
       "      <th></th>\n",
       "      <th>instrument_name</th>\n",
       "      <th>instrument_id</th>\n",
       "    </tr>\n",
       "  </thead>\n",
       "  <tbody>\n",
       "    <tr>\n",
       "      <th>0</th>\n",
       "      <td>BTC-23OCT22-15000-C</td>\n",
       "      <td>140054</td>\n",
       "    </tr>\n",
       "    <tr>\n",
       "      <th>1</th>\n",
       "      <td>BTC-23OCT22-15000-P</td>\n",
       "      <td>140055</td>\n",
       "    </tr>\n",
       "    <tr>\n",
       "      <th>2</th>\n",
       "      <td>BTC-23OCT22-16000-C</td>\n",
       "      <td>140056</td>\n",
       "    </tr>\n",
       "    <tr>\n",
       "      <th>3</th>\n",
       "      <td>BTC-23OCT22-16000-P</td>\n",
       "      <td>140057</td>\n",
       "    </tr>\n",
       "    <tr>\n",
       "      <th>4</th>\n",
       "      <td>BTC-23OCT22-17000-C</td>\n",
       "      <td>140058</td>\n",
       "    </tr>\n",
       "  </tbody>\n",
       "</table>\n",
       "</div>"
      ],
      "text/plain": [
       "       instrument_name  instrument_id\n",
       "0  BTC-23OCT22-15000-C         140054\n",
       "1  BTC-23OCT22-15000-P         140055\n",
       "2  BTC-23OCT22-16000-C         140056\n",
       "3  BTC-23OCT22-16000-P         140057\n",
       "4  BTC-23OCT22-17000-C         140058"
      ]
     },
     "execution_count": 6,
     "metadata": {},
     "output_type": "execute_result"
    }
   ],
   "source": [
    "# все id-шники\n",
    "instruments_df = collect_all_instruments_ids()\n",
    "instruments_df.head(5)"
   ]
  },
  {
   "cell_type": "markdown",
   "id": "4d8f2e00",
   "metadata": {},
   "source": [
    "## Собираем данные по конкретному опциону"
   ]
  },
  {
   "cell_type": "code",
   "execution_count": 4,
   "id": "ec7235a6",
   "metadata": {},
   "outputs": [
    {
     "name": "stderr",
     "output_type": "stream",
     "text": [
      "2022-10-22 21:06:03.603 | INFO     | utils:call_api:68 - Collected 100 ticks for id = 140054\n"
     ]
    },
    {
     "data": {
      "text/html": [
       "<div>\n",
       "<style scoped>\n",
       "    .dataframe tbody tr th:only-of-type {\n",
       "        vertical-align: middle;\n",
       "    }\n",
       "\n",
       "    .dataframe tbody tr th {\n",
       "        vertical-align: top;\n",
       "    }\n",
       "\n",
       "    .dataframe thead th {\n",
       "        text-align: right;\n",
       "    }\n",
       "</style>\n",
       "<table border=\"1\" class=\"dataframe\">\n",
       "  <thead>\n",
       "    <tr style=\"text-align: right;\">\n",
       "      <th></th>\n",
       "      <th>instrument_name</th>\n",
       "      <th>timestamp</th>\n",
       "      <th>underlying_price</th>\n",
       "      <th>mark_iv</th>\n",
       "      <th>mark_price</th>\n",
       "      <th>best_bid_price</th>\n",
       "      <th>best_ask_price</th>\n",
       "      <th>human_timestamp</th>\n",
       "      <th>strike</th>\n",
       "    </tr>\n",
       "  </thead>\n",
       "  <tbody>\n",
       "    <tr>\n",
       "      <th>0</th>\n",
       "      <td>BTC-23OCT22-15000-C</td>\n",
       "      <td>1666461955380</td>\n",
       "      <td>19148.8979</td>\n",
       "      <td>210.0</td>\n",
       "      <td>0.2167</td>\n",
       "      <td>0.0</td>\n",
       "      <td>0.0</td>\n",
       "      <td>2022-10-22 21:05:55.380000</td>\n",
       "      <td>15000</td>\n",
       "    </tr>\n",
       "    <tr>\n",
       "      <th>5</th>\n",
       "      <td>BTC-23OCT22-15000-C</td>\n",
       "      <td>1666461956389</td>\n",
       "      <td>19149.0563</td>\n",
       "      <td>210.0</td>\n",
       "      <td>0.2167</td>\n",
       "      <td>0.0</td>\n",
       "      <td>0.0</td>\n",
       "      <td>2022-10-22 21:05:56.389000</td>\n",
       "      <td>15000</td>\n",
       "    </tr>\n",
       "    <tr>\n",
       "      <th>18</th>\n",
       "      <td>BTC-23OCT22-15000-C</td>\n",
       "      <td>1666461957394</td>\n",
       "      <td>19149.3825</td>\n",
       "      <td>210.0</td>\n",
       "      <td>0.2167</td>\n",
       "      <td>0.0</td>\n",
       "      <td>0.0</td>\n",
       "      <td>2022-10-22 21:05:57.394000</td>\n",
       "      <td>15000</td>\n",
       "    </tr>\n",
       "    <tr>\n",
       "      <th>31</th>\n",
       "      <td>BTC-23OCT22-15000-C</td>\n",
       "      <td>1666461958399</td>\n",
       "      <td>19149.2187</td>\n",
       "      <td>210.0</td>\n",
       "      <td>0.2167</td>\n",
       "      <td>0.0</td>\n",
       "      <td>0.0</td>\n",
       "      <td>2022-10-22 21:05:58.399000</td>\n",
       "      <td>15000</td>\n",
       "    </tr>\n",
       "    <tr>\n",
       "      <th>45</th>\n",
       "      <td>BTC-23OCT22-15000-C</td>\n",
       "      <td>1666461959407</td>\n",
       "      <td>19149.1550</td>\n",
       "      <td>210.0</td>\n",
       "      <td>0.2167</td>\n",
       "      <td>0.0</td>\n",
       "      <td>0.0</td>\n",
       "      <td>2022-10-22 21:05:59.407000</td>\n",
       "      <td>15000</td>\n",
       "    </tr>\n",
       "  </tbody>\n",
       "</table>\n",
       "</div>"
      ],
      "text/plain": [
       "        instrument_name      timestamp  underlying_price  mark_iv  mark_price  \\\n",
       "0   BTC-23OCT22-15000-C  1666461955380        19148.8979    210.0      0.2167   \n",
       "5   BTC-23OCT22-15000-C  1666461956389        19149.0563    210.0      0.2167   \n",
       "18  BTC-23OCT22-15000-C  1666461957394        19149.3825    210.0      0.2167   \n",
       "31  BTC-23OCT22-15000-C  1666461958399        19149.2187    210.0      0.2167   \n",
       "45  BTC-23OCT22-15000-C  1666461959407        19149.1550    210.0      0.2167   \n",
       "\n",
       "    best_bid_price  best_ask_price             human_timestamp  strike  \n",
       "0              0.0             0.0  2022-10-22 21:05:55.380000   15000  \n",
       "5              0.0             0.0  2022-10-22 21:05:56.389000   15000  \n",
       "18             0.0             0.0  2022-10-22 21:05:57.394000   15000  \n",
       "31             0.0             0.0  2022-10-22 21:05:58.399000   15000  \n",
       "45             0.0             0.0  2022-10-22 21:05:59.407000   15000  "
      ]
     },
     "execution_count": 4,
     "metadata": {},
     "output_type": "execute_result"
    }
   ],
   "source": [
    "# по конкретному опциону\n",
    "single_option = collect_single_instrument_data(instrument_id = 140054, number_of_ticks = 100)\n",
    "single_option.head(5)"
   ]
  },
  {
   "cell_type": "code",
   "execution_count": 20,
   "id": "a2911cb5",
   "metadata": {
    "scrolled": false
   },
   "outputs": [
    {
     "name": "stderr",
     "output_type": "stream",
     "text": [
      "2022-10-23 00:47:18.448 | INFO     | utils:call_api:68 - Collected 1 ticks for id = 132634\n",
      "2022-10-23 00:47:18.879 | INFO     | utils:call_api:68 - Collected 1 ticks for id = 132635\n",
      "2022-10-23 00:47:19.290 | INFO     | utils:call_api:68 - Collected 1 ticks for id = 132636\n",
      "2022-10-23 00:47:19.697 | INFO     | utils:call_api:68 - Collected 1 ticks for id = 132637\n",
      "2022-10-23 00:47:20.104 | INFO     | utils:call_api:68 - Collected 1 ticks for id = 132638\n",
      "2022-10-23 00:47:20.525 | INFO     | utils:call_api:68 - Collected 1 ticks for id = 132639\n",
      "2022-10-23 00:47:20.937 | INFO     | utils:call_api:68 - Collected 1 ticks for id = 132640\n",
      "2022-10-23 00:47:21.364 | INFO     | utils:call_api:68 - Collected 1 ticks for id = 132641\n",
      "2022-10-23 00:47:21.770 | INFO     | utils:call_api:68 - Collected 1 ticks for id = 132642\n",
      "2022-10-23 00:47:22.202 | INFO     | utils:call_api:68 - Collected 1 ticks for id = 132643\n",
      "2022-10-23 00:47:22.623 | INFO     | utils:call_api:68 - Collected 1 ticks for id = 132644\n",
      "2022-10-23 00:47:23.020 | INFO     | utils:call_api:68 - Collected 1 ticks for id = 132645\n",
      "2022-10-23 00:47:24.043 | INFO     | utils:call_api:68 - Collected 1 ticks for id = 132646\n",
      "2022-10-23 00:47:24.441 | INFO     | utils:call_api:68 - Collected 1 ticks for id = 132647\n",
      "2022-10-23 00:47:24.864 | INFO     | utils:call_api:68 - Collected 1 ticks for id = 132648\n",
      "2022-10-23 00:47:25.271 | INFO     | utils:call_api:68 - Collected 1 ticks for id = 132649\n",
      "2022-10-23 00:47:25.680 | INFO     | utils:call_api:68 - Collected 1 ticks for id = 132650\n",
      "2022-10-23 00:47:26.092 | INFO     | utils:call_api:68 - Collected 1 ticks for id = 132651\n",
      "2022-10-23 00:47:26.503 | INFO     | utils:call_api:68 - Collected 1 ticks for id = 132652\n",
      "2022-10-23 00:47:26.918 | INFO     | utils:call_api:68 - Collected 1 ticks for id = 132653\n",
      "2022-10-23 00:47:27.323 | INFO     | utils:call_api:68 - Collected 1 ticks for id = 132654\n",
      "2022-10-23 00:47:27.716 | INFO     | utils:call_api:68 - Collected 1 ticks for id = 132655\n",
      "2022-10-23 00:47:28.128 | INFO     | utils:call_api:68 - Collected 1 ticks for id = 132656\n",
      "2022-10-23 00:47:28.527 | INFO     | utils:call_api:68 - Collected 1 ticks for id = 132657\n",
      "2022-10-23 00:47:28.968 | INFO     | utils:call_api:68 - Collected 1 ticks for id = 132737\n",
      "2022-10-23 00:47:29.382 | INFO     | utils:call_api:68 - Collected 1 ticks for id = 132738\n",
      "2022-10-23 00:47:29.786 | INFO     | utils:call_api:68 - Collected 1 ticks for id = 132658\n",
      "2022-10-23 00:47:30.193 | INFO     | utils:call_api:68 - Collected 1 ticks for id = 132659\n",
      "2022-10-23 00:47:31.379 | INFO     | utils:call_api:68 - Collected 1 ticks for id = 133128\n",
      "2022-10-23 00:47:31.795 | INFO     | utils:call_api:68 - Collected 1 ticks for id = 133129\n",
      "2022-10-23 00:47:32.209 | INFO     | utils:call_api:68 - Collected 1 ticks for id = 132660\n",
      "2022-10-23 00:47:32.624 | INFO     | utils:call_api:68 - Collected 1 ticks for id = 132661\n",
      "2022-10-23 00:47:33.023 | INFO     | utils:call_api:68 - Collected 1 ticks for id = 132739\n",
      "2022-10-23 00:47:33.457 | INFO     | utils:call_api:68 - Collected 1 ticks for id = 132740\n",
      "2022-10-23 00:47:33.869 | INFO     | utils:call_api:68 - Collected 1 ticks for id = 133130\n",
      "2022-10-23 00:47:34.267 | INFO     | utils:call_api:68 - Collected 1 ticks for id = 133131\n",
      "2022-10-23 00:47:34.681 | INFO     | utils:call_api:68 - Collected 1 ticks for id = 132662\n",
      "2022-10-23 00:47:35.092 | INFO     | utils:call_api:68 - Collected 1 ticks for id = 132663\n",
      "2022-10-23 00:47:35.522 | INFO     | utils:call_api:68 - Collected 1 ticks for id = 132664\n",
      "2022-10-23 00:47:35.946 | INFO     | utils:call_api:68 - Collected 1 ticks for id = 132665\n",
      "2022-10-23 00:47:36.354 | INFO     | utils:call_api:68 - Collected 1 ticks for id = 132727\n",
      "2022-10-23 00:47:36.759 | INFO     | utils:call_api:68 - Collected 1 ticks for id = 132728\n",
      "2022-10-23 00:47:37.176 | INFO     | utils:call_api:68 - Collected 1 ticks for id = 133264\n",
      "2022-10-23 00:47:37.624 | INFO     | utils:call_api:68 - Collected 1 ticks for id = 133265\n"
     ]
    },
    {
     "data": {
      "image/png": "[encoded data removed]",
      "text/plain": [
       "<Figure size 640x480 with 1 Axes>"
      ]
     },
     "metadata": {},
     "output_type": "display_data"
    }
   ],
   "source": [
    "random_instrument = instruments_df.sample(1).iloc[0][\"instrument_name\"]\n",
    "single_strike = instruments_df[\n",
    "    (instruments_df[\"instrument_name\"].str.startswith(random_instrument[0:11])) \n",
    "#     (instruments_df[\"instrument_name\"].str.endswith(random_instrument[-1]))\n",
    "]\n",
    "single_strike_ids = single_strike.instrument_id.to_list()\n",
    "\n",
    "\n",
    "options = []\n",
    "for op_id in single_strike_ids:\n",
    "    option = collect_single_instrument_data(instrument_id = op_id, number_of_ticks = 1)\n",
    "#     print(option)\n",
    "    options.append(option)\n",
    "    \n",
    "ivs = []\n",
    "strikes = []\n",
    "for option in options:\n",
    "    ivs.append(option.iloc[0][\"mark_iv\"])\n",
    "    strikes.append(option.iloc[0][\"strike\"])\n",
    "    \n",
    "    \n",
    "df = pd.DataFrame({\"strike\": strikes, \"iv\": ivs})\n",
    "plt.scatter(strikes, ivs)\n",
    "plt.axvline(x=option.iloc[0][\"underlying_price\"])\n",
    "plt.show()"
   ]
  }
 ],
 "metadata": {
  "kernelspec": {
   "display_name": "Python 3 (ipykernel)",
   "language": "python",
   "name": "python3"
  },
  "language_info": {
   "codemirror_mode": {
    "name": "ipython",
    "version": 3
   },
   "file_extension": ".py",
   "mimetype": "text/x-python",
   "name": "python",
   "nbconvert_exporter": "python",
   "pygments_lexer": "ipython3",
   "version": "3.10.6"
  }
 },
 "nbformat": 4,
 "nbformat_minor": 5
}
