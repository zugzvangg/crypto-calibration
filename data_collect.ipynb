{
 "cells": [
  {
   "cell_type": "code",
   "execution_count": 7,
   "id": "8c48e9a3",
   "metadata": {},
   "outputs": [],
   "source": [
    "import asyncio\n",
    "import websockets\n",
    "import json\n",
    "import pandas as pd\n",
    "import nest_asyncio\n",
    "import matplotlib.pyplot as plt\n",
    "nest_asyncio.apply()\n",
    "import warnings\n",
    "import numpy as np\n",
    "import datetime\n",
    "from utils import collect_all_instruments_ids, collect_single_instrument_data\n",
    "warnings.filterwarnings(\"ignore\")"
   ]
  },
  {
   "cell_type": "markdown",
   "id": "eef0f453",
   "metadata": {},
   "source": [
    "## Соберем все id-щники и опционы, которым они соответсвуют"
   ]
  },
  {
   "cell_type": "code",
   "execution_count": 8,
   "id": "a3f3d2ea",
   "metadata": {},
   "outputs": [
    {
     "data": {
      "text/html": [
       "<div>\n",
       "<style scoped>\n",
       "    .dataframe tbody tr th:only-of-type {\n",
       "        vertical-align: middle;\n",
       "    }\n",
       "\n",
       "    .dataframe tbody tr th {\n",
       "        vertical-align: top;\n",
       "    }\n",
       "\n",
       "    .dataframe thead th {\n",
       "        text-align: right;\n",
       "    }\n",
       "</style>\n",
       "<table border=\"1\" class=\"dataframe\">\n",
       "  <thead>\n",
       "    <tr style=\"text-align: right;\">\n",
       "      <th></th>\n",
       "      <th>instrument_name</th>\n",
       "      <th>instrument_id</th>\n",
       "    </tr>\n",
       "  </thead>\n",
       "  <tbody>\n",
       "    <tr>\n",
       "      <th>0</th>\n",
       "      <td>BTC-24OCT22-15000-C</td>\n",
       "      <td>140131</td>\n",
       "    </tr>\n",
       "    <tr>\n",
       "      <th>1</th>\n",
       "      <td>BTC-24OCT22-15000-P</td>\n",
       "      <td>140132</td>\n",
       "    </tr>\n",
       "    <tr>\n",
       "      <th>2</th>\n",
       "      <td>BTC-24OCT22-16000-C</td>\n",
       "      <td>140133</td>\n",
       "    </tr>\n",
       "    <tr>\n",
       "      <th>3</th>\n",
       "      <td>BTC-24OCT22-16000-P</td>\n",
       "      <td>140134</td>\n",
       "    </tr>\n",
       "    <tr>\n",
       "      <th>4</th>\n",
       "      <td>BTC-24OCT22-17000-C</td>\n",
       "      <td>140136</td>\n",
       "    </tr>\n",
       "  </tbody>\n",
       "</table>\n",
       "</div>"
      ],
      "text/plain": [
       "       instrument_name  instrument_id\n",
       "0  BTC-24OCT22-15000-C         140131\n",
       "1  BTC-24OCT22-15000-P         140132\n",
       "2  BTC-24OCT22-16000-C         140133\n",
       "3  BTC-24OCT22-16000-P         140134\n",
       "4  BTC-24OCT22-17000-C         140136"
      ]
     },
     "execution_count": 8,
     "metadata": {},
     "output_type": "execute_result"
    }
   ],
   "source": [
    "# все id-шники\n",
    "instruments_df = collect_all_instruments_ids()\n",
    "instruments_df.head(5)"
   ]
  },
  {
   "cell_type": "markdown",
   "id": "4d8f2e00",
   "metadata": {},
   "source": [
    "## Собираем данные по конкретному опциону"
   ]
  },
  {
   "cell_type": "code",
   "execution_count": 9,
   "id": "ec7235a6",
   "metadata": {},
   "outputs": [
    {
     "name": "stderr",
     "output_type": "stream",
     "text": [
      "2022-10-23 15:44:47.244 | INFO     | utils:call_api:68 - Collected 100 ticks for id = 140054\n"
     ]
    },
    {
     "data": {
      "text/html": [
       "<div>\n",
       "<style scoped>\n",
       "    .dataframe tbody tr th:only-of-type {\n",
       "        vertical-align: middle;\n",
       "    }\n",
       "\n",
       "    .dataframe tbody tr th {\n",
       "        vertical-align: top;\n",
       "    }\n",
       "\n",
       "    .dataframe thead th {\n",
       "        text-align: right;\n",
       "    }\n",
       "</style>\n",
       "<table border=\"1\" class=\"dataframe\">\n",
       "  <thead>\n",
       "    <tr style=\"text-align: right;\">\n",
       "      <th></th>\n",
       "      <th>instrument_name</th>\n",
       "      <th>timestamp</th>\n",
       "      <th>underlying_price</th>\n",
       "      <th>mark_iv</th>\n",
       "      <th>mark_price</th>\n",
       "      <th>best_bid_price</th>\n",
       "      <th>best_ask_price</th>\n",
       "      <th>human_timestamp</th>\n",
       "      <th>strike</th>\n",
       "    </tr>\n",
       "  </thead>\n",
       "  <tbody>\n",
       "    <tr>\n",
       "      <th>0</th>\n",
       "      <td>BTC-23OCT22-15000-C</td>\n",
       "      <td>1666512000014</td>\n",
       "      <td>19159.46</td>\n",
       "      <td>210.0</td>\n",
       "      <td>0.2171</td>\n",
       "      <td>0.0</td>\n",
       "      <td>0.0</td>\n",
       "      <td>2022-10-23 11:00:00.014000</td>\n",
       "      <td>15000</td>\n",
       "    </tr>\n",
       "  </tbody>\n",
       "</table>\n",
       "</div>"
      ],
      "text/plain": [
       "       instrument_name      timestamp  underlying_price  mark_iv  mark_price  \\\n",
       "0  BTC-23OCT22-15000-C  1666512000014          19159.46    210.0      0.2171   \n",
       "\n",
       "   best_bid_price  best_ask_price             human_timestamp  strike  \n",
       "0             0.0             0.0  2022-10-23 11:00:00.014000   15000  "
      ]
     },
     "execution_count": 9,
     "metadata": {},
     "output_type": "execute_result"
    }
   ],
   "source": [
    "# по конкретному опциону\n",
    "single_option = collect_single_instrument_data(instrument_id = 140054, number_of_ticks = 100)\n",
    "single_option.head(5)"
   ]
  },
  {
   "cell_type": "markdown",
   "id": "e14279d1",
   "metadata": {},
   "source": [
    "## Собираем по одному тику для каждого опциона, чтобы узнать все страйки и их рыночные волатильности"
   ]
  },
  {
   "cell_type": "code",
   "execution_count": 24,
   "id": "a2911cb5",
   "metadata": {
    "scrolled": true
   },
   "outputs": [
    {
     "name": "stderr",
     "output_type": "stream",
     "text": [
      "2022-10-23 16:13:02.639 | INFO     | utils:call_api:68 - Collected 1 ticks for id = 130486\n",
      "2022-10-23 16:13:03.055 | INFO     | utils:call_api:68 - Collected 1 ticks for id = 130487\n",
      "2022-10-23 16:13:03.462 | INFO     | utils:call_api:68 - Collected 1 ticks for id = 130251\n",
      "2022-10-23 16:13:03.891 | INFO     | utils:call_api:68 - Collected 1 ticks for id = 130252\n",
      "2022-10-23 16:13:04.385 | INFO     | utils:call_api:68 - Collected 1 ticks for id = 131275\n",
      "2022-10-23 16:13:04.779 | INFO     | utils:call_api:68 - Collected 1 ticks for id = 131276\n",
      "2022-10-23 16:13:05.230 | INFO     | utils:call_api:68 - Collected 1 ticks for id = 131277\n",
      "2022-10-23 16:13:05.645 | INFO     | utils:call_api:68 - Collected 1 ticks for id = 131278\n",
      "2022-10-23 16:13:06.076 | INFO     | utils:call_api:68 - Collected 1 ticks for id = 124944\n",
      "2022-10-23 16:13:06.474 | INFO     | utils:call_api:68 - Collected 1 ticks for id = 125375\n",
      "2022-10-23 16:13:06.893 | INFO     | utils:call_api:68 - Collected 1 ticks for id = 131279\n",
      "2022-10-23 16:13:07.288 | INFO     | utils:call_api:68 - Collected 1 ticks for id = 131280\n",
      "2022-10-23 16:13:07.694 | INFO     | utils:call_api:68 - Collected 1 ticks for id = 131321\n",
      "2022-10-23 16:13:08.079 | INFO     | utils:call_api:68 - Collected 1 ticks for id = 131322\n",
      "2022-10-23 16:13:08.474 | INFO     | utils:call_api:68 - Collected 1 ticks for id = 125644\n",
      "2022-10-23 16:13:08.878 | INFO     | utils:call_api:68 - Collected 1 ticks for id = 125064\n",
      "2022-10-23 16:13:09.299 | INFO     | utils:call_api:68 - Collected 1 ticks for id = 131477\n",
      "2022-10-23 16:13:09.734 | INFO     | utils:call_api:68 - Collected 1 ticks for id = 131478\n",
      "2022-10-23 16:13:10.470 | INFO     | utils:call_api:68 - Collected 1 ticks for id = 132163\n",
      "2022-10-23 16:13:10.881 | INFO     | utils:call_api:68 - Collected 1 ticks for id = 132164\n",
      "2022-10-23 16:13:11.283 | INFO     | utils:call_api:68 - Collected 1 ticks for id = 125283\n",
      "2022-10-23 16:13:11.680 | INFO     | utils:call_api:68 - Collected 1 ticks for id = 125129\n",
      "2022-10-23 16:13:12.111 | INFO     | utils:call_api:68 - Collected 1 ticks for id = 125287\n",
      "2022-10-23 16:13:12.582 | INFO     | utils:call_api:68 - Collected 1 ticks for id = 125195\n",
      "2022-10-23 16:13:12.981 | INFO     | utils:call_api:68 - Collected 1 ticks for id = 125339\n",
      "2022-10-23 16:13:13.417 | INFO     | utils:call_api:68 - Collected 1 ticks for id = 125045\n",
      "2022-10-23 16:13:13.822 | INFO     | utils:call_api:68 - Collected 1 ticks for id = 125269\n",
      "2022-10-23 16:13:14.248 | INFO     | utils:call_api:68 - Collected 1 ticks for id = 125482\n",
      "2022-10-23 16:13:14.675 | INFO     | utils:call_api:68 - Collected 1 ticks for id = 125548\n",
      "2022-10-23 16:13:15.070 | INFO     | utils:call_api:68 - Collected 1 ticks for id = 125645\n",
      "2022-10-23 16:13:15.483 | INFO     | utils:call_api:68 - Collected 1 ticks for id = 124947\n",
      "2022-10-23 16:13:15.889 | INFO     | utils:call_api:68 - Collected 1 ticks for id = 125162\n",
      "2022-10-23 16:13:16.305 | INFO     | utils:call_api:68 - Collected 1 ticks for id = 125310\n",
      "2022-10-23 16:13:16.738 | INFO     | utils:call_api:68 - Collected 1 ticks for id = 125609\n",
      "2022-10-23 16:13:17.133 | INFO     | utils:call_api:68 - Collected 1 ticks for id = 133176\n",
      "2022-10-23 16:13:17.546 | INFO     | utils:call_api:68 - Collected 1 ticks for id = 133177\n",
      "2022-10-23 16:13:17.954 | INFO     | utils:call_api:68 - Collected 1 ticks for id = 133178\n",
      "2022-10-23 16:13:18.342 | INFO     | utils:call_api:68 - Collected 1 ticks for id = 133179\n",
      "2022-10-23 16:13:18.765 | INFO     | utils:call_api:68 - Collected 1 ticks for id = 125627\n",
      "2022-10-23 16:13:19.164 | INFO     | utils:call_api:68 - Collected 1 ticks for id = 125144\n",
      "2022-10-23 16:13:19.579 | INFO     | utils:call_api:68 - Collected 1 ticks for id = 125382\n",
      "2022-10-23 16:13:19.990 | INFO     | utils:call_api:68 - Collected 1 ticks for id = 125208\n",
      "2022-10-23 16:13:20.398 | INFO     | utils:call_api:68 - Collected 1 ticks for id = 125397\n",
      "2022-10-23 16:13:20.818 | INFO     | utils:call_api:68 - Collected 1 ticks for id = 125088\n"
     ]
    },
    {
     "data": {
      "image/png": "[encoded data removed]",
      "text/plain": [
       "<Figure size 640x480 with 1 Axes>"
      ]
     },
     "metadata": {},
     "output_type": "display_data"
    }
   ],
   "source": [
    "random_instrument = instruments_df.sample(1).iloc[0][\"instrument_name\"]\n",
    "single_strike = instruments_df[\n",
    "    (instruments_df[\"instrument_name\"].str.startswith(random_instrument[0:11])) \n",
    "#     (instruments_df[\"instrument_name\"].str.endswith(random_instrument[-1]))\n",
    "]\n",
    "single_strike_ids = single_strike.instrument_id.to_list()\n",
    "\n",
    "options = pd.DataFrame(columns = single_option.columns.values)\n",
    "for op_id in single_strike_ids:\n",
    "    option = collect_single_instrument_data(instrument_id = op_id, number_of_ticks = 1)\n",
    "    options = options.append(option)\n",
    "    \n",
    "plt.scatter(options[\"strike\"], options[\"mark_iv\"])\n",
    "plt.axvline(x=option.iloc[0][\"underlying_price\"])\n",
    "plt.show()"
   ]
  },
  {
   "cell_type": "code",
   "execution_count": 26,
   "id": "3cb10c95",
   "metadata": {},
   "outputs": [],
   "source": [
    "options.to_pickle(f\"data/{options.iloc[0].instrument_name[:11]}.pkl\")"
   ]
  }
 ],
 "metadata": {
  "kernelspec": {
   "display_name": "Python 3 (ipykernel)",
   "language": "python",
   "name": "python3"
  },
  "language_info": {
   "codemirror_mode": {
    "name": "ipython",
    "version": 3
   },
   "file_extension": ".py",
   "mimetype": "text/x-python",
   "name": "python",
   "nbconvert_exporter": "python",
   "pygments_lexer": "ipython3",
   "version": "3.8.13"
  }
 },
 "nbformat": 4,
 "nbformat_minor": 5
}
