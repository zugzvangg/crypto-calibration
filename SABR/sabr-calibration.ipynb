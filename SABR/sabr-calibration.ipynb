{
 "cells": [
  {
   "cell_type": "code",
   "execution_count": 108,
   "id": "935965a2",
   "metadata": {},
   "outputs": [],
   "source": [
    "import numpy as np\n",
    "import pandas as pd\n",
    "import matplotlib.pyplot as plt\n",
    "plt.style.use(\"seaborn-v0_8-whitegrid\")\n",
    "import levenberg_marquardt\n",
    "from matplotlib.pyplot import figure\n",
    "import sabr\n",
    "from importlib import reload\n",
    "reload(sabr)\n",
    "from sabr import calibrate_sabr\n",
    "import datetime\n",
    "import warnings\n",
    "warnings.filterwarnings(\"ignore\", category=RuntimeWarning)\n",
    "from scipy import stats as sps\n",
    "from typing import Union\n",
    "import h5py\n",
    "import matplotlib.dates as mdates\n",
    "from tqdm.notebook import tqdm"
   ]
  },
  {
   "cell_type": "code",
   "execution_count": 7,
   "id": "968af2b4",
   "metadata": {},
   "outputs": [],
   "source": [
    "# heavy\n",
    "# %%time\n",
    "raw = pd.HDFStore('../datasets/eth-20230224.h5','r').get(\"/eth\")\n",
    "# raw2 = pd.HDFStore('../datasets/eth-20230127.h5','r').get(\"/eth\")\n",
    "# raw3 = pd.HDFStore('../datasets/eth-20230310.h5','r').get(\"/eth\")\n",
    "# raw = pd.concat([raw1, raw2, raw3]).drop_duplicates()"
   ]
  },
  {
   "cell_type": "code",
   "execution_count": 8,
   "id": "4f28b4ff",
   "metadata": {},
   "outputs": [
    {
     "data": {
      "text/plain": [
       "<AxesSubplot: >"
      ]
     },
     "execution_count": 8,
     "metadata": {},
     "output_type": "execute_result"
    },
    {
     "data": {
      "image/png": "[encoded data removed]",
      "text/plain": [
       "<Figure size 640x480 with 1 Axes>"
      ]
     },
     "metadata": {},
     "output_type": "display_data"
    }
   ],
   "source": [
    "raw.dt.hist(bins = 100)"
   ]
  },
  {
   "cell_type": "code",
   "execution_count": 9,
   "id": "5a1a6edf",
   "metadata": {},
   "outputs": [],
   "source": [
    "def process_data(data):\n",
    "    # only options\n",
    "    df = data.copy()\n",
    "    df = df[(df[\"instrument\"].str.endswith(\"C\")) | (df[\"instrument\"].str.endswith(\"P\"))].sort_values(\"dt\")\n",
    "    df[\"type\"] = np.where(df[\"instrument\"].str.endswith(\"C\"), \"call\", \"put\")\n",
    "    \n",
    "    perpetuals = data[data[\"instrument\"].str.endswith(\"PERPETUAL\")][[\"dt\", \"price\"]].copy()\n",
    "    perpetuals = perpetuals.rename(columns = {\"price\": \"underlying_price\"}).sort_values(\"dt\")\n",
    "    \n",
    "    def get_strike(x):\n",
    "        return int(x.split(\"-\")[2])\n",
    "    \n",
    "    def get_expiration(x):\n",
    "        return x.split(\"-\")[1]\n",
    "    \n",
    "\n",
    "    df[\"strike_price\"] = df[\"instrument\"].apply(get_strike)\n",
    "    df[\"expiration\"] = df[\"instrument\"].apply(get_expiration)\n",
    "    \n",
    "    def unix_time_millis(dt):\n",
    "        epoch = datetime.datetime.utcfromtimestamp(0)\n",
    "        return int((dt - epoch).total_seconds() * 1000_000)\n",
    "    \n",
    "    def get_normal_date(s):\n",
    "        \"\"\"Function to convert date to find years to maturity\"\"\"\n",
    "        monthToNum = {\n",
    "            \"JAN\": 1,\n",
    "            \"FEB\": 2,\n",
    "            \"MAR\": 3,\n",
    "            \"APR\": 4,\n",
    "            \"MAY\": 5,\n",
    "            \"JUN\": 6,\n",
    "            \"JUL\": 7,\n",
    "            \"AUG\": 8,\n",
    "            \"SEP\": 9,\n",
    "            \"OCT\": 10,\n",
    "            \"NOV\": 11,\n",
    "            \"DEC\": 12,\n",
    "        }\n",
    "\n",
    "        full_date = s.split(\"-\")[1]\n",
    "        try:\n",
    "            day = int(full_date[:2])\n",
    "            month = monthToNum[full_date[2:5]]\n",
    "        except:\n",
    "            day = int(full_date[:1])\n",
    "            month = monthToNum[full_date[1:4]]\n",
    "        \n",
    "        year = int(\"20\" + full_date[-2:])\n",
    "        exp_date = datetime.datetime(year, month, day)\n",
    "        return unix_time_millis(exp_date)\n",
    "    \n",
    "    df[\"dt\"] = pd.to_datetime(df[\"dt\"])\n",
    "    perpetuals[\"dt\"] = pd.to_datetime(perpetuals[\"dt\"])\n",
    "    \n",
    "    df = pd.merge_asof(df, perpetuals, on=\"dt\",\n",
    "                       tolerance=pd.Timedelta('7 minutes'),\n",
    "                       direction='nearest',)\n",
    "    \n",
    "    df[\"timestamp\"] = df[\"dt\"].apply(unix_time_millis)\n",
    "    df[\"expiration\"] = df[\"instrument\"].apply(get_normal_date)\n",
    "    df = df.rename(columns = {\"price\": \"mark_price\"})\n",
    "    \n",
    "    \n",
    "    return df\n"
   ]
  },
  {
   "cell_type": "code",
   "execution_count": 10,
   "id": "a21f8b2f",
   "metadata": {},
   "outputs": [
    {
     "name": "stdout",
     "output_type": "stream",
     "text": [
      "CPU times: user 50.2 s, sys: 19.3 s, total: 1min 9s\n",
      "Wall time: 1min 22s\n"
     ]
    }
   ],
   "source": [
    "%%time\n",
    "start = process_data(raw)\n"
   ]
  },
  {
   "cell_type": "code",
   "execution_count": 11,
   "id": "43433291",
   "metadata": {},
   "outputs": [
    {
     "data": {
      "text/html": [
       "<div>\n",
       "<style scoped>\n",
       "    .dataframe tbody tr th:only-of-type {\n",
       "        vertical-align: middle;\n",
       "    }\n",
       "\n",
       "    .dataframe tbody tr th {\n",
       "        vertical-align: top;\n",
       "    }\n",
       "\n",
       "    .dataframe thead th {\n",
       "        text-align: right;\n",
       "    }\n",
       "</style>\n",
       "<table border=\"1\" class=\"dataframe\">\n",
       "  <thead>\n",
       "    <tr style=\"text-align: right;\">\n",
       "      <th></th>\n",
       "      <th>dt</th>\n",
       "      <th>mark_price</th>\n",
       "      <th>instrument</th>\n",
       "      <th>type</th>\n",
       "      <th>strike_price</th>\n",
       "      <th>expiration</th>\n",
       "      <th>underlying_price</th>\n",
       "      <th>timestamp</th>\n",
       "    </tr>\n",
       "  </thead>\n",
       "  <tbody>\n",
       "    <tr>\n",
       "      <th>0</th>\n",
       "      <td>2022-11-21 13:08:24.511</td>\n",
       "      <td>0.0005</td>\n",
       "      <td>ETH-25NOV22-1700-C</td>\n",
       "      <td>call</td>\n",
       "      <td>1700</td>\n",
       "      <td>1669334400000000</td>\n",
       "      <td>1133.90</td>\n",
       "      <td>1669036104511000</td>\n",
       "    </tr>\n",
       "    <tr>\n",
       "      <th>1</th>\n",
       "      <td>2022-11-21 13:08:24.511</td>\n",
       "      <td>0.0005</td>\n",
       "      <td>ETH-25NOV22-2400-C</td>\n",
       "      <td>call</td>\n",
       "      <td>2400</td>\n",
       "      <td>1669334400000000</td>\n",
       "      <td>1133.90</td>\n",
       "      <td>1669036104511000</td>\n",
       "    </tr>\n",
       "    <tr>\n",
       "      <th>2</th>\n",
       "      <td>2022-11-21 13:08:24.511</td>\n",
       "      <td>0.0020</td>\n",
       "      <td>ETH-25NOV22-700-P</td>\n",
       "      <td>put</td>\n",
       "      <td>700</td>\n",
       "      <td>1669334400000000</td>\n",
       "      <td>1133.90</td>\n",
       "      <td>1669036104511000</td>\n",
       "    </tr>\n",
       "    <tr>\n",
       "      <th>3</th>\n",
       "      <td>2022-11-21 13:08:24.511</td>\n",
       "      <td>0.0005</td>\n",
       "      <td>ETH-25NOV22-3800-C</td>\n",
       "      <td>call</td>\n",
       "      <td>3800</td>\n",
       "      <td>1669334400000000</td>\n",
       "      <td>1133.90</td>\n",
       "      <td>1669036104511000</td>\n",
       "    </tr>\n",
       "    <tr>\n",
       "      <th>4</th>\n",
       "      <td>2022-11-21 13:08:24.511</td>\n",
       "      <td>0.0005</td>\n",
       "      <td>ETH-25NOV22-3400-C</td>\n",
       "      <td>call</td>\n",
       "      <td>3400</td>\n",
       "      <td>1669334400000000</td>\n",
       "      <td>1133.90</td>\n",
       "      <td>1669036104511000</td>\n",
       "    </tr>\n",
       "    <tr>\n",
       "      <th>...</th>\n",
       "      <td>...</td>\n",
       "      <td>...</td>\n",
       "      <td>...</td>\n",
       "      <td>...</td>\n",
       "      <td>...</td>\n",
       "      <td>...</td>\n",
       "      <td>...</td>\n",
       "      <td>...</td>\n",
       "    </tr>\n",
       "    <tr>\n",
       "      <th>7498621</th>\n",
       "      <td>2023-02-24 07:13:46.716</td>\n",
       "      <td>0.0300</td>\n",
       "      <td>ETH-24FEB23-1700-P</td>\n",
       "      <td>put</td>\n",
       "      <td>1700</td>\n",
       "      <td>1677196800000000</td>\n",
       "      <td>1651.85</td>\n",
       "      <td>1677222826716000</td>\n",
       "    </tr>\n",
       "    <tr>\n",
       "      <th>7498622</th>\n",
       "      <td>2023-02-24 07:13:47.576</td>\n",
       "      <td>0.2975</td>\n",
       "      <td>ETH-24FEB23-1200-C</td>\n",
       "      <td>call</td>\n",
       "      <td>1200</td>\n",
       "      <td>1677196800000000</td>\n",
       "      <td>1651.85</td>\n",
       "      <td>1677222827576000</td>\n",
       "    </tr>\n",
       "    <tr>\n",
       "      <th>7498623</th>\n",
       "      <td>2023-02-24 07:13:51.208</td>\n",
       "      <td>0.0015</td>\n",
       "      <td>ETH-24FEB23-1650-P</td>\n",
       "      <td>put</td>\n",
       "      <td>1650</td>\n",
       "      <td>1677196800000000</td>\n",
       "      <td>1651.85</td>\n",
       "      <td>1677222831208000</td>\n",
       "    </tr>\n",
       "    <tr>\n",
       "      <th>7498624</th>\n",
       "      <td>2023-02-24 07:13:55.748</td>\n",
       "      <td>0.2980</td>\n",
       "      <td>ETH-24FEB23-1200-C</td>\n",
       "      <td>call</td>\n",
       "      <td>1200</td>\n",
       "      <td>1677196800000000</td>\n",
       "      <td>1651.85</td>\n",
       "      <td>1677222835748000</td>\n",
       "    </tr>\n",
       "    <tr>\n",
       "      <th>7498625</th>\n",
       "      <td>2023-02-24 07:14:03.663</td>\n",
       "      <td>0.2975</td>\n",
       "      <td>ETH-24FEB23-1200-C</td>\n",
       "      <td>call</td>\n",
       "      <td>1200</td>\n",
       "      <td>1677196800000000</td>\n",
       "      <td>1651.85</td>\n",
       "      <td>1677222843663000</td>\n",
       "    </tr>\n",
       "  </tbody>\n",
       "</table>\n",
       "<p>7498626 rows × 8 columns</p>\n",
       "</div>"
      ],
      "text/plain": [
       "                             dt  mark_price          instrument  type  \\\n",
       "0       2022-11-21 13:08:24.511      0.0005  ETH-25NOV22-1700-C  call   \n",
       "1       2022-11-21 13:08:24.511      0.0005  ETH-25NOV22-2400-C  call   \n",
       "2       2022-11-21 13:08:24.511      0.0020   ETH-25NOV22-700-P   put   \n",
       "3       2022-11-21 13:08:24.511      0.0005  ETH-25NOV22-3800-C  call   \n",
       "4       2022-11-21 13:08:24.511      0.0005  ETH-25NOV22-3400-C  call   \n",
       "...                         ...         ...                 ...   ...   \n",
       "7498621 2023-02-24 07:13:46.716      0.0300  ETH-24FEB23-1700-P   put   \n",
       "7498622 2023-02-24 07:13:47.576      0.2975  ETH-24FEB23-1200-C  call   \n",
       "7498623 2023-02-24 07:13:51.208      0.0015  ETH-24FEB23-1650-P   put   \n",
       "7498624 2023-02-24 07:13:55.748      0.2980  ETH-24FEB23-1200-C  call   \n",
       "7498625 2023-02-24 07:14:03.663      0.2975  ETH-24FEB23-1200-C  call   \n",
       "\n",
       "         strike_price        expiration  underlying_price         timestamp  \n",
       "0                1700  1669334400000000           1133.90  1669036104511000  \n",
       "1                2400  1669334400000000           1133.90  1669036104511000  \n",
       "2                 700  1669334400000000           1133.90  1669036104511000  \n",
       "3                3800  1669334400000000           1133.90  1669036104511000  \n",
       "4                3400  1669334400000000           1133.90  1669036104511000  \n",
       "...               ...               ...               ...               ...  \n",
       "7498621          1700  1677196800000000           1651.85  1677222826716000  \n",
       "7498622          1200  1677196800000000           1651.85  1677222827576000  \n",
       "7498623          1650  1677196800000000           1651.85  1677222831208000  \n",
       "7498624          1200  1677196800000000           1651.85  1677222835748000  \n",
       "7498625          1200  1677196800000000           1651.85  1677222843663000  \n",
       "\n",
       "[7498626 rows x 8 columns]"
      ]
     },
     "execution_count": 11,
     "metadata": {},
     "output_type": "execute_result"
    }
   ],
   "source": [
    "df = start.copy()\n",
    "# df = df[(df[\"timestamp\"]>=1672000000000000) & (df[\"timestamp\"]<=1672800000000000)]\n",
    "df"
   ]
  },
  {
   "cell_type": "markdown",
   "id": "fff4c309",
   "metadata": {},
   "source": [
    "# See params dynamic"
   ]
  },
  {
   "cell_type": "code",
   "execution_count": null,
   "id": "a3b00615",
   "metadata": {},
   "outputs": [],
   "source": []
  },
  {
   "cell_type": "code",
   "execution_count": null,
   "id": "9033cf68",
   "metadata": {},
   "outputs": [],
   "source": []
  },
  {
   "cell_type": "code",
   "execution_count": null,
   "id": "3eee41d5",
   "metadata": {},
   "outputs": [],
   "source": []
  },
  {
   "cell_type": "code",
   "execution_count": null,
   "id": "4bf342e7",
   "metadata": {},
   "outputs": [],
   "source": []
  },
  {
   "cell_type": "markdown",
   "id": "fc7e8f41",
   "metadata": {},
   "source": [
    "# Vol smile"
   ]
  },
  {
   "cell_type": "code",
   "execution_count": 37,
   "id": "5802356d",
   "metadata": {},
   "outputs": [
    {
     "name": "stdout",
     "output_type": "stream",
     "text": [
      "1670931812011000\n"
     ]
    }
   ],
   "source": [
    "df_only_exp = df[df[\"expiration\"] == df.sample(1).expiration.iloc[0]].copy()\n",
    "stamp = df_only_exp.sample(1).iloc[0].timestamp\n",
    "print(stamp)"
   ]
  },
  {
   "cell_type": "code",
   "execution_count": 109,
   "id": "863cde3e",
   "metadata": {
    "scrolled": true
   },
   "outputs": [
    {
     "name": "stderr",
     "output_type": "stream",
     "text": [
      "/Users/zugzvangg/Desktop/Projects/crypto-calibration/SABR/sabr.py:399: SettingWithCopyWarning: \n",
      "A value is trying to be set on a copy of a slice from a DataFrame.\n",
      "Try using .loc[row_indexer,col_indexer] = value instead\n",
      "\n",
      "See the caveats in the documentation: https://pandas.pydata.org/pandas-docs/stable/user_guide/indexing.html#returning-a-view-versus-a-copy\n",
      "  result[\"iv\"] = 100*result[\"iv\"]\n",
      "/Users/zugzvangg/Desktop/Projects/crypto-calibration/SABR/sabr.py:400: SettingWithCopyWarning: \n",
      "A value is trying to be set on a copy of a slice from a DataFrame.\n",
      "Try using .loc[row_indexer,col_indexer] = value instead\n",
      "\n",
      "See the caveats in the documentation: https://pandas.pydata.org/pandas-docs/stable/user_guide/indexing.html#returning-a-view-versus-a-copy\n",
      "  result[\"calibrated_iv\"] = 100*result[\"calibrated_iv\"]\n"
     ]
    },
    {
     "name": "stdout",
     "output_type": "stream",
     "text": [
      "All:\n",
      "[9.435, 9.588, 0.838, -0.124]\n",
      "0.00802667564061977\n",
      "   \n",
      "Beta:\n",
      "[0.945, 9.583, 1.0, -0.17]\n",
      "0.008691975020703922\n"
     ]
    },
    {
     "name": "stderr",
     "output_type": "stream",
     "text": [
      "/Users/zugzvangg/Desktop/Projects/crypto-calibration/SABR/sabr.py:399: SettingWithCopyWarning: \n",
      "A value is trying to be set on a copy of a slice from a DataFrame.\n",
      "Try using .loc[row_indexer,col_indexer] = value instead\n",
      "\n",
      "See the caveats in the documentation: https://pandas.pydata.org/pandas-docs/stable/user_guide/indexing.html#returning-a-view-versus-a-copy\n",
      "  result[\"iv\"] = 100*result[\"iv\"]\n",
      "/Users/zugzvangg/Desktop/Projects/crypto-calibration/SABR/sabr.py:400: SettingWithCopyWarning: \n",
      "A value is trying to be set on a copy of a slice from a DataFrame.\n",
      "Try using .loc[row_indexer,col_indexer] = value instead\n",
      "\n",
      "See the caveats in the documentation: https://pandas.pydata.org/pandas-docs/stable/user_guide/indexing.html#returning-a-view-versus-a-copy\n",
      "  result[\"calibrated_iv\"] = 100*result[\"calibrated_iv\"]\n"
     ]
    }
   ],
   "source": [
    "needed_stamp = 1670931812011000\n",
    "alpha = np.float64(1.0)  # \n",
    "v = np.float64(1.3)  # \n",
    "beta = np.float64(0.5)  # \n",
    "rho = np.float64(-0.1)  # \n",
    "\n",
    "start_params = np.array([alpha, v, beta, rho])\n",
    "\n",
    "pars_all, err_all, C_all = calibrate_sabr(df = df_only_exp, start_params = start_params, timestamp = needed_stamp,\n",
    "                                calibration_type= \"all\")\n",
    "\n",
    "pars_beta, err_beta, C_beta = calibrate_sabr(df = df_only_exp, start_params = start_params, timestamp = needed_stamp,\n",
    "                                calibration_type= \"beta\")\n",
    "\n",
    "def round_params(params, n_signs = 3):\n",
    "    return [round(x, n_signs) for x in params]\n",
    "    \n",
    "\n",
    "print(\"All:\")\n",
    "print(round_params(pars_all))\n",
    "print(err_all)\n",
    "print(\"   \")\n",
    "\n",
    "print(\"Beta:\")\n",
    "print(round_params(pars_beta))\n",
    "print(err_beta)\n"
   ]
  },
  {
   "cell_type": "code",
   "execution_count": 110,
   "id": "a41f2a0c",
   "metadata": {
    "scrolled": false
   },
   "outputs": [
    {
     "data": {
      "image/png": "[encoded data removed]",
      "text/plain": [
       "<Figure size 1200x560 with 1 Axes>"
      ]
     },
     "metadata": {},
     "output_type": "display_data"
    }
   ],
   "source": [
    "figure(figsize=(15, 7), dpi=80)\n",
    "\n",
    "\n",
    "plt.scatter(C_all[\"strike_price\"], C_all[\"iv\"], label = \"market\", linewidths = 5)\n",
    "\n",
    "# bid,ask iv\n",
    "# plt.plot(C_sing_exp_all[\"strike_price\"], C_sing_exp_all[\"ask_iv\"], '--', label = \"ask_iv\", color = \"black\")\n",
    "# plt.plot(C_sing_exp_all[\"strike_price\"], C_sing_exp_all[\"bid_iv\"], '--', label = \"bid_iv\", color = \"yellow\")\n",
    "\n",
    "plt.scatter(C_all[\"strike_price\"], C_all[\"calibrated_iv\"], label = \"all params\")\n",
    "plt.scatter(C_beta[\"strike_price\"], C_beta[\"calibrated_iv\"], label = r\"$\\beta$\")\n",
    "\n",
    "\n",
    "plt.vlines([C_all.underlying_price.mean()], C_all.iv.min()-5, \n",
    "           C_all.iv.max() + 15, color = \"black\", linestyles = \"dotted\")\n",
    "\n",
    "plt.xlabel(\"strike, USD\")\n",
    "plt.ylabel(\"iv, %\")\n",
    "plt.legend()\n",
    "plt.show()"
   ]
  }
 ],
 "metadata": {
  "kernelspec": {
   "display_name": "Python 3 (ipykernel)",
   "language": "python",
   "name": "python3"
  },
  "language_info": {
   "codemirror_mode": {
    "name": "ipython",
    "version": 3
   },
   "file_extension": ".py",
   "mimetype": "text/x-python",
   "name": "python",
   "nbconvert_exporter": "python",
   "pygments_lexer": "ipython3",
   "version": "3.8.13"
  }
 },
 "nbformat": 4,
 "nbformat_minor": 5
}
