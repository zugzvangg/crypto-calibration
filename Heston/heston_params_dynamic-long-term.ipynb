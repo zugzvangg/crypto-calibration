{
 "cells": [
  {
   "cell_type": "code",
   "execution_count": 8,
   "id": "935965a2",
   "metadata": {},
   "outputs": [],
   "source": [
    "import numpy as np\n",
    "import pandas as pd\n",
    "import matplotlib.pyplot as plt\n",
    "plt.style.use(\"seaborn-v0_8-whitegrid\")\n",
    "import levenberg_marquardt\n",
    "from matplotlib.pyplot import figure\n",
    "import heston\n",
    "from importlib import reload\n",
    "reload(heston)\n",
    "from heston import calibrate_heston, get_tick\n",
    "import datetime\n",
    "from scipy import stats as sps\n",
    "from typing import Union\n",
    "import h5py\n",
    "import matplotlib.dates as mdates\n",
    "from tqdm.notebook import tqdm"
   ]
  },
  {
   "cell_type": "code",
   "execution_count": null,
   "id": "968af2b4",
   "metadata": {},
   "outputs": [],
   "source": [
    "# %%time\n",
    "# raw = pd.HDFStore('../datasets/eth-20230127.h5','r').get(\"/eth\")"
   ]
  },
  {
   "cell_type": "code",
   "execution_count": 3,
   "id": "5a1a6edf",
   "metadata": {},
   "outputs": [],
   "source": [
    "def process_data(data):\n",
    "    # only options\n",
    "    df = data.copy()\n",
    "    df = df[(df[\"instrument\"].str.endswith(\"C\")) | (df[\"instrument\"].str.endswith(\"P\"))].sort_values(\"dt\")\n",
    "    df[\"type\"] = np.where(df[\"instrument\"].str.endswith(\"C\"), \"call\", \"put\")\n",
    "    \n",
    "    perpetuals = data[data[\"instrument\"].str.endswith(\"PERPETUAL\")][[\"dt\", \"price\"]].copy()\n",
    "    perpetuals = perpetuals.rename(columns = {\"price\": \"underlying_price\"}).sort_values(\"dt\")\n",
    "    \n",
    "    def get_strike(x):\n",
    "        return int(x.split(\"-\")[2])\n",
    "    \n",
    "    def get_expiration(x):\n",
    "        return x.split(\"-\")[1]\n",
    "    \n",
    "\n",
    "    df[\"strike_price\"] = df[\"instrument\"].apply(get_strike)\n",
    "    df[\"expiration\"] = df[\"instrument\"].apply(get_expiration)\n",
    "    \n",
    "    def unix_time_millis(dt):\n",
    "        epoch = datetime.datetime.utcfromtimestamp(0)\n",
    "        return int((dt - epoch).total_seconds() * 1000_000)\n",
    "    \n",
    "    def get_normal_date(s):\n",
    "        \"\"\"Function to convert date to find years to maturity\"\"\"\n",
    "        monthToNum = {\n",
    "            \"JAN\": 1,\n",
    "            \"FEB\": 2,\n",
    "            \"MAR\": 3,\n",
    "            \"APR\": 4,\n",
    "            \"MAY\": 5,\n",
    "            \"JUN\": 6,\n",
    "            \"JUL\": 7,\n",
    "            \"AUG\": 8,\n",
    "            \"SEP\": 9,\n",
    "            \"OCT\": 10,\n",
    "            \"NOV\": 11,\n",
    "            \"DEC\": 12,\n",
    "        }\n",
    "\n",
    "        full_date = s.split(\"-\")[1]\n",
    "        try:\n",
    "            day = int(full_date[:2])\n",
    "            month = monthToNum[full_date[2:5]]\n",
    "        except:\n",
    "            day = int(full_date[:1])\n",
    "            month = monthToNum[full_date[1:4]]\n",
    "        \n",
    "        year = int(\"20\" + full_date[-2:])\n",
    "        exp_date = datetime.datetime(year, month, day)\n",
    "        return unix_time_millis(exp_date)\n",
    "    \n",
    "    df[\"dt\"] = pd.to_datetime(df[\"dt\"])\n",
    "    perpetuals[\"dt\"] = pd.to_datetime(perpetuals[\"dt\"])\n",
    "    \n",
    "    df = pd.merge_asof(df, perpetuals, on=\"dt\",\n",
    "                       tolerance=pd.Timedelta('7 minutes'),\n",
    "                       direction='nearest',)\n",
    "    \n",
    "    df[\"timestamp\"] = df[\"dt\"].apply(unix_time_millis)\n",
    "    df[\"expiration\"] = df[\"instrument\"].apply(get_normal_date)\n",
    "    df = df.rename(columns = {\"price\": \"mark_price\"})\n",
    "    \n",
    "    \n",
    "    return df\n"
   ]
  },
  {
   "cell_type": "code",
   "execution_count": null,
   "id": "a21f8b2f",
   "metadata": {},
   "outputs": [],
   "source": [
    "# %%time\n",
    "# start = process_data(raw)\n"
   ]
  },
  {
   "cell_type": "code",
   "execution_count": null,
   "id": "43433291",
   "metadata": {},
   "outputs": [],
   "source": [
    "# df = start.copy()"
   ]
  },
  {
   "cell_type": "code",
   "execution_count": 4,
   "id": "c243e6a6",
   "metadata": {},
   "outputs": [],
   "source": [
    "df = pd.read_csv(f\"../datasets/deribit_options_chain_2022-12-01_OPTIONS.csv\")\n",
    "df = df.drop(columns = [\"exchange\", \"open_interest\", \n",
    "                    \"last_price\", \"bid_price\", \"bid_amount\", \"bid_iv\",\n",
    "                           \"ask_price\", \"ask_amount\", \"ask_iv\", \"underlying_index\",\n",
    "                           \"delta\", \"gamma\", \"vega\", \"theta\" ,\"rho\"])\n",
    "currency = \"ETH\"\n",
    "ind = [symbol.startswith(currency) for symbol in df.symbol]\n",
    "df = df[ind].reset_index(drop=True)\n",
    "\n",
    "# after expiration\n",
    "df = df[df[\"timestamp\"] > 1669881600000000]\n",
    "# df = df[df[\"timestamp\"]<=1669928620213347.0]"
   ]
  },
  {
   "cell_type": "code",
   "execution_count": 11,
   "id": "c94f969e",
   "metadata": {},
   "outputs": [
    {
     "ename": "NameError",
     "evalue": "name 'calibrated_params_nu0' is not defined",
     "output_type": "error",
     "traceback": [
      "\u001b[0;31m---------------------------------------------------------------------------\u001b[0m",
      "\u001b[0;31mNameError\u001b[0m                                 Traceback (most recent call last)",
      "Cell \u001b[0;32mIn [11], line 1\u001b[0m\n\u001b[0;32m----> 1\u001b[0m \u001b[43mcalibrated_params_nu0\u001b[49m\n",
      "\u001b[0;31mNameError\u001b[0m: name 'calibrated_params_nu0' is not defined"
     ]
    }
   ],
   "source": [
    "calibrated_params_nu0"
   ]
  },
  {
   "cell_type": "code",
   "execution_count": 17,
   "id": "2cec78f8",
   "metadata": {
    "scrolled": true
   },
   "outputs": [
    {
     "name": "stdout",
     "output_type": "stream",
     "text": [
      "Optimize first params with random start once\n",
      "all first calibrated [ 2.08791857  1.32906517  4.13569551 -0.36289758  0.6339262 ]\n",
      "nu0 first calibrated [13.50791069  0.83299392  7.18593012 -0.37433675  0.43972661]\n"
     ]
    },
    {
     "data": {
      "application/vnd.jupyter.widget-view+json": {
       "model_id": "424d0042ae674766b0f72ee62b88c07a",
       "version_major": 2,
       "version_minor": 0
      },
      "text/plain": [
       "  0%|          | 0/30 [00:00<?, ?it/s]"
      ]
     },
     "metadata": {},
     "output_type": "display_data"
    },
    {
     "name": "stdout",
     "output_type": "stream",
     "text": [
      "All calibrated: nan\n",
      "Could not calibrate nu0 1669881600006000.0\n",
      "All calibrated: [ 2.32805613  1.28080411  4.33454607 -0.35871687  0.64446119]\n",
      "Could not find jacobian on 1669883586204413.8\n",
      "All calibrated: [ 2.5131332   1.241215    4.43814762 -0.358629    0.64452587]\n",
      "Could not find jacobian on 1669885572402827.5\n",
      "All calibrated: [ 2.34983373  1.27933238  4.35815659 -0.36140762  0.64224015]\n",
      "nu0 calibrated: [18.11152982  0.80970155  9.13184157 -0.38743633  0.35700961]\n",
      "All calibrated: [ 2.48282892  1.25571864  4.45838295 -0.36175477  0.64412621]\n",
      "Could not calibrate LM on 1669889544799655.2\n",
      "All calibrated: [ 2.38647779  1.26966803  4.39111308 -0.36125754  0.64053262]\n",
      "Could not calibrate LM on 1669891530998069.0\n",
      "All calibrated: [ 2.36608908  1.26911959  4.3457762  -0.36217395  0.64093761]\n",
      "Could not calibrate LM on 1669893517196482.8\n",
      "All calibrated: [ 2.38083265  1.2715396   4.38497299 -0.36241322  0.63992575]\n",
      "Could not calibrate LM on 1669895503394896.5\n",
      "All calibrated: [ 2.57787524  1.2323057   4.51551091 -0.35934614  0.64076405]\n",
      "Could not calibrate LM on 1669897489593310.2\n",
      "All calibrated: [ 2.65888532  1.23429168  4.63472153 -0.36282353  0.64103361]\n",
      "Could not calibrate LM on 1669899475791724.2\n",
      "All calibrated: [ 2.87799756  1.20164799  4.81000858 -0.35552369  0.64416722]\n",
      "Could not calibrate LM on 1669901461990138.0\n"
     ]
    },
    {
     "name": "stderr",
     "output_type": "stream",
     "text": [
      "\n",
      "KeyboardInterrupt\n",
      "\n"
     ]
    }
   ],
   "source": [
    "# calibrate base\n",
    "number_of_dots = 30\n",
    "timestamps_hm = []\n",
    "names = [\"kappa\", \"nu_bar\", \"sigma\", \"rho\", \"nu0\"]\n",
    "params_all = []\n",
    "params_nu0 = []\n",
    "errors_all = []\n",
    "errors_nu0 = []\n",
    "\n",
    "a = np.float64(3.0)  # kappa    a                 |  mean reversion rate | kappa (Article) | kappa (Roland's)\n",
    "b = np.float64(0.1)  # v_infinity                |  long term variance | nu_bar           | alpha_bar \n",
    "c = np.float64(0.25)  # sigma                    |  volatility of volatility | sigma      | mu\n",
    "rho = np.float64(0.01)  # rho                    |  correlation between spot and vol |rho | rho\n",
    "v0 = np.float64(0.08) # init variance            | initial variance | nu_0                | alpha_0\n",
    "start_params = np.array([a, b, c, rho, v0])\n",
    "print(\"Optimize first params with random start once\")\n",
    "calibrated_params_all, first_error_all = calibrate_heston(df = df, \n",
    "                                                          timestamp= 1669913599869333.2,\n",
    "                                                          start_params = start_params, calibration_type = \"all\")\n",
    "calibrated_params_nu0, first_error_nu0 = calibrate_heston(df = df, \n",
    "                                                          timestamp= 1669913599869333.2,\n",
    "                                                          start_params = start_params, calibration_type = \"nu0\")\n",
    "print(\"all first calibrated\", calibrated_params_all)\n",
    "print(\"nu0 first calibrated\", calibrated_params_nu0)\n",
    "\n",
    "# Get ticks with similar distnce from available data\n",
    "timestamps = np.linspace(df.timestamp.min(), df.timestamp.max(), number_of_dots)\n",
    "for timestamp in tqdm(timestamps):\n",
    "    try:\n",
    "        # zero params for each point are params from last step\n",
    "        calibrated_params_all, error_all = calibrate_heston(df = df, start_params = calibrated_params_all, \n",
    "                                                            timestamp = timestamp, calibration_type = \"all\")\n",
    "        print(\"All calibrated:\", calibrated_params_all)\n",
    "        \n",
    "        calibrated_params_nu0, error_nu0 = calibrate_heston(df = df, start_params = calibrated_params_nu0, \n",
    "                                                            timestamp = timestamp, calibration_type = \"nu0\")\n",
    "        print(\"nu0 calibrated:\", calibrated_params_nu0)\n",
    "\n",
    "        # save all calib_params\n",
    "        params_all.append(calibrated_params_all)\n",
    "        errors_all.append(error_all)\n",
    "\n",
    "        # save nu0 calib params\n",
    "        params_nu0.append(calibrated_params_nu0)\n",
    "        errors_nu0.append(error_nu0)\n",
    "        \n",
    "        # save timestame that could calibrate\n",
    "        timestamps_hm.append(timestamp)\n",
    "        \n",
    "    except ValueError:\n",
    "        # if could not calibrate, start next calibration with prev params\n",
    "        print(f\"Could not calibrate LM on {timestamp}\")\n",
    "        try:\n",
    "            calibrated_params_all = params_all[-1]\n",
    "            calibrated_params_nu0 = params_nu0[-1]\n",
    "        except IndexError:\n",
    "            calibrated_params_all = start_params\n",
    "            calibrated_params_nu0 = calibrated_params_all\n",
    "        \n",
    "    except IndexError:\n",
    "        print(f\"Could not calibrate nu0 {timestamp}\")\n",
    "        try:\n",
    "            calibrated_params_all = params_all[-1]\n",
    "            calibrated_params_nu0 = params_nu0[-1]\n",
    "        except IndexError:\n",
    "            calibrated_params_all = start_params\n",
    "            calibrated_params_nu0 = calibrated_params_all\n",
    "        \n",
    "    except ZeroDivisionError:\n",
    "        print(f\"Zero dev jacobian on {timestamp}\")\n",
    "        try:\n",
    "            calibrated_params_all = params_all[-1]\n",
    "            calibrated_params_nu0 = params_nu0[-1]\n",
    "        except IndexError:\n",
    "            calibrated_params_all = start_params\n",
    "            calibrated_params_nu0 = calibrated_params_all\n",
    "    \n"
   ]
  },
  {
   "cell_type": "code",
   "execution_count": null,
   "id": "b43c7f37",
   "metadata": {},
   "outputs": [],
   "source": [
    "# single_instr = df[df[\"instrument\"] == df.sample(1).instrument.iloc[0]]\n",
    "# plt.plot(single_instr[\"dt\"], single_instr[\"mark_price\"])\n",
    "# plt.plot(df[\"dt\"], df[\"underlying_price\"])"
   ]
  },
  {
   "cell_type": "code",
   "execution_count": null,
   "id": "7bc5ea82",
   "metadata": {
    "scrolled": false
   },
   "outputs": [],
   "source": [
    "# timestamps_hm = [datetime.datetime.fromtimaestamp(x/1000000.0) for x in timestamps_hm]\n",
    "# expirarions = df.expiration.unique()\n",
    "# expirarions = [datetime.datetime.fromtimestamp(ms/1000000000.0) for ms in expirarions]\n",
    "# expirarions\n",
    "fig, axs =  plt.subplots(nrows=3, ncols=2, figsize=(20, 15))\n",
    "\n",
    "axs[0, 0].plot(timestamps_hm, kappas_all)\n",
    "axs[0, 0].plot(timestamps_hm, kappas_nu0)\n",
    "axs[0, 0].set_title(r\"$\\kappa$ - mean reversion rate\")\n",
    "\n",
    "axs[0, 1].plot(timestamps_hm, nu_bars_all)\n",
    "axs[0, 1].plot(timestamps_hm, nu_bars_nu0)\n",
    "axs[0, 1].set_title(r\"$\\bar{\\nu}$ - long term variance\")\n",
    "\n",
    "axs[1, 0].plot(timestamps_hm, sigmas_all, label = \"all\")\n",
    "axs[1, 0].plot(timestamps_hm, sigmas_nu0, label = \"nu0\")\n",
    "axs[1, 0].set_title(r\"$\\sigma$ - vol of vol\")\n",
    "\n",
    "axs[1, 1].plot(timestamps_hm, rhos_all)\n",
    "axs[1, 1].plot(timestamps_hm, rhos_nu0)\n",
    "axs[1, 1].set_title(\"ρ -rho\")\n",
    "\n",
    "axs[2, 0].plot(timestamps_hm, nu0s_all)\n",
    "axs[2, 0].plot(timestamps_hm, nu0s_nu0)\n",
    "axs[2, 0].set_title(r\"$\\nu_0$ - initial variance\")\n",
    "\n",
    "axs[2, 1].plot(timestamps_hm, errors_all)\n",
    "axs[2, 1].plot(timestamps_hm, errors_nu0)\n",
    "axs[2, 1].set_title(\"error\")\n",
    "\n",
    "\n",
    "\n",
    "for i in range(3):\n",
    "    for j in range(2):\n",
    "        for exp in expirarions:\n",
    "#             axs[i, j].xaxis.set_major_formatter(mdates.DateFormatter('%H:%M'))\n",
    "#             axs[i, j].axvline(x=exp, color = \"black\", linestyle  = \"--\")\n",
    "            if i == j == 0:\n",
    "#                 axs[i, j].axvline(x=exp, color = \"black\", linestyle  = \"--\", label = exp)\n",
    "                pass\n",
    "\n",
    "\n",
    "plt.figlegend() \n",
    "fig.suptitle(\"Heston params dynamic\")\n",
    "\n",
    "plt.show()"
   ]
  },
  {
   "cell_type": "code",
   "execution_count": 6,
   "id": "19766aef",
   "metadata": {},
   "outputs": [
    {
     "data": {
      "text/plain": [
       "1669913599869333.2"
      ]
     },
     "execution_count": 6,
     "metadata": {},
     "output_type": "execute_result"
    }
   ],
   "source": [
    "np.linspace(df.timestamp.min(), df.timestamp.max(), 10)[5]"
   ]
  }
 ],
 "metadata": {
  "kernelspec": {
   "display_name": "Python 3 (ipykernel)",
   "language": "python",
   "name": "python3"
  },
  "language_info": {
   "codemirror_mode": {
    "name": "ipython",
    "version": 3
   },
   "file_extension": ".py",
   "mimetype": "text/x-python",
   "name": "python",
   "nbconvert_exporter": "python",
   "pygments_lexer": "ipython3",
   "version": "3.8.13"
  }
 },
 "nbformat": 4,
 "nbformat_minor": 5
}
