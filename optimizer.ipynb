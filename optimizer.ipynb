{
 "cells": [
  {
   "cell_type": "code",
   "execution_count": 11,
   "id": "018f059e",
   "metadata": {},
   "outputs": [],
   "source": [
    "import numpy as np"
   ]
  },
  {
   "cell_type": "code",
   "execution_count": 22,
   "id": "a5bacb97",
   "metadata": {},
   "outputs": [],
   "source": [
    "resolution = 100\n",
    "zero = np.dstack([\n",
    "    np.linspace(0.0, 1.0, resolution),\n",
    "    np.linspace(0.0, 1.0, resolution),\n",
    "    np.linspace(0.0, 1.0, resolution)\n",
    "])\n",
    "spectrum = np.tile(zero, (resolution, 1, 1))"
   ]
  },
  {
   "cell_type": "code",
   "execution_count": 28,
   "id": "ad16b39e",
   "metadata": {},
   "outputs": [],
   "source": [
    "res = np.linspace(0.0, 1.0, resolution)\n",
    "s = np.meshgrid(res, res)\n",
    "spectrum = np.stack([s[0], s[1], 1-s[0]],axis=-1)"
   ]
  },
  {
   "cell_type": "code",
   "execution_count": 48,
   "id": "03dfc077",
   "metadata": {},
   "outputs": [],
   "source": [
    "def f(x, y, z):\n",
    "    return (x-0.5)**2 + (y-0.7)**2 + 10*np.cos(z)"
   ]
  },
  {
   "cell_type": "code",
   "execution_count": 50,
   "id": "862cfc2d",
   "metadata": {},
   "outputs": [
    {
     "ename": "KeyboardInterrupt",
     "evalue": "",
     "output_type": "error",
     "traceback": [
      "\u001b[0;31m---------------------------------------------------------------------------\u001b[0m",
      "\u001b[0;31mKeyboardInterrupt\u001b[0m                         Traceback (most recent call last)",
      "Cell \u001b[0;32mIn [50], line 7\u001b[0m\n\u001b[1;32m      5\u001b[0m \u001b[38;5;28;01mfor\u001b[39;00m j \u001b[38;5;129;01min\u001b[39;00m array:\n\u001b[1;32m      6\u001b[0m     \u001b[38;5;28;01mfor\u001b[39;00m k \u001b[38;5;129;01min\u001b[39;00m array:\n\u001b[0;32m----> 7\u001b[0m         \u001b[38;5;28;01mif\u001b[39;00m \u001b[43mf\u001b[49m\u001b[43m(\u001b[49m\u001b[43mi\u001b[49m\u001b[43m,\u001b[49m\u001b[43m \u001b[49m\u001b[43mj\u001b[49m\u001b[43m,\u001b[49m\u001b[43m \u001b[49m\u001b[43mk\u001b[49m\u001b[43m)\u001b[49m \u001b[38;5;241m<\u001b[39m minimal:\n\u001b[1;32m      8\u001b[0m             minimal \u001b[38;5;241m=\u001b[39m f(i, j, k)\n\u001b[1;32m      9\u001b[0m             min_values \u001b[38;5;241m=\u001b[39m (i, j, k)\n",
      "Cell \u001b[0;32mIn [48], line 2\u001b[0m, in \u001b[0;36mf\u001b[0;34m(x, y, z)\u001b[0m\n\u001b[1;32m      1\u001b[0m \u001b[38;5;28;01mdef\u001b[39;00m \u001b[38;5;21mf\u001b[39m(x, y, z):\n\u001b[0;32m----> 2\u001b[0m     \u001b[38;5;28;01mreturn\u001b[39;00m (x\u001b[38;5;241m-\u001b[39m\u001b[38;5;241m0.5\u001b[39m)\u001b[38;5;241m*\u001b[39m\u001b[38;5;241m*\u001b[39m\u001b[38;5;241m2\u001b[39m \u001b[38;5;241m+\u001b[39m (y\u001b[38;5;241m-\u001b[39m\u001b[38;5;241m0.7\u001b[39m)\u001b[38;5;241m*\u001b[39m\u001b[38;5;241m*\u001b[39m\u001b[38;5;241m2\u001b[39m \u001b[38;5;241m+\u001b[39m \u001b[38;5;241m10\u001b[39m\u001b[38;5;241m*\u001b[39m\u001b[43mnp\u001b[49m\u001b[38;5;241;43m.\u001b[39;49m\u001b[43mcos\u001b[49m\u001b[43m(\u001b[49m\u001b[43mz\u001b[49m\u001b[43m)\u001b[49m\n",
      "\u001b[0;31mKeyboardInterrupt\u001b[0m: "
     ]
    }
   ],
   "source": [
    "array = np.linspace(0.0, 1.0, 1000)\n",
    "min_values = (0, 0, 0)\n",
    "minimal = np.inf\n",
    "for i in array:\n",
    "    for j in array:\n",
    "        for k in array:\n",
    "            if f(i, j, k) < minimal:\n",
    "                minimal = f(i, j, k)\n",
    "                min_values = (i, j, k)\n",
    "print(minimal, min_values)"
   ]
  }
 ],
 "metadata": {
  "kernelspec": {
   "display_name": "Python 3 (ipykernel)",
   "language": "python",
   "name": "python3"
  },
  "language_info": {
   "codemirror_mode": {
    "name": "ipython",
    "version": 3
   },
   "file_extension": ".py",
   "mimetype": "text/x-python",
   "name": "python",
   "nbconvert_exporter": "python",
   "pygments_lexer": "ipython3",
   "version": "3.8.13"
  }
 },
 "nbformat": 4,
 "nbformat_minor": 5
}
