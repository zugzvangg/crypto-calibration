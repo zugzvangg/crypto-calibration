{
 "cells": [
  {
   "cell_type": "code",
   "execution_count": 1,
   "id": "935965a2",
   "metadata": {},
   "outputs": [],
   "source": [
    "import numpy as np\n",
    "import pandas as pd\n",
    "import matplotlib.pyplot as plt\n",
    "plt.style.use(\"seaborn-v0_8-whitegrid\")\n",
    "from matplotlib.pyplot import figure\n",
    "from importlib import reload\n",
    "import sys\n",
    "import src.SABR.sabr\n",
    "reload(src.SABR.sabr)\n",
    "from src.SABR.sabr import calibrate_sabr\n",
    "from src.utils import process_data\n",
    "import datetime\n",
    "import warnings\n",
    "warnings.filterwarnings(\"ignore\")\n",
    "import h5py\n",
    "import matplotlib.dates as mdates\n",
    "from tqdm.notebook import tqdm"
   ]
  },
  {
   "cell_type": "code",
   "execution_count": 2,
   "id": "968af2b4",
   "metadata": {},
   "outputs": [
    {
     "data": {
      "text/plain": [
       "<AxesSubplot: >"
      ]
     },
     "execution_count": 2,
     "metadata": {},
     "output_type": "execute_result"
    },
    {
     "data": {
      "image/png": "[encoded data removed]",
      "text/plain": [
       "<Figure size 640x480 with 1 Axes>"
      ]
     },
     "metadata": {},
     "output_type": "display_data"
    }
   ],
   "source": [
    "# heavy\n",
    "# %%time\n",
    "raw = pd.HDFStore('datasets/eth-20230224.h5','r').get(\"/eth\")\n",
    "# raw2 = pd.HDFStore('../datasets/eth-20230127.h5','r').get(\"/eth\")\n",
    "# raw3 = pd.HDFStore('../datasets/eth-20230310.h5','r').get(\"/eth\")\n",
    "# raw = pd.concat([raw1, raw2, raw3]).drop_duplicates()\n",
    "raw.dt.hist(bins = 100)"
   ]
  },
  {
   "cell_type": "code",
   "execution_count": null,
   "id": "a21f8b2f",
   "metadata": {},
   "outputs": [],
   "source": [
    "%%time\n",
    "start = process_data(raw)"
   ]
  },
  {
   "cell_type": "code",
   "execution_count": null,
   "id": "43433291",
   "metadata": {},
   "outputs": [],
   "source": [
    "df = start.copy()\n",
    "df"
   ]
  },
  {
   "cell_type": "markdown",
   "id": "fff4c309",
   "metadata": {},
   "source": [
    "# See params dynamic"
   ]
  },
  {
   "cell_type": "code",
   "execution_count": null,
   "id": "896e06d2",
   "metadata": {
    "scrolled": true
   },
   "outputs": [],
   "source": [
    "%%time\n",
    "# calibrate base\n",
    "number_of_dots = 200\n",
    "timestamps_hm = []\n",
    "\n",
    "params_all = []\n",
    "params_beta = []\n",
    "\n",
    "errors_all = []\n",
    "errors_beta = []\n",
    "\n",
    "alpha = np.float64(1.0)  # \n",
    "v = np.float64(1.3)  # \n",
    "beta = np.float64(0.5)  # \n",
    "rho = np.float64(-0.1)  # \n",
    "\n",
    "start_params = np.array([alpha, v, beta, rho])\n",
    "\n",
    "# Get ticks with similar distnce from available data\n",
    "calibr_borders = df[(df[\"dt\"] >= \"2023-02-04\") & (df[\"dt\"] <= \"2023-02-04 23:00:00\")].copy()\n",
    "df_only_exp = calibr_borders[calibr_borders[\"expiration\"] == calibr_borders.sample(1).expiration.iloc[0]].copy()\n",
    "\n",
    "print(\"Optimize first params with random start once\")\n",
    "calibrated_params_all, first_error_all, _ = calibrate_sabr(df = df_only_exp, \n",
    "                                                        start_params = start_params, \n",
    "                                                        calibration_type = \"all\")\n",
    "calibrated_params_beta, first_error_beta, _ = calibrate_sabr(df = df_only_exp, \n",
    "                                                        start_params = start_params, \n",
    "                                                        calibration_type = \"beta\")\n",
    "\n",
    "\n",
    "print(\"All first calibrated:\", [round(x, 3) for x in calibrated_params_all], \"error:\", first_error_all)\n",
    "print(\"Beta first calibrated:\", [round(x, 3) for x in calibrated_params_beta], \"error:\", first_error_beta)\n",
    "\n",
    "\n",
    "timestamps = np.linspace(calibr_borders.timestamp.min(), calibr_borders.timestamp.max(), number_of_dots)\n",
    "for timestamp in tqdm(timestamps):\n",
    "    try:\n",
    "        # zero params for each point are params from last step\n",
    "        calibrated_params_all, error_all, _ = calibrate_sabr(df = df_only_exp, start_params = calibrated_params_all, \n",
    "                                    timestamp = timestamp, calibration_type = \"all\")\n",
    "        print(\"All calibrated:\", [round(x, 3) for x in calibrated_params_all], \n",
    "              \"error:\", error_all)\n",
    "                \n",
    "        calibrated_params_beta, error_beta, _ = calibrate_sabr(df = df_only_exp, start_params = calibrated_params_beta, \n",
    "                                    timestamp = timestamp, calibration_type = \"beta\")\n",
    "        print(\"nu0 calibrated:\", [round(x, 3) for x in calibrated_params_beta], \n",
    "              \"error:\", error_beta)\n",
    "        \n",
    "        params_all.append(calibrated_params_all)\n",
    "        errors_all.append(error_all)\n",
    "        params_beta.append(calibrated_params_beta)\n",
    "        errors_beta.append(error_beta)\n",
    "        timestamps_hm.append(timestamp)\n",
    "        \n",
    "        print(\"    \")\n",
    "        # save timestame that could calibrate\n",
    "    except:\n",
    "        continue\n",
    "\n",
    "    \n",
    "timestamps_hm = [datetime.datetime.fromtimestamp(x/1000000.0) for x in timestamps_hm]\n",
    "params_all = np.array(params_all).T\n",
    "params_beta = np.array(params_beta).T\n",
    "\n",
    "\n",
    "\n"
   ]
  },
  {
   "cell_type": "code",
   "execution_count": null,
   "id": "8fe46180",
   "metadata": {},
   "outputs": [],
   "source": [
    "fig, axs =  plt.subplots(nrows=3, ncols=2, figsize=(20, 15))\n",
    "\n",
    "axs[0, 0].plot(timestamps_hm, params_all[0], label = \"all params\")\n",
    "axs[0, 1].plot(timestamps_hm, params_all[1])\n",
    "axs[1, 0].plot(timestamps_hm, params_all[2])\n",
    "axs[1, 1].plot(timestamps_hm, params_all[3])\n",
    "axs[2, 1].plot(timestamps_hm, errors_all)\n",
    "\n",
    "axs[0, 0].plot(timestamps_hm, params_beta[0], label = r\"$\\beta$\")\n",
    "axs[0, 1].plot(timestamps_hm, params_beta[1])\n",
    "axs[1, 0].plot(timestamps_hm, params_beta[2])\n",
    "axs[1, 1].plot(timestamps_hm, params_beta[3])\n",
    "axs[2, 1].plot(timestamps_hm, errors_beta)\n",
    "\n",
    "\n",
    "axs[0, 0].set_title(r\"$\\alpha$\")\n",
    "axs[0, 1].set_title(r\"v - vol of vol\")\n",
    "axs[1, 0].set_title(r\"$\\beta$ - backbone\")\n",
    "axs[1, 1].set_title(\"ρ -rho\")\n",
    "axs[2, 1].set_title(\"error\")\n",
    "\n",
    "\n",
    "\n",
    "# for i in range(3):\n",
    "#     for j in range(2):\n",
    "#         for exp in expirarions:\n",
    "#             axs[i, j].xaxis.set_major_formatter(mdates.DateFormatter('%H:%M'))\n",
    "#             axs[i, j].axvline(x=exp, color = \"black\", linestyle  = \"--\")\n",
    "#             if i == j == 0:\n",
    "#                 axs[i, j].axvline(x=exp, color = \"black\", linestyle  = \"--\", label = exp)\n",
    "#                 pass\n",
    "\n",
    "\n",
    "plt.figlegend() \n",
    "fig.suptitle(\"SABR params dynamic\")\n",
    "plt.gcf().autofmt_xdate()\n",
    "plt.show()"
   ]
  },
  {
   "cell_type": "markdown",
   "id": "fc7e8f41",
   "metadata": {},
   "source": [
    "# Vol smile"
   ]
  },
  {
   "cell_type": "code",
   "execution_count": null,
   "id": "5802356d",
   "metadata": {},
   "outputs": [],
   "source": [
    "df_only_exp = df[df[\"expiration\"] == df.sample(1).expiration.iloc[0]].copy()\n",
    "stamp = df_only_exp.sample(1).iloc[0].timestamp\n",
    "print(stamp)"
   ]
  },
  {
   "cell_type": "code",
   "execution_count": null,
   "id": "863cde3e",
   "metadata": {
    "scrolled": true
   },
   "outputs": [],
   "source": [
    "needed_stamp = 1670931812011000\n",
    "alpha = np.float64(1.0)  # \n",
    "v = np.float64(1.3)  # \n",
    "beta = np.float64(0.5)  # \n",
    "rho = np.float64(-0.1)  # \n",
    "\n",
    "start_params = np.array([alpha, v, beta, rho])\n",
    "\n",
    "pars_all, err_all, C_all = calibrate_sabr(df = df_only_exp, start_params = start_params, timestamp = needed_stamp,\n",
    "                                calibration_type= \"all\")\n",
    "\n",
    "pars_beta, err_beta, C_beta = calibrate_sabr(df = df_only_exp, start_params = start_params, timestamp = needed_stamp,\n",
    "                                calibration_type= \"beta\")\n",
    "\n",
    "def round_params(params, n_signs = 3):\n",
    "    return [round(x, n_signs) for x in params]\n",
    "    \n",
    "\n",
    "print(\"All:\")\n",
    "print(round_params(pars_all))\n",
    "print(err_all)\n",
    "print(\"   \")\n",
    "\n",
    "print(\"Beta:\")\n",
    "print(round_params(pars_beta))\n",
    "print(err_beta)\n"
   ]
  },
  {
   "cell_type": "code",
   "execution_count": null,
   "id": "a41f2a0c",
   "metadata": {
    "scrolled": false
   },
   "outputs": [],
   "source": [
    "figure(figsize=(15, 7), dpi=80)\n",
    "\n",
    "\n",
    "plt.scatter(C_all[\"strike_price\"], C_all[\"iv\"], label = \"market\", linewidths = 5)\n",
    "\n",
    "# bid,ask iv\n",
    "# plt.plot(C_sing_exp_all[\"strike_price\"], C_sing_exp_all[\"ask_iv\"], '--', label = \"ask_iv\", color = \"black\")\n",
    "# plt.plot(C_sing_exp_all[\"strike_price\"], C_sing_exp_all[\"bid_iv\"], '--', label = \"bid_iv\", color = \"yellow\")\n",
    "\n",
    "plt.scatter(C_all[\"strike_price\"], C_all[\"calibrated_iv\"], label = \"all params\")\n",
    "plt.scatter(C_beta[\"strike_price\"], C_beta[\"calibrated_iv\"], label = r\"$\\beta$\")\n",
    "\n",
    "\n",
    "plt.vlines([C_all.underlying_price.mean()], C_all.iv.min()-5, \n",
    "           C_all.iv.max() + 15, color = \"black\", linestyles = \"dotted\")\n",
    "\n",
    "plt.xlabel(\"strike, USD\")\n",
    "plt.ylabel(\"iv, %\")\n",
    "plt.legend()\n",
    "plt.show()"
   ]
  }
 ],
 "metadata": {
  "kernelspec": {
   "display_name": "Python 3 (ipykernel)",
   "language": "python",
   "name": "python3"
  },
  "language_info": {
   "codemirror_mode": {
    "name": "ipython",
    "version": 3
   },
   "file_extension": ".py",
   "mimetype": "text/x-python",
   "name": "python",
   "nbconvert_exporter": "python",
   "pygments_lexer": "ipython3",
   "version": "3.8.13"
  }
 },
 "nbformat": 4,
 "nbformat_minor": 5
}
