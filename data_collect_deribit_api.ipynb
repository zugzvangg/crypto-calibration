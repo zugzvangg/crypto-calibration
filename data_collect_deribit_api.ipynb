{
 "cells": [
  {
   "cell_type": "code",
   "execution_count": 1,
   "id": "8c48e9a3",
   "metadata": {},
   "outputs": [],
   "source": [
    "import asyncio\n",
    "import websockets\n",
    "import json\n",
    "import pandas as pd\n",
    "import nest_asyncio\n",
    "import matplotlib.pyplot as plt\n",
    "nest_asyncio.apply()\n",
    "import warnings\n",
    "import numpy as np\n",
    "import datetime\n",
    "from utils import collect_all_instruments_ids, collect_single_instrument_data\n",
    "warnings.filterwarnings(\"ignore\")"
   ]
  },
  {
   "cell_type": "markdown",
   "id": "eef0f453",
   "metadata": {},
   "source": [
    "## Соберем все id-щники и опционы, которым они соответсвуют"
   ]
  },
  {
   "cell_type": "code",
   "execution_count": 2,
   "id": "a3f3d2ea",
   "metadata": {},
   "outputs": [
    {
     "data": {
      "text/html": [
       "<div>\n",
       "<style scoped>\n",
       "    .dataframe tbody tr th:only-of-type {\n",
       "        vertical-align: middle;\n",
       "    }\n",
       "\n",
       "    .dataframe tbody tr th {\n",
       "        vertical-align: top;\n",
       "    }\n",
       "\n",
       "    .dataframe thead th {\n",
       "        text-align: right;\n",
       "    }\n",
       "</style>\n",
       "<table border=\"1\" class=\"dataframe\">\n",
       "  <thead>\n",
       "    <tr style=\"text-align: right;\">\n",
       "      <th></th>\n",
       "      <th>instrument_name</th>\n",
       "      <th>instrument_id</th>\n",
       "    </tr>\n",
       "  </thead>\n",
       "  <tbody>\n",
       "    <tr>\n",
       "      <th>0</th>\n",
       "      <td>BTC-12DEC22-14000-C</td>\n",
       "      <td>143923</td>\n",
       "    </tr>\n",
       "    <tr>\n",
       "      <th>1</th>\n",
       "      <td>BTC-12DEC22-14000-P</td>\n",
       "      <td>143924</td>\n",
       "    </tr>\n",
       "    <tr>\n",
       "      <th>2</th>\n",
       "      <td>BTC-12DEC22-15000-C</td>\n",
       "      <td>143925</td>\n",
       "    </tr>\n",
       "    <tr>\n",
       "      <th>3</th>\n",
       "      <td>BTC-12DEC22-15000-P</td>\n",
       "      <td>143926</td>\n",
       "    </tr>\n",
       "    <tr>\n",
       "      <th>4</th>\n",
       "      <td>BTC-12DEC22-15500-C</td>\n",
       "      <td>143927</td>\n",
       "    </tr>\n",
       "  </tbody>\n",
       "</table>\n",
       "</div>"
      ],
      "text/plain": [
       "       instrument_name  instrument_id\n",
       "0  BTC-12DEC22-14000-C         143923\n",
       "1  BTC-12DEC22-14000-P         143924\n",
       "2  BTC-12DEC22-15000-C         143925\n",
       "3  BTC-12DEC22-15000-P         143926\n",
       "4  BTC-12DEC22-15500-C         143927"
      ]
     },
     "execution_count": 2,
     "metadata": {},
     "output_type": "execute_result"
    }
   ],
   "source": [
    "# все id-шники\n",
    "instruments_df = collect_all_instruments_ids()\n",
    "instruments_df.head(5)"
   ]
  },
  {
   "cell_type": "markdown",
   "id": "4d8f2e00",
   "metadata": {},
   "source": [
    "## Собираем данные по конкретному опциону"
   ]
  },
  {
   "cell_type": "code",
   "execution_count": 3,
   "id": "ec7235a6",
   "metadata": {},
   "outputs": [
    {
     "name": "stderr",
     "output_type": "stream",
     "text": [
      "2022-12-11 11:44:25.162 | INFO     | utils:call_api:68 - Collected 100 ticks for id = 143275\n"
     ]
    },
    {
     "data": {
      "text/html": [
       "<div>\n",
       "<style scoped>\n",
       "    .dataframe tbody tr th:only-of-type {\n",
       "        vertical-align: middle;\n",
       "    }\n",
       "\n",
       "    .dataframe tbody tr th {\n",
       "        vertical-align: top;\n",
       "    }\n",
       "\n",
       "    .dataframe thead th {\n",
       "        text-align: right;\n",
       "    }\n",
       "</style>\n",
       "<table border=\"1\" class=\"dataframe\">\n",
       "  <thead>\n",
       "    <tr style=\"text-align: right;\">\n",
       "      <th></th>\n",
       "      <th>instrument_name</th>\n",
       "      <th>timestamp</th>\n",
       "      <th>underlying_price</th>\n",
       "      <th>mark_iv</th>\n",
       "      <th>mark_price</th>\n",
       "      <th>best_bid_price</th>\n",
       "      <th>best_ask_price</th>\n",
       "      <th>human_timestamp</th>\n",
       "      <th>strike</th>\n",
       "    </tr>\n",
       "  </thead>\n",
       "  <tbody>\n",
       "    <tr>\n",
       "      <th>0</th>\n",
       "      <td>BTC-23DEC22-18000-P</td>\n",
       "      <td>1670748258174</td>\n",
       "      <td>17141.60</td>\n",
       "      <td>87.02</td>\n",
       "      <td>0.0925</td>\n",
       "      <td>0.0</td>\n",
       "      <td>0.0</td>\n",
       "      <td>2022-12-11 11:44:18.174000</td>\n",
       "      <td>18000</td>\n",
       "    </tr>\n",
       "    <tr>\n",
       "      <th>26</th>\n",
       "      <td>BTC-23DEC22-18000-P</td>\n",
       "      <td>1670748260188</td>\n",
       "      <td>17141.59</td>\n",
       "      <td>87.02</td>\n",
       "      <td>0.0925</td>\n",
       "      <td>0.0</td>\n",
       "      <td>0.0</td>\n",
       "      <td>2022-12-11 11:44:20.188000</td>\n",
       "      <td>18000</td>\n",
       "    </tr>\n",
       "    <tr>\n",
       "      <th>41</th>\n",
       "      <td>BTC-23DEC22-18000-P</td>\n",
       "      <td>1670748261195</td>\n",
       "      <td>17141.18</td>\n",
       "      <td>87.02</td>\n",
       "      <td>0.0925</td>\n",
       "      <td>0.0</td>\n",
       "      <td>0.0</td>\n",
       "      <td>2022-12-11 11:44:21.195000</td>\n",
       "      <td>18000</td>\n",
       "    </tr>\n",
       "    <tr>\n",
       "      <th>56</th>\n",
       "      <td>BTC-23DEC22-18000-P</td>\n",
       "      <td>1670748262202</td>\n",
       "      <td>17141.15</td>\n",
       "      <td>87.02</td>\n",
       "      <td>0.0925</td>\n",
       "      <td>0.0</td>\n",
       "      <td>0.0</td>\n",
       "      <td>2022-12-11 11:44:22.202000</td>\n",
       "      <td>18000</td>\n",
       "    </tr>\n",
       "    <tr>\n",
       "      <th>71</th>\n",
       "      <td>BTC-23DEC22-18000-P</td>\n",
       "      <td>1670748263209</td>\n",
       "      <td>17141.44</td>\n",
       "      <td>87.02</td>\n",
       "      <td>0.0925</td>\n",
       "      <td>0.0</td>\n",
       "      <td>0.0</td>\n",
       "      <td>2022-12-11 11:44:23.209000</td>\n",
       "      <td>18000</td>\n",
       "    </tr>\n",
       "  </tbody>\n",
       "</table>\n",
       "</div>"
      ],
      "text/plain": [
       "        instrument_name      timestamp  underlying_price  mark_iv  mark_price  \\\n",
       "0   BTC-23DEC22-18000-P  1670748258174          17141.60    87.02      0.0925   \n",
       "26  BTC-23DEC22-18000-P  1670748260188          17141.59    87.02      0.0925   \n",
       "41  BTC-23DEC22-18000-P  1670748261195          17141.18    87.02      0.0925   \n",
       "56  BTC-23DEC22-18000-P  1670748262202          17141.15    87.02      0.0925   \n",
       "71  BTC-23DEC22-18000-P  1670748263209          17141.44    87.02      0.0925   \n",
       "\n",
       "    best_bid_price  best_ask_price             human_timestamp  strike  \n",
       "0              0.0             0.0  2022-12-11 11:44:18.174000   18000  \n",
       "26             0.0             0.0  2022-12-11 11:44:20.188000   18000  \n",
       "41             0.0             0.0  2022-12-11 11:44:21.195000   18000  \n",
       "56             0.0             0.0  2022-12-11 11:44:22.202000   18000  \n",
       "71             0.0             0.0  2022-12-11 11:44:23.209000   18000  "
      ]
     },
     "execution_count": 3,
     "metadata": {},
     "output_type": "execute_result"
    }
   ],
   "source": [
    "# по конкретному опциону\n",
    "single_option = collect_single_instrument_data(instrument_id = int(instruments_df.sample(1).iloc[0].instrument_id), number_of_ticks = 100)\n",
    "single_option.head(5)"
   ]
  },
  {
   "cell_type": "markdown",
   "id": "e14279d1",
   "metadata": {},
   "source": [
    "## Собираем по одному тику для каждого опциона с одинаковым временем экспирации, чтобы узнать все страйки и их рыночные волатильности"
   ]
  },
  {
   "cell_type": "code",
   "execution_count": 5,
   "id": "a2911cb5",
   "metadata": {
    "scrolled": false
   },
   "outputs": [
    {
     "name": "stderr",
     "output_type": "stream",
     "text": [
      "2022-12-11 11:44:46.975 | INFO     | utils:call_api:68 - Collected 1 ticks for id = 130486\n",
      "2022-12-11 11:44:47.344 | INFO     | utils:call_api:68 - Collected 1 ticks for id = 130487\n",
      "2022-12-11 11:44:47.708 | INFO     | utils:call_api:68 - Collected 1 ticks for id = 141838\n",
      "2022-12-11 11:44:48.071 | INFO     | utils:call_api:68 - Collected 1 ticks for id = 141839\n",
      "2022-12-11 11:44:48.436 | INFO     | utils:call_api:68 - Collected 1 ticks for id = 130251\n",
      "2022-12-11 11:44:48.810 | INFO     | utils:call_api:68 - Collected 1 ticks for id = 130252\n",
      "2022-12-11 11:44:49.174 | INFO     | utils:call_api:68 - Collected 1 ticks for id = 131275\n",
      "2022-12-11 11:44:49.543 | INFO     | utils:call_api:68 - Collected 1 ticks for id = 131276\n",
      "2022-12-11 11:44:49.903 | INFO     | utils:call_api:68 - Collected 1 ticks for id = 143887\n",
      "2022-12-11 11:44:50.268 | INFO     | utils:call_api:68 - Collected 1 ticks for id = 143888\n",
      "2022-12-11 11:44:50.633 | INFO     | utils:call_api:68 - Collected 1 ticks for id = 143889\n",
      "2022-12-11 11:44:50.985 | INFO     | utils:call_api:68 - Collected 1 ticks for id = 143890\n",
      "2022-12-11 11:44:51.342 | INFO     | utils:call_api:68 - Collected 1 ticks for id = 143891\n",
      "2022-12-11 11:44:51.702 | INFO     | utils:call_api:68 - Collected 1 ticks for id = 143892\n",
      "2022-12-11 11:44:52.058 | INFO     | utils:call_api:68 - Collected 1 ticks for id = 131277\n",
      "2022-12-11 11:44:52.425 | INFO     | utils:call_api:68 - Collected 1 ticks for id = 131278\n",
      "2022-12-11 11:44:52.784 | INFO     | utils:call_api:68 - Collected 1 ticks for id = 124944\n",
      "2022-12-11 11:44:53.145 | INFO     | utils:call_api:68 - Collected 1 ticks for id = 125375\n",
      "2022-12-11 11:44:53.500 | INFO     | utils:call_api:68 - Collected 1 ticks for id = 131279\n",
      "2022-12-11 11:44:53.859 | INFO     | utils:call_api:68 - Collected 1 ticks for id = 131280\n",
      "2022-12-11 11:44:54.223 | INFO     | utils:call_api:68 - Collected 1 ticks for id = 131321\n",
      "2022-12-11 11:44:54.580 | INFO     | utils:call_api:68 - Collected 1 ticks for id = 131322\n",
      "2022-12-11 11:44:54.933 | INFO     | utils:call_api:68 - Collected 1 ticks for id = 125644\n",
      "2022-12-11 11:44:55.288 | INFO     | utils:call_api:68 - Collected 1 ticks for id = 125064\n",
      "2022-12-11 11:44:55.673 | INFO     | utils:call_api:68 - Collected 1 ticks for id = 131477\n",
      "2022-12-11 11:44:56.055 | INFO     | utils:call_api:68 - Collected 1 ticks for id = 131478\n",
      "2022-12-11 11:44:56.421 | INFO     | utils:call_api:68 - Collected 1 ticks for id = 132163\n",
      "2022-12-11 11:44:56.787 | INFO     | utils:call_api:68 - Collected 1 ticks for id = 132164\n",
      "2022-12-11 11:44:57.152 | INFO     | utils:call_api:68 - Collected 1 ticks for id = 125283\n",
      "2022-12-11 11:44:57.515 | INFO     | utils:call_api:68 - Collected 1 ticks for id = 125129\n",
      "2022-12-11 11:44:57.895 | INFO     | utils:call_api:68 - Collected 1 ticks for id = 125287\n",
      "2022-12-11 11:44:58.265 | INFO     | utils:call_api:68 - Collected 1 ticks for id = 125195\n",
      "2022-12-11 11:44:58.635 | INFO     | utils:call_api:68 - Collected 1 ticks for id = 125339\n",
      "2022-12-11 11:44:59.003 | INFO     | utils:call_api:68 - Collected 1 ticks for id = 125045\n",
      "2022-12-11 11:44:59.370 | INFO     | utils:call_api:68 - Collected 1 ticks for id = 125269\n",
      "2022-12-11 11:44:59.744 | INFO     | utils:call_api:68 - Collected 1 ticks for id = 125482\n",
      "2022-12-11 11:45:00.107 | INFO     | utils:call_api:68 - Collected 1 ticks for id = 125548\n",
      "2022-12-11 11:45:00.464 | INFO     | utils:call_api:68 - Collected 1 ticks for id = 125645\n",
      "2022-12-11 11:45:00.832 | INFO     | utils:call_api:68 - Collected 1 ticks for id = 124947\n",
      "2022-12-11 11:45:01.197 | INFO     | utils:call_api:68 - Collected 1 ticks for id = 125162\n",
      "2022-12-11 11:45:01.585 | INFO     | utils:call_api:68 - Collected 1 ticks for id = 125310\n",
      "2022-12-11 11:45:01.956 | INFO     | utils:call_api:68 - Collected 1 ticks for id = 125609\n",
      "2022-12-11 11:45:02.319 | INFO     | utils:call_api:68 - Collected 1 ticks for id = 133176\n",
      "2022-12-11 11:45:02.706 | INFO     | utils:call_api:68 - Collected 1 ticks for id = 133177\n",
      "2022-12-11 11:45:03.078 | INFO     | utils:call_api:68 - Collected 1 ticks for id = 133178\n",
      "2022-12-11 11:45:03.453 | INFO     | utils:call_api:68 - Collected 1 ticks for id = 133179\n",
      "2022-12-11 11:45:03.822 | INFO     | utils:call_api:68 - Collected 1 ticks for id = 125627\n",
      "2022-12-11 11:45:04.186 | INFO     | utils:call_api:68 - Collected 1 ticks for id = 125144\n",
      "2022-12-11 11:45:04.548 | INFO     | utils:call_api:68 - Collected 1 ticks for id = 125382\n",
      "2022-12-11 11:45:05.065 | INFO     | utils:call_api:68 - Collected 1 ticks for id = 125208\n",
      "2022-12-11 11:45:05.444 | INFO     | utils:call_api:68 - Collected 1 ticks for id = 125397\n",
      "2022-12-11 11:45:05.806 | INFO     | utils:call_api:68 - Collected 1 ticks for id = 125088\n"
     ]
    },
    {
     "data": {
      "image/png": "[encoded data removed]",
      "text/plain": [
       "<Figure size 640x480 with 1 Axes>"
      ]
     },
     "metadata": {},
     "output_type": "display_data"
    }
   ],
   "source": [
    "random_instrument = instruments_df.sample(1).iloc[0][\"instrument_name\"]\n",
    "single_strike = instruments_df[\n",
    "    (instruments_df[\"instrument_name\"].str.startswith(random_instrument[0:11])) \n",
    "]\n",
    "single_strike_ids = single_strike.instrument_id.to_list()\n",
    "\n",
    "options = pd.DataFrame(columns = single_option.columns.values)\n",
    "for op_id in single_strike_ids:\n",
    "    try:\n",
    "        option = collect_single_instrument_data(instrument_id = op_id, number_of_ticks = 1)\n",
    "        options = options.append(option)\n",
    "    except:\n",
    "        continue\n",
    "    \n",
    "plt.scatter(options[\"strike\"], options[\"mark_iv\"])\n",
    "plt.axvline(x=option.iloc[0][\"underlying_price\"])\n",
    "plt.xlabel(\"strike\")\n",
    "plt.ylabel(\"Deribit mark implied volatility\")\n",
    "exp_date = options.iloc[0].instrument_name[:11]\n",
    "plt.title(f\"Strikes for expirety date: {exp_date}\")\n",
    "plt.show()\n",
    "\n",
    "options.to_pickle(f\"data/{exp_date}.pkl\")"
   ]
  }
 ],
 "metadata": {
  "kernelspec": {
   "display_name": "Python 3 (ipykernel)",
   "language": "python",
   "name": "python3"
  },
  "language_info": {
   "codemirror_mode": {
    "name": "ipython",
    "version": 3
   },
   "file_extension": ".py",
   "mimetype": "text/x-python",
   "name": "python",
   "nbconvert_exporter": "python",
   "pygments_lexer": "ipython3",
   "version": "3.8.13"
  },
  "vscode": {
   "interpreter": {
    "hash": "ac9509ee90b234574dc77e9356e283122dc105166bd8fba1299d6be8b3dd0f25"
   }
  }
 },
 "nbformat": 4,
 "nbformat_minor": 5
}
