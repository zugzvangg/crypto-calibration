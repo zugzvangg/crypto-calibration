{
 "cells": [
  {
   "cell_type": "code",
   "execution_count": 1,
   "id": "8c48e9a3",
   "metadata": {},
   "outputs": [],
   "source": [
    "import asyncio\n",
    "import websockets\n",
    "import json\n",
    "import pandas as pd\n",
    "import nest_asyncio\n",
    "import matplotlib.pyplot as plt\n",
    "nest_asyncio.apply()\n",
    "import warnings\n",
    "import numpy as np\n",
    "import datetime\n",
    "from utils import collect_all_instruments_ids, collect_single_instrument_data\n",
    "warnings.filterwarnings(\"ignore\")"
   ]
  },
  {
   "cell_type": "markdown",
   "id": "eef0f453",
   "metadata": {},
   "source": [
    "## Соберем все id-щники и опционы, которым они соответсвуют"
   ]
  },
  {
   "cell_type": "code",
   "execution_count": 2,
   "id": "a3f3d2ea",
   "metadata": {},
   "outputs": [
    {
     "data": {
      "text/html": [
       "<div>\n",
       "<style scoped>\n",
       "    .dataframe tbody tr th:only-of-type {\n",
       "        vertical-align: middle;\n",
       "    }\n",
       "\n",
       "    .dataframe tbody tr th {\n",
       "        vertical-align: top;\n",
       "    }\n",
       "\n",
       "    .dataframe thead th {\n",
       "        text-align: right;\n",
       "    }\n",
       "</style>\n",
       "<table border=\"1\" class=\"dataframe\">\n",
       "  <thead>\n",
       "    <tr style=\"text-align: right;\">\n",
       "      <th></th>\n",
       "      <th>instrument_name</th>\n",
       "      <th>instrument_id</th>\n",
       "    </tr>\n",
       "  </thead>\n",
       "  <tbody>\n",
       "    <tr>\n",
       "      <th>0</th>\n",
       "      <td>BTC-31OCT22-17000-C</td>\n",
       "      <td>140792</td>\n",
       "    </tr>\n",
       "    <tr>\n",
       "      <th>1</th>\n",
       "      <td>BTC-31OCT22-17000-P</td>\n",
       "      <td>140793</td>\n",
       "    </tr>\n",
       "    <tr>\n",
       "      <th>2</th>\n",
       "      <td>BTC-31OCT22-18000-C</td>\n",
       "      <td>140795</td>\n",
       "    </tr>\n",
       "    <tr>\n",
       "      <th>3</th>\n",
       "      <td>BTC-31OCT22-18000-P</td>\n",
       "      <td>140798</td>\n",
       "    </tr>\n",
       "    <tr>\n",
       "      <th>4</th>\n",
       "      <td>BTC-31OCT22-18500-C</td>\n",
       "      <td>140800</td>\n",
       "    </tr>\n",
       "  </tbody>\n",
       "</table>\n",
       "</div>"
      ],
      "text/plain": [
       "       instrument_name  instrument_id\n",
       "0  BTC-31OCT22-17000-C         140792\n",
       "1  BTC-31OCT22-17000-P         140793\n",
       "2  BTC-31OCT22-18000-C         140795\n",
       "3  BTC-31OCT22-18000-P         140798\n",
       "4  BTC-31OCT22-18500-C         140800"
      ]
     },
     "execution_count": 2,
     "metadata": {},
     "output_type": "execute_result"
    }
   ],
   "source": [
    "# все id-шники\n",
    "instruments_df = collect_all_instruments_ids()\n",
    "instruments_df.head(5)"
   ]
  },
  {
   "cell_type": "markdown",
   "id": "4d8f2e00",
   "metadata": {},
   "source": [
    "## Собираем данные по конкретному опциону"
   ]
  },
  {
   "cell_type": "code",
   "execution_count": 3,
   "id": "ec7235a6",
   "metadata": {},
   "outputs": [
    {
     "name": "stderr",
     "output_type": "stream",
     "text": [
      "2022-10-30 18:20:49.607 | INFO     | utils:call_api:68 - Collected 100 ticks for id = 130657\n"
     ]
    },
    {
     "data": {
      "text/html": [
       "<div>\n",
       "<style scoped>\n",
       "    .dataframe tbody tr th:only-of-type {\n",
       "        vertical-align: middle;\n",
       "    }\n",
       "\n",
       "    .dataframe tbody tr th {\n",
       "        vertical-align: top;\n",
       "    }\n",
       "\n",
       "    .dataframe thead th {\n",
       "        text-align: right;\n",
       "    }\n",
       "</style>\n",
       "<table border=\"1\" class=\"dataframe\">\n",
       "  <thead>\n",
       "    <tr style=\"text-align: right;\">\n",
       "      <th></th>\n",
       "      <th>instrument_name</th>\n",
       "      <th>timestamp</th>\n",
       "      <th>underlying_price</th>\n",
       "      <th>mark_iv</th>\n",
       "      <th>mark_price</th>\n",
       "      <th>best_bid_price</th>\n",
       "      <th>best_ask_price</th>\n",
       "      <th>human_timestamp</th>\n",
       "      <th>strike</th>\n",
       "    </tr>\n",
       "  </thead>\n",
       "  <tbody>\n",
       "    <tr>\n",
       "      <th>0</th>\n",
       "      <td>BTC-30JUN23-30000-C</td>\n",
       "      <td>1667143242344</td>\n",
       "      <td>20869.92</td>\n",
       "      <td>71.56</td>\n",
       "      <td>0.1112</td>\n",
       "      <td>0.0</td>\n",
       "      <td>0.0</td>\n",
       "      <td>2022-10-30 18:20:42.344000</td>\n",
       "      <td>30000</td>\n",
       "    </tr>\n",
       "    <tr>\n",
       "      <th>6</th>\n",
       "      <td>BTC-30JUN23-30000-C</td>\n",
       "      <td>1667143243356</td>\n",
       "      <td>20869.96</td>\n",
       "      <td>71.56</td>\n",
       "      <td>0.1112</td>\n",
       "      <td>0.0</td>\n",
       "      <td>0.0</td>\n",
       "      <td>2022-10-30 18:20:43.356000</td>\n",
       "      <td>30000</td>\n",
       "    </tr>\n",
       "    <tr>\n",
       "      <th>22</th>\n",
       "      <td>BTC-30JUN23-30000-C</td>\n",
       "      <td>1667143244360</td>\n",
       "      <td>20868.55</td>\n",
       "      <td>71.56</td>\n",
       "      <td>0.1112</td>\n",
       "      <td>0.0</td>\n",
       "      <td>0.0</td>\n",
       "      <td>2022-10-30 18:20:44.360000</td>\n",
       "      <td>30000</td>\n",
       "    </tr>\n",
       "    <tr>\n",
       "      <th>36</th>\n",
       "      <td>BTC-30JUN23-30000-C</td>\n",
       "      <td>1667143245366</td>\n",
       "      <td>20868.19</td>\n",
       "      <td>71.56</td>\n",
       "      <td>0.1112</td>\n",
       "      <td>0.0</td>\n",
       "      <td>0.0</td>\n",
       "      <td>2022-10-30 18:20:45.366000</td>\n",
       "      <td>30000</td>\n",
       "    </tr>\n",
       "    <tr>\n",
       "      <th>51</th>\n",
       "      <td>BTC-30JUN23-30000-C</td>\n",
       "      <td>1667143246373</td>\n",
       "      <td>20867.50</td>\n",
       "      <td>71.56</td>\n",
       "      <td>0.1112</td>\n",
       "      <td>0.0</td>\n",
       "      <td>0.0</td>\n",
       "      <td>2022-10-30 18:20:46.373000</td>\n",
       "      <td>30000</td>\n",
       "    </tr>\n",
       "  </tbody>\n",
       "</table>\n",
       "</div>"
      ],
      "text/plain": [
       "        instrument_name      timestamp  underlying_price  mark_iv  mark_price  \\\n",
       "0   BTC-30JUN23-30000-C  1667143242344          20869.92    71.56      0.1112   \n",
       "6   BTC-30JUN23-30000-C  1667143243356          20869.96    71.56      0.1112   \n",
       "22  BTC-30JUN23-30000-C  1667143244360          20868.55    71.56      0.1112   \n",
       "36  BTC-30JUN23-30000-C  1667143245366          20868.19    71.56      0.1112   \n",
       "51  BTC-30JUN23-30000-C  1667143246373          20867.50    71.56      0.1112   \n",
       "\n",
       "    best_bid_price  best_ask_price             human_timestamp  strike  \n",
       "0              0.0             0.0  2022-10-30 18:20:42.344000   30000  \n",
       "6              0.0             0.0  2022-10-30 18:20:43.356000   30000  \n",
       "22             0.0             0.0  2022-10-30 18:20:44.360000   30000  \n",
       "36             0.0             0.0  2022-10-30 18:20:45.366000   30000  \n",
       "51             0.0             0.0  2022-10-30 18:20:46.373000   30000  "
      ]
     },
     "execution_count": 3,
     "metadata": {},
     "output_type": "execute_result"
    }
   ],
   "source": [
    "# по конкретному опциону\n",
    "single_option = collect_single_instrument_data(instrument_id = int(instruments_df.sample(1).iloc[0].instrument_id), number_of_ticks = 100)\n",
    "single_option.head(5)"
   ]
  },
  {
   "cell_type": "markdown",
   "id": "e14279d1",
   "metadata": {},
   "source": [
    "## Собираем по одному тику для каждого опциона с одинаковым временем экспирации, чтобы узнать все страйки и их рыночные волатильности"
   ]
  },
  {
   "cell_type": "code",
   "execution_count": 4,
   "id": "a2911cb5",
   "metadata": {
    "scrolled": false
   },
   "outputs": [
    {
     "name": "stderr",
     "output_type": "stream",
     "text": [
      "2022-10-30 18:20:50.018 | INFO     | utils:call_api:68 - Collected 1 ticks for id = 140792\n",
      "2022-10-30 18:20:50.421 | INFO     | utils:call_api:68 - Collected 1 ticks for id = 140793\n",
      "2022-10-30 18:20:50.808 | INFO     | utils:call_api:68 - Collected 1 ticks for id = 140795\n",
      "2022-10-30 18:20:51.152 | INFO     | utils:call_api:68 - Collected 1 ticks for id = 140798\n",
      "2022-10-30 18:20:51.533 | INFO     | utils:call_api:68 - Collected 1 ticks for id = 140800\n",
      "2022-10-30 18:20:51.900 | INFO     | utils:call_api:68 - Collected 1 ticks for id = 140802\n",
      "2022-10-30 18:20:52.265 | INFO     | utils:call_api:68 - Collected 1 ticks for id = 140804\n",
      "2022-10-30 18:20:52.631 | INFO     | utils:call_api:68 - Collected 1 ticks for id = 140807\n",
      "2022-10-30 18:20:53.020 | INFO     | utils:call_api:68 - Collected 1 ticks for id = 140809\n",
      "2022-10-30 18:20:53.382 | INFO     | utils:call_api:68 - Collected 1 ticks for id = 140811\n",
      "2022-10-30 18:20:53.737 | INFO     | utils:call_api:68 - Collected 1 ticks for id = 140813\n",
      "2022-10-30 18:20:54.097 | INFO     | utils:call_api:68 - Collected 1 ticks for id = 140815\n",
      "2022-10-30 18:20:54.447 | INFO     | utils:call_api:68 - Collected 1 ticks for id = 140817\n",
      "2022-10-30 18:20:54.832 | INFO     | utils:call_api:68 - Collected 1 ticks for id = 140818\n",
      "2022-10-30 18:20:55.189 | INFO     | utils:call_api:68 - Collected 1 ticks for id = 140821\n",
      "2022-10-30 18:20:55.549 | INFO     | utils:call_api:68 - Collected 1 ticks for id = 140823\n",
      "2022-10-30 18:20:55.915 | INFO     | utils:call_api:68 - Collected 1 ticks for id = 140825\n",
      "2022-10-30 18:20:56.287 | INFO     | utils:call_api:68 - Collected 1 ticks for id = 140827\n",
      "2022-10-30 18:20:56.673 | INFO     | utils:call_api:68 - Collected 1 ticks for id = 140828\n",
      "2022-10-30 18:20:57.046 | INFO     | utils:call_api:68 - Collected 1 ticks for id = 140829\n",
      "2022-10-30 18:20:57.403 | INFO     | utils:call_api:68 - Collected 1 ticks for id = 140833\n",
      "2022-10-30 18:20:57.769 | INFO     | utils:call_api:68 - Collected 1 ticks for id = 140835\n",
      "2022-10-30 18:20:58.145 | INFO     | utils:call_api:68 - Collected 1 ticks for id = 140838\n",
      "2022-10-30 18:20:58.526 | INFO     | utils:call_api:68 - Collected 1 ticks for id = 140840\n",
      "2022-10-30 18:20:58.891 | INFO     | utils:call_api:68 - Collected 1 ticks for id = 140843\n",
      "2022-10-30 18:20:59.254 | INFO     | utils:call_api:68 - Collected 1 ticks for id = 140845\n",
      "2022-10-30 18:20:59.625 | INFO     | utils:call_api:68 - Collected 1 ticks for id = 140847\n",
      "2022-10-30 18:20:59.995 | INFO     | utils:call_api:68 - Collected 1 ticks for id = 140849\n",
      "2022-10-30 18:21:00.367 | INFO     | utils:call_api:68 - Collected 1 ticks for id = 140852\n",
      "2022-10-30 18:21:00.744 | INFO     | utils:call_api:68 - Collected 1 ticks for id = 140854\n",
      "2022-10-30 18:21:01.107 | INFO     | utils:call_api:68 - Collected 1 ticks for id = 140856\n",
      "2022-10-30 18:21:01.491 | INFO     | utils:call_api:68 - Collected 1 ticks for id = 140857\n"
     ]
    },
    {
     "data": {
      "image/png": "[encoded data removed]",
      "text/plain": [
       "<Figure size 640x480 with 1 Axes>"
      ]
     },
     "metadata": {},
     "output_type": "display_data"
    }
   ],
   "source": [
    "random_instrument = instruments_df.sample(1).iloc[0][\"instrument_name\"]\n",
    "single_strike = instruments_df[\n",
    "    (instruments_df[\"instrument_name\"].str.startswith(random_instrument[0:11])) \n",
    "]\n",
    "single_strike_ids = single_strike.instrument_id.to_list()\n",
    "\n",
    "options = pd.DataFrame(columns = single_option.columns.values)\n",
    "for op_id in single_strike_ids:\n",
    "    try:\n",
    "        option = collect_single_instrument_data(instrument_id = op_id, number_of_ticks = 1)\n",
    "        options = options.append(option)\n",
    "    except:\n",
    "        continue\n",
    "    \n",
    "plt.scatter(options[\"strike\"], options[\"mark_iv\"])\n",
    "plt.axvline(x=option.iloc[0][\"underlying_price\"])\n",
    "plt.xlabel(\"strike\")\n",
    "plt.ylabel(\"Deribit mark implied volatility\")\n",
    "exp_date = options.iloc[0].instrument_name[:11]\n",
    "plt.title(f\"Strikes for expirety date: {exp_date}\")\n",
    "plt.show()\n",
    "\n",
    "options.to_pickle(f\"data/{exp_date}.pkl\")"
   ]
  }
 ],
 "metadata": {
  "kernelspec": {
   "display_name": "Python 3 (ipykernel)",
   "language": "python",
   "name": "python3"
  },
  "language_info": {
   "codemirror_mode": {
    "name": "ipython",
    "version": 3
   },
   "file_extension": ".py",
   "mimetype": "text/x-python",
   "name": "python",
   "nbconvert_exporter": "python",
   "pygments_lexer": "ipython3",
   "version": "3.8.13"
  },
  "vscode": {
   "interpreter": {
    "hash": "ac9509ee90b234574dc77e9356e283122dc105166bd8fba1299d6be8b3dd0f25"
   }
  }
 },
 "nbformat": 4,
 "nbformat_minor": 5
}
